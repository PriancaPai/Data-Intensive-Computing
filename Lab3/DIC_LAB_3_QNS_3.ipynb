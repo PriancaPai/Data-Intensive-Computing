{
 "cells": [
  {
   "cell_type": "markdown",
   "metadata": {},
   "source": [
    "# DIC LAB 3 Problem 3 : K Means on Pew Data : GAMING,JOBS AND BROADBAND"
   ]
  },
  {
   "cell_type": "markdown",
   "metadata": {},
   "source": [
    "Load the libraries"
   ]
  },
  {
   "cell_type": "code",
   "execution_count": 36,
   "metadata": {
    "collapsed": false
   },
   "outputs": [],
   "source": [
    "library(\"XML\")\n",
    "library(\"methods\")\n",
    "library(\"dplyr\")\n",
    "library(\"tidyr\")\n",
    "library(\"ggplot2\")"
   ]
  },
  {
   "cell_type": "markdown",
   "metadata": {},
   "source": [
    "Read the data from the CVS file"
   ]
  },
  {
   "cell_type": "code",
   "execution_count": 37,
   "metadata": {
    "collapsed": false
   },
   "outputs": [],
   "source": [
    "totalData <- read.csv(file=\"dataSets/June 10-July 12, 2015 - Gaming, Jobs and Broadband - CSV.csv\", header=TRUE, sep=\",\")"
   ]
  },
  {
   "cell_type": "markdown",
   "metadata": {},
   "source": [
    "Read the column names"
   ]
  },
  {
   "cell_type": "code",
   "execution_count": 38,
   "metadata": {
    "collapsed": false,
    "scrolled": true
   },
   "outputs": [
    {
     "data": {
      "text/html": [
       "<ol class=list-inline>\n",
       "\t<li>'psraid'</li>\n",
       "\t<li>'sample'</li>\n",
       "\t<li>'int_date'</li>\n",
       "\t<li>'lang'</li>\n",
       "\t<li>'usr'</li>\n",
       "\t<li>'cregion'</li>\n",
       "\t<li>'state'</li>\n",
       "\t<li>'form'</li>\n",
       "\t<li>'sex'</li>\n",
       "\t<li>'q1'</li>\n",
       "\t<li>'q3'</li>\n",
       "\t<li>'eminuse'</li>\n",
       "\t<li>'intmob'</li>\n",
       "\t<li>'intfreq'</li>\n",
       "\t<li>'home4nw'</li>\n",
       "\t<li>'bbhome1'</li>\n",
       "\t<li>'bbhome2'</li>\n",
       "\t<li>'bbhome3a'</li>\n",
       "\t<li>'bbhome3b'</li>\n",
       "\t<li>'bbhome3c'</li>\n",
       "\t<li>'bbhome3d'</li>\n",
       "\t<li>'bbhome3e'</li>\n",
       "\t<li>'device1a'</li>\n",
       "\t<li>'smart1'</li>\n",
       "\t<li>'q4'</li>\n",
       "\t<li>'bbsmart1'</li>\n",
       "\t<li>'bbsmart2'</li>\n",
       "\t<li>'bbsmart3a'</li>\n",
       "\t<li>'bbsmart3b'</li>\n",
       "\t<li>'bbsmart3c'</li>\n",
       "\t<li>'bbsmart3d'</li>\n",
       "\t<li>'bbsmart3e'</li>\n",
       "\t<li>'bbsmart3f'</li>\n",
       "\t<li>'bbsmart4'</li>\n",
       "\t<li>'cable1'</li>\n",
       "\t<li>'cable2'</li>\n",
       "\t<li>'cable3a'</li>\n",
       "\t<li>'cable3b'</li>\n",
       "\t<li>'cable3c'</li>\n",
       "\t<li>'act19'</li>\n",
       "\t<li>'act87a'</li>\n",
       "\t<li>'act87b'</li>\n",
       "\t<li>'act137'</li>\n",
       "\t<li>'q5a'</li>\n",
       "\t<li>'q5b'</li>\n",
       "\t<li>'q5c'</li>\n",
       "\t<li>'q5d'</li>\n",
       "\t<li>'q5e'</li>\n",
       "\t<li>'q5f'</li>\n",
       "\t<li>'date1a'</li>\n",
       "\t<li>'date2a'</li>\n",
       "\t<li>'date3a'</li>\n",
       "\t<li>'date3b'</li>\n",
       "\t<li>'date4a'</li>\n",
       "\t<li>'date4b'</li>\n",
       "\t<li>'date4c'</li>\n",
       "\t<li>'date4d'</li>\n",
       "\t<li>'date4e'</li>\n",
       "\t<li>'date4f'</li>\n",
       "\t<li>'game1'</li>\n",
       "\t<li>'game2a'</li>\n",
       "\t<li>'game2b'</li>\n",
       "\t<li>'game2c'</li>\n",
       "\t<li>'game2d'</li>\n",
       "\t<li>'game2e'</li>\n",
       "\t<li>'game2f'</li>\n",
       "\t<li>'game3a'</li>\n",
       "\t<li>'game3b'</li>\n",
       "\t<li>'game4'</li>\n",
       "\t<li>'emplnw'</li>\n",
       "\t<li>'emptype1'</li>\n",
       "\t<li>'emptype2'</li>\n",
       "\t<li>'emptype3'</li>\n",
       "\t<li>'stud'</li>\n",
       "\t<li>'job1a'</li>\n",
       "\t<li>'job1b'</li>\n",
       "\t<li>'job1c'</li>\n",
       "\t<li>'job1d'</li>\n",
       "\t<li>'job1e'</li>\n",
       "\t<li>'job1f'</li>\n",
       "\t<li>'job2'</li>\n",
       "\t<li>'job3a'</li>\n",
       "\t<li>'job3b'</li>\n",
       "\t<li>'job3c'</li>\n",
       "\t<li>'job3d'</li>\n",
       "\t<li>'job3e'</li>\n",
       "\t<li>'job3f'</li>\n",
       "\t<li>'job3g'</li>\n",
       "\t<li>'job3h'</li>\n",
       "\t<li>'job4'</li>\n",
       "\t<li>'smjob1'</li>\n",
       "\t<li>'smjob2a'</li>\n",
       "\t<li>'smjob2b'</li>\n",
       "\t<li>'smjob2c'</li>\n",
       "\t<li>'smjob2d'</li>\n",
       "\t<li>'smjob2e'</li>\n",
       "\t<li>'smjob3'</li>\n",
       "\t<li>'smjob4a'</li>\n",
       "\t<li>'smjob4b'</li>\n",
       "\t<li>'smjob4c'</li>\n",
       "\t<li>'smjob4d'</li>\n",
       "\t<li>'smjob4e'</li>\n",
       "\t<li>'snsjob1a'</li>\n",
       "\t<li>'snsjob1b'</li>\n",
       "\t<li>'snsjob1c'</li>\n",
       "\t<li>'snsjob2a'</li>\n",
       "\t<li>'snsjob2b'</li>\n",
       "\t<li>'job5a'</li>\n",
       "\t<li>'job5b'</li>\n",
       "\t<li>'job5c'</li>\n",
       "\t<li>'job5d'</li>\n",
       "\t<li>'auto1a'</li>\n",
       "\t<li>'auto1b'</li>\n",
       "\t<li>'auto1c'</li>\n",
       "\t<li>'auto1d'</li>\n",
       "\t<li>'auto1e'</li>\n",
       "\t<li>'auto2'</li>\n",
       "\t<li>'auto3'</li>\n",
       "\t<li>'age'</li>\n",
       "\t<li>'marital'</li>\n",
       "\t<li>'hh1'</li>\n",
       "\t<li>'par'</li>\n",
       "\t<li>'kidage1'</li>\n",
       "\t<li>'kidage2'</li>\n",
       "\t<li>'kidage3'</li>\n",
       "\t<li>'educ2'</li>\n",
       "\t<li>'edinst'</li>\n",
       "\t<li>'disa'</li>\n",
       "\t<li>'party'</li>\n",
       "\t<li>'partyln'</li>\n",
       "\t<li>'ideo'</li>\n",
       "\t<li>'hisp'</li>\n",
       "\t<li>'birth_hisp'</li>\n",
       "\t<li>'race'</li>\n",
       "\t<li>'inc'</li>\n",
       "\t<li>'ql1a'</li>\n",
       "\t<li>'qc1'</li>\n",
       "\t<li>'zipcode'</li>\n",
       "\t<li>'weight'</li>\n",
       "\t<li>'standwt'</li>\n",
       "</ol>\n"
      ],
      "text/latex": [
       "\\begin{enumerate*}\n",
       "\\item 'psraid'\n",
       "\\item 'sample'\n",
       "\\item 'int\\_date'\n",
       "\\item 'lang'\n",
       "\\item 'usr'\n",
       "\\item 'cregion'\n",
       "\\item 'state'\n",
       "\\item 'form'\n",
       "\\item 'sex'\n",
       "\\item 'q1'\n",
       "\\item 'q3'\n",
       "\\item 'eminuse'\n",
       "\\item 'intmob'\n",
       "\\item 'intfreq'\n",
       "\\item 'home4nw'\n",
       "\\item 'bbhome1'\n",
       "\\item 'bbhome2'\n",
       "\\item 'bbhome3a'\n",
       "\\item 'bbhome3b'\n",
       "\\item 'bbhome3c'\n",
       "\\item 'bbhome3d'\n",
       "\\item 'bbhome3e'\n",
       "\\item 'device1a'\n",
       "\\item 'smart1'\n",
       "\\item 'q4'\n",
       "\\item 'bbsmart1'\n",
       "\\item 'bbsmart2'\n",
       "\\item 'bbsmart3a'\n",
       "\\item 'bbsmart3b'\n",
       "\\item 'bbsmart3c'\n",
       "\\item 'bbsmart3d'\n",
       "\\item 'bbsmart3e'\n",
       "\\item 'bbsmart3f'\n",
       "\\item 'bbsmart4'\n",
       "\\item 'cable1'\n",
       "\\item 'cable2'\n",
       "\\item 'cable3a'\n",
       "\\item 'cable3b'\n",
       "\\item 'cable3c'\n",
       "\\item 'act19'\n",
       "\\item 'act87a'\n",
       "\\item 'act87b'\n",
       "\\item 'act137'\n",
       "\\item 'q5a'\n",
       "\\item 'q5b'\n",
       "\\item 'q5c'\n",
       "\\item 'q5d'\n",
       "\\item 'q5e'\n",
       "\\item 'q5f'\n",
       "\\item 'date1a'\n",
       "\\item 'date2a'\n",
       "\\item 'date3a'\n",
       "\\item 'date3b'\n",
       "\\item 'date4a'\n",
       "\\item 'date4b'\n",
       "\\item 'date4c'\n",
       "\\item 'date4d'\n",
       "\\item 'date4e'\n",
       "\\item 'date4f'\n",
       "\\item 'game1'\n",
       "\\item 'game2a'\n",
       "\\item 'game2b'\n",
       "\\item 'game2c'\n",
       "\\item 'game2d'\n",
       "\\item 'game2e'\n",
       "\\item 'game2f'\n",
       "\\item 'game3a'\n",
       "\\item 'game3b'\n",
       "\\item 'game4'\n",
       "\\item 'emplnw'\n",
       "\\item 'emptype1'\n",
       "\\item 'emptype2'\n",
       "\\item 'emptype3'\n",
       "\\item 'stud'\n",
       "\\item 'job1a'\n",
       "\\item 'job1b'\n",
       "\\item 'job1c'\n",
       "\\item 'job1d'\n",
       "\\item 'job1e'\n",
       "\\item 'job1f'\n",
       "\\item 'job2'\n",
       "\\item 'job3a'\n",
       "\\item 'job3b'\n",
       "\\item 'job3c'\n",
       "\\item 'job3d'\n",
       "\\item 'job3e'\n",
       "\\item 'job3f'\n",
       "\\item 'job3g'\n",
       "\\item 'job3h'\n",
       "\\item 'job4'\n",
       "\\item 'smjob1'\n",
       "\\item 'smjob2a'\n",
       "\\item 'smjob2b'\n",
       "\\item 'smjob2c'\n",
       "\\item 'smjob2d'\n",
       "\\item 'smjob2e'\n",
       "\\item 'smjob3'\n",
       "\\item 'smjob4a'\n",
       "\\item 'smjob4b'\n",
       "\\item 'smjob4c'\n",
       "\\item 'smjob4d'\n",
       "\\item 'smjob4e'\n",
       "\\item 'snsjob1a'\n",
       "\\item 'snsjob1b'\n",
       "\\item 'snsjob1c'\n",
       "\\item 'snsjob2a'\n",
       "\\item 'snsjob2b'\n",
       "\\item 'job5a'\n",
       "\\item 'job5b'\n",
       "\\item 'job5c'\n",
       "\\item 'job5d'\n",
       "\\item 'auto1a'\n",
       "\\item 'auto1b'\n",
       "\\item 'auto1c'\n",
       "\\item 'auto1d'\n",
       "\\item 'auto1e'\n",
       "\\item 'auto2'\n",
       "\\item 'auto3'\n",
       "\\item 'age'\n",
       "\\item 'marital'\n",
       "\\item 'hh1'\n",
       "\\item 'par'\n",
       "\\item 'kidage1'\n",
       "\\item 'kidage2'\n",
       "\\item 'kidage3'\n",
       "\\item 'educ2'\n",
       "\\item 'edinst'\n",
       "\\item 'disa'\n",
       "\\item 'party'\n",
       "\\item 'partyln'\n",
       "\\item 'ideo'\n",
       "\\item 'hisp'\n",
       "\\item 'birth\\_hisp'\n",
       "\\item 'race'\n",
       "\\item 'inc'\n",
       "\\item 'ql1a'\n",
       "\\item 'qc1'\n",
       "\\item 'zipcode'\n",
       "\\item 'weight'\n",
       "\\item 'standwt'\n",
       "\\end{enumerate*}\n"
      ],
      "text/markdown": [
       "1. 'psraid'\n",
       "2. 'sample'\n",
       "3. 'int_date'\n",
       "4. 'lang'\n",
       "5. 'usr'\n",
       "6. 'cregion'\n",
       "7. 'state'\n",
       "8. 'form'\n",
       "9. 'sex'\n",
       "10. 'q1'\n",
       "11. 'q3'\n",
       "12. 'eminuse'\n",
       "13. 'intmob'\n",
       "14. 'intfreq'\n",
       "15. 'home4nw'\n",
       "16. 'bbhome1'\n",
       "17. 'bbhome2'\n",
       "18. 'bbhome3a'\n",
       "19. 'bbhome3b'\n",
       "20. 'bbhome3c'\n",
       "21. 'bbhome3d'\n",
       "22. 'bbhome3e'\n",
       "23. 'device1a'\n",
       "24. 'smart1'\n",
       "25. 'q4'\n",
       "26. 'bbsmart1'\n",
       "27. 'bbsmart2'\n",
       "28. 'bbsmart3a'\n",
       "29. 'bbsmart3b'\n",
       "30. 'bbsmart3c'\n",
       "31. 'bbsmart3d'\n",
       "32. 'bbsmart3e'\n",
       "33. 'bbsmart3f'\n",
       "34. 'bbsmart4'\n",
       "35. 'cable1'\n",
       "36. 'cable2'\n",
       "37. 'cable3a'\n",
       "38. 'cable3b'\n",
       "39. 'cable3c'\n",
       "40. 'act19'\n",
       "41. 'act87a'\n",
       "42. 'act87b'\n",
       "43. 'act137'\n",
       "44. 'q5a'\n",
       "45. 'q5b'\n",
       "46. 'q5c'\n",
       "47. 'q5d'\n",
       "48. 'q5e'\n",
       "49. 'q5f'\n",
       "50. 'date1a'\n",
       "51. 'date2a'\n",
       "52. 'date3a'\n",
       "53. 'date3b'\n",
       "54. 'date4a'\n",
       "55. 'date4b'\n",
       "56. 'date4c'\n",
       "57. 'date4d'\n",
       "58. 'date4e'\n",
       "59. 'date4f'\n",
       "60. 'game1'\n",
       "61. 'game2a'\n",
       "62. 'game2b'\n",
       "63. 'game2c'\n",
       "64. 'game2d'\n",
       "65. 'game2e'\n",
       "66. 'game2f'\n",
       "67. 'game3a'\n",
       "68. 'game3b'\n",
       "69. 'game4'\n",
       "70. 'emplnw'\n",
       "71. 'emptype1'\n",
       "72. 'emptype2'\n",
       "73. 'emptype3'\n",
       "74. 'stud'\n",
       "75. 'job1a'\n",
       "76. 'job1b'\n",
       "77. 'job1c'\n",
       "78. 'job1d'\n",
       "79. 'job1e'\n",
       "80. 'job1f'\n",
       "81. 'job2'\n",
       "82. 'job3a'\n",
       "83. 'job3b'\n",
       "84. 'job3c'\n",
       "85. 'job3d'\n",
       "86. 'job3e'\n",
       "87. 'job3f'\n",
       "88. 'job3g'\n",
       "89. 'job3h'\n",
       "90. 'job4'\n",
       "91. 'smjob1'\n",
       "92. 'smjob2a'\n",
       "93. 'smjob2b'\n",
       "94. 'smjob2c'\n",
       "95. 'smjob2d'\n",
       "96. 'smjob2e'\n",
       "97. 'smjob3'\n",
       "98. 'smjob4a'\n",
       "99. 'smjob4b'\n",
       "100. 'smjob4c'\n",
       "101. 'smjob4d'\n",
       "102. 'smjob4e'\n",
       "103. 'snsjob1a'\n",
       "104. 'snsjob1b'\n",
       "105. 'snsjob1c'\n",
       "106. 'snsjob2a'\n",
       "107. 'snsjob2b'\n",
       "108. 'job5a'\n",
       "109. 'job5b'\n",
       "110. 'job5c'\n",
       "111. 'job5d'\n",
       "112. 'auto1a'\n",
       "113. 'auto1b'\n",
       "114. 'auto1c'\n",
       "115. 'auto1d'\n",
       "116. 'auto1e'\n",
       "117. 'auto2'\n",
       "118. 'auto3'\n",
       "119. 'age'\n",
       "120. 'marital'\n",
       "121. 'hh1'\n",
       "122. 'par'\n",
       "123. 'kidage1'\n",
       "124. 'kidage2'\n",
       "125. 'kidage3'\n",
       "126. 'educ2'\n",
       "127. 'edinst'\n",
       "128. 'disa'\n",
       "129. 'party'\n",
       "130. 'partyln'\n",
       "131. 'ideo'\n",
       "132. 'hisp'\n",
       "133. 'birth_hisp'\n",
       "134. 'race'\n",
       "135. 'inc'\n",
       "136. 'ql1a'\n",
       "137. 'qc1'\n",
       "138. 'zipcode'\n",
       "139. 'weight'\n",
       "140. 'standwt'\n",
       "\n",
       "\n"
      ],
      "text/plain": [
       "  [1] \"psraid\"     \"sample\"     \"int_date\"   \"lang\"       \"usr\"       \n",
       "  [6] \"cregion\"    \"state\"      \"form\"       \"sex\"        \"q1\"        \n",
       " [11] \"q3\"         \"eminuse\"    \"intmob\"     \"intfreq\"    \"home4nw\"   \n",
       " [16] \"bbhome1\"    \"bbhome2\"    \"bbhome3a\"   \"bbhome3b\"   \"bbhome3c\"  \n",
       " [21] \"bbhome3d\"   \"bbhome3e\"   \"device1a\"   \"smart1\"     \"q4\"        \n",
       " [26] \"bbsmart1\"   \"bbsmart2\"   \"bbsmart3a\"  \"bbsmart3b\"  \"bbsmart3c\" \n",
       " [31] \"bbsmart3d\"  \"bbsmart3e\"  \"bbsmart3f\"  \"bbsmart4\"   \"cable1\"    \n",
       " [36] \"cable2\"     \"cable3a\"    \"cable3b\"    \"cable3c\"    \"act19\"     \n",
       " [41] \"act87a\"     \"act87b\"     \"act137\"     \"q5a\"        \"q5b\"       \n",
       " [46] \"q5c\"        \"q5d\"        \"q5e\"        \"q5f\"        \"date1a\"    \n",
       " [51] \"date2a\"     \"date3a\"     \"date3b\"     \"date4a\"     \"date4b\"    \n",
       " [56] \"date4c\"     \"date4d\"     \"date4e\"     \"date4f\"     \"game1\"     \n",
       " [61] \"game2a\"     \"game2b\"     \"game2c\"     \"game2d\"     \"game2e\"    \n",
       " [66] \"game2f\"     \"game3a\"     \"game3b\"     \"game4\"      \"emplnw\"    \n",
       " [71] \"emptype1\"   \"emptype2\"   \"emptype3\"   \"stud\"       \"job1a\"     \n",
       " [76] \"job1b\"      \"job1c\"      \"job1d\"      \"job1e\"      \"job1f\"     \n",
       " [81] \"job2\"       \"job3a\"      \"job3b\"      \"job3c\"      \"job3d\"     \n",
       " [86] \"job3e\"      \"job3f\"      \"job3g\"      \"job3h\"      \"job4\"      \n",
       " [91] \"smjob1\"     \"smjob2a\"    \"smjob2b\"    \"smjob2c\"    \"smjob2d\"   \n",
       " [96] \"smjob2e\"    \"smjob3\"     \"smjob4a\"    \"smjob4b\"    \"smjob4c\"   \n",
       "[101] \"smjob4d\"    \"smjob4e\"    \"snsjob1a\"   \"snsjob1b\"   \"snsjob1c\"  \n",
       "[106] \"snsjob2a\"   \"snsjob2b\"   \"job5a\"      \"job5b\"      \"job5c\"     \n",
       "[111] \"job5d\"      \"auto1a\"     \"auto1b\"     \"auto1c\"     \"auto1d\"    \n",
       "[116] \"auto1e\"     \"auto2\"      \"auto3\"      \"age\"        \"marital\"   \n",
       "[121] \"hh1\"        \"par\"        \"kidage1\"    \"kidage2\"    \"kidage3\"   \n",
       "[126] \"educ2\"      \"edinst\"     \"disa\"       \"party\"      \"partyln\"   \n",
       "[131] \"ideo\"       \"hisp\"       \"birth_hisp\" \"race\"       \"inc\"       \n",
       "[136] \"ql1a\"       \"qc1\"        \"zipcode\"    \"weight\"     \"standwt\"   "
      ]
     },
     "metadata": {},
     "output_type": "display_data"
    }
   ],
   "source": [
    "colnames(totalData)"
   ]
  },
  {
   "cell_type": "markdown",
   "metadata": {},
   "source": [
    "Select the columns whom to work"
   ]
  },
  {
   "cell_type": "code",
   "execution_count": 39,
   "metadata": {
    "collapsed": false
   },
   "outputs": [],
   "source": [
    "pewData = totalData %>% select(age,emptype1,educ2,inc,race)"
   ]
  },
  {
   "cell_type": "markdown",
   "metadata": {},
   "source": [
    "Show the data"
   ]
  },
  {
   "cell_type": "code",
   "execution_count": 40,
   "metadata": {
    "collapsed": false
   },
   "outputs": [
    {
     "data": {
      "text/html": [
       "<table>\n",
       "<thead><tr><th scope=col>age</th><th scope=col>emptype1</th><th scope=col>educ2</th><th scope=col>inc</th><th scope=col>race</th></tr></thead>\n",
       "<tbody>\n",
       "\t<tr><td>47</td><td>NA</td><td>6 </td><td>99</td><td>1 </td></tr>\n",
       "\t<tr><td>63</td><td>NA</td><td>4 </td><td> 6</td><td>2 </td></tr>\n",
       "\t<tr><td>86</td><td>NA</td><td>1 </td><td> 3</td><td>1 </td></tr>\n",
       "\t<tr><td>40</td><td> 1</td><td>5 </td><td> 6</td><td>1 </td></tr>\n",
       "\t<tr><td>65</td><td>NA</td><td>4 </td><td> 3</td><td>1 </td></tr>\n",
       "\t<tr><td>69</td><td> 5</td><td>6 </td><td> 8</td><td>1 </td></tr>\n",
       "</tbody>\n",
       "</table>\n"
      ],
      "text/latex": [
       "\\begin{tabular}{r|lllll}\n",
       " age & emptype1 & educ2 & inc & race\\\\\n",
       "\\hline\n",
       "\t 47 & NA & 6  & 99 & 1 \\\\\n",
       "\t 63 & NA & 4  &  6 & 2 \\\\\n",
       "\t 86 & NA & 1  &  3 & 1 \\\\\n",
       "\t 40 &  1 & 5  &  6 & 1 \\\\\n",
       "\t 65 & NA & 4  &  3 & 1 \\\\\n",
       "\t 69 &  5 & 6  &  8 & 1 \\\\\n",
       "\\end{tabular}\n"
      ],
      "text/markdown": [
       "\n",
       "age | emptype1 | educ2 | inc | race | \n",
       "|---|---|---|---|---|---|\n",
       "| 47 | NA | 6  | 99 | 1  | \n",
       "| 63 | NA | 4  |  6 | 2  | \n",
       "| 86 | NA | 1  |  3 | 1  | \n",
       "| 40 |  1 | 5  |  6 | 1  | \n",
       "| 65 | NA | 4  |  3 | 1  | \n",
       "| 69 |  5 | 6  |  8 | 1  | \n",
       "\n",
       "\n"
      ],
      "text/plain": [
       "  age emptype1 educ2 inc race\n",
       "1 47  NA       6     99  1   \n",
       "2 63  NA       4      6  2   \n",
       "3 86  NA       1      3  1   \n",
       "4 40   1       5      6  1   \n",
       "5 65  NA       4      3  1   \n",
       "6 69   5       6      8  1   "
      ]
     },
     "metadata": {},
     "output_type": "display_data"
    }
   ],
   "source": [
    "head(pewData)"
   ]
  },
  {
   "cell_type": "markdown",
   "metadata": {},
   "source": [
    "** Clean Process Begins **"
   ]
  },
  {
   "cell_type": "markdown",
   "metadata": {},
   "source": [
    "Group the data and check the data which needs to be removed as per the given Questionaires"
   ]
  },
  {
   "cell_type": "code",
   "execution_count": 41,
   "metadata": {
    "collapsed": false
   },
   "outputs": [
    {
     "data": {
      "text/html": [
       "<table>\n",
       "<thead><tr><th scope=col>emptype1</th><th scope=col>count</th></tr></thead>\n",
       "<tbody>\n",
       "\t<tr><td> 1 </td><td>324</td></tr>\n",
       "\t<tr><td> 2 </td><td>165</td></tr>\n",
       "\t<tr><td> 3 </td><td>266</td></tr>\n",
       "\t<tr><td> 4 </td><td> 90</td></tr>\n",
       "\t<tr><td> 5 </td><td>118</td></tr>\n",
       "\t<tr><td> 6 </td><td> 83</td></tr>\n",
       "\t<tr><td> 7 </td><td> 21</td></tr>\n",
       "\t<tr><td> 8 </td><td> 28</td></tr>\n",
       "\t<tr><td>98 </td><td>  5</td></tr>\n",
       "\t<tr><td>NA </td><td>901</td></tr>\n",
       "</tbody>\n",
       "</table>\n"
      ],
      "text/latex": [
       "\\begin{tabular}{r|ll}\n",
       " emptype1 & count\\\\\n",
       "\\hline\n",
       "\t  1  & 324\\\\\n",
       "\t  2  & 165\\\\\n",
       "\t  3  & 266\\\\\n",
       "\t  4  &  90\\\\\n",
       "\t  5  & 118\\\\\n",
       "\t  6  &  83\\\\\n",
       "\t  7  &  21\\\\\n",
       "\t  8  &  28\\\\\n",
       "\t 98  &   5\\\\\n",
       "\t NA  & 901\\\\\n",
       "\\end{tabular}\n"
      ],
      "text/markdown": [
       "\n",
       "emptype1 | count | \n",
       "|---|---|---|---|---|---|---|---|---|---|\n",
       "|  1  | 324 | \n",
       "|  2  | 165 | \n",
       "|  3  | 266 | \n",
       "|  4  |  90 | \n",
       "|  5  | 118 | \n",
       "|  6  |  83 | \n",
       "|  7  |  21 | \n",
       "|  8  |  28 | \n",
       "| 98  |   5 | \n",
       "| NA  | 901 | \n",
       "\n",
       "\n"
      ],
      "text/plain": [
       "   emptype1 count\n",
       "1   1       324  \n",
       "2   2       165  \n",
       "3   3       266  \n",
       "4   4        90  \n",
       "5   5       118  \n",
       "6   6        83  \n",
       "7   7        21  \n",
       "8   8        28  \n",
       "9  98         5  \n",
       "10 NA       901  "
      ]
     },
     "metadata": {},
     "output_type": "display_data"
    }
   ],
   "source": [
    "pewData %>% group_by(emptype1) %>% summarize(count = n())"
   ]
  },
  {
   "cell_type": "markdown",
   "metadata": {},
   "source": [
    "Group the data and check the data which needs to be removed as per the given Questionaires"
   ]
  },
  {
   "cell_type": "code",
   "execution_count": 42,
   "metadata": {
    "collapsed": false
   },
   "outputs": [
    {
     "data": {
      "text/html": [
       "<table>\n",
       "<thead><tr><th scope=col>educ2</th><th scope=col>count</th></tr></thead>\n",
       "<tbody>\n",
       "\t<tr><td> 1 </td><td> 66</td></tr>\n",
       "\t<tr><td> 2 </td><td> 86</td></tr>\n",
       "\t<tr><td> 3 </td><td>483</td></tr>\n",
       "\t<tr><td> 4 </td><td>340</td></tr>\n",
       "\t<tr><td> 5 </td><td>183</td></tr>\n",
       "\t<tr><td> 6 </td><td>410</td></tr>\n",
       "\t<tr><td> 7 </td><td> 36</td></tr>\n",
       "\t<tr><td> 8 </td><td>377</td></tr>\n",
       "\t<tr><td>98 </td><td>  5</td></tr>\n",
       "\t<tr><td>99 </td><td> 15</td></tr>\n",
       "</tbody>\n",
       "</table>\n"
      ],
      "text/latex": [
       "\\begin{tabular}{r|ll}\n",
       " educ2 & count\\\\\n",
       "\\hline\n",
       "\t  1  &  66\\\\\n",
       "\t  2  &  86\\\\\n",
       "\t  3  & 483\\\\\n",
       "\t  4  & 340\\\\\n",
       "\t  5  & 183\\\\\n",
       "\t  6  & 410\\\\\n",
       "\t  7  &  36\\\\\n",
       "\t  8  & 377\\\\\n",
       "\t 98  &   5\\\\\n",
       "\t 99  &  15\\\\\n",
       "\\end{tabular}\n"
      ],
      "text/markdown": [
       "\n",
       "educ2 | count | \n",
       "|---|---|---|---|---|---|---|---|---|---|\n",
       "|  1  |  66 | \n",
       "|  2  |  86 | \n",
       "|  3  | 483 | \n",
       "|  4  | 340 | \n",
       "|  5  | 183 | \n",
       "|  6  | 410 | \n",
       "|  7  |  36 | \n",
       "|  8  | 377 | \n",
       "| 98  |   5 | \n",
       "| 99  |  15 | \n",
       "\n",
       "\n"
      ],
      "text/plain": [
       "   educ2 count\n",
       "1   1     66  \n",
       "2   2     86  \n",
       "3   3    483  \n",
       "4   4    340  \n",
       "5   5    183  \n",
       "6   6    410  \n",
       "7   7     36  \n",
       "8   8    377  \n",
       "9  98      5  \n",
       "10 99     15  "
      ]
     },
     "metadata": {},
     "output_type": "display_data"
    }
   ],
   "source": [
    "pewData %>% group_by(educ2) %>% summarize(count = n())"
   ]
  },
  {
   "cell_type": "markdown",
   "metadata": {},
   "source": [
    "Group the data and check the data which needs to be removed as per the given Questionaires"
   ]
  },
  {
   "cell_type": "code",
   "execution_count": 43,
   "metadata": {
    "collapsed": false
   },
   "outputs": [
    {
     "data": {
      "text/html": [
       "<table>\n",
       "<thead><tr><th scope=col>inc</th><th scope=col>count</th></tr></thead>\n",
       "<tbody>\n",
       "\t<tr><td> 1 </td><td>157</td></tr>\n",
       "\t<tr><td> 2 </td><td>187</td></tr>\n",
       "\t<tr><td> 3 </td><td>180</td></tr>\n",
       "\t<tr><td> 4 </td><td>165</td></tr>\n",
       "\t<tr><td> 5 </td><td>164</td></tr>\n",
       "\t<tr><td> 6 </td><td>275</td></tr>\n",
       "\t<tr><td> 7 </td><td>208</td></tr>\n",
       "\t<tr><td> 8 </td><td>197</td></tr>\n",
       "\t<tr><td> 9 </td><td>163</td></tr>\n",
       "\t<tr><td>98 </td><td>117</td></tr>\n",
       "\t<tr><td>99 </td><td>188</td></tr>\n",
       "</tbody>\n",
       "</table>\n"
      ],
      "text/latex": [
       "\\begin{tabular}{r|ll}\n",
       " inc & count\\\\\n",
       "\\hline\n",
       "\t  1  & 157\\\\\n",
       "\t  2  & 187\\\\\n",
       "\t  3  & 180\\\\\n",
       "\t  4  & 165\\\\\n",
       "\t  5  & 164\\\\\n",
       "\t  6  & 275\\\\\n",
       "\t  7  & 208\\\\\n",
       "\t  8  & 197\\\\\n",
       "\t  9  & 163\\\\\n",
       "\t 98  & 117\\\\\n",
       "\t 99  & 188\\\\\n",
       "\\end{tabular}\n"
      ],
      "text/markdown": [
       "\n",
       "inc | count | \n",
       "|---|---|---|---|---|---|---|---|---|---|---|\n",
       "|  1  | 157 | \n",
       "|  2  | 187 | \n",
       "|  3  | 180 | \n",
       "|  4  | 165 | \n",
       "|  5  | 164 | \n",
       "|  6  | 275 | \n",
       "|  7  | 208 | \n",
       "|  8  | 197 | \n",
       "|  9  | 163 | \n",
       "| 98  | 117 | \n",
       "| 99  | 188 | \n",
       "\n",
       "\n"
      ],
      "text/plain": [
       "   inc count\n",
       "1   1  157  \n",
       "2   2  187  \n",
       "3   3  180  \n",
       "4   4  165  \n",
       "5   5  164  \n",
       "6   6  275  \n",
       "7   7  208  \n",
       "8   8  197  \n",
       "9   9  163  \n",
       "10 98  117  \n",
       "11 99  188  "
      ]
     },
     "metadata": {},
     "output_type": "display_data"
    }
   ],
   "source": [
    "pewData %>% group_by(inc) %>% summarize(count = n())"
   ]
  },
  {
   "cell_type": "markdown",
   "metadata": {},
   "source": [
    "Group the data and check the data which needs to be removed as per the given Questionaires"
   ]
  },
  {
   "cell_type": "code",
   "execution_count": 44,
   "metadata": {
    "collapsed": false
   },
   "outputs": [
    {
     "data": {
      "text/html": [
       "<table>\n",
       "<thead><tr><th scope=col>race</th><th scope=col>count</th></tr></thead>\n",
       "<tbody>\n",
       "\t<tr><td>1   </td><td>1513</td></tr>\n",
       "\t<tr><td>2   </td><td> 246</td></tr>\n",
       "\t<tr><td>3   </td><td>  54</td></tr>\n",
       "\t<tr><td>4   </td><td>  49</td></tr>\n",
       "\t<tr><td>5   </td><td>  17</td></tr>\n",
       "\t<tr><td>6   </td><td>  68</td></tr>\n",
       "\t<tr><td>8   </td><td>  18</td></tr>\n",
       "\t<tr><td>9   </td><td>  36</td></tr>\n",
       "</tbody>\n",
       "</table>\n"
      ],
      "text/latex": [
       "\\begin{tabular}{r|ll}\n",
       " race & count\\\\\n",
       "\\hline\n",
       "\t 1    & 1513\\\\\n",
       "\t 2    &  246\\\\\n",
       "\t 3    &   54\\\\\n",
       "\t 4    &   49\\\\\n",
       "\t 5    &   17\\\\\n",
       "\t 6    &   68\\\\\n",
       "\t 8    &   18\\\\\n",
       "\t 9    &   36\\\\\n",
       "\\end{tabular}\n"
      ],
      "text/markdown": [
       "\n",
       "race | count | \n",
       "|---|---|---|---|---|---|---|---|\n",
       "| 1    | 1513 | \n",
       "| 2    |  246 | \n",
       "| 3    |   54 | \n",
       "| 4    |   49 | \n",
       "| 5    |   17 | \n",
       "| 6    |   68 | \n",
       "| 8    |   18 | \n",
       "| 9    |   36 | \n",
       "\n",
       "\n"
      ],
      "text/plain": [
       "  race count\n",
       "1 1    1513 \n",
       "2 2     246 \n",
       "3 3      54 \n",
       "4 4      49 \n",
       "5 5      17 \n",
       "6 6      68 \n",
       "7 8      18 \n",
       "8 9      36 "
      ]
     },
     "metadata": {},
     "output_type": "display_data"
    }
   ],
   "source": [
    "pewData %>% group_by(race) %>% summarize(count = n())"
   ]
  },
  {
   "cell_type": "markdown",
   "metadata": {},
   "source": [
    "Remove the fields which are NA from the data "
   ]
  },
  {
   "cell_type": "code",
   "execution_count": 45,
   "metadata": {
    "collapsed": true
   },
   "outputs": [],
   "source": [
    "pewData = na.omit(pewData)"
   ]
  },
  {
   "cell_type": "markdown",
   "metadata": {},
   "source": [
    "Add the filters to remove the irrelevant data as per the above analysis of the data"
   ]
  },
  {
   "cell_type": "code",
   "execution_count": 46,
   "metadata": {
    "collapsed": true
   },
   "outputs": [],
   "source": [
    "pewData = pewData %>% filter(educ2 < 10) %>%\n",
    "                      filter(inc < 10) %>%\n",
    "                      filter(race < 8) %>%\n",
    "                      filter(emptype1 < 10)"
   ]
  },
  {
   "cell_type": "markdown",
   "metadata": {},
   "source": [
    "Show how much data is left and also show the data frame"
   ]
  },
  {
   "cell_type": "code",
   "execution_count": 47,
   "metadata": {
    "collapsed": false
   },
   "outputs": [
    {
     "data": {
      "text/html": [
       "965"
      ],
      "text/latex": [
       "965"
      ],
      "text/markdown": [
       "965"
      ],
      "text/plain": [
       "[1] 965"
      ]
     },
     "metadata": {},
     "output_type": "display_data"
    },
    {
     "data": {
      "text/html": [
       "<table>\n",
       "<thead><tr><th scope=col>age</th><th scope=col>emptype1</th><th scope=col>educ2</th><th scope=col>inc</th><th scope=col>race</th></tr></thead>\n",
       "<tbody>\n",
       "\t<tr><td>40</td><td>1 </td><td>5 </td><td>6 </td><td>1 </td></tr>\n",
       "\t<tr><td>69</td><td>5 </td><td>6 </td><td>8 </td><td>1 </td></tr>\n",
       "\t<tr><td>52</td><td>2 </td><td>4 </td><td>8 </td><td>1 </td></tr>\n",
       "\t<tr><td>44</td><td>1 </td><td>4 </td><td>7 </td><td>1 </td></tr>\n",
       "\t<tr><td>58</td><td>2 </td><td>6 </td><td>7 </td><td>1 </td></tr>\n",
       "\t<tr><td>31</td><td>2 </td><td>3 </td><td>2 </td><td>5 </td></tr>\n",
       "</tbody>\n",
       "</table>\n"
      ],
      "text/latex": [
       "\\begin{tabular}{r|lllll}\n",
       " age & emptype1 & educ2 & inc & race\\\\\n",
       "\\hline\n",
       "\t 40 & 1  & 5  & 6  & 1 \\\\\n",
       "\t 69 & 5  & 6  & 8  & 1 \\\\\n",
       "\t 52 & 2  & 4  & 8  & 1 \\\\\n",
       "\t 44 & 1  & 4  & 7  & 1 \\\\\n",
       "\t 58 & 2  & 6  & 7  & 1 \\\\\n",
       "\t 31 & 2  & 3  & 2  & 5 \\\\\n",
       "\\end{tabular}\n"
      ],
      "text/markdown": [
       "\n",
       "age | emptype1 | educ2 | inc | race | \n",
       "|---|---|---|---|---|---|\n",
       "| 40 | 1  | 5  | 6  | 1  | \n",
       "| 69 | 5  | 6  | 8  | 1  | \n",
       "| 52 | 2  | 4  | 8  | 1  | \n",
       "| 44 | 1  | 4  | 7  | 1  | \n",
       "| 58 | 2  | 6  | 7  | 1  | \n",
       "| 31 | 2  | 3  | 2  | 5  | \n",
       "\n",
       "\n"
      ],
      "text/plain": [
       "  age emptype1 educ2 inc race\n",
       "1 40  1        5     6   1   \n",
       "2 69  5        6     8   1   \n",
       "3 52  2        4     8   1   \n",
       "4 44  1        4     7   1   \n",
       "5 58  2        6     7   1   \n",
       "6 31  2        3     2   5   "
      ]
     },
     "metadata": {},
     "output_type": "display_data"
    }
   ],
   "source": [
    "nrow(pewData)\n",
    "head(pewData)"
   ]
  },
  {
   "cell_type": "markdown",
   "metadata": {},
   "source": [
    "Rename the columns as per the need"
   ]
  },
  {
   "cell_type": "code",
   "execution_count": 48,
   "metadata": {
    "collapsed": false
   },
   "outputs": [],
   "source": [
    "colnames(pewData) = c(\"age\",\"workPlace\",\"education\",\"income\",\"race\")"
   ]
  },
  {
   "cell_type": "markdown",
   "metadata": {},
   "source": [
    "Check the column names"
   ]
  },
  {
   "cell_type": "code",
   "execution_count": 49,
   "metadata": {
    "collapsed": false
   },
   "outputs": [
    {
     "data": {
      "text/html": [
       "<table>\n",
       "<thead><tr><th scope=col>age</th><th scope=col>workPlace</th><th scope=col>education</th><th scope=col>income</th><th scope=col>race</th></tr></thead>\n",
       "<tbody>\n",
       "\t<tr><td>40</td><td>1 </td><td>5 </td><td>6 </td><td>1 </td></tr>\n",
       "\t<tr><td>69</td><td>5 </td><td>6 </td><td>8 </td><td>1 </td></tr>\n",
       "\t<tr><td>52</td><td>2 </td><td>4 </td><td>8 </td><td>1 </td></tr>\n",
       "\t<tr><td>44</td><td>1 </td><td>4 </td><td>7 </td><td>1 </td></tr>\n",
       "\t<tr><td>58</td><td>2 </td><td>6 </td><td>7 </td><td>1 </td></tr>\n",
       "\t<tr><td>31</td><td>2 </td><td>3 </td><td>2 </td><td>5 </td></tr>\n",
       "</tbody>\n",
       "</table>\n"
      ],
      "text/latex": [
       "\\begin{tabular}{r|lllll}\n",
       " age & workPlace & education & income & race\\\\\n",
       "\\hline\n",
       "\t 40 & 1  & 5  & 6  & 1 \\\\\n",
       "\t 69 & 5  & 6  & 8  & 1 \\\\\n",
       "\t 52 & 2  & 4  & 8  & 1 \\\\\n",
       "\t 44 & 1  & 4  & 7  & 1 \\\\\n",
       "\t 58 & 2  & 6  & 7  & 1 \\\\\n",
       "\t 31 & 2  & 3  & 2  & 5 \\\\\n",
       "\\end{tabular}\n"
      ],
      "text/markdown": [
       "\n",
       "age | workPlace | education | income | race | \n",
       "|---|---|---|---|---|---|\n",
       "| 40 | 1  | 5  | 6  | 1  | \n",
       "| 69 | 5  | 6  | 8  | 1  | \n",
       "| 52 | 2  | 4  | 8  | 1  | \n",
       "| 44 | 1  | 4  | 7  | 1  | \n",
       "| 58 | 2  | 6  | 7  | 1  | \n",
       "| 31 | 2  | 3  | 2  | 5  | \n",
       "\n",
       "\n"
      ],
      "text/plain": [
       "  age workPlace education income race\n",
       "1 40  1         5         6      1   \n",
       "2 69  5         6         8      1   \n",
       "3 52  2         4         8      1   \n",
       "4 44  1         4         7      1   \n",
       "5 58  2         6         7      1   \n",
       "6 31  2         3         2      5   "
      ]
     },
     "metadata": {},
     "output_type": "display_data"
    }
   ],
   "source": [
    "head(pewData)"
   ]
  },
  {
   "cell_type": "markdown",
   "metadata": {},
   "source": [
    "Categorize the age in blocks of 10"
   ]
  },
  {
   "cell_type": "code",
   "execution_count": 50,
   "metadata": {
    "collapsed": true
   },
   "outputs": [],
   "source": [
    "pewData$ageCat <-cut(pewData$age,c(-Inf,20,30,40,50,60,70,80,90,100,Inf),right=FALSE, labels=c(1:10))"
   ]
  },
  {
   "cell_type": "markdown",
   "metadata": {},
   "source": [
    "Show the data"
   ]
  },
  {
   "cell_type": "code",
   "execution_count": 51,
   "metadata": {
    "collapsed": false
   },
   "outputs": [
    {
     "data": {
      "text/html": [
       "<table>\n",
       "<thead><tr><th scope=col>age</th><th scope=col>workPlace</th><th scope=col>education</th><th scope=col>income</th><th scope=col>race</th><th scope=col>ageCat</th></tr></thead>\n",
       "<tbody>\n",
       "\t<tr><td>40</td><td>1 </td><td>5 </td><td>6 </td><td>1 </td><td>4 </td></tr>\n",
       "\t<tr><td>69</td><td>5 </td><td>6 </td><td>8 </td><td>1 </td><td>6 </td></tr>\n",
       "\t<tr><td>52</td><td>2 </td><td>4 </td><td>8 </td><td>1 </td><td>5 </td></tr>\n",
       "\t<tr><td>44</td><td>1 </td><td>4 </td><td>7 </td><td>1 </td><td>4 </td></tr>\n",
       "\t<tr><td>58</td><td>2 </td><td>6 </td><td>7 </td><td>1 </td><td>5 </td></tr>\n",
       "\t<tr><td>31</td><td>2 </td><td>3 </td><td>2 </td><td>5 </td><td>3 </td></tr>\n",
       "</tbody>\n",
       "</table>\n"
      ],
      "text/latex": [
       "\\begin{tabular}{r|llllll}\n",
       " age & workPlace & education & income & race & ageCat\\\\\n",
       "\\hline\n",
       "\t 40 & 1  & 5  & 6  & 1  & 4 \\\\\n",
       "\t 69 & 5  & 6  & 8  & 1  & 6 \\\\\n",
       "\t 52 & 2  & 4  & 8  & 1  & 5 \\\\\n",
       "\t 44 & 1  & 4  & 7  & 1  & 4 \\\\\n",
       "\t 58 & 2  & 6  & 7  & 1  & 5 \\\\\n",
       "\t 31 & 2  & 3  & 2  & 5  & 3 \\\\\n",
       "\\end{tabular}\n"
      ],
      "text/markdown": [
       "\n",
       "age | workPlace | education | income | race | ageCat | \n",
       "|---|---|---|---|---|---|\n",
       "| 40 | 1  | 5  | 6  | 1  | 4  | \n",
       "| 69 | 5  | 6  | 8  | 1  | 6  | \n",
       "| 52 | 2  | 4  | 8  | 1  | 5  | \n",
       "| 44 | 1  | 4  | 7  | 1  | 4  | \n",
       "| 58 | 2  | 6  | 7  | 1  | 5  | \n",
       "| 31 | 2  | 3  | 2  | 5  | 3  | \n",
       "\n",
       "\n"
      ],
      "text/plain": [
       "  age workPlace education income race ageCat\n",
       "1 40  1         5         6      1    4     \n",
       "2 69  5         6         8      1    6     \n",
       "3 52  2         4         8      1    5     \n",
       "4 44  1         4         7      1    4     \n",
       "5 58  2         6         7      1    5     \n",
       "6 31  2         3         2      5    3     "
      ]
     },
     "metadata": {},
     "output_type": "display_data"
    }
   ],
   "source": [
    "head(pewData)"
   ]
  },
  {
   "cell_type": "markdown",
   "metadata": {},
   "source": [
    "**Data Cleaning Ends **"
   ]
  },
  {
   "cell_type": "markdown",
   "metadata": {},
   "source": [
    "Create a variable to set the range"
   ]
  },
  {
   "cell_type": "code",
   "execution_count": 52,
   "metadata": {
    "collapsed": true
   },
   "outputs": [],
   "source": [
    "rng<-2:40 #K from 2 to 40"
   ]
  },
  {
   "cell_type": "markdown",
   "metadata": {},
   "source": [
    "Create a variable for the number of runs "
   ]
  },
  {
   "cell_type": "code",
   "execution_count": 53,
   "metadata": {
    "collapsed": true
   },
   "outputs": [],
   "source": [
    "tries <-100 #Run the K Means algorithm 100 times"
   ]
  },
  {
   "cell_type": "markdown",
   "metadata": {},
   "source": [
    "Create a list of integer Values "
   ]
  },
  {
   "cell_type": "code",
   "execution_count": 54,
   "metadata": {
    "collapsed": true
   },
   "outputs": [],
   "source": [
    "avg.totw.ss <-integer(length(rng))"
   ]
  },
  {
   "cell_type": "markdown",
   "metadata": {},
   "source": [
    "A measurement that is more relative would be the withinss and betweenss.\n",
    "\n",
    "\"k$withinss would tell you the sum of the square of the distance from each data point to the cluster center.  Lower is better.  Seeing a high withinss would indicate either outliers are in your data or you need to create more clusters.\"\n",
    "\n",
    "k$betweenss tells you the sum of the squared distance between cluster centers.  Ideally you want cluster centers far apart from each other.\n"
   ]
  },
  {
   "cell_type": "markdown",
   "metadata": {},
   "source": [
    "It’s important to try other values for K.  You can then compare withinss and betweenss.  This will help you select the best K.   For example, with this data set, what if you ran K from 2 through 40 and plotted the total within sum of squares?  You should find an “elbow” point.  Wherever the graph bends and stops making gains in withinss you call that your K."
   ]
  },
  {
   "cell_type": "code",
   "execution_count": 55,
   "metadata": {
    "collapsed": false
   },
   "outputs": [
    {
     "name": "stderr",
     "output_type": "stream",
     "text": [
      "Warning message:\n",
      "“did not converge in 10 iterations”Warning message:\n",
      "“did not converge in 10 iterations”Warning message:\n",
      "“did not converge in 10 iterations”Warning message:\n",
      "“did not converge in 10 iterations”"
     ]
    }
   ],
   "source": [
    "for(v in rng){\n",
    "    v.totw.ss <-integer(tries)\n",
    "    for(i in 1:tries){\n",
    "        k.temp <-kmeans(pewData,centers=v)\n",
    "        v.totw.ss[i] <-k.temp$tot.withinss\n",
    "     }\n",
    "     avg.totw.ss[v-1] <-mean(v.totw.ss) \n",
    "}"
   ]
  },
  {
   "cell_type": "markdown",
   "metadata": {},
   "source": [
    "Plot the data"
   ]
  },
  {
   "cell_type": "code",
   "execution_count": 56,
   "metadata": {
    "collapsed": false
   },
   "outputs": [
    {
     "data": {
      "image/png": "[encoded data removed]",
      "text/plain": [
       "Plot with title “Total Within SS by Various K”"
      ]
     },
     "metadata": {},
     "output_type": "display_data"
    }
   ],
   "source": [
    "plot(rng,avg.totw.ss,type=\"b\", main=\"Total Within SS by Various K\",\n",
    " ylab=\"Average Total Within Sum of Squares\",\n",
    " xlab=\"Value of K\")"
   ]
  },
  {
   "cell_type": "markdown",
   "metadata": {},
   "source": [
    "**From the grapgh above ,somewhere around K = 5 we start losing dramatic gains.  So we are satisfied with 5 clusters.**"
   ]
  },
  {
   "cell_type": "markdown",
   "metadata": {},
   "source": [
    "Set the seed value"
   ]
  },
  {
   "cell_type": "code",
   "execution_count": 57,
   "metadata": {
    "collapsed": true
   },
   "outputs": [],
   "source": [
    "set.seed(769312867)"
   ]
  },
  {
   "cell_type": "markdown",
   "metadata": {},
   "source": [
    "Run the K means algorithm for 5 clusters"
   ]
  },
  {
   "cell_type": "code",
   "execution_count": 58,
   "metadata": {
    "collapsed": true
   },
   "outputs": [],
   "source": [
    "kMeansForFive <-kmeans(pewData[,-c(1)], centers=5)"
   ]
  },
  {
   "cell_type": "markdown",
   "metadata": {},
   "source": [
    "Print the centers obtained by running the above K Means algorithm for 5 Clusters"
   ]
  },
  {
   "cell_type": "markdown",
   "metadata": {},
   "source": [
    "Before we interpret the above data we need to define a few values which were reperesented numeric in the given data"
   ]
  },
  {
   "cell_type": "markdown",
   "metadata": {},
   "source": [
    "**WorkPlace Type**\n",
    "1.\tA large corporation\n",
    "2.\tA medium-size company\n",
    "3.\tA small business\n",
    "4.\tA part of the federal, state or local government\n",
    "5.\tA school or educational institution, OR\n",
    "6.\tA non-profit organization?\n",
    "7.\t(VOL.) Other\n",
    "8.\t(VOL.) Self-employed/work at home\n",
    "\n",
    "**Education**\n",
    "1.\tLess than high school (Grades 1-8 or no formal schooling)\n",
    "2.\tHigh school incomplete (Grades 9-11 or Grade 12 with NO diploma)\n",
    "3.\tHigh school graduate (Grade 12 with diploma or GED certificate)\n",
    "4.\tSome college, no degree (includes some community college)\n",
    "5.\tTwo year associate degree from a college or university\n",
    "6.\tFour year college or university degree/Bachelor’s degree (e.g., BS, BA, AB)\n",
    "7.\tSome postgraduate or professional schooling, no postgraduate degree\n",
    "8.\tPostgraduate or professional degree, including master’s, doctorate, medical or law degree (e.g., MA, MS, PhD, MD, JD)\n",
    "\n",
    "**Income**\n",
    "1.\tLess than 10,000\n",
    "2.\t10 to under 20,000\n",
    "3.\t20 to under 30,000\n",
    "4.\t30 to under 40,000\n",
    "5.\t40 to under 50,000\n",
    "6.\t50 to under 75,000\n",
    "7.\t75 to under 100,000\n",
    "8.\t100 to under 150,000\n",
    "9.\t150,000 or more\n",
    "\n",
    "**Race**\n",
    "1.\tWhite\n",
    "2.\tBlack or African-American\n",
    "3.\tAsian or Pacific Islander\n",
    "4.\tMixed race\n",
    "5.\tNative American/American Indian\n",
    "6.\tOther (SPECIFY)"
   ]
  },
  {
   "cell_type": "code",
   "execution_count": 59,
   "metadata": {
    "collapsed": false
   },
   "outputs": [
    {
     "data": {
      "text/html": [
       "<table>\n",
       "<thead><tr><th></th><th scope=col>workPlace</th><th scope=col>education</th><th scope=col>income</th><th scope=col>race</th><th scope=col>ageCat</th></tr></thead>\n",
       "<tbody>\n",
       "\t<tr><th scope=row>1</th><td>2.000000</td><td>3.220339</td><td>3.165254</td><td>1.864407</td><td>3.317797</td></tr>\n",
       "\t<tr><th scope=row>2</th><td>5.770642</td><td>4.623853</td><td>4.733945</td><td>1.467890</td><td>3.779817</td></tr>\n",
       "\t<tr><th scope=row>3</th><td>4.880952</td><td>7.464286</td><td>7.470238</td><td>1.363095</td><td>4.797619</td></tr>\n",
       "\t<tr><th scope=row>4</th><td>2.771429</td><td>6.638095</td><td>3.838095</td><td>1.561905</td><td>3.247619</td></tr>\n",
       "\t<tr><th scope=row>5</th><td>1.844380</td><td>5.282421</td><td>7.440922</td><td>1.368876</td><td>4.178674</td></tr>\n",
       "</tbody>\n",
       "</table>\n"
      ],
      "text/latex": [
       "\\begin{tabular}{r|lllll}\n",
       "  & workPlace & education & income & race & ageCat\\\\\n",
       "\\hline\n",
       "\t1 & 2.000000 & 3.220339 & 3.165254 & 1.864407 & 3.317797\\\\\n",
       "\t2 & 5.770642 & 4.623853 & 4.733945 & 1.467890 & 3.779817\\\\\n",
       "\t3 & 4.880952 & 7.464286 & 7.470238 & 1.363095 & 4.797619\\\\\n",
       "\t4 & 2.771429 & 6.638095 & 3.838095 & 1.561905 & 3.247619\\\\\n",
       "\t5 & 1.844380 & 5.282421 & 7.440922 & 1.368876 & 4.178674\\\\\n",
       "\\end{tabular}\n"
      ],
      "text/markdown": [
       "\n",
       "| <!--/--> | workPlace | education | income | race | ageCat | \n",
       "|---|---|---|---|---|\n",
       "| 1 | 2.000000 | 3.220339 | 3.165254 | 1.864407 | 3.317797 | \n",
       "| 2 | 5.770642 | 4.623853 | 4.733945 | 1.467890 | 3.779817 | \n",
       "| 3 | 4.880952 | 7.464286 | 7.470238 | 1.363095 | 4.797619 | \n",
       "| 4 | 2.771429 | 6.638095 | 3.838095 | 1.561905 | 3.247619 | \n",
       "| 5 | 1.844380 | 5.282421 | 7.440922 | 1.368876 | 4.178674 | \n",
       "\n",
       "\n"
      ],
      "text/plain": [
       "  workPlace education income   race     ageCat  \n",
       "1 2.000000  3.220339  3.165254 1.864407 3.317797\n",
       "2 5.770642  4.623853  4.733945 1.467890 3.779817\n",
       "3 4.880952  7.464286  7.470238 1.363095 4.797619\n",
       "4 2.771429  6.638095  3.838095 1.561905 3.247619\n",
       "5 1.844380  5.282421  7.440922 1.368876 4.178674"
      ]
     },
     "metadata": {},
     "output_type": "display_data"
    }
   ],
   "source": [
    "kMeansForFive$centers"
   ]
  },
  {
   "cell_type": "markdown",
   "metadata": {},
   "source": [
    "# Conclusion when there are 5 clusters :\n",
    "\n",
    "1. Cluster1 : People who work in a medium sized company earns between 20 to 30,000 per annum. Most of them are high school graduate and between 30-40 age group. We can say such a group belongs to middle class society.\n",
    "\n",
    "2. Cluster2 : People who work in an educational institute earns between 30 to 400,000 per annum. Most of them are some college degree holders and between 30-40 age group. We can say such a group belongs to middle class society.\n",
    "\n",
    "3. Cluster3 : People who work in a Federal or Govt institutions earns between 70 to 100,000 per annum. Most of them are highly qualified and postgraduate degree holders and between 40-50 age group. We can say such a group belongs to upper class society.\n",
    "\n",
    "4. Cluster4 : People who work in a small business earns between 30 to 40,000 per annum. Most of them have bachelors degree and between 30-40 age group. We can say such a group belongs to middle class society.\n",
    "\n",
    "5. Cluster5 : People who work in a large corporation earns between 70 to 100,000 per annum. Most of them have college degrees or associate degree and between 30-40 age group. We can say such a group belongs to upper class society."
   ]
  },
  {
   "cell_type": "markdown",
   "metadata": {},
   "source": [
    "Plot the data between income and Work Place type below"
   ]
  },
  {
   "cell_type": "code",
   "execution_count": 60,
   "metadata": {
    "collapsed": false
   },
   "outputs": [
    {
     "data": {
      "image/png": "[encoded data removed]",
      "text/plain": [
       "Plot with title “Graph Between Income and Work Place Type”"
      ]
     },
     "metadata": {},
     "output_type": "display_data"
    }
   ],
   "source": [
    "plot(pewData[c(\"income\", \"workPlace\")], col=kMeansForFive$cluster, main = \"Graph Between Income and Work Place Type\")\n",
    "points(kMeansForFive$centers[,c(\"income\", \"workPlace\")], col=1:5, pch=23, cex=3)"
   ]
  },
  {
   "cell_type": "markdown",
   "metadata": {},
   "source": [
    "Set the seed Value for 3 clusters"
   ]
  },
  {
   "cell_type": "code",
   "execution_count": 61,
   "metadata": {
    "collapsed": true
   },
   "outputs": [],
   "source": [
    "set.seed(7692)"
   ]
  },
  {
   "cell_type": "markdown",
   "metadata": {},
   "source": [
    "Run the K Means algorithm for 3 clusters"
   ]
  },
  {
   "cell_type": "code",
   "execution_count": 62,
   "metadata": {
    "collapsed": true
   },
   "outputs": [],
   "source": [
    "kMeansForThree <-kmeans(pewData[,-c(1)], centers=3)"
   ]
  },
  {
   "cell_type": "markdown",
   "metadata": {},
   "source": [
    "Print the centers obtained by running the above K Means algorithm for 3 Clusters"
   ]
  },
  {
   "cell_type": "code",
   "execution_count": 63,
   "metadata": {
    "collapsed": false
   },
   "outputs": [
    {
     "data": {
      "text/html": [
       "<table>\n",
       "<thead><tr><th></th><th scope=col>workPlace</th><th scope=col>education</th><th scope=col>income</th><th scope=col>race</th><th scope=col>ageCat</th></tr></thead>\n",
       "<tbody>\n",
       "\t<tr><th scope=row>1</th><td>2.457317</td><td>3.734756</td><td>3.176829</td><td>1.771341</td><td>3.295732</td></tr>\n",
       "\t<tr><th scope=row>2</th><td>5.285124</td><td>6.834711</td><td>6.380165</td><td>1.462810</td><td>4.297521</td></tr>\n",
       "\t<tr><th scope=row>3</th><td>1.941772</td><td>5.491139</td><td>7.384810</td><td>1.349367</td><td>4.230380</td></tr>\n",
       "</tbody>\n",
       "</table>\n"
      ],
      "text/latex": [
       "\\begin{tabular}{r|lllll}\n",
       "  & workPlace & education & income & race & ageCat\\\\\n",
       "\\hline\n",
       "\t1 & 2.457317 & 3.734756 & 3.176829 & 1.771341 & 3.295732\\\\\n",
       "\t2 & 5.285124 & 6.834711 & 6.380165 & 1.462810 & 4.297521\\\\\n",
       "\t3 & 1.941772 & 5.491139 & 7.384810 & 1.349367 & 4.230380\\\\\n",
       "\\end{tabular}\n"
      ],
      "text/markdown": [
       "\n",
       "| <!--/--> | workPlace | education | income | race | ageCat | \n",
       "|---|---|---|\n",
       "| 1 | 2.457317 | 3.734756 | 3.176829 | 1.771341 | 3.295732 | \n",
       "| 2 | 5.285124 | 6.834711 | 6.380165 | 1.462810 | 4.297521 | \n",
       "| 3 | 1.941772 | 5.491139 | 7.384810 | 1.349367 | 4.230380 | \n",
       "\n",
       "\n"
      ],
      "text/plain": [
       "  workPlace education income   race     ageCat  \n",
       "1 2.457317  3.734756  3.176829 1.771341 3.295732\n",
       "2 5.285124  6.834711  6.380165 1.462810 4.297521\n",
       "3 1.941772  5.491139  7.384810 1.349367 4.230380"
      ]
     },
     "metadata": {},
     "output_type": "display_data"
    }
   ],
   "source": [
    "kMeansForThree$centers"
   ]
  },
  {
   "cell_type": "markdown",
   "metadata": {},
   "source": [
    "# Conclusion when there are 3 clusters :\n",
    "\n",
    "1. Cluster1 : People who work in a medium sized company or wons a small business earns between 20 to 30,000 per annum. Most of them are high school graduate or have associate degree and between 30-40 age group. We can say such a group belongs to middle class society.\n",
    "\n",
    "2. Cluster2 : People who work in an educational institute or Federal or Govt institutions earns between 70 to 100,000 per annum.Most of them are highly qualified and postgraduate degree holders and between 40-50 age group. We can say such a group belongs to upper middle class society.\n",
    "\n",
    "3. Cluster3 : People who work in a medium size comapny earns between 70 to 100,000 per annum. Most of them have some bachleors degree and between 40-50 age group. We can say such a group belongs to upper class society."
   ]
  },
  {
   "cell_type": "code",
   "execution_count": 64,
   "metadata": {
    "collapsed": false
   },
   "outputs": [
    {
     "data": {
      "image/png": "[encoded data removed]",
      "text/plain": [
       "plot without title"
      ]
     },
     "metadata": {},
     "output_type": "display_data"
    }
   ],
   "source": [
    "plot(pewData[c(\"income\", \"workPlace\")], col=kMeansForThree$cluster)\n",
    "points(kMeansForThree$centers[,c(\"income\", \"workPlace\")], col=1:3, pch=23, cex=3)"
   ]
  },
  {
   "cell_type": "markdown",
   "metadata": {},
   "source": [
    "# References"
   ]
  },
  {
   "cell_type": "markdown",
   "metadata": {},
   "source": [
    "1. http://www.learnbymarketing.com/tutorials/k-means-clustering-in-r-example/\n",
    "2. http://rischanlab.github.io/Kmeans.html\n",
    "3. Class Notes"
   ]
  }
 ],
 "metadata": {
  "kernelspec": {
   "display_name": "R",
   "language": "R",
   "name": "ir"
  },
  "language_info": {
   "codemirror_mode": "r",
   "file_extension": ".r",
   "mimetype": "text/x-r-source",
   "name": "R",
   "pygments_lexer": "r",
   "version": "3.3.2"
  }
 },
 "nbformat": 4,
 "nbformat_minor": 2
}
