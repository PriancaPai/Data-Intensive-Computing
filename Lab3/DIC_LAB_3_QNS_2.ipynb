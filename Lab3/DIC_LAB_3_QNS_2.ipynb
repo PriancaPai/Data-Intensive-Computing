{
 "cells": [
  {
   "cell_type": "markdown",
   "metadata": {},
   "source": [
    "# DIC LAB 3 Problem 2 : KNN algorithm on German Credit Data"
   ]
  },
  {
   "cell_type": "markdown",
   "metadata": {},
   "source": [
    "Load the libraries"
   ]
  },
  {
   "cell_type": "code",
   "execution_count": 1,
   "metadata": {
    "collapsed": false
   },
   "outputs": [
    {
     "name": "stderr",
     "output_type": "stream",
     "text": [
      "\n",
      "Attaching package: ‘dplyr’\n",
      "\n",
      "The following objects are masked from ‘package:stats’:\n",
      "\n",
      "    filter, lag\n",
      "\n",
      "The following objects are masked from ‘package:base’:\n",
      "\n",
      "    intersect, setdiff, setequal, union\n",
      "\n"
     ]
    }
   ],
   "source": [
    "library(ggplot2)\n",
    "library(dplyr)\n",
    "library(FNN)"
   ]
  },
  {
   "cell_type": "markdown",
   "metadata": {},
   "source": [
    "A function which takes in the data and sampling rate and returns a data frame containg different sampling rate , mis-calssification rate and k value which are obtained by running the KNN algorithm"
   ]
  },
  {
   "cell_type": "code",
   "execution_count": 2,
   "metadata": {
    "collapsed": true
   },
   "outputs": [],
   "source": [
    "modifiedKNN = function(creditData,samplingRate){\n",
    "        \n",
    "    observations = data.frame(kVal = double(),samplingRateVal = double(),misClassificationRateVal = double())\n",
    "    \n",
    "    rowCount = nrow(creditData)\n",
    "    \n",
    "    trainingDataRowsCount = sample(1:rowCount, samplingRate * rowCount,replace=FALSE)\n",
    "    trainingData = subset(creditData[trainingDataRowsCount, ], select = c(Age,Job,Credit.amount,Duration))\n",
    "    trainingLabels = creditData$Credit.Risks[trainingDataRowsCount]\n",
    "    \n",
    "    testingDataRowsCount = setdiff(1:rowCount, trainingDataRowsCount)\n",
    "    testingData = subset(creditData[testingDataRowsCount, ], select = c(Age,Job,Credit.amount,Duration))\n",
    "    testingLabels = creditData$Credit.Risks[testingDataRowsCount]\n",
    "    \n",
    "    for(k in 3:20){\n",
    "        predictedLabels = knn(trainingData, testingData, trainingLabels, k) \n",
    "        incorrectLabels = sum(predictedLabels != testingLabels)\n",
    "        misClassificationRate = (incorrectLabels/length(testingDataRowsCount))*100\n",
    "        \n",
    "        tempResult = data.frame(kVal = k, samplingRateVal = samplingRate, misClassificationRateVal = misClassificationRate)\n",
    "        observations = rbind(observations,tempResult)\n",
    "    }\n",
    "    return (observations)\n",
    "}"
   ]
  },
  {
   "cell_type": "markdown",
   "metadata": {},
   "source": [
    "Load the German Credit Data"
   ]
  },
  {
   "cell_type": "code",
   "execution_count": 3,
   "metadata": {
    "collapsed": true
   },
   "outputs": [],
   "source": [
    "creditData = read.csv(file=\"dataSets/german_credit_data1.csv\", header=TRUE, sep=\",\")"
   ]
  },
  {
   "cell_type": "markdown",
   "metadata": {},
   "source": [
    "Show the data "
   ]
  },
  {
   "cell_type": "code",
   "execution_count": 4,
   "metadata": {
    "collapsed": false
   },
   "outputs": [
    {
     "data": {
      "text/html": [
       "<table>\n",
       "<thead><tr><th scope=col>X.</th><th scope=col>Age</th><th scope=col>Sex</th><th scope=col>Job</th><th scope=col>Housing</th><th scope=col>Saving.accounts</th><th scope=col>Checking.account</th><th scope=col>Credit.amount</th><th scope=col>Duration</th><th scope=col>Purpose</th><th scope=col>Credit.Risks</th></tr></thead>\n",
       "<tbody>\n",
       "\t<tr><td>0                  </td><td>67                 </td><td>male               </td><td>2                  </td><td>own                </td><td>NA                 </td><td>little             </td><td>1169               </td><td> 6                 </td><td>radio/TV           </td><td>1                  </td></tr>\n",
       "\t<tr><td>1                  </td><td>22                 </td><td>female             </td><td>2                  </td><td>own                </td><td>little             </td><td>moderate           </td><td>5951               </td><td>48                 </td><td>radio/TV           </td><td>2                  </td></tr>\n",
       "\t<tr><td>2                  </td><td>49                 </td><td>male               </td><td>1                  </td><td>own                </td><td>little             </td><td>NA                 </td><td>2096               </td><td>12                 </td><td>education          </td><td>1                  </td></tr>\n",
       "\t<tr><td>3                  </td><td>45                 </td><td>male               </td><td>2                  </td><td>free               </td><td>little             </td><td>little             </td><td>7882               </td><td>42                 </td><td>furniture/equipment</td><td>1                  </td></tr>\n",
       "\t<tr><td>4                  </td><td>53                 </td><td>male               </td><td>2                  </td><td>free               </td><td>little             </td><td>little             </td><td>4870               </td><td>24                 </td><td>car                </td><td>2                  </td></tr>\n",
       "\t<tr><td>5                  </td><td>35                 </td><td>male               </td><td>1                  </td><td>free               </td><td>NA                 </td><td>NA                 </td><td>9055               </td><td>36                 </td><td>education          </td><td>1                  </td></tr>\n",
       "</tbody>\n",
       "</table>\n"
      ],
      "text/latex": [
       "\\begin{tabular}{r|lllllllllll}\n",
       " X. & Age & Sex & Job & Housing & Saving.accounts & Checking.account & Credit.amount & Duration & Purpose & Credit.Risks\\\\\n",
       "\\hline\n",
       "\t 0                   & 67                  & male                & 2                   & own                 & NA                  & little              & 1169                &  6                  & radio/TV            & 1                  \\\\\n",
       "\t 1                   & 22                  & female              & 2                   & own                 & little              & moderate            & 5951                & 48                  & radio/TV            & 2                  \\\\\n",
       "\t 2                   & 49                  & male                & 1                   & own                 & little              & NA                  & 2096                & 12                  & education           & 1                  \\\\\n",
       "\t 3                   & 45                  & male                & 2                   & free                & little              & little              & 7882                & 42                  & furniture/equipment & 1                  \\\\\n",
       "\t 4                   & 53                  & male                & 2                   & free                & little              & little              & 4870                & 24                  & car                 & 2                  \\\\\n",
       "\t 5                   & 35                  & male                & 1                   & free                & NA                  & NA                  & 9055                & 36                  & education           & 1                  \\\\\n",
       "\\end{tabular}\n"
      ],
      "text/markdown": [
       "\n",
       "X. | Age | Sex | Job | Housing | Saving.accounts | Checking.account | Credit.amount | Duration | Purpose | Credit.Risks | \n",
       "|---|---|---|---|---|---|\n",
       "| 0                   | 67                  | male                | 2                   | own                 | NA                  | little              | 1169                |  6                  | radio/TV            | 1                   | \n",
       "| 1                   | 22                  | female              | 2                   | own                 | little              | moderate            | 5951                | 48                  | radio/TV            | 2                   | \n",
       "| 2                   | 49                  | male                | 1                   | own                 | little              | NA                  | 2096                | 12                  | education           | 1                   | \n",
       "| 3                   | 45                  | male                | 2                   | free                | little              | little              | 7882                | 42                  | furniture/equipment | 1                   | \n",
       "| 4                   | 53                  | male                | 2                   | free                | little              | little              | 4870                | 24                  | car                 | 2                   | \n",
       "| 5                   | 35                  | male                | 1                   | free                | NA                  | NA                  | 9055                | 36                  | education           | 1                   | \n",
       "\n",
       "\n"
      ],
      "text/plain": [
       "  X. Age Sex    Job Housing Saving.accounts Checking.account Credit.amount\n",
       "1 0  67  male   2   own     NA              little           1169         \n",
       "2 1  22  female 2   own     little          moderate         5951         \n",
       "3 2  49  male   1   own     little          NA               2096         \n",
       "4 3  45  male   2   free    little          little           7882         \n",
       "5 4  53  male   2   free    little          little           4870         \n",
       "6 5  35  male   1   free    NA              NA               9055         \n",
       "  Duration Purpose             Credit.Risks\n",
       "1  6       radio/TV            1           \n",
       "2 48       radio/TV            2           \n",
       "3 12       education           1           \n",
       "4 42       furniture/equipment 1           \n",
       "5 24       car                 2           \n",
       "6 36       education           1           "
      ]
     },
     "metadata": {},
     "output_type": "display_data"
    }
   ],
   "source": [
    "head(creditData)"
   ]
  },
  {
   "cell_type": "markdown",
   "metadata": {},
   "source": [
    "Show the summary of the data"
   ]
  },
  {
   "cell_type": "code",
   "execution_count": 5,
   "metadata": {
    "collapsed": false
   },
   "outputs": [
    {
     "data": {
      "text/plain": [
       "       X.             Age            Sex           Job        Housing   \n",
       " Min.   :  0.0   Min.   :19.00   female:310   Min.   :0.000   free:108  \n",
       " 1st Qu.:249.8   1st Qu.:27.00   male  :690   1st Qu.:2.000   own :713  \n",
       " Median :499.5   Median :33.00                Median :2.000   rent:179  \n",
       " Mean   :499.5   Mean   :35.55                Mean   :1.904             \n",
       " 3rd Qu.:749.2   3rd Qu.:42.00                3rd Qu.:2.000             \n",
       " Max.   :999.0   Max.   :75.00                Max.   :3.000             \n",
       "                                                                        \n",
       "   Saving.accounts Checking.account Credit.amount      Duration   \n",
       " little    :603    little  :274     Min.   :  250   Min.   : 4.0  \n",
       " moderate  :103    moderate:269     1st Qu.: 1366   1st Qu.:12.0  \n",
       " quite rich: 63    rich    : 63     Median : 2320   Median :18.0  \n",
       " rich      : 48    NA's    :394     Mean   : 3271   Mean   :20.9  \n",
       " NA's      :183                     3rd Qu.: 3972   3rd Qu.:24.0  \n",
       "                                    Max.   :18424   Max.   :72.0  \n",
       "                                                                  \n",
       "                Purpose     Credit.Risks\n",
       " car                :337   Min.   :1.0  \n",
       " radio/TV           :280   1st Qu.:1.0  \n",
       " furniture/equipment:181   Median :1.0  \n",
       " business           : 97   Mean   :1.3  \n",
       " education          : 59   3rd Qu.:2.0  \n",
       " repairs            : 22   Max.   :2.0  \n",
       " (Other)            : 24                "
      ]
     },
     "metadata": {},
     "output_type": "display_data"
    }
   ],
   "source": [
    "summary(creditData)"
   ]
  },
  {
   "cell_type": "markdown",
   "metadata": {},
   "source": [
    "Select only the relevant data field from the given data"
   ]
  },
  {
   "cell_type": "code",
   "execution_count": 6,
   "metadata": {
    "collapsed": true
   },
   "outputs": [],
   "source": [
    "creditData = creditData %>% select(Age,Job,Credit.amount,Duration,Credit.Risks)"
   ]
  },
  {
   "cell_type": "markdown",
   "metadata": {},
   "source": [
    "Remove all the data fields which are NA in the selected data"
   ]
  },
  {
   "cell_type": "code",
   "execution_count": 7,
   "metadata": {
    "collapsed": true
   },
   "outputs": [],
   "source": [
    "creditData = na.omit(creditData)"
   ]
  },
  {
   "cell_type": "markdown",
   "metadata": {},
   "source": [
    "Show the data"
   ]
  },
  {
   "cell_type": "code",
   "execution_count": 8,
   "metadata": {
    "collapsed": false
   },
   "outputs": [
    {
     "data": {
      "text/html": [
       "<table>\n",
       "<thead><tr><th scope=col>Age</th><th scope=col>Job</th><th scope=col>Credit.amount</th><th scope=col>Duration</th><th scope=col>Credit.Risks</th></tr></thead>\n",
       "<tbody>\n",
       "\t<tr><td>67  </td><td>2   </td><td>1169</td><td> 6  </td><td>1   </td></tr>\n",
       "\t<tr><td>22  </td><td>2   </td><td>5951</td><td>48  </td><td>2   </td></tr>\n",
       "\t<tr><td>49  </td><td>1   </td><td>2096</td><td>12  </td><td>1   </td></tr>\n",
       "\t<tr><td>45  </td><td>2   </td><td>7882</td><td>42  </td><td>1   </td></tr>\n",
       "\t<tr><td>53  </td><td>2   </td><td>4870</td><td>24  </td><td>2   </td></tr>\n",
       "\t<tr><td>35  </td><td>1   </td><td>9055</td><td>36  </td><td>1   </td></tr>\n",
       "</tbody>\n",
       "</table>\n"
      ],
      "text/latex": [
       "\\begin{tabular}{r|lllll}\n",
       " Age & Job & Credit.amount & Duration & Credit.Risks\\\\\n",
       "\\hline\n",
       "\t 67   & 2    & 1169 &  6   & 1   \\\\\n",
       "\t 22   & 2    & 5951 & 48   & 2   \\\\\n",
       "\t 49   & 1    & 2096 & 12   & 1   \\\\\n",
       "\t 45   & 2    & 7882 & 42   & 1   \\\\\n",
       "\t 53   & 2    & 4870 & 24   & 2   \\\\\n",
       "\t 35   & 1    & 9055 & 36   & 1   \\\\\n",
       "\\end{tabular}\n"
      ],
      "text/markdown": [
       "\n",
       "Age | Job | Credit.amount | Duration | Credit.Risks | \n",
       "|---|---|---|---|---|---|\n",
       "| 67   | 2    | 1169 |  6   | 1    | \n",
       "| 22   | 2    | 5951 | 48   | 2    | \n",
       "| 49   | 1    | 2096 | 12   | 1    | \n",
       "| 45   | 2    | 7882 | 42   | 1    | \n",
       "| 53   | 2    | 4870 | 24   | 2    | \n",
       "| 35   | 1    | 9055 | 36   | 1    | \n",
       "\n",
       "\n"
      ],
      "text/plain": [
       "  Age Job Credit.amount Duration Credit.Risks\n",
       "1 67  2   1169           6       1           \n",
       "2 22  2   5951          48       2           \n",
       "3 49  1   2096          12       1           \n",
       "4 45  2   7882          42       1           \n",
       "5 53  2   4870          24       2           \n",
       "6 35  1   9055          36       1           "
      ]
     },
     "metadata": {},
     "output_type": "display_data"
    }
   ],
   "source": [
    "head(creditData)"
   ]
  },
  {
   "cell_type": "markdown",
   "metadata": {},
   "source": [
    "Create a summary of the data again and check if there is any change or not "
   ]
  },
  {
   "cell_type": "code",
   "execution_count": 9,
   "metadata": {
    "collapsed": false
   },
   "outputs": [
    {
     "data": {
      "text/plain": [
       "      Age             Job        Credit.amount      Duration     Credit.Risks\n",
       " Min.   :19.00   Min.   :0.000   Min.   :  250   Min.   : 4.0   Min.   :1.0  \n",
       " 1st Qu.:27.00   1st Qu.:2.000   1st Qu.: 1366   1st Qu.:12.0   1st Qu.:1.0  \n",
       " Median :33.00   Median :2.000   Median : 2320   Median :18.0   Median :1.0  \n",
       " Mean   :35.55   Mean   :1.904   Mean   : 3271   Mean   :20.9   Mean   :1.3  \n",
       " 3rd Qu.:42.00   3rd Qu.:2.000   3rd Qu.: 3972   3rd Qu.:24.0   3rd Qu.:2.0  \n",
       " Max.   :75.00   Max.   :3.000   Max.   :18424   Max.   :72.0   Max.   :2.0  "
      ]
     },
     "metadata": {},
     "output_type": "display_data"
    }
   ],
   "source": [
    "summary(creditData)"
   ]
  },
  {
   "cell_type": "markdown",
   "metadata": {},
   "source": [
    "Set a seed value"
   ]
  },
  {
   "cell_type": "code",
   "execution_count": 10,
   "metadata": {
    "collapsed": true
   },
   "outputs": [],
   "source": [
    "set.seed(1234)"
   ]
  },
  {
   "cell_type": "markdown",
   "metadata": {},
   "source": [
    "This is the main function which will tell us the various predicted values generated by applying the KNN algorithm depending upon k value and samoling rate "
   ]
  },
  {
   "cell_type": "code",
   "execution_count": 11,
   "metadata": {
    "collapsed": false
   },
   "outputs": [],
   "source": [
    "observations = data.frame(kVal = double(),samplingRateVal = double(),misClassificationRateVal = double())\n",
    "\n",
    "for(samplingRate in seq(0.5, 0.9, by = 0.1)){\n",
    "    tempResult = modifiedKNN(creditData,samplingRate)\n",
    "    observations = rbind(observations,tempResult)\n",
    "}"
   ]
  },
  {
   "cell_type": "markdown",
   "metadata": {},
   "source": [
    "Print the observations we get from different values of sampling rates and k values"
   ]
  },
  {
   "cell_type": "code",
   "execution_count": 12,
   "metadata": {
    "collapsed": false
   },
   "outputs": [
    {
     "data": {
      "text/html": [
       "<table>\n",
       "<thead><tr><th scope=col>kVal</th><th scope=col>samplingRateVal</th><th scope=col>misClassificationRateVal</th></tr></thead>\n",
       "<tbody>\n",
       "\t<tr><td> 3   </td><td>0.5  </td><td>38.20</td></tr>\n",
       "\t<tr><td> 4   </td><td>0.5  </td><td>34.80</td></tr>\n",
       "\t<tr><td> 5   </td><td>0.5  </td><td>39.00</td></tr>\n",
       "\t<tr><td> 6   </td><td>0.5  </td><td>33.40</td></tr>\n",
       "\t<tr><td> 7   </td><td>0.5  </td><td>35.00</td></tr>\n",
       "\t<tr><td> 8   </td><td>0.5  </td><td>30.60</td></tr>\n",
       "\t<tr><td> 9   </td><td>0.5  </td><td>33.40</td></tr>\n",
       "\t<tr><td>10   </td><td>0.5  </td><td>31.40</td></tr>\n",
       "\t<tr><td>11   </td><td>0.5  </td><td>32.40</td></tr>\n",
       "\t<tr><td>12   </td><td>0.5  </td><td>30.60</td></tr>\n",
       "\t<tr><td>13   </td><td>0.5  </td><td>30.80</td></tr>\n",
       "\t<tr><td>14   </td><td>0.5  </td><td>30.20</td></tr>\n",
       "\t<tr><td>15   </td><td>0.5  </td><td>30.60</td></tr>\n",
       "\t<tr><td>16   </td><td>0.5  </td><td>29.80</td></tr>\n",
       "\t<tr><td>17   </td><td>0.5  </td><td>30.40</td></tr>\n",
       "\t<tr><td>18   </td><td>0.5  </td><td>30.00</td></tr>\n",
       "\t<tr><td>19   </td><td>0.5  </td><td>31.20</td></tr>\n",
       "\t<tr><td>20   </td><td>0.5  </td><td>30.40</td></tr>\n",
       "\t<tr><td> 3   </td><td>0.6  </td><td>34.50</td></tr>\n",
       "\t<tr><td> 4   </td><td>0.6  </td><td>30.25</td></tr>\n",
       "\t<tr><td> 5   </td><td>0.6  </td><td>30.75</td></tr>\n",
       "\t<tr><td> 6   </td><td>0.6  </td><td>30.75</td></tr>\n",
       "\t<tr><td> 7   </td><td>0.6  </td><td>30.75</td></tr>\n",
       "\t<tr><td> 8   </td><td>0.6  </td><td>29.75</td></tr>\n",
       "\t<tr><td> 9   </td><td>0.6  </td><td>31.00</td></tr>\n",
       "\t<tr><td>10   </td><td>0.6  </td><td>30.00</td></tr>\n",
       "\t<tr><td>11   </td><td>0.6  </td><td>31.25</td></tr>\n",
       "\t<tr><td>12   </td><td>0.6  </td><td>30.00</td></tr>\n",
       "\t<tr><td>13   </td><td>0.6  </td><td>30.00</td></tr>\n",
       "\t<tr><td>14   </td><td>0.6  </td><td>30.25</td></tr>\n",
       "\t<tr><td>⋮</td><td>⋮</td><td>⋮</td></tr>\n",
       "\t<tr><td> 9  </td><td>0.8 </td><td>33.0</td></tr>\n",
       "\t<tr><td>10  </td><td>0.8 </td><td>30.5</td></tr>\n",
       "\t<tr><td>11  </td><td>0.8 </td><td>35.5</td></tr>\n",
       "\t<tr><td>12  </td><td>0.8 </td><td>32.5</td></tr>\n",
       "\t<tr><td>13  </td><td>0.8 </td><td>35.5</td></tr>\n",
       "\t<tr><td>14  </td><td>0.8 </td><td>27.5</td></tr>\n",
       "\t<tr><td>15  </td><td>0.8 </td><td>30.0</td></tr>\n",
       "\t<tr><td>16  </td><td>0.8 </td><td>27.5</td></tr>\n",
       "\t<tr><td>17  </td><td>0.8 </td><td>30.5</td></tr>\n",
       "\t<tr><td>18  </td><td>0.8 </td><td>30.0</td></tr>\n",
       "\t<tr><td>19  </td><td>0.8 </td><td>30.5</td></tr>\n",
       "\t<tr><td>20  </td><td>0.8 </td><td>30.5</td></tr>\n",
       "\t<tr><td> 3  </td><td>0.9 </td><td>44.0</td></tr>\n",
       "\t<tr><td> 4  </td><td>0.9 </td><td>34.0</td></tr>\n",
       "\t<tr><td> 5  </td><td>0.9 </td><td>35.0</td></tr>\n",
       "\t<tr><td> 6  </td><td>0.9 </td><td>33.0</td></tr>\n",
       "\t<tr><td> 7  </td><td>0.9 </td><td>33.0</td></tr>\n",
       "\t<tr><td> 8  </td><td>0.9 </td><td>31.0</td></tr>\n",
       "\t<tr><td> 9  </td><td>0.9 </td><td>30.0</td></tr>\n",
       "\t<tr><td>10  </td><td>0.9 </td><td>29.0</td></tr>\n",
       "\t<tr><td>11  </td><td>0.9 </td><td>30.0</td></tr>\n",
       "\t<tr><td>12  </td><td>0.9 </td><td>29.0</td></tr>\n",
       "\t<tr><td>13  </td><td>0.9 </td><td>28.0</td></tr>\n",
       "\t<tr><td>14  </td><td>0.9 </td><td>29.0</td></tr>\n",
       "\t<tr><td>15  </td><td>0.9 </td><td>30.0</td></tr>\n",
       "\t<tr><td>16  </td><td>0.9 </td><td>31.0</td></tr>\n",
       "\t<tr><td>17  </td><td>0.9 </td><td>33.0</td></tr>\n",
       "\t<tr><td>18  </td><td>0.9 </td><td>31.0</td></tr>\n",
       "\t<tr><td>19  </td><td>0.9 </td><td>33.0</td></tr>\n",
       "\t<tr><td>20  </td><td>0.9 </td><td>32.0</td></tr>\n",
       "</tbody>\n",
       "</table>\n"
      ],
      "text/latex": [
       "\\begin{tabular}{r|lll}\n",
       " kVal & samplingRateVal & misClassificationRateVal\\\\\n",
       "\\hline\n",
       "\t  3    & 0.5   & 38.20\\\\\n",
       "\t  4    & 0.5   & 34.80\\\\\n",
       "\t  5    & 0.5   & 39.00\\\\\n",
       "\t  6    & 0.5   & 33.40\\\\\n",
       "\t  7    & 0.5   & 35.00\\\\\n",
       "\t  8    & 0.5   & 30.60\\\\\n",
       "\t  9    & 0.5   & 33.40\\\\\n",
       "\t 10    & 0.5   & 31.40\\\\\n",
       "\t 11    & 0.5   & 32.40\\\\\n",
       "\t 12    & 0.5   & 30.60\\\\\n",
       "\t 13    & 0.5   & 30.80\\\\\n",
       "\t 14    & 0.5   & 30.20\\\\\n",
       "\t 15    & 0.5   & 30.60\\\\\n",
       "\t 16    & 0.5   & 29.80\\\\\n",
       "\t 17    & 0.5   & 30.40\\\\\n",
       "\t 18    & 0.5   & 30.00\\\\\n",
       "\t 19    & 0.5   & 31.20\\\\\n",
       "\t 20    & 0.5   & 30.40\\\\\n",
       "\t  3    & 0.6   & 34.50\\\\\n",
       "\t  4    & 0.6   & 30.25\\\\\n",
       "\t  5    & 0.6   & 30.75\\\\\n",
       "\t  6    & 0.6   & 30.75\\\\\n",
       "\t  7    & 0.6   & 30.75\\\\\n",
       "\t  8    & 0.6   & 29.75\\\\\n",
       "\t  9    & 0.6   & 31.00\\\\\n",
       "\t 10    & 0.6   & 30.00\\\\\n",
       "\t 11    & 0.6   & 31.25\\\\\n",
       "\t 12    & 0.6   & 30.00\\\\\n",
       "\t 13    & 0.6   & 30.00\\\\\n",
       "\t 14    & 0.6   & 30.25\\\\\n",
       "\t ⋮ & ⋮ & ⋮\\\\\n",
       "\t  9   & 0.8  & 33.0\\\\\n",
       "\t 10   & 0.8  & 30.5\\\\\n",
       "\t 11   & 0.8  & 35.5\\\\\n",
       "\t 12   & 0.8  & 32.5\\\\\n",
       "\t 13   & 0.8  & 35.5\\\\\n",
       "\t 14   & 0.8  & 27.5\\\\\n",
       "\t 15   & 0.8  & 30.0\\\\\n",
       "\t 16   & 0.8  & 27.5\\\\\n",
       "\t 17   & 0.8  & 30.5\\\\\n",
       "\t 18   & 0.8  & 30.0\\\\\n",
       "\t 19   & 0.8  & 30.5\\\\\n",
       "\t 20   & 0.8  & 30.5\\\\\n",
       "\t  3   & 0.9  & 44.0\\\\\n",
       "\t  4   & 0.9  & 34.0\\\\\n",
       "\t  5   & 0.9  & 35.0\\\\\n",
       "\t  6   & 0.9  & 33.0\\\\\n",
       "\t  7   & 0.9  & 33.0\\\\\n",
       "\t  8   & 0.9  & 31.0\\\\\n",
       "\t  9   & 0.9  & 30.0\\\\\n",
       "\t 10   & 0.9  & 29.0\\\\\n",
       "\t 11   & 0.9  & 30.0\\\\\n",
       "\t 12   & 0.9  & 29.0\\\\\n",
       "\t 13   & 0.9  & 28.0\\\\\n",
       "\t 14   & 0.9  & 29.0\\\\\n",
       "\t 15   & 0.9  & 30.0\\\\\n",
       "\t 16   & 0.9  & 31.0\\\\\n",
       "\t 17   & 0.9  & 33.0\\\\\n",
       "\t 18   & 0.9  & 31.0\\\\\n",
       "\t 19   & 0.9  & 33.0\\\\\n",
       "\t 20   & 0.9  & 32.0\\\\\n",
       "\\end{tabular}\n"
      ],
      "text/markdown": [
       "\n",
       "kVal | samplingRateVal | misClassificationRateVal | \n",
       "|---|---|---|---|---|---|---|---|---|---|---|---|---|---|---|---|---|---|---|---|---|---|---|---|---|---|---|---|---|---|---|---|---|---|---|---|---|---|---|---|---|---|---|---|---|---|---|---|---|---|---|---|---|---|---|---|---|---|---|---|---|\n",
       "|  3    | 0.5   | 38.20 | \n",
       "|  4    | 0.5   | 34.80 | \n",
       "|  5    | 0.5   | 39.00 | \n",
       "|  6    | 0.5   | 33.40 | \n",
       "|  7    | 0.5   | 35.00 | \n",
       "|  8    | 0.5   | 30.60 | \n",
       "|  9    | 0.5   | 33.40 | \n",
       "| 10    | 0.5   | 31.40 | \n",
       "| 11    | 0.5   | 32.40 | \n",
       "| 12    | 0.5   | 30.60 | \n",
       "| 13    | 0.5   | 30.80 | \n",
       "| 14    | 0.5   | 30.20 | \n",
       "| 15    | 0.5   | 30.60 | \n",
       "| 16    | 0.5   | 29.80 | \n",
       "| 17    | 0.5   | 30.40 | \n",
       "| 18    | 0.5   | 30.00 | \n",
       "| 19    | 0.5   | 31.20 | \n",
       "| 20    | 0.5   | 30.40 | \n",
       "|  3    | 0.6   | 34.50 | \n",
       "|  4    | 0.6   | 30.25 | \n",
       "|  5    | 0.6   | 30.75 | \n",
       "|  6    | 0.6   | 30.75 | \n",
       "|  7    | 0.6   | 30.75 | \n",
       "|  8    | 0.6   | 29.75 | \n",
       "|  9    | 0.6   | 31.00 | \n",
       "| 10    | 0.6   | 30.00 | \n",
       "| 11    | 0.6   | 31.25 | \n",
       "| 12    | 0.6   | 30.00 | \n",
       "| 13    | 0.6   | 30.00 | \n",
       "| 14    | 0.6   | 30.25 | \n",
       "| ⋮ | ⋮ | ⋮ | \n",
       "|  9   | 0.8  | 33.0 | \n",
       "| 10   | 0.8  | 30.5 | \n",
       "| 11   | 0.8  | 35.5 | \n",
       "| 12   | 0.8  | 32.5 | \n",
       "| 13   | 0.8  | 35.5 | \n",
       "| 14   | 0.8  | 27.5 | \n",
       "| 15   | 0.8  | 30.0 | \n",
       "| 16   | 0.8  | 27.5 | \n",
       "| 17   | 0.8  | 30.5 | \n",
       "| 18   | 0.8  | 30.0 | \n",
       "| 19   | 0.8  | 30.5 | \n",
       "| 20   | 0.8  | 30.5 | \n",
       "|  3   | 0.9  | 44.0 | \n",
       "|  4   | 0.9  | 34.0 | \n",
       "|  5   | 0.9  | 35.0 | \n",
       "|  6   | 0.9  | 33.0 | \n",
       "|  7   | 0.9  | 33.0 | \n",
       "|  8   | 0.9  | 31.0 | \n",
       "|  9   | 0.9  | 30.0 | \n",
       "| 10   | 0.9  | 29.0 | \n",
       "| 11   | 0.9  | 30.0 | \n",
       "| 12   | 0.9  | 29.0 | \n",
       "| 13   | 0.9  | 28.0 | \n",
       "| 14   | 0.9  | 29.0 | \n",
       "| 15   | 0.9  | 30.0 | \n",
       "| 16   | 0.9  | 31.0 | \n",
       "| 17   | 0.9  | 33.0 | \n",
       "| 18   | 0.9  | 31.0 | \n",
       "| 19   | 0.9  | 33.0 | \n",
       "| 20   | 0.9  | 32.0 | \n",
       "\n",
       "\n"
      ],
      "text/plain": [
       "   kVal samplingRateVal misClassificationRateVal\n",
       "1   3   0.5             38.20                   \n",
       "2   4   0.5             34.80                   \n",
       "3   5   0.5             39.00                   \n",
       "4   6   0.5             33.40                   \n",
       "5   7   0.5             35.00                   \n",
       "6   8   0.5             30.60                   \n",
       "7   9   0.5             33.40                   \n",
       "8  10   0.5             31.40                   \n",
       "9  11   0.5             32.40                   \n",
       "10 12   0.5             30.60                   \n",
       "11 13   0.5             30.80                   \n",
       "12 14   0.5             30.20                   \n",
       "13 15   0.5             30.60                   \n",
       "14 16   0.5             29.80                   \n",
       "15 17   0.5             30.40                   \n",
       "16 18   0.5             30.00                   \n",
       "17 19   0.5             31.20                   \n",
       "18 20   0.5             30.40                   \n",
       "19  3   0.6             34.50                   \n",
       "20  4   0.6             30.25                   \n",
       "21  5   0.6             30.75                   \n",
       "22  6   0.6             30.75                   \n",
       "23  7   0.6             30.75                   \n",
       "24  8   0.6             29.75                   \n",
       "25  9   0.6             31.00                   \n",
       "26 10   0.6             30.00                   \n",
       "27 11   0.6             31.25                   \n",
       "28 12   0.6             30.00                   \n",
       "29 13   0.6             30.00                   \n",
       "30 14   0.6             30.25                   \n",
       "⋮  ⋮    ⋮               ⋮                       \n",
       "61  9   0.8             33.0                    \n",
       "62 10   0.8             30.5                    \n",
       "63 11   0.8             35.5                    \n",
       "64 12   0.8             32.5                    \n",
       "65 13   0.8             35.5                    \n",
       "66 14   0.8             27.5                    \n",
       "67 15   0.8             30.0                    \n",
       "68 16   0.8             27.5                    \n",
       "69 17   0.8             30.5                    \n",
       "70 18   0.8             30.0                    \n",
       "71 19   0.8             30.5                    \n",
       "72 20   0.8             30.5                    \n",
       "73  3   0.9             44.0                    \n",
       "74  4   0.9             34.0                    \n",
       "75  5   0.9             35.0                    \n",
       "76  6   0.9             33.0                    \n",
       "77  7   0.9             33.0                    \n",
       "78  8   0.9             31.0                    \n",
       "79  9   0.9             30.0                    \n",
       "80 10   0.9             29.0                    \n",
       "81 11   0.9             30.0                    \n",
       "82 12   0.9             29.0                    \n",
       "83 13   0.9             28.0                    \n",
       "84 14   0.9             29.0                    \n",
       "85 15   0.9             30.0                    \n",
       "86 16   0.9             31.0                    \n",
       "87 17   0.9             33.0                    \n",
       "88 18   0.9             31.0                    \n",
       "89 19   0.9             33.0                    \n",
       "90 20   0.9             32.0                    "
      ]
     },
     "metadata": {},
     "output_type": "display_data"
    }
   ],
   "source": [
    "observations"
   ]
  },
  {
   "cell_type": "markdown",
   "metadata": {},
   "source": [
    "Draw a plot showing the different values"
   ]
  },
  {
   "cell_type": "code",
   "execution_count": 13,
   "metadata": {
    "collapsed": false
   },
   "outputs": [
    {
     "data": {
      "image/png": "[encoded data removed]",
      "text/plain": [
       "Plot with title “Plot between K Value and Mis-classification Rate”"
      ]
     },
     "metadata": {},
     "output_type": "display_data"
    }
   ],
   "source": [
    "plot(observations$kVal,observations$misClassificationRateVal, pch=19, xlim=c(0,20), ylim=c(0,60),xlab=\"K Value\", ylab=\"Mis-classification Rate\",main=\"Plot between K Value and Mis-classification Rate\")"
   ]
  },
  {
   "cell_type": "markdown",
   "metadata": {},
   "source": [
    "Arrange the values otained above in the asending order of mis-classification values"
   ]
  },
  {
   "cell_type": "code",
   "execution_count": 14,
   "metadata": {
    "collapsed": false
   },
   "outputs": [],
   "source": [
    "minObservations = observations %>%\n",
    "    arrange(misClassificationRateVal)"
   ]
  },
  {
   "cell_type": "markdown",
   "metadata": {},
   "source": [
    "Show the values"
   ]
  },
  {
   "cell_type": "code",
   "execution_count": 15,
   "metadata": {
    "collapsed": false
   },
   "outputs": [
    {
     "data": {
      "text/html": [
       "<table>\n",
       "<thead><tr><th scope=col>kVal</th><th scope=col>samplingRateVal</th><th scope=col>misClassificationRateVal</th></tr></thead>\n",
       "<tbody>\n",
       "\t<tr><td>14      </td><td>0.8     </td><td>27.50000</td></tr>\n",
       "\t<tr><td>16      </td><td>0.8     </td><td>27.50000</td></tr>\n",
       "\t<tr><td>13      </td><td>0.9     </td><td>28.00000</td></tr>\n",
       "\t<tr><td>20      </td><td>0.6     </td><td>28.75000</td></tr>\n",
       "\t<tr><td>10      </td><td>0.9     </td><td>29.00000</td></tr>\n",
       "\t<tr><td>12      </td><td>0.9     </td><td>29.00000</td></tr>\n",
       "\t<tr><td>14      </td><td>0.9     </td><td>29.00000</td></tr>\n",
       "\t<tr><td>20      </td><td>0.7     </td><td>29.33333</td></tr>\n",
       "\t<tr><td> 6      </td><td>0.8     </td><td>29.50000</td></tr>\n",
       "\t<tr><td>12      </td><td>0.7     </td><td>29.66667</td></tr>\n",
       "\t<tr><td> 8      </td><td>0.6     </td><td>29.75000</td></tr>\n",
       "\t<tr><td>16      </td><td>0.5     </td><td>29.80000</td></tr>\n",
       "\t<tr><td>18      </td><td>0.5     </td><td>30.00000</td></tr>\n",
       "\t<tr><td>10      </td><td>0.6     </td><td>30.00000</td></tr>\n",
       "\t<tr><td>12      </td><td>0.6     </td><td>30.00000</td></tr>\n",
       "\t<tr><td>13      </td><td>0.6     </td><td>30.00000</td></tr>\n",
       "\t<tr><td>18      </td><td>0.6     </td><td>30.00000</td></tr>\n",
       "\t<tr><td>13      </td><td>0.7     </td><td>30.00000</td></tr>\n",
       "\t<tr><td>14      </td><td>0.7     </td><td>30.00000</td></tr>\n",
       "\t<tr><td>15      </td><td>0.7     </td><td>30.00000</td></tr>\n",
       "\t<tr><td>17      </td><td>0.7     </td><td>30.00000</td></tr>\n",
       "\t<tr><td>18      </td><td>0.7     </td><td>30.00000</td></tr>\n",
       "\t<tr><td>15      </td><td>0.8     </td><td>30.00000</td></tr>\n",
       "\t<tr><td>18      </td><td>0.8     </td><td>30.00000</td></tr>\n",
       "\t<tr><td> 9      </td><td>0.9     </td><td>30.00000</td></tr>\n",
       "\t<tr><td>11      </td><td>0.9     </td><td>30.00000</td></tr>\n",
       "\t<tr><td>15      </td><td>0.9     </td><td>30.00000</td></tr>\n",
       "\t<tr><td>14      </td><td>0.5     </td><td>30.20000</td></tr>\n",
       "\t<tr><td> 4      </td><td>0.6     </td><td>30.25000</td></tr>\n",
       "\t<tr><td>14      </td><td>0.6     </td><td>30.25000</td></tr>\n",
       "\t<tr><td>⋮</td><td>⋮</td><td>⋮</td></tr>\n",
       "\t<tr><td> 8      </td><td>0.7     </td><td>31.66667</td></tr>\n",
       "\t<tr><td>15      </td><td>0.6     </td><td>32.00000</td></tr>\n",
       "\t<tr><td> 9      </td><td>0.7     </td><td>32.00000</td></tr>\n",
       "\t<tr><td>20      </td><td>0.9     </td><td>32.00000</td></tr>\n",
       "\t<tr><td>11      </td><td>0.5     </td><td>32.40000</td></tr>\n",
       "\t<tr><td> 5      </td><td>0.8     </td><td>32.50000</td></tr>\n",
       "\t<tr><td>12      </td><td>0.8     </td><td>32.50000</td></tr>\n",
       "\t<tr><td> 7      </td><td>0.7     </td><td>32.66667</td></tr>\n",
       "\t<tr><td> 4      </td><td>0.7     </td><td>33.00000</td></tr>\n",
       "\t<tr><td> 9      </td><td>0.8     </td><td>33.00000</td></tr>\n",
       "\t<tr><td> 6      </td><td>0.9     </td><td>33.00000</td></tr>\n",
       "\t<tr><td> 7      </td><td>0.9     </td><td>33.00000</td></tr>\n",
       "\t<tr><td>17      </td><td>0.9     </td><td>33.00000</td></tr>\n",
       "\t<tr><td>19      </td><td>0.9     </td><td>33.00000</td></tr>\n",
       "\t<tr><td> 6      </td><td>0.5     </td><td>33.40000</td></tr>\n",
       "\t<tr><td> 9      </td><td>0.5     </td><td>33.40000</td></tr>\n",
       "\t<tr><td> 5      </td><td>0.7     </td><td>34.00000</td></tr>\n",
       "\t<tr><td> 4      </td><td>0.9     </td><td>34.00000</td></tr>\n",
       "\t<tr><td> 3      </td><td>0.6     </td><td>34.50000</td></tr>\n",
       "\t<tr><td> 3      </td><td>0.7     </td><td>34.66667</td></tr>\n",
       "\t<tr><td> 4      </td><td>0.5     </td><td>34.80000</td></tr>\n",
       "\t<tr><td> 7      </td><td>0.5     </td><td>35.00000</td></tr>\n",
       "\t<tr><td> 5      </td><td>0.9     </td><td>35.00000</td></tr>\n",
       "\t<tr><td> 7      </td><td>0.8     </td><td>35.50000</td></tr>\n",
       "\t<tr><td>11      </td><td>0.8     </td><td>35.50000</td></tr>\n",
       "\t<tr><td>13      </td><td>0.8     </td><td>35.50000</td></tr>\n",
       "\t<tr><td> 3      </td><td>0.8     </td><td>36.00000</td></tr>\n",
       "\t<tr><td> 3      </td><td>0.5     </td><td>38.20000</td></tr>\n",
       "\t<tr><td> 5      </td><td>0.5     </td><td>39.00000</td></tr>\n",
       "\t<tr><td> 3      </td><td>0.9     </td><td>44.00000</td></tr>\n",
       "</tbody>\n",
       "</table>\n"
      ],
      "text/latex": [
       "\\begin{tabular}{r|lll}\n",
       " kVal & samplingRateVal & misClassificationRateVal\\\\\n",
       "\\hline\n",
       "\t 14       & 0.8      & 27.50000\\\\\n",
       "\t 16       & 0.8      & 27.50000\\\\\n",
       "\t 13       & 0.9      & 28.00000\\\\\n",
       "\t 20       & 0.6      & 28.75000\\\\\n",
       "\t 10       & 0.9      & 29.00000\\\\\n",
       "\t 12       & 0.9      & 29.00000\\\\\n",
       "\t 14       & 0.9      & 29.00000\\\\\n",
       "\t 20       & 0.7      & 29.33333\\\\\n",
       "\t  6       & 0.8      & 29.50000\\\\\n",
       "\t 12       & 0.7      & 29.66667\\\\\n",
       "\t  8       & 0.6      & 29.75000\\\\\n",
       "\t 16       & 0.5      & 29.80000\\\\\n",
       "\t 18       & 0.5      & 30.00000\\\\\n",
       "\t 10       & 0.6      & 30.00000\\\\\n",
       "\t 12       & 0.6      & 30.00000\\\\\n",
       "\t 13       & 0.6      & 30.00000\\\\\n",
       "\t 18       & 0.6      & 30.00000\\\\\n",
       "\t 13       & 0.7      & 30.00000\\\\\n",
       "\t 14       & 0.7      & 30.00000\\\\\n",
       "\t 15       & 0.7      & 30.00000\\\\\n",
       "\t 17       & 0.7      & 30.00000\\\\\n",
       "\t 18       & 0.7      & 30.00000\\\\\n",
       "\t 15       & 0.8      & 30.00000\\\\\n",
       "\t 18       & 0.8      & 30.00000\\\\\n",
       "\t  9       & 0.9      & 30.00000\\\\\n",
       "\t 11       & 0.9      & 30.00000\\\\\n",
       "\t 15       & 0.9      & 30.00000\\\\\n",
       "\t 14       & 0.5      & 30.20000\\\\\n",
       "\t  4       & 0.6      & 30.25000\\\\\n",
       "\t 14       & 0.6      & 30.25000\\\\\n",
       "\t ⋮ & ⋮ & ⋮\\\\\n",
       "\t  8       & 0.7      & 31.66667\\\\\n",
       "\t 15       & 0.6      & 32.00000\\\\\n",
       "\t  9       & 0.7      & 32.00000\\\\\n",
       "\t 20       & 0.9      & 32.00000\\\\\n",
       "\t 11       & 0.5      & 32.40000\\\\\n",
       "\t  5       & 0.8      & 32.50000\\\\\n",
       "\t 12       & 0.8      & 32.50000\\\\\n",
       "\t  7       & 0.7      & 32.66667\\\\\n",
       "\t  4       & 0.7      & 33.00000\\\\\n",
       "\t  9       & 0.8      & 33.00000\\\\\n",
       "\t  6       & 0.9      & 33.00000\\\\\n",
       "\t  7       & 0.9      & 33.00000\\\\\n",
       "\t 17       & 0.9      & 33.00000\\\\\n",
       "\t 19       & 0.9      & 33.00000\\\\\n",
       "\t  6       & 0.5      & 33.40000\\\\\n",
       "\t  9       & 0.5      & 33.40000\\\\\n",
       "\t  5       & 0.7      & 34.00000\\\\\n",
       "\t  4       & 0.9      & 34.00000\\\\\n",
       "\t  3       & 0.6      & 34.50000\\\\\n",
       "\t  3       & 0.7      & 34.66667\\\\\n",
       "\t  4       & 0.5      & 34.80000\\\\\n",
       "\t  7       & 0.5      & 35.00000\\\\\n",
       "\t  5       & 0.9      & 35.00000\\\\\n",
       "\t  7       & 0.8      & 35.50000\\\\\n",
       "\t 11       & 0.8      & 35.50000\\\\\n",
       "\t 13       & 0.8      & 35.50000\\\\\n",
       "\t  3       & 0.8      & 36.00000\\\\\n",
       "\t  3       & 0.5      & 38.20000\\\\\n",
       "\t  5       & 0.5      & 39.00000\\\\\n",
       "\t  3       & 0.9      & 44.00000\\\\\n",
       "\\end{tabular}\n"
      ],
      "text/markdown": [
       "\n",
       "kVal | samplingRateVal | misClassificationRateVal | \n",
       "|---|---|---|---|---|---|---|---|---|---|---|---|---|---|---|---|---|---|---|---|---|---|---|---|---|---|---|---|---|---|---|---|---|---|---|---|---|---|---|---|---|---|---|---|---|---|---|---|---|---|---|---|---|---|---|---|---|---|---|---|---|\n",
       "| 14       | 0.8      | 27.50000 | \n",
       "| 16       | 0.8      | 27.50000 | \n",
       "| 13       | 0.9      | 28.00000 | \n",
       "| 20       | 0.6      | 28.75000 | \n",
       "| 10       | 0.9      | 29.00000 | \n",
       "| 12       | 0.9      | 29.00000 | \n",
       "| 14       | 0.9      | 29.00000 | \n",
       "| 20       | 0.7      | 29.33333 | \n",
       "|  6       | 0.8      | 29.50000 | \n",
       "| 12       | 0.7      | 29.66667 | \n",
       "|  8       | 0.6      | 29.75000 | \n",
       "| 16       | 0.5      | 29.80000 | \n",
       "| 18       | 0.5      | 30.00000 | \n",
       "| 10       | 0.6      | 30.00000 | \n",
       "| 12       | 0.6      | 30.00000 | \n",
       "| 13       | 0.6      | 30.00000 | \n",
       "| 18       | 0.6      | 30.00000 | \n",
       "| 13       | 0.7      | 30.00000 | \n",
       "| 14       | 0.7      | 30.00000 | \n",
       "| 15       | 0.7      | 30.00000 | \n",
       "| 17       | 0.7      | 30.00000 | \n",
       "| 18       | 0.7      | 30.00000 | \n",
       "| 15       | 0.8      | 30.00000 | \n",
       "| 18       | 0.8      | 30.00000 | \n",
       "|  9       | 0.9      | 30.00000 | \n",
       "| 11       | 0.9      | 30.00000 | \n",
       "| 15       | 0.9      | 30.00000 | \n",
       "| 14       | 0.5      | 30.20000 | \n",
       "|  4       | 0.6      | 30.25000 | \n",
       "| 14       | 0.6      | 30.25000 | \n",
       "| ⋮ | ⋮ | ⋮ | \n",
       "|  8       | 0.7      | 31.66667 | \n",
       "| 15       | 0.6      | 32.00000 | \n",
       "|  9       | 0.7      | 32.00000 | \n",
       "| 20       | 0.9      | 32.00000 | \n",
       "| 11       | 0.5      | 32.40000 | \n",
       "|  5       | 0.8      | 32.50000 | \n",
       "| 12       | 0.8      | 32.50000 | \n",
       "|  7       | 0.7      | 32.66667 | \n",
       "|  4       | 0.7      | 33.00000 | \n",
       "|  9       | 0.8      | 33.00000 | \n",
       "|  6       | 0.9      | 33.00000 | \n",
       "|  7       | 0.9      | 33.00000 | \n",
       "| 17       | 0.9      | 33.00000 | \n",
       "| 19       | 0.9      | 33.00000 | \n",
       "|  6       | 0.5      | 33.40000 | \n",
       "|  9       | 0.5      | 33.40000 | \n",
       "|  5       | 0.7      | 34.00000 | \n",
       "|  4       | 0.9      | 34.00000 | \n",
       "|  3       | 0.6      | 34.50000 | \n",
       "|  3       | 0.7      | 34.66667 | \n",
       "|  4       | 0.5      | 34.80000 | \n",
       "|  7       | 0.5      | 35.00000 | \n",
       "|  5       | 0.9      | 35.00000 | \n",
       "|  7       | 0.8      | 35.50000 | \n",
       "| 11       | 0.8      | 35.50000 | \n",
       "| 13       | 0.8      | 35.50000 | \n",
       "|  3       | 0.8      | 36.00000 | \n",
       "|  3       | 0.5      | 38.20000 | \n",
       "|  5       | 0.5      | 39.00000 | \n",
       "|  3       | 0.9      | 44.00000 | \n",
       "\n",
       "\n"
      ],
      "text/plain": [
       "   kVal samplingRateVal misClassificationRateVal\n",
       "1  14   0.8             27.50000                \n",
       "2  16   0.8             27.50000                \n",
       "3  13   0.9             28.00000                \n",
       "4  20   0.6             28.75000                \n",
       "5  10   0.9             29.00000                \n",
       "6  12   0.9             29.00000                \n",
       "7  14   0.9             29.00000                \n",
       "8  20   0.7             29.33333                \n",
       "9   6   0.8             29.50000                \n",
       "10 12   0.7             29.66667                \n",
       "11  8   0.6             29.75000                \n",
       "12 16   0.5             29.80000                \n",
       "13 18   0.5             30.00000                \n",
       "14 10   0.6             30.00000                \n",
       "15 12   0.6             30.00000                \n",
       "16 13   0.6             30.00000                \n",
       "17 18   0.6             30.00000                \n",
       "18 13   0.7             30.00000                \n",
       "19 14   0.7             30.00000                \n",
       "20 15   0.7             30.00000                \n",
       "21 17   0.7             30.00000                \n",
       "22 18   0.7             30.00000                \n",
       "23 15   0.8             30.00000                \n",
       "24 18   0.8             30.00000                \n",
       "25  9   0.9             30.00000                \n",
       "26 11   0.9             30.00000                \n",
       "27 15   0.9             30.00000                \n",
       "28 14   0.5             30.20000                \n",
       "29  4   0.6             30.25000                \n",
       "30 14   0.6             30.25000                \n",
       "⋮  ⋮    ⋮               ⋮                       \n",
       "61  8   0.7             31.66667                \n",
       "62 15   0.6             32.00000                \n",
       "63  9   0.7             32.00000                \n",
       "64 20   0.9             32.00000                \n",
       "65 11   0.5             32.40000                \n",
       "66  5   0.8             32.50000                \n",
       "67 12   0.8             32.50000                \n",
       "68  7   0.7             32.66667                \n",
       "69  4   0.7             33.00000                \n",
       "70  9   0.8             33.00000                \n",
       "71  6   0.9             33.00000                \n",
       "72  7   0.9             33.00000                \n",
       "73 17   0.9             33.00000                \n",
       "74 19   0.9             33.00000                \n",
       "75  6   0.5             33.40000                \n",
       "76  9   0.5             33.40000                \n",
       "77  5   0.7             34.00000                \n",
       "78  4   0.9             34.00000                \n",
       "79  3   0.6             34.50000                \n",
       "80  3   0.7             34.66667                \n",
       "81  4   0.5             34.80000                \n",
       "82  7   0.5             35.00000                \n",
       "83  5   0.9             35.00000                \n",
       "84  7   0.8             35.50000                \n",
       "85 11   0.8             35.50000                \n",
       "86 13   0.8             35.50000                \n",
       "87  3   0.8             36.00000                \n",
       "88  3   0.5             38.20000                \n",
       "89  5   0.5             39.00000                \n",
       "90  3   0.9             44.00000                "
      ]
     },
     "metadata": {},
     "output_type": "display_data"
    }
   ],
   "source": [
    "minObservations"
   ]
  },
  {
   "cell_type": "markdown",
   "metadata": {},
   "source": [
    "# Conclusion \n",
    "As we can see from the above data that that the lowest mis-classification rate is obtained when the sampling rate is 0.8 and k value is 14 and 16"
   ]
  },
  {
   "cell_type": "markdown",
   "metadata": {},
   "source": [
    "# Normalization "
   ]
  },
  {
   "cell_type": "markdown",
   "metadata": {},
   "source": [
    "Here we will do a normalization based on the min max normalization. As we can see from the above data that the data values in Credit amount and Job varies a lot . So maybe by normalization we can obtain a better fit to the model"
   ]
  },
  {
   "cell_type": "markdown",
   "metadata": {},
   "source": [
    "Define a Min Max normalization function"
   ]
  },
  {
   "cell_type": "code",
   "execution_count": 16,
   "metadata": {
    "collapsed": true
   },
   "outputs": [],
   "source": [
    "minMaxNormalization <- function(x) {\n",
    "    return ((x - min(x)) / (max(x) - min(x)))\n",
    "  }"
   ]
  },
  {
   "cell_type": "markdown",
   "metadata": {},
   "source": [
    "Normalize the data except the Credit Risk data since those are our labels"
   ]
  },
  {
   "cell_type": "code",
   "execution_count": 17,
   "metadata": {
    "collapsed": false
   },
   "outputs": [],
   "source": [
    "normCreditData = as.data.frame(lapply(creditData[,1:4], minMaxNormalization))\n",
    "normCreditData$Credit.Risks = creditData$Credit.Risks"
   ]
  },
  {
   "cell_type": "markdown",
   "metadata": {},
   "source": [
    "Show the data after normalization"
   ]
  },
  {
   "cell_type": "code",
   "execution_count": 18,
   "metadata": {
    "collapsed": false
   },
   "outputs": [
    {
     "data": {
      "text/html": [
       "<table>\n",
       "<thead><tr><th scope=col>Age</th><th scope=col>Job</th><th scope=col>Credit.amount</th><th scope=col>Duration</th><th scope=col>Credit.Risks</th></tr></thead>\n",
       "<tbody>\n",
       "\t<tr><td>0.85714286</td><td>0.6666667 </td><td>0.05056674</td><td>0.02941176</td><td>1         </td></tr>\n",
       "\t<tr><td>0.05357143</td><td>0.6666667 </td><td>0.31368989</td><td>0.64705882</td><td>2         </td></tr>\n",
       "\t<tr><td>0.53571429</td><td>0.3333333 </td><td>0.10157368</td><td>0.11764706</td><td>1         </td></tr>\n",
       "\t<tr><td>0.46428571</td><td>0.6666667 </td><td>0.41994057</td><td>0.55882353</td><td>1         </td></tr>\n",
       "\t<tr><td>0.60714286</td><td>0.6666667 </td><td>0.25420931</td><td>0.29411765</td><td>2         </td></tr>\n",
       "\t<tr><td>0.28571429</td><td>0.3333333 </td><td>0.48448333</td><td>0.47058824</td><td>1         </td></tr>\n",
       "</tbody>\n",
       "</table>\n"
      ],
      "text/latex": [
       "\\begin{tabular}{r|lllll}\n",
       " Age & Job & Credit.amount & Duration & Credit.Risks\\\\\n",
       "\\hline\n",
       "\t 0.85714286 & 0.6666667  & 0.05056674 & 0.02941176 & 1         \\\\\n",
       "\t 0.05357143 & 0.6666667  & 0.31368989 & 0.64705882 & 2         \\\\\n",
       "\t 0.53571429 & 0.3333333  & 0.10157368 & 0.11764706 & 1         \\\\\n",
       "\t 0.46428571 & 0.6666667  & 0.41994057 & 0.55882353 & 1         \\\\\n",
       "\t 0.60714286 & 0.6666667  & 0.25420931 & 0.29411765 & 2         \\\\\n",
       "\t 0.28571429 & 0.3333333  & 0.48448333 & 0.47058824 & 1         \\\\\n",
       "\\end{tabular}\n"
      ],
      "text/markdown": [
       "\n",
       "Age | Job | Credit.amount | Duration | Credit.Risks | \n",
       "|---|---|---|---|---|---|\n",
       "| 0.85714286 | 0.6666667  | 0.05056674 | 0.02941176 | 1          | \n",
       "| 0.05357143 | 0.6666667  | 0.31368989 | 0.64705882 | 2          | \n",
       "| 0.53571429 | 0.3333333  | 0.10157368 | 0.11764706 | 1          | \n",
       "| 0.46428571 | 0.6666667  | 0.41994057 | 0.55882353 | 1          | \n",
       "| 0.60714286 | 0.6666667  | 0.25420931 | 0.29411765 | 2          | \n",
       "| 0.28571429 | 0.3333333  | 0.48448333 | 0.47058824 | 1          | \n",
       "\n",
       "\n"
      ],
      "text/plain": [
       "  Age        Job       Credit.amount Duration   Credit.Risks\n",
       "1 0.85714286 0.6666667 0.05056674    0.02941176 1           \n",
       "2 0.05357143 0.6666667 0.31368989    0.64705882 2           \n",
       "3 0.53571429 0.3333333 0.10157368    0.11764706 1           \n",
       "4 0.46428571 0.6666667 0.41994057    0.55882353 1           \n",
       "5 0.60714286 0.6666667 0.25420931    0.29411765 2           \n",
       "6 0.28571429 0.3333333 0.48448333    0.47058824 1           "
      ]
     },
     "metadata": {},
     "output_type": "display_data"
    }
   ],
   "source": [
    "head(normCreditData)"
   ]
  },
  {
   "cell_type": "markdown",
   "metadata": {},
   "source": [
    "Set the seed value"
   ]
  },
  {
   "cell_type": "code",
   "execution_count": 19,
   "metadata": {
    "collapsed": true
   },
   "outputs": [],
   "source": [
    "set.seed(2137)"
   ]
  },
  {
   "cell_type": "markdown",
   "metadata": {},
   "source": [
    "This is the main function which will tell us the various predicted values generated by applying the KNN algorithm depending upon k value and sampling rate "
   ]
  },
  {
   "cell_type": "code",
   "execution_count": 20,
   "metadata": {
    "collapsed": true
   },
   "outputs": [],
   "source": [
    "observationsNorm = data.frame(kVal = double(),samplingRateVal = double(),misClassificationRateVal = double())\n",
    "\n",
    "for(samplingRate in seq(0.5, 0.9, by = 0.1)){\n",
    "    tempResultNorm = modifiedKNN(normCreditData,samplingRate)\n",
    "    observationsNorm = rbind(observationsNorm,tempResultNorm)\n",
    "}"
   ]
  },
  {
   "cell_type": "markdown",
   "metadata": {},
   "source": [
    "Show the data obtained from the above run"
   ]
  },
  {
   "cell_type": "code",
   "execution_count": 21,
   "metadata": {
    "collapsed": false
   },
   "outputs": [
    {
     "data": {
      "text/html": [
       "<table>\n",
       "<thead><tr><th scope=col>kVal</th><th scope=col>samplingRateVal</th><th scope=col>misClassificationRateVal</th></tr></thead>\n",
       "<tbody>\n",
       "\t<tr><td> 3   </td><td>0.5  </td><td>33.60</td></tr>\n",
       "\t<tr><td> 4   </td><td>0.5  </td><td>30.80</td></tr>\n",
       "\t<tr><td> 5   </td><td>0.5  </td><td>32.20</td></tr>\n",
       "\t<tr><td> 6   </td><td>0.5  </td><td>30.80</td></tr>\n",
       "\t<tr><td> 7   </td><td>0.5  </td><td>31.80</td></tr>\n",
       "\t<tr><td> 8   </td><td>0.5  </td><td>30.20</td></tr>\n",
       "\t<tr><td> 9   </td><td>0.5  </td><td>31.40</td></tr>\n",
       "\t<tr><td>10   </td><td>0.5  </td><td>30.80</td></tr>\n",
       "\t<tr><td>11   </td><td>0.5  </td><td>30.20</td></tr>\n",
       "\t<tr><td>12   </td><td>0.5  </td><td>30.60</td></tr>\n",
       "\t<tr><td>13   </td><td>0.5  </td><td>30.60</td></tr>\n",
       "\t<tr><td>14   </td><td>0.5  </td><td>30.20</td></tr>\n",
       "\t<tr><td>15   </td><td>0.5  </td><td>31.20</td></tr>\n",
       "\t<tr><td>16   </td><td>0.5  </td><td>30.80</td></tr>\n",
       "\t<tr><td>17   </td><td>0.5  </td><td>32.20</td></tr>\n",
       "\t<tr><td>18   </td><td>0.5  </td><td>31.40</td></tr>\n",
       "\t<tr><td>19   </td><td>0.5  </td><td>30.40</td></tr>\n",
       "\t<tr><td>20   </td><td>0.5  </td><td>30.60</td></tr>\n",
       "\t<tr><td> 3   </td><td>0.6  </td><td>31.75</td></tr>\n",
       "\t<tr><td> 4   </td><td>0.6  </td><td>29.25</td></tr>\n",
       "\t<tr><td> 5   </td><td>0.6  </td><td>32.00</td></tr>\n",
       "\t<tr><td> 6   </td><td>0.6  </td><td>27.75</td></tr>\n",
       "\t<tr><td> 7   </td><td>0.6  </td><td>28.75</td></tr>\n",
       "\t<tr><td> 8   </td><td>0.6  </td><td>29.25</td></tr>\n",
       "\t<tr><td> 9   </td><td>0.6  </td><td>30.50</td></tr>\n",
       "\t<tr><td>10   </td><td>0.6  </td><td>27.75</td></tr>\n",
       "\t<tr><td>11   </td><td>0.6  </td><td>28.75</td></tr>\n",
       "\t<tr><td>12   </td><td>0.6  </td><td>28.75</td></tr>\n",
       "\t<tr><td>13   </td><td>0.6  </td><td>29.25</td></tr>\n",
       "\t<tr><td>14   </td><td>0.6  </td><td>27.75</td></tr>\n",
       "\t<tr><td>⋮</td><td>⋮</td><td>⋮</td></tr>\n",
       "\t<tr><td> 9  </td><td>0.8 </td><td>29.5</td></tr>\n",
       "\t<tr><td>10  </td><td>0.8 </td><td>29.5</td></tr>\n",
       "\t<tr><td>11  </td><td>0.8 </td><td>31.0</td></tr>\n",
       "\t<tr><td>12  </td><td>0.8 </td><td>32.0</td></tr>\n",
       "\t<tr><td>13  </td><td>0.8 </td><td>31.5</td></tr>\n",
       "\t<tr><td>14  </td><td>0.8 </td><td>32.0</td></tr>\n",
       "\t<tr><td>15  </td><td>0.8 </td><td>29.5</td></tr>\n",
       "\t<tr><td>16  </td><td>0.8 </td><td>29.5</td></tr>\n",
       "\t<tr><td>17  </td><td>0.8 </td><td>30.0</td></tr>\n",
       "\t<tr><td>18  </td><td>0.8 </td><td>30.5</td></tr>\n",
       "\t<tr><td>19  </td><td>0.8 </td><td>30.5</td></tr>\n",
       "\t<tr><td>20  </td><td>0.8 </td><td>31.5</td></tr>\n",
       "\t<tr><td> 3  </td><td>0.9 </td><td>43.0</td></tr>\n",
       "\t<tr><td> 4  </td><td>0.9 </td><td>33.0</td></tr>\n",
       "\t<tr><td> 5  </td><td>0.9 </td><td>40.0</td></tr>\n",
       "\t<tr><td> 6  </td><td>0.9 </td><td>31.0</td></tr>\n",
       "\t<tr><td> 7  </td><td>0.9 </td><td>35.0</td></tr>\n",
       "\t<tr><td> 8  </td><td>0.9 </td><td>34.0</td></tr>\n",
       "\t<tr><td> 9  </td><td>0.9 </td><td>31.0</td></tr>\n",
       "\t<tr><td>10  </td><td>0.9 </td><td>34.0</td></tr>\n",
       "\t<tr><td>11  </td><td>0.9 </td><td>35.0</td></tr>\n",
       "\t<tr><td>12  </td><td>0.9 </td><td>32.0</td></tr>\n",
       "\t<tr><td>13  </td><td>0.9 </td><td>32.0</td></tr>\n",
       "\t<tr><td>14  </td><td>0.9 </td><td>33.0</td></tr>\n",
       "\t<tr><td>15  </td><td>0.9 </td><td>34.0</td></tr>\n",
       "\t<tr><td>16  </td><td>0.9 </td><td>31.0</td></tr>\n",
       "\t<tr><td>17  </td><td>0.9 </td><td>30.0</td></tr>\n",
       "\t<tr><td>18  </td><td>0.9 </td><td>28.0</td></tr>\n",
       "\t<tr><td>19  </td><td>0.9 </td><td>26.0</td></tr>\n",
       "\t<tr><td>20  </td><td>0.9 </td><td>30.0</td></tr>\n",
       "</tbody>\n",
       "</table>\n"
      ],
      "text/latex": [
       "\\begin{tabular}{r|lll}\n",
       " kVal & samplingRateVal & misClassificationRateVal\\\\\n",
       "\\hline\n",
       "\t  3    & 0.5   & 33.60\\\\\n",
       "\t  4    & 0.5   & 30.80\\\\\n",
       "\t  5    & 0.5   & 32.20\\\\\n",
       "\t  6    & 0.5   & 30.80\\\\\n",
       "\t  7    & 0.5   & 31.80\\\\\n",
       "\t  8    & 0.5   & 30.20\\\\\n",
       "\t  9    & 0.5   & 31.40\\\\\n",
       "\t 10    & 0.5   & 30.80\\\\\n",
       "\t 11    & 0.5   & 30.20\\\\\n",
       "\t 12    & 0.5   & 30.60\\\\\n",
       "\t 13    & 0.5   & 30.60\\\\\n",
       "\t 14    & 0.5   & 30.20\\\\\n",
       "\t 15    & 0.5   & 31.20\\\\\n",
       "\t 16    & 0.5   & 30.80\\\\\n",
       "\t 17    & 0.5   & 32.20\\\\\n",
       "\t 18    & 0.5   & 31.40\\\\\n",
       "\t 19    & 0.5   & 30.40\\\\\n",
       "\t 20    & 0.5   & 30.60\\\\\n",
       "\t  3    & 0.6   & 31.75\\\\\n",
       "\t  4    & 0.6   & 29.25\\\\\n",
       "\t  5    & 0.6   & 32.00\\\\\n",
       "\t  6    & 0.6   & 27.75\\\\\n",
       "\t  7    & 0.6   & 28.75\\\\\n",
       "\t  8    & 0.6   & 29.25\\\\\n",
       "\t  9    & 0.6   & 30.50\\\\\n",
       "\t 10    & 0.6   & 27.75\\\\\n",
       "\t 11    & 0.6   & 28.75\\\\\n",
       "\t 12    & 0.6   & 28.75\\\\\n",
       "\t 13    & 0.6   & 29.25\\\\\n",
       "\t 14    & 0.6   & 27.75\\\\\n",
       "\t ⋮ & ⋮ & ⋮\\\\\n",
       "\t  9   & 0.8  & 29.5\\\\\n",
       "\t 10   & 0.8  & 29.5\\\\\n",
       "\t 11   & 0.8  & 31.0\\\\\n",
       "\t 12   & 0.8  & 32.0\\\\\n",
       "\t 13   & 0.8  & 31.5\\\\\n",
       "\t 14   & 0.8  & 32.0\\\\\n",
       "\t 15   & 0.8  & 29.5\\\\\n",
       "\t 16   & 0.8  & 29.5\\\\\n",
       "\t 17   & 0.8  & 30.0\\\\\n",
       "\t 18   & 0.8  & 30.5\\\\\n",
       "\t 19   & 0.8  & 30.5\\\\\n",
       "\t 20   & 0.8  & 31.5\\\\\n",
       "\t  3   & 0.9  & 43.0\\\\\n",
       "\t  4   & 0.9  & 33.0\\\\\n",
       "\t  5   & 0.9  & 40.0\\\\\n",
       "\t  6   & 0.9  & 31.0\\\\\n",
       "\t  7   & 0.9  & 35.0\\\\\n",
       "\t  8   & 0.9  & 34.0\\\\\n",
       "\t  9   & 0.9  & 31.0\\\\\n",
       "\t 10   & 0.9  & 34.0\\\\\n",
       "\t 11   & 0.9  & 35.0\\\\\n",
       "\t 12   & 0.9  & 32.0\\\\\n",
       "\t 13   & 0.9  & 32.0\\\\\n",
       "\t 14   & 0.9  & 33.0\\\\\n",
       "\t 15   & 0.9  & 34.0\\\\\n",
       "\t 16   & 0.9  & 31.0\\\\\n",
       "\t 17   & 0.9  & 30.0\\\\\n",
       "\t 18   & 0.9  & 28.0\\\\\n",
       "\t 19   & 0.9  & 26.0\\\\\n",
       "\t 20   & 0.9  & 30.0\\\\\n",
       "\\end{tabular}\n"
      ],
      "text/markdown": [
       "\n",
       "kVal | samplingRateVal | misClassificationRateVal | \n",
       "|---|---|---|---|---|---|---|---|---|---|---|---|---|---|---|---|---|---|---|---|---|---|---|---|---|---|---|---|---|---|---|---|---|---|---|---|---|---|---|---|---|---|---|---|---|---|---|---|---|---|---|---|---|---|---|---|---|---|---|---|---|\n",
       "|  3    | 0.5   | 33.60 | \n",
       "|  4    | 0.5   | 30.80 | \n",
       "|  5    | 0.5   | 32.20 | \n",
       "|  6    | 0.5   | 30.80 | \n",
       "|  7    | 0.5   | 31.80 | \n",
       "|  8    | 0.5   | 30.20 | \n",
       "|  9    | 0.5   | 31.40 | \n",
       "| 10    | 0.5   | 30.80 | \n",
       "| 11    | 0.5   | 30.20 | \n",
       "| 12    | 0.5   | 30.60 | \n",
       "| 13    | 0.5   | 30.60 | \n",
       "| 14    | 0.5   | 30.20 | \n",
       "| 15    | 0.5   | 31.20 | \n",
       "| 16    | 0.5   | 30.80 | \n",
       "| 17    | 0.5   | 32.20 | \n",
       "| 18    | 0.5   | 31.40 | \n",
       "| 19    | 0.5   | 30.40 | \n",
       "| 20    | 0.5   | 30.60 | \n",
       "|  3    | 0.6   | 31.75 | \n",
       "|  4    | 0.6   | 29.25 | \n",
       "|  5    | 0.6   | 32.00 | \n",
       "|  6    | 0.6   | 27.75 | \n",
       "|  7    | 0.6   | 28.75 | \n",
       "|  8    | 0.6   | 29.25 | \n",
       "|  9    | 0.6   | 30.50 | \n",
       "| 10    | 0.6   | 27.75 | \n",
       "| 11    | 0.6   | 28.75 | \n",
       "| 12    | 0.6   | 28.75 | \n",
       "| 13    | 0.6   | 29.25 | \n",
       "| 14    | 0.6   | 27.75 | \n",
       "| ⋮ | ⋮ | ⋮ | \n",
       "|  9   | 0.8  | 29.5 | \n",
       "| 10   | 0.8  | 29.5 | \n",
       "| 11   | 0.8  | 31.0 | \n",
       "| 12   | 0.8  | 32.0 | \n",
       "| 13   | 0.8  | 31.5 | \n",
       "| 14   | 0.8  | 32.0 | \n",
       "| 15   | 0.8  | 29.5 | \n",
       "| 16   | 0.8  | 29.5 | \n",
       "| 17   | 0.8  | 30.0 | \n",
       "| 18   | 0.8  | 30.5 | \n",
       "| 19   | 0.8  | 30.5 | \n",
       "| 20   | 0.8  | 31.5 | \n",
       "|  3   | 0.9  | 43.0 | \n",
       "|  4   | 0.9  | 33.0 | \n",
       "|  5   | 0.9  | 40.0 | \n",
       "|  6   | 0.9  | 31.0 | \n",
       "|  7   | 0.9  | 35.0 | \n",
       "|  8   | 0.9  | 34.0 | \n",
       "|  9   | 0.9  | 31.0 | \n",
       "| 10   | 0.9  | 34.0 | \n",
       "| 11   | 0.9  | 35.0 | \n",
       "| 12   | 0.9  | 32.0 | \n",
       "| 13   | 0.9  | 32.0 | \n",
       "| 14   | 0.9  | 33.0 | \n",
       "| 15   | 0.9  | 34.0 | \n",
       "| 16   | 0.9  | 31.0 | \n",
       "| 17   | 0.9  | 30.0 | \n",
       "| 18   | 0.9  | 28.0 | \n",
       "| 19   | 0.9  | 26.0 | \n",
       "| 20   | 0.9  | 30.0 | \n",
       "\n",
       "\n"
      ],
      "text/plain": [
       "   kVal samplingRateVal misClassificationRateVal\n",
       "1   3   0.5             33.60                   \n",
       "2   4   0.5             30.80                   \n",
       "3   5   0.5             32.20                   \n",
       "4   6   0.5             30.80                   \n",
       "5   7   0.5             31.80                   \n",
       "6   8   0.5             30.20                   \n",
       "7   9   0.5             31.40                   \n",
       "8  10   0.5             30.80                   \n",
       "9  11   0.5             30.20                   \n",
       "10 12   0.5             30.60                   \n",
       "11 13   0.5             30.60                   \n",
       "12 14   0.5             30.20                   \n",
       "13 15   0.5             31.20                   \n",
       "14 16   0.5             30.80                   \n",
       "15 17   0.5             32.20                   \n",
       "16 18   0.5             31.40                   \n",
       "17 19   0.5             30.40                   \n",
       "18 20   0.5             30.60                   \n",
       "19  3   0.6             31.75                   \n",
       "20  4   0.6             29.25                   \n",
       "21  5   0.6             32.00                   \n",
       "22  6   0.6             27.75                   \n",
       "23  7   0.6             28.75                   \n",
       "24  8   0.6             29.25                   \n",
       "25  9   0.6             30.50                   \n",
       "26 10   0.6             27.75                   \n",
       "27 11   0.6             28.75                   \n",
       "28 12   0.6             28.75                   \n",
       "29 13   0.6             29.25                   \n",
       "30 14   0.6             27.75                   \n",
       "⋮  ⋮    ⋮               ⋮                       \n",
       "61  9   0.8             29.5                    \n",
       "62 10   0.8             29.5                    \n",
       "63 11   0.8             31.0                    \n",
       "64 12   0.8             32.0                    \n",
       "65 13   0.8             31.5                    \n",
       "66 14   0.8             32.0                    \n",
       "67 15   0.8             29.5                    \n",
       "68 16   0.8             29.5                    \n",
       "69 17   0.8             30.0                    \n",
       "70 18   0.8             30.5                    \n",
       "71 19   0.8             30.5                    \n",
       "72 20   0.8             31.5                    \n",
       "73  3   0.9             43.0                    \n",
       "74  4   0.9             33.0                    \n",
       "75  5   0.9             40.0                    \n",
       "76  6   0.9             31.0                    \n",
       "77  7   0.9             35.0                    \n",
       "78  8   0.9             34.0                    \n",
       "79  9   0.9             31.0                    \n",
       "80 10   0.9             34.0                    \n",
       "81 11   0.9             35.0                    \n",
       "82 12   0.9             32.0                    \n",
       "83 13   0.9             32.0                    \n",
       "84 14   0.9             33.0                    \n",
       "85 15   0.9             34.0                    \n",
       "86 16   0.9             31.0                    \n",
       "87 17   0.9             30.0                    \n",
       "88 18   0.9             28.0                    \n",
       "89 19   0.9             26.0                    \n",
       "90 20   0.9             30.0                    "
      ]
     },
     "metadata": {},
     "output_type": "display_data"
    }
   ],
   "source": [
    "observationsNorm"
   ]
  },
  {
   "cell_type": "markdown",
   "metadata": {},
   "source": [
    "Plot the data for various k values and mis- classification rate"
   ]
  },
  {
   "cell_type": "code",
   "execution_count": 22,
   "metadata": {
    "collapsed": false
   },
   "outputs": [
    {
     "data": {
      "image/png": "[encoded data removed]",
      "text/plain": [
       "Plot with title “Plot between K Value and Mis-classification Rate after Normalization(Min-Max)”"
      ]
     },
     "metadata": {},
     "output_type": "display_data"
    }
   ],
   "source": [
    "plot(observationsNorm$kVal,observationsNorm$misClassificationRateVal, pch=19, xlim=c(0,20), ylim=c(0,60),xlab=\"K Value\", ylab=\"Mis-classification Rate\",main=\"Plot between K Value and Mis-classification Rate after Normalization(Min-Max)\")"
   ]
  },
  {
   "cell_type": "markdown",
   "metadata": {},
   "source": [
    "Sort the data in ascending order of mis-classification rate"
   ]
  },
  {
   "cell_type": "code",
   "execution_count": 23,
   "metadata": {
    "collapsed": true
   },
   "outputs": [],
   "source": [
    "minObservationsNorm = observationsNorm %>% \n",
    "    arrange(misClassificationRateVal)"
   ]
  },
  {
   "cell_type": "markdown",
   "metadata": {},
   "source": [
    "Show the data"
   ]
  },
  {
   "cell_type": "code",
   "execution_count": 24,
   "metadata": {
    "collapsed": false
   },
   "outputs": [
    {
     "data": {
      "text/html": [
       "<table>\n",
       "<thead><tr><th scope=col>kVal</th><th scope=col>samplingRateVal</th><th scope=col>misClassificationRateVal</th></tr></thead>\n",
       "<tbody>\n",
       "\t<tr><td>16      </td><td>0.6     </td><td>25.75000</td></tr>\n",
       "\t<tr><td>19      </td><td>0.9     </td><td>26.00000</td></tr>\n",
       "\t<tr><td>17      </td><td>0.6     </td><td>26.50000</td></tr>\n",
       "\t<tr><td>18      </td><td>0.6     </td><td>27.00000</td></tr>\n",
       "\t<tr><td>19      </td><td>0.6     </td><td>27.00000</td></tr>\n",
       "\t<tr><td>20      </td><td>0.6     </td><td>27.25000</td></tr>\n",
       "\t<tr><td>15      </td><td>0.6     </td><td>27.50000</td></tr>\n",
       "\t<tr><td> 6      </td><td>0.6     </td><td>27.75000</td></tr>\n",
       "\t<tr><td>10      </td><td>0.6     </td><td>27.75000</td></tr>\n",
       "\t<tr><td>14      </td><td>0.6     </td><td>27.75000</td></tr>\n",
       "\t<tr><td>18      </td><td>0.9     </td><td>28.00000</td></tr>\n",
       "\t<tr><td> 8      </td><td>0.8     </td><td>28.50000</td></tr>\n",
       "\t<tr><td> 7      </td><td>0.6     </td><td>28.75000</td></tr>\n",
       "\t<tr><td>11      </td><td>0.6     </td><td>28.75000</td></tr>\n",
       "\t<tr><td>12      </td><td>0.6     </td><td>28.75000</td></tr>\n",
       "\t<tr><td> 4      </td><td>0.6     </td><td>29.25000</td></tr>\n",
       "\t<tr><td> 8      </td><td>0.6     </td><td>29.25000</td></tr>\n",
       "\t<tr><td>13      </td><td>0.6     </td><td>29.25000</td></tr>\n",
       "\t<tr><td> 9      </td><td>0.8     </td><td>29.50000</td></tr>\n",
       "\t<tr><td>10      </td><td>0.8     </td><td>29.50000</td></tr>\n",
       "\t<tr><td>15      </td><td>0.8     </td><td>29.50000</td></tr>\n",
       "\t<tr><td>16      </td><td>0.8     </td><td>29.50000</td></tr>\n",
       "\t<tr><td> 6      </td><td>0.7     </td><td>30.00000</td></tr>\n",
       "\t<tr><td>17      </td><td>0.8     </td><td>30.00000</td></tr>\n",
       "\t<tr><td>17      </td><td>0.9     </td><td>30.00000</td></tr>\n",
       "\t<tr><td>20      </td><td>0.9     </td><td>30.00000</td></tr>\n",
       "\t<tr><td> 8      </td><td>0.5     </td><td>30.20000</td></tr>\n",
       "\t<tr><td>11      </td><td>0.5     </td><td>30.20000</td></tr>\n",
       "\t<tr><td>14      </td><td>0.5     </td><td>30.20000</td></tr>\n",
       "\t<tr><td>17      </td><td>0.7     </td><td>30.33333</td></tr>\n",
       "\t<tr><td>⋮</td><td>⋮</td><td>⋮</td></tr>\n",
       "\t<tr><td> 4      </td><td>0.8     </td><td>31.50000</td></tr>\n",
       "\t<tr><td>13      </td><td>0.8     </td><td>31.50000</td></tr>\n",
       "\t<tr><td>20      </td><td>0.8     </td><td>31.50000</td></tr>\n",
       "\t<tr><td> 8      </td><td>0.7     </td><td>31.66667</td></tr>\n",
       "\t<tr><td> 3      </td><td>0.6     </td><td>31.75000</td></tr>\n",
       "\t<tr><td> 7      </td><td>0.5     </td><td>31.80000</td></tr>\n",
       "\t<tr><td> 5      </td><td>0.6     </td><td>32.00000</td></tr>\n",
       "\t<tr><td>15      </td><td>0.7     </td><td>32.00000</td></tr>\n",
       "\t<tr><td>12      </td><td>0.8     </td><td>32.00000</td></tr>\n",
       "\t<tr><td>14      </td><td>0.8     </td><td>32.00000</td></tr>\n",
       "\t<tr><td>12      </td><td>0.9     </td><td>32.00000</td></tr>\n",
       "\t<tr><td>13      </td><td>0.9     </td><td>32.00000</td></tr>\n",
       "\t<tr><td> 5      </td><td>0.5     </td><td>32.20000</td></tr>\n",
       "\t<tr><td>17      </td><td>0.5     </td><td>32.20000</td></tr>\n",
       "\t<tr><td> 5      </td><td>0.7     </td><td>32.33333</td></tr>\n",
       "\t<tr><td>11      </td><td>0.7     </td><td>32.33333</td></tr>\n",
       "\t<tr><td> 7      </td><td>0.8     </td><td>33.00000</td></tr>\n",
       "\t<tr><td> 4      </td><td>0.9     </td><td>33.00000</td></tr>\n",
       "\t<tr><td>14      </td><td>0.9     </td><td>33.00000</td></tr>\n",
       "\t<tr><td> 3      </td><td>0.5     </td><td>33.60000</td></tr>\n",
       "\t<tr><td> 8      </td><td>0.9     </td><td>34.00000</td></tr>\n",
       "\t<tr><td>10      </td><td>0.9     </td><td>34.00000</td></tr>\n",
       "\t<tr><td>15      </td><td>0.9     </td><td>34.00000</td></tr>\n",
       "\t<tr><td> 5      </td><td>0.8     </td><td>35.00000</td></tr>\n",
       "\t<tr><td> 7      </td><td>0.9     </td><td>35.00000</td></tr>\n",
       "\t<tr><td>11      </td><td>0.9     </td><td>35.00000</td></tr>\n",
       "\t<tr><td> 3      </td><td>0.8     </td><td>35.50000</td></tr>\n",
       "\t<tr><td> 3      </td><td>0.7     </td><td>38.00000</td></tr>\n",
       "\t<tr><td> 5      </td><td>0.9     </td><td>40.00000</td></tr>\n",
       "\t<tr><td> 3      </td><td>0.9     </td><td>43.00000</td></tr>\n",
       "</tbody>\n",
       "</table>\n"
      ],
      "text/latex": [
       "\\begin{tabular}{r|lll}\n",
       " kVal & samplingRateVal & misClassificationRateVal\\\\\n",
       "\\hline\n",
       "\t 16       & 0.6      & 25.75000\\\\\n",
       "\t 19       & 0.9      & 26.00000\\\\\n",
       "\t 17       & 0.6      & 26.50000\\\\\n",
       "\t 18       & 0.6      & 27.00000\\\\\n",
       "\t 19       & 0.6      & 27.00000\\\\\n",
       "\t 20       & 0.6      & 27.25000\\\\\n",
       "\t 15       & 0.6      & 27.50000\\\\\n",
       "\t  6       & 0.6      & 27.75000\\\\\n",
       "\t 10       & 0.6      & 27.75000\\\\\n",
       "\t 14       & 0.6      & 27.75000\\\\\n",
       "\t 18       & 0.9      & 28.00000\\\\\n",
       "\t  8       & 0.8      & 28.50000\\\\\n",
       "\t  7       & 0.6      & 28.75000\\\\\n",
       "\t 11       & 0.6      & 28.75000\\\\\n",
       "\t 12       & 0.6      & 28.75000\\\\\n",
       "\t  4       & 0.6      & 29.25000\\\\\n",
       "\t  8       & 0.6      & 29.25000\\\\\n",
       "\t 13       & 0.6      & 29.25000\\\\\n",
       "\t  9       & 0.8      & 29.50000\\\\\n",
       "\t 10       & 0.8      & 29.50000\\\\\n",
       "\t 15       & 0.8      & 29.50000\\\\\n",
       "\t 16       & 0.8      & 29.50000\\\\\n",
       "\t  6       & 0.7      & 30.00000\\\\\n",
       "\t 17       & 0.8      & 30.00000\\\\\n",
       "\t 17       & 0.9      & 30.00000\\\\\n",
       "\t 20       & 0.9      & 30.00000\\\\\n",
       "\t  8       & 0.5      & 30.20000\\\\\n",
       "\t 11       & 0.5      & 30.20000\\\\\n",
       "\t 14       & 0.5      & 30.20000\\\\\n",
       "\t 17       & 0.7      & 30.33333\\\\\n",
       "\t ⋮ & ⋮ & ⋮\\\\\n",
       "\t  4       & 0.8      & 31.50000\\\\\n",
       "\t 13       & 0.8      & 31.50000\\\\\n",
       "\t 20       & 0.8      & 31.50000\\\\\n",
       "\t  8       & 0.7      & 31.66667\\\\\n",
       "\t  3       & 0.6      & 31.75000\\\\\n",
       "\t  7       & 0.5      & 31.80000\\\\\n",
       "\t  5       & 0.6      & 32.00000\\\\\n",
       "\t 15       & 0.7      & 32.00000\\\\\n",
       "\t 12       & 0.8      & 32.00000\\\\\n",
       "\t 14       & 0.8      & 32.00000\\\\\n",
       "\t 12       & 0.9      & 32.00000\\\\\n",
       "\t 13       & 0.9      & 32.00000\\\\\n",
       "\t  5       & 0.5      & 32.20000\\\\\n",
       "\t 17       & 0.5      & 32.20000\\\\\n",
       "\t  5       & 0.7      & 32.33333\\\\\n",
       "\t 11       & 0.7      & 32.33333\\\\\n",
       "\t  7       & 0.8      & 33.00000\\\\\n",
       "\t  4       & 0.9      & 33.00000\\\\\n",
       "\t 14       & 0.9      & 33.00000\\\\\n",
       "\t  3       & 0.5      & 33.60000\\\\\n",
       "\t  8       & 0.9      & 34.00000\\\\\n",
       "\t 10       & 0.9      & 34.00000\\\\\n",
       "\t 15       & 0.9      & 34.00000\\\\\n",
       "\t  5       & 0.8      & 35.00000\\\\\n",
       "\t  7       & 0.9      & 35.00000\\\\\n",
       "\t 11       & 0.9      & 35.00000\\\\\n",
       "\t  3       & 0.8      & 35.50000\\\\\n",
       "\t  3       & 0.7      & 38.00000\\\\\n",
       "\t  5       & 0.9      & 40.00000\\\\\n",
       "\t  3       & 0.9      & 43.00000\\\\\n",
       "\\end{tabular}\n"
      ],
      "text/markdown": [
       "\n",
       "kVal | samplingRateVal | misClassificationRateVal | \n",
       "|---|---|---|---|---|---|---|---|---|---|---|---|---|---|---|---|---|---|---|---|---|---|---|---|---|---|---|---|---|---|---|---|---|---|---|---|---|---|---|---|---|---|---|---|---|---|---|---|---|---|---|---|---|---|---|---|---|---|---|---|---|\n",
       "| 16       | 0.6      | 25.75000 | \n",
       "| 19       | 0.9      | 26.00000 | \n",
       "| 17       | 0.6      | 26.50000 | \n",
       "| 18       | 0.6      | 27.00000 | \n",
       "| 19       | 0.6      | 27.00000 | \n",
       "| 20       | 0.6      | 27.25000 | \n",
       "| 15       | 0.6      | 27.50000 | \n",
       "|  6       | 0.6      | 27.75000 | \n",
       "| 10       | 0.6      | 27.75000 | \n",
       "| 14       | 0.6      | 27.75000 | \n",
       "| 18       | 0.9      | 28.00000 | \n",
       "|  8       | 0.8      | 28.50000 | \n",
       "|  7       | 0.6      | 28.75000 | \n",
       "| 11       | 0.6      | 28.75000 | \n",
       "| 12       | 0.6      | 28.75000 | \n",
       "|  4       | 0.6      | 29.25000 | \n",
       "|  8       | 0.6      | 29.25000 | \n",
       "| 13       | 0.6      | 29.25000 | \n",
       "|  9       | 0.8      | 29.50000 | \n",
       "| 10       | 0.8      | 29.50000 | \n",
       "| 15       | 0.8      | 29.50000 | \n",
       "| 16       | 0.8      | 29.50000 | \n",
       "|  6       | 0.7      | 30.00000 | \n",
       "| 17       | 0.8      | 30.00000 | \n",
       "| 17       | 0.9      | 30.00000 | \n",
       "| 20       | 0.9      | 30.00000 | \n",
       "|  8       | 0.5      | 30.20000 | \n",
       "| 11       | 0.5      | 30.20000 | \n",
       "| 14       | 0.5      | 30.20000 | \n",
       "| 17       | 0.7      | 30.33333 | \n",
       "| ⋮ | ⋮ | ⋮ | \n",
       "|  4       | 0.8      | 31.50000 | \n",
       "| 13       | 0.8      | 31.50000 | \n",
       "| 20       | 0.8      | 31.50000 | \n",
       "|  8       | 0.7      | 31.66667 | \n",
       "|  3       | 0.6      | 31.75000 | \n",
       "|  7       | 0.5      | 31.80000 | \n",
       "|  5       | 0.6      | 32.00000 | \n",
       "| 15       | 0.7      | 32.00000 | \n",
       "| 12       | 0.8      | 32.00000 | \n",
       "| 14       | 0.8      | 32.00000 | \n",
       "| 12       | 0.9      | 32.00000 | \n",
       "| 13       | 0.9      | 32.00000 | \n",
       "|  5       | 0.5      | 32.20000 | \n",
       "| 17       | 0.5      | 32.20000 | \n",
       "|  5       | 0.7      | 32.33333 | \n",
       "| 11       | 0.7      | 32.33333 | \n",
       "|  7       | 0.8      | 33.00000 | \n",
       "|  4       | 0.9      | 33.00000 | \n",
       "| 14       | 0.9      | 33.00000 | \n",
       "|  3       | 0.5      | 33.60000 | \n",
       "|  8       | 0.9      | 34.00000 | \n",
       "| 10       | 0.9      | 34.00000 | \n",
       "| 15       | 0.9      | 34.00000 | \n",
       "|  5       | 0.8      | 35.00000 | \n",
       "|  7       | 0.9      | 35.00000 | \n",
       "| 11       | 0.9      | 35.00000 | \n",
       "|  3       | 0.8      | 35.50000 | \n",
       "|  3       | 0.7      | 38.00000 | \n",
       "|  5       | 0.9      | 40.00000 | \n",
       "|  3       | 0.9      | 43.00000 | \n",
       "\n",
       "\n"
      ],
      "text/plain": [
       "   kVal samplingRateVal misClassificationRateVal\n",
       "1  16   0.6             25.75000                \n",
       "2  19   0.9             26.00000                \n",
       "3  17   0.6             26.50000                \n",
       "4  18   0.6             27.00000                \n",
       "5  19   0.6             27.00000                \n",
       "6  20   0.6             27.25000                \n",
       "7  15   0.6             27.50000                \n",
       "8   6   0.6             27.75000                \n",
       "9  10   0.6             27.75000                \n",
       "10 14   0.6             27.75000                \n",
       "11 18   0.9             28.00000                \n",
       "12  8   0.8             28.50000                \n",
       "13  7   0.6             28.75000                \n",
       "14 11   0.6             28.75000                \n",
       "15 12   0.6             28.75000                \n",
       "16  4   0.6             29.25000                \n",
       "17  8   0.6             29.25000                \n",
       "18 13   0.6             29.25000                \n",
       "19  9   0.8             29.50000                \n",
       "20 10   0.8             29.50000                \n",
       "21 15   0.8             29.50000                \n",
       "22 16   0.8             29.50000                \n",
       "23  6   0.7             30.00000                \n",
       "24 17   0.8             30.00000                \n",
       "25 17   0.9             30.00000                \n",
       "26 20   0.9             30.00000                \n",
       "27  8   0.5             30.20000                \n",
       "28 11   0.5             30.20000                \n",
       "29 14   0.5             30.20000                \n",
       "30 17   0.7             30.33333                \n",
       "⋮  ⋮    ⋮               ⋮                       \n",
       "61  4   0.8             31.50000                \n",
       "62 13   0.8             31.50000                \n",
       "63 20   0.8             31.50000                \n",
       "64  8   0.7             31.66667                \n",
       "65  3   0.6             31.75000                \n",
       "66  7   0.5             31.80000                \n",
       "67  5   0.6             32.00000                \n",
       "68 15   0.7             32.00000                \n",
       "69 12   0.8             32.00000                \n",
       "70 14   0.8             32.00000                \n",
       "71 12   0.9             32.00000                \n",
       "72 13   0.9             32.00000                \n",
       "73  5   0.5             32.20000                \n",
       "74 17   0.5             32.20000                \n",
       "75  5   0.7             32.33333                \n",
       "76 11   0.7             32.33333                \n",
       "77  7   0.8             33.00000                \n",
       "78  4   0.9             33.00000                \n",
       "79 14   0.9             33.00000                \n",
       "80  3   0.5             33.60000                \n",
       "81  8   0.9             34.00000                \n",
       "82 10   0.9             34.00000                \n",
       "83 15   0.9             34.00000                \n",
       "84  5   0.8             35.00000                \n",
       "85  7   0.9             35.00000                \n",
       "86 11   0.9             35.00000                \n",
       "87  3   0.8             35.50000                \n",
       "88  3   0.7             38.00000                \n",
       "89  5   0.9             40.00000                \n",
       "90  3   0.9             43.00000                "
      ]
     },
     "metadata": {},
     "output_type": "display_data"
    }
   ],
   "source": [
    "minObservationsNorm"
   ]
  },
  {
   "cell_type": "markdown",
   "metadata": {},
   "source": [
    "# Conclusion \n",
    "After normalization the mis-classification rate is reduced. So our hypothesis of normalizing the data was good.\n",
    "As we can see from the above data that that the lowest mis-classification rate is obtained when the sampling rate is 0.6 and k value is 16."
   ]
  },
  {
   "cell_type": "markdown",
   "metadata": {
    "collapsed": true
   },
   "source": [
    "# References"
   ]
  },
  {
   "cell_type": "markdown",
   "metadata": {},
   "source": [
    "1. http://www.learnbymarketing.com/tutorials/k-nearest-neighbors-in-r-example/\n",
    "2. https://rstudio-pubs-static.s3.amazonaws.com/123438_3b9052ed40ec4cd2854b72d1aa154df9.html\n",
    "3. Class Notes"
   ]
  },
  {
   "cell_type": "code",
   "execution_count": null,
   "metadata": {
    "collapsed": true
   },
   "outputs": [],
   "source": []
  }
 ],
 "metadata": {
  "kernelspec": {
   "display_name": "R",
   "language": "R",
   "name": "ir"
  },
  "language_info": {
   "codemirror_mode": "r",
   "file_extension": ".r",
   "mimetype": "text/x-r-source",
   "name": "R",
   "pygments_lexer": "r",
   "version": "3.3.2"
  }
 },
 "nbformat": 4,
 "nbformat_minor": 2
}
