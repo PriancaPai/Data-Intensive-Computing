{
 "cells": [
  {
   "cell_type": "markdown",
   "metadata": {},
   "source": [
    "# DIC LAB 3 Problem 0.1 : Learning k-Means Clustering"
   ]
  },
  {
   "cell_type": "markdown",
   "metadata": {},
   "source": [
    "Read the data"
   ]
  },
  {
   "cell_type": "code",
   "execution_count": 1,
   "metadata": {
    "collapsed": true
   },
   "outputs": [],
   "source": [
    "data <-read.csv(\"dataSets/Wholesale customers data.csv\",header=T)"
   ]
  },
  {
   "cell_type": "markdown",
   "metadata": {},
   "source": [
    "Display the data "
   ]
  },
  {
   "cell_type": "code",
   "execution_count": 3,
   "metadata": {
    "collapsed": false
   },
   "outputs": [
    {
     "data": {
      "text/html": [
       "440"
      ],
      "text/latex": [
       "440"
      ],
      "text/markdown": [
       "440"
      ],
      "text/plain": [
       "[1] 440"
      ]
     },
     "metadata": {},
     "output_type": "display_data"
    },
    {
     "data": {
      "text/html": [
       "<table>\n",
       "<thead><tr><th scope=col>Channel</th><th scope=col>Region</th><th scope=col>Fresh</th><th scope=col>Milk</th><th scope=col>Grocery</th><th scope=col>Frozen</th><th scope=col>Detergents_Paper</th><th scope=col>Delicassen</th></tr></thead>\n",
       "<tbody>\n",
       "\t<tr><td>2    </td><td>3    </td><td>12669</td><td>9656 </td><td>7561 </td><td> 214 </td><td>2674 </td><td>1338 </td></tr>\n",
       "\t<tr><td>2    </td><td>3    </td><td> 7057</td><td>9810 </td><td>9568 </td><td>1762 </td><td>3293 </td><td>1776 </td></tr>\n",
       "\t<tr><td>2    </td><td>3    </td><td> 6353</td><td>8808 </td><td>7684 </td><td>2405 </td><td>3516 </td><td>7844 </td></tr>\n",
       "\t<tr><td>1    </td><td>3    </td><td>13265</td><td>1196 </td><td>4221 </td><td>6404 </td><td> 507 </td><td>1788 </td></tr>\n",
       "\t<tr><td>2    </td><td>3    </td><td>22615</td><td>5410 </td><td>7198 </td><td>3915 </td><td>1777 </td><td>5185 </td></tr>\n",
       "\t<tr><td>2    </td><td>3    </td><td> 9413</td><td>8259 </td><td>5126 </td><td> 666 </td><td>1795 </td><td>1451 </td></tr>\n",
       "</tbody>\n",
       "</table>\n"
      ],
      "text/latex": [
       "\\begin{tabular}{r|llllllll}\n",
       " Channel & Region & Fresh & Milk & Grocery & Frozen & Detergents\\_Paper & Delicassen\\\\\n",
       "\\hline\n",
       "\t 2     & 3     & 12669 & 9656  & 7561  &  214  & 2674  & 1338 \\\\\n",
       "\t 2     & 3     &  7057 & 9810  & 9568  & 1762  & 3293  & 1776 \\\\\n",
       "\t 2     & 3     &  6353 & 8808  & 7684  & 2405  & 3516  & 7844 \\\\\n",
       "\t 1     & 3     & 13265 & 1196  & 4221  & 6404  &  507  & 1788 \\\\\n",
       "\t 2     & 3     & 22615 & 5410  & 7198  & 3915  & 1777  & 5185 \\\\\n",
       "\t 2     & 3     &  9413 & 8259  & 5126  &  666  & 1795  & 1451 \\\\\n",
       "\\end{tabular}\n"
      ],
      "text/markdown": [
       "\n",
       "Channel | Region | Fresh | Milk | Grocery | Frozen | Detergents_Paper | Delicassen | \n",
       "|---|---|---|---|---|---|\n",
       "| 2     | 3     | 12669 | 9656  | 7561  |  214  | 2674  | 1338  | \n",
       "| 2     | 3     |  7057 | 9810  | 9568  | 1762  | 3293  | 1776  | \n",
       "| 2     | 3     |  6353 | 8808  | 7684  | 2405  | 3516  | 7844  | \n",
       "| 1     | 3     | 13265 | 1196  | 4221  | 6404  |  507  | 1788  | \n",
       "| 2     | 3     | 22615 | 5410  | 7198  | 3915  | 1777  | 5185  | \n",
       "| 2     | 3     |  9413 | 8259  | 5126  |  666  | 1795  | 1451  | \n",
       "\n",
       "\n"
      ],
      "text/plain": [
       "  Channel Region Fresh Milk Grocery Frozen Detergents_Paper Delicassen\n",
       "1 2       3      12669 9656 7561     214   2674             1338      \n",
       "2 2       3       7057 9810 9568    1762   3293             1776      \n",
       "3 2       3       6353 8808 7684    2405   3516             7844      \n",
       "4 1       3      13265 1196 4221    6404    507             1788      \n",
       "5 2       3      22615 5410 7198    3915   1777             5185      \n",
       "6 2       3       9413 8259 5126     666   1795             1451      "
      ]
     },
     "metadata": {},
     "output_type": "display_data"
    }
   ],
   "source": [
    "nrow(data)\n",
    "head(data)"
   ]
  },
  {
   "cell_type": "markdown",
   "metadata": {},
   "source": [
    "Summarize the data"
   ]
  },
  {
   "cell_type": "code",
   "execution_count": 3,
   "metadata": {
    "collapsed": false
   },
   "outputs": [
    {
     "data": {
      "text/plain": [
       "    Channel          Region          Fresh             Milk      \n",
       " Min.   :1.000   Min.   :1.000   Min.   :     3   Min.   :   55  \n",
       " 1st Qu.:1.000   1st Qu.:2.000   1st Qu.:  3128   1st Qu.: 1533  \n",
       " Median :1.000   Median :3.000   Median :  8504   Median : 3627  \n",
       " Mean   :1.323   Mean   :2.543   Mean   : 12000   Mean   : 5796  \n",
       " 3rd Qu.:2.000   3rd Qu.:3.000   3rd Qu.: 16934   3rd Qu.: 7190  \n",
       " Max.   :2.000   Max.   :3.000   Max.   :112151   Max.   :73498  \n",
       "    Grocery          Frozen        Detergents_Paper    Delicassen     \n",
       " Min.   :    3   Min.   :   25.0   Min.   :    3.0   Min.   :    3.0  \n",
       " 1st Qu.: 2153   1st Qu.:  742.2   1st Qu.:  256.8   1st Qu.:  408.2  \n",
       " Median : 4756   Median : 1526.0   Median :  816.5   Median :  965.5  \n",
       " Mean   : 7951   Mean   : 3071.9   Mean   : 2881.5   Mean   : 1524.9  \n",
       " 3rd Qu.:10656   3rd Qu.: 3554.2   3rd Qu.: 3922.0   3rd Qu.: 1820.2  \n",
       " Max.   :92780   Max.   :60869.0   Max.   :40827.0   Max.   :47943.0  "
      ]
     },
     "metadata": {},
     "output_type": "display_data"
    }
   ],
   "source": [
    "summary(data)"
   ]
  },
  {
   "cell_type": "markdown",
   "metadata": {},
   "source": [
    "Function for finding the top customers"
   ]
  },
  {
   "cell_type": "code",
   "execution_count": 4,
   "metadata": {
    "collapsed": true
   },
   "outputs": [],
   "source": [
    "top.n.custs <- function (data,cols,n=5) {\n",
    "    idx.to.remove <-integer(0) \n",
    "    for (c in cols){ \n",
    "        col.order <-order(data[,c],decreasing=T) \n",
    "        idx <-head(col.order, n) \n",
    "        idx.to.remove <-union(idx.to.remove,idx) \n",
    "    }\n",
    "    return(idx.to.remove) \n",
    "}"
   ]
  },
  {
   "cell_type": "markdown",
   "metadata": {},
   "source": [
    "Calling the above function "
   ]
  },
  {
   "cell_type": "code",
   "execution_count": 5,
   "metadata": {
    "collapsed": true
   },
   "outputs": [],
   "source": [
    "top.custs <-top.n.custs(data,cols=3:8,n=5)"
   ]
  },
  {
   "cell_type": "markdown",
   "metadata": {},
   "source": [
    "Display the data length"
   ]
  },
  {
   "cell_type": "code",
   "execution_count": 6,
   "metadata": {
    "collapsed": false
   },
   "outputs": [
    {
     "data": {
      "text/html": [
       "19"
      ],
      "text/latex": [
       "19"
      ],
      "text/markdown": [
       "19"
      ],
      "text/plain": [
       "[1] 19"
      ]
     },
     "metadata": {},
     "output_type": "display_data"
    }
   ],
   "source": [
    "length(top.custs)"
   ]
  },
  {
   "cell_type": "markdown",
   "metadata": {},
   "source": [
    "Display the top data"
   ]
  },
  {
   "cell_type": "code",
   "execution_count": 7,
   "metadata": {
    "collapsed": false
   },
   "outputs": [
    {
     "data": {
      "text/html": [
       "<table>\n",
       "<thead><tr><th></th><th scope=col>Channel</th><th scope=col>Region</th><th scope=col>Fresh</th><th scope=col>Milk</th><th scope=col>Grocery</th><th scope=col>Frozen</th><th scope=col>Detergents_Paper</th><th scope=col>Delicassen</th></tr></thead>\n",
       "<tbody>\n",
       "\t<tr><th scope=row>182</th><td>1     </td><td>3     </td><td>112151</td><td>29627 </td><td>18148 </td><td>16745 </td><td> 4948 </td><td> 8550 </td></tr>\n",
       "\t<tr><th scope=row>126</th><td>1     </td><td>3     </td><td> 76237</td><td> 3473 </td><td> 7102 </td><td>16538 </td><td>  778 </td><td>  918 </td></tr>\n",
       "\t<tr><th scope=row>285</th><td>1     </td><td>3     </td><td> 68951</td><td> 4411 </td><td>12609 </td><td> 8692 </td><td>  751 </td><td> 2406 </td></tr>\n",
       "\t<tr><th scope=row>40</th><td>1     </td><td>3     </td><td> 56159</td><td>  555 </td><td>  902 </td><td>10002 </td><td>  212 </td><td> 2916 </td></tr>\n",
       "\t<tr><th scope=row>259</th><td>1     </td><td>1     </td><td> 56083</td><td> 4563 </td><td> 2124 </td><td> 6422 </td><td>  730 </td><td> 3321 </td></tr>\n",
       "\t<tr><th scope=row>87</th><td>2     </td><td>3     </td><td> 22925</td><td>73498 </td><td>32114 </td><td>  987 </td><td>20070 </td><td>  903 </td></tr>\n",
       "\t<tr><th scope=row>48</th><td>2     </td><td>3     </td><td> 44466</td><td>54259 </td><td>55571 </td><td> 7782 </td><td>24171 </td><td> 6465 </td></tr>\n",
       "\t<tr><th scope=row>86</th><td>2     </td><td>3     </td><td> 16117</td><td>46197 </td><td>92780 </td><td> 1026 </td><td>40827 </td><td> 2944 </td></tr>\n",
       "\t<tr><th scope=row>184</th><td>1     </td><td>3     </td><td> 36847</td><td>43950 </td><td>20170 </td><td>36534 </td><td>  239 </td><td>47943 </td></tr>\n",
       "\t<tr><th scope=row>62</th><td>2     </td><td>3     </td><td> 35942</td><td>38369 </td><td>59598 </td><td> 3254 </td><td>26701 </td><td> 2017 </td></tr>\n",
       "\t<tr><th scope=row>334</th><td>2     </td><td>2     </td><td>  8565</td><td> 4980 </td><td>67298 </td><td>  131 </td><td>38102 </td><td> 1215 </td></tr>\n",
       "\t<tr><th scope=row>66</th><td>2     </td><td>3     </td><td>    85</td><td>20959 </td><td>45828 </td><td>   36 </td><td>24231 </td><td> 1423 </td></tr>\n",
       "\t<tr><th scope=row>326</th><td>1     </td><td>2     </td><td> 32717</td><td>16784 </td><td>13626 </td><td>60869 </td><td> 1272 </td><td> 5609 </td></tr>\n",
       "\t<tr><th scope=row>94</th><td>1     </td><td>3     </td><td> 11314</td><td> 3090 </td><td> 2062 </td><td>35009 </td><td>   71 </td><td> 2698 </td></tr>\n",
       "\t<tr><th scope=row>197</th><td>1     </td><td>1     </td><td> 30624</td><td> 7209 </td><td> 4897 </td><td>18711 </td><td>  763 </td><td> 2876 </td></tr>\n",
       "\t<tr><th scope=row>104</th><td>1     </td><td>3     </td><td> 56082</td><td> 3504 </td><td> 8906 </td><td>18028 </td><td> 1480 </td><td> 2498 </td></tr>\n",
       "\t<tr><th scope=row>24</th><td>2     </td><td>3     </td><td> 26373</td><td>36423 </td><td>22019 </td><td> 5154 </td><td> 4337 </td><td>16523 </td></tr>\n",
       "\t<tr><th scope=row>72</th><td>1     </td><td>3     </td><td> 18291</td><td> 1266 </td><td>21042 </td><td> 5373 </td><td> 4173 </td><td>14472 </td></tr>\n",
       "\t<tr><th scope=row>88</th><td>1     </td><td>3     </td><td> 43265</td><td> 5025 </td><td> 8117 </td><td> 6312 </td><td> 1579 </td><td>14351 </td></tr>\n",
       "</tbody>\n",
       "</table>\n"
      ],
      "text/latex": [
       "\\begin{tabular}{r|llllllll}\n",
       "  & Channel & Region & Fresh & Milk & Grocery & Frozen & Detergents\\_Paper & Delicassen\\\\\n",
       "\\hline\n",
       "\t182 & 1      & 3      & 112151 & 29627  & 18148  & 16745  &  4948  &  8550 \\\\\n",
       "\t126 & 1      & 3      &  76237 &  3473  &  7102  & 16538  &   778  &   918 \\\\\n",
       "\t285 & 1      & 3      &  68951 &  4411  & 12609  &  8692  &   751  &  2406 \\\\\n",
       "\t40 & 1      & 3      &  56159 &   555  &   902  & 10002  &   212  &  2916 \\\\\n",
       "\t259 & 1      & 1      &  56083 &  4563  &  2124  &  6422  &   730  &  3321 \\\\\n",
       "\t87 & 2      & 3      &  22925 & 73498  & 32114  &   987  & 20070  &   903 \\\\\n",
       "\t48 & 2      & 3      &  44466 & 54259  & 55571  &  7782  & 24171  &  6465 \\\\\n",
       "\t86 & 2      & 3      &  16117 & 46197  & 92780  &  1026  & 40827  &  2944 \\\\\n",
       "\t184 & 1      & 3      &  36847 & 43950  & 20170  & 36534  &   239  & 47943 \\\\\n",
       "\t62 & 2      & 3      &  35942 & 38369  & 59598  &  3254  & 26701  &  2017 \\\\\n",
       "\t334 & 2      & 2      &   8565 &  4980  & 67298  &   131  & 38102  &  1215 \\\\\n",
       "\t66 & 2      & 3      &     85 & 20959  & 45828  &    36  & 24231  &  1423 \\\\\n",
       "\t326 & 1      & 2      &  32717 & 16784  & 13626  & 60869  &  1272  &  5609 \\\\\n",
       "\t94 & 1      & 3      &  11314 &  3090  &  2062  & 35009  &    71  &  2698 \\\\\n",
       "\t197 & 1      & 1      &  30624 &  7209  &  4897  & 18711  &   763  &  2876 \\\\\n",
       "\t104 & 1      & 3      &  56082 &  3504  &  8906  & 18028  &  1480  &  2498 \\\\\n",
       "\t24 & 2      & 3      &  26373 & 36423  & 22019  &  5154  &  4337  & 16523 \\\\\n",
       "\t72 & 1      & 3      &  18291 &  1266  & 21042  &  5373  &  4173  & 14472 \\\\\n",
       "\t88 & 1      & 3      &  43265 &  5025  &  8117  &  6312  &  1579  & 14351 \\\\\n",
       "\\end{tabular}\n"
      ],
      "text/markdown": [
       "\n",
       "| <!--/--> | Channel | Region | Fresh | Milk | Grocery | Frozen | Detergents_Paper | Delicassen | \n",
       "|---|---|---|---|---|---|---|---|---|---|---|---|---|---|---|---|---|---|---|\n",
       "| 182 | 1      | 3      | 112151 | 29627  | 18148  | 16745  |  4948  |  8550  | \n",
       "| 126 | 1      | 3      |  76237 |  3473  |  7102  | 16538  |   778  |   918  | \n",
       "| 285 | 1      | 3      |  68951 |  4411  | 12609  |  8692  |   751  |  2406  | \n",
       "| 40 | 1      | 3      |  56159 |   555  |   902  | 10002  |   212  |  2916  | \n",
       "| 259 | 1      | 1      |  56083 |  4563  |  2124  |  6422  |   730  |  3321  | \n",
       "| 87 | 2      | 3      |  22925 | 73498  | 32114  |   987  | 20070  |   903  | \n",
       "| 48 | 2      | 3      |  44466 | 54259  | 55571  |  7782  | 24171  |  6465  | \n",
       "| 86 | 2      | 3      |  16117 | 46197  | 92780  |  1026  | 40827  |  2944  | \n",
       "| 184 | 1      | 3      |  36847 | 43950  | 20170  | 36534  |   239  | 47943  | \n",
       "| 62 | 2      | 3      |  35942 | 38369  | 59598  |  3254  | 26701  |  2017  | \n",
       "| 334 | 2      | 2      |   8565 |  4980  | 67298  |   131  | 38102  |  1215  | \n",
       "| 66 | 2      | 3      |     85 | 20959  | 45828  |    36  | 24231  |  1423  | \n",
       "| 326 | 1      | 2      |  32717 | 16784  | 13626  | 60869  |  1272  |  5609  | \n",
       "| 94 | 1      | 3      |  11314 |  3090  |  2062  | 35009  |    71  |  2698  | \n",
       "| 197 | 1      | 1      |  30624 |  7209  |  4897  | 18711  |   763  |  2876  | \n",
       "| 104 | 1      | 3      |  56082 |  3504  |  8906  | 18028  |  1480  |  2498  | \n",
       "| 24 | 2      | 3      |  26373 | 36423  | 22019  |  5154  |  4337  | 16523  | \n",
       "| 72 | 1      | 3      |  18291 |  1266  | 21042  |  5373  |  4173  | 14472  | \n",
       "| 88 | 1      | 3      |  43265 |  5025  |  8117  |  6312  |  1579  | 14351  | \n",
       "\n",
       "\n"
      ],
      "text/plain": [
       "    Channel Region Fresh  Milk  Grocery Frozen Detergents_Paper Delicassen\n",
       "182 1       3      112151 29627 18148   16745   4948             8550     \n",
       "126 1       3       76237  3473  7102   16538    778              918     \n",
       "285 1       3       68951  4411 12609    8692    751             2406     \n",
       "40  1       3       56159   555   902   10002    212             2916     \n",
       "259 1       1       56083  4563  2124    6422    730             3321     \n",
       "87  2       3       22925 73498 32114     987  20070              903     \n",
       "48  2       3       44466 54259 55571    7782  24171             6465     \n",
       "86  2       3       16117 46197 92780    1026  40827             2944     \n",
       "184 1       3       36847 43950 20170   36534    239            47943     \n",
       "62  2       3       35942 38369 59598    3254  26701             2017     \n",
       "334 2       2        8565  4980 67298     131  38102             1215     \n",
       "66  2       3          85 20959 45828      36  24231             1423     \n",
       "326 1       2       32717 16784 13626   60869   1272             5609     \n",
       "94  1       3       11314  3090  2062   35009     71             2698     \n",
       "197 1       1       30624  7209  4897   18711    763             2876     \n",
       "104 1       3       56082  3504  8906   18028   1480             2498     \n",
       "24  2       3       26373 36423 22019    5154   4337            16523     \n",
       "72  1       3       18291  1266 21042    5373   4173            14472     \n",
       "88  1       3       43265  5025  8117    6312   1579            14351     "
      ]
     },
     "metadata": {},
     "output_type": "display_data"
    }
   ],
   "source": [
    "data[top.custs,]"
   ]
  },
  {
   "cell_type": "markdown",
   "metadata": {},
   "source": [
    "Remove the Customers"
   ]
  },
  {
   "cell_type": "code",
   "execution_count": 8,
   "metadata": {
    "collapsed": true
   },
   "outputs": [],
   "source": [
    "data.rm.top<-data[-c(top.custs),]"
   ]
  },
  {
   "cell_type": "markdown",
   "metadata": {},
   "source": [
    "Set the seed for reproducibility"
   ]
  },
  {
   "cell_type": "code",
   "execution_count": 9,
   "metadata": {
    "collapsed": true
   },
   "outputs": [],
   "source": [
    "set.seed(76964057)"
   ]
  },
  {
   "cell_type": "markdown",
   "metadata": {},
   "source": [
    "Create 5 clusters, Remove columns 1 and 2"
   ]
  },
  {
   "cell_type": "code",
   "execution_count": 10,
   "metadata": {
    "collapsed": true
   },
   "outputs": [],
   "source": [
    "k <-kmeans(data.rm.top[,-c(1,2)], centers=5)"
   ]
  },
  {
   "cell_type": "markdown",
   "metadata": {},
   "source": [
    "Display&nbsp;cluster centers"
   ]
  },
  {
   "cell_type": "code",
   "execution_count": 11,
   "metadata": {
    "collapsed": false
   },
   "outputs": [
    {
     "data": {
      "text/html": [
       "<table>\n",
       "<thead><tr><th></th><th scope=col>Fresh</th><th scope=col>Milk</th><th scope=col>Grocery</th><th scope=col>Frozen</th><th scope=col>Detergents_Paper</th><th scope=col>Delicassen</th></tr></thead>\n",
       "<tbody>\n",
       "\t<tr><th scope=row>1</th><td> 4189.747 </td><td> 7645.639 </td><td>11015.277 </td><td>1335.145  </td><td> 4750.4819</td><td>1387.1205 </td></tr>\n",
       "\t<tr><th scope=row>2</th><td>16470.870 </td><td> 3026.491 </td><td> 4264.741 </td><td>3217.306  </td><td>  996.5556</td><td>1319.7593 </td></tr>\n",
       "\t<tr><th scope=row>3</th><td>33120.163 </td><td> 4896.977 </td><td> 5579.860 </td><td>3823.372  </td><td>  945.4651</td><td>1620.1860 </td></tr>\n",
       "\t<tr><th scope=row>4</th><td> 5830.214 </td><td>15295.048 </td><td>23449.167 </td><td>1936.452  </td><td>10361.6429</td><td>1912.7381 </td></tr>\n",
       "\t<tr><th scope=row>5</th><td> 5043.434 </td><td> 2329.683 </td><td> 2786.138 </td><td>2689.814  </td><td>  652.8276</td><td> 849.8414 </td></tr>\n",
       "</tbody>\n",
       "</table>\n"
      ],
      "text/latex": [
       "\\begin{tabular}{r|llllll}\n",
       "  & Fresh & Milk & Grocery & Frozen & Detergents\\_Paper & Delicassen\\\\\n",
       "\\hline\n",
       "\t1 &  4189.747  &  7645.639  & 11015.277  & 1335.145   &  4750.4819 & 1387.1205 \\\\\n",
       "\t2 & 16470.870  &  3026.491  &  4264.741  & 3217.306   &   996.5556 & 1319.7593 \\\\\n",
       "\t3 & 33120.163  &  4896.977  &  5579.860  & 3823.372   &   945.4651 & 1620.1860 \\\\\n",
       "\t4 &  5830.214  & 15295.048  & 23449.167  & 1936.452   & 10361.6429 & 1912.7381 \\\\\n",
       "\t5 &  5043.434  &  2329.683  &  2786.138  & 2689.814   &   652.8276 &  849.8414 \\\\\n",
       "\\end{tabular}\n"
      ],
      "text/markdown": [
       "\n",
       "| <!--/--> | Fresh | Milk | Grocery | Frozen | Detergents_Paper | Delicassen | \n",
       "|---|---|---|---|---|\n",
       "| 1 |  4189.747  |  7645.639  | 11015.277  | 1335.145   |  4750.4819 | 1387.1205  | \n",
       "| 2 | 16470.870  |  3026.491  |  4264.741  | 3217.306   |   996.5556 | 1319.7593  | \n",
       "| 3 | 33120.163  |  4896.977  |  5579.860  | 3823.372   |   945.4651 | 1620.1860  | \n",
       "| 4 |  5830.214  | 15295.048  | 23449.167  | 1936.452   | 10361.6429 | 1912.7381  | \n",
       "| 5 |  5043.434  |  2329.683  |  2786.138  | 2689.814   |   652.8276 |  849.8414  | \n",
       "\n",
       "\n"
      ],
      "text/plain": [
       "  Fresh     Milk      Grocery   Frozen   Detergents_Paper Delicassen\n",
       "1  4189.747  7645.639 11015.277 1335.145  4750.4819       1387.1205 \n",
       "2 16470.870  3026.491  4264.741 3217.306   996.5556       1319.7593 \n",
       "3 33120.163  4896.977  5579.860 3823.372   945.4651       1620.1860 \n",
       "4  5830.214 15295.048 23449.167 1936.452 10361.6429       1912.7381 \n",
       "5  5043.434  2329.683  2786.138 2689.814   652.8276        849.8414 "
      ]
     },
     "metadata": {},
     "output_type": "display_data"
    }
   ],
   "source": [
    "k$centers"
   ]
  },
  {
   "cell_type": "markdown",
   "metadata": {},
   "source": [
    "Give a count of data points in each cluster"
   ]
  },
  {
   "cell_type": "code",
   "execution_count": 12,
   "metadata": {
    "collapsed": false
   },
   "outputs": [
    {
     "data": {
      "text/plain": [
       "\n",
       "  1   2   3   4   5 \n",
       " 83 108  43  42 145 "
      ]
     },
     "metadata": {},
     "output_type": "display_data"
    }
   ],
   "source": [
    "table(k$cluster)"
   ]
  },
  {
   "cell_type": "markdown",
   "metadata": {},
   "source": [
    "Define the range K from 2 to 20"
   ]
  },
  {
   "cell_type": "code",
   "execution_count": 16,
   "metadata": {
    "collapsed": true
   },
   "outputs": [],
   "source": [
    "rng<-2:20 #K from 2 to 20"
   ]
  },
  {
   "cell_type": "markdown",
   "metadata": {},
   "source": [
    "Run the K Means algorithm 100 times"
   ]
  },
  {
   "cell_type": "code",
   "execution_count": 17,
   "metadata": {
    "collapsed": true
   },
   "outputs": [],
   "source": [
    "tries <-100 #Run the K Means algorithm 100 times"
   ]
  },
  {
   "cell_type": "markdown",
   "metadata": {},
   "source": [
    "Set up an empty vector to hold all of points"
   ]
  },
  {
   "cell_type": "code",
   "execution_count": 18,
   "metadata": {
    "collapsed": true
   },
   "outputs": [],
   "source": [
    "avg.totw.ss <-integer(length(rng))"
   ]
  },
  {
   "cell_type": "markdown",
   "metadata": {},
   "source": [
    "For each value of the range variable, Run kmeans, Store the total withinss and Average the 100 total withinss"
   ]
  },
  {
   "cell_type": "code",
   "execution_count": 19,
   "metadata": {
    "collapsed": true
   },
   "outputs": [],
   "source": [
    "for(v in rng){\n",
    "    v.totw.ss <-integer(tries)\n",
    "    for(i in 1:tries){\n",
    "        k.temp <-kmeans(data.rm.top,centers=v)\n",
    "         v.totw.ss[i] <-k.temp$tot.withinss\n",
    "     }\n",
    "     avg.totw.ss[v-1] <-mean(v.totw.ss) \n",
    "}"
   ]
  },
  {
   "cell_type": "markdown",
   "metadata": {},
   "source": [
    "Plot the data"
   ]
  },
  {
   "cell_type": "code",
   "execution_count": 20,
   "metadata": {
    "collapsed": false
   },
   "outputs": [
    {
     "data": {
      "image/png": "[encoded data removed]",
      "text/plain": [
       "Plot with title “Total Within SS by Various K”"
      ]
     },
     "metadata": {},
     "output_type": "display_data"
    }
   ],
   "source": [
    "plot(rng,avg.totw.ss,type=\"b\", main=\"Total Within SS by Various K\",\n",
    " ylab=\"Average Total Within Sum of Squares\",\n",
    " xlab=\"Value of K\")"
   ]
  },
  {
   "cell_type": "markdown",
   "metadata": {},
   "source": [
    "# References "
   ]
  },
  {
   "cell_type": "markdown",
   "metadata": {},
   "source": [
    "1. http://www.learnbymarketing.com/tutorials/k-means-clustering-in-r-example/"
   ]
  },
  {
   "cell_type": "code",
   "execution_count": null,
   "metadata": {
    "collapsed": true
   },
   "outputs": [],
   "source": []
  }
 ],
 "metadata": {
  "kernelspec": {
   "display_name": "R",
   "language": "R",
   "name": "ir"
  },
  "language_info": {
   "codemirror_mode": "r",
   "file_extension": ".r",
   "mimetype": "text/x-r-source",
   "name": "R",
   "pygments_lexer": "r",
   "version": "3.3.2"
  }
 },
 "nbformat": 4,
 "nbformat_minor": 2
}
