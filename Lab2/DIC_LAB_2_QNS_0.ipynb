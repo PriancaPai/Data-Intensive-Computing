{
 "cells": [
  {
   "cell_type": "markdown",
   "metadata": {},
   "source": [
    "# DIC LAB 2 Problem 0 : dplyr database Vignette "
   ]
  },
  {
   "cell_type": "markdown",
   "metadata": {},
   "source": [
    "Define all the libraries which needs to be set for operations here"
   ]
  },
  {
   "cell_type": "code",
   "execution_count": 1,
   "metadata": {
    "collapsed": false
   },
   "outputs": [
    {
     "name": "stderr",
     "output_type": "stream",
     "text": [
      "\n",
      "Attaching package: ‘dplyr’\n",
      "\n",
      "The following objects are masked from ‘package:stats’:\n",
      "\n",
      "    filter, lag\n",
      "\n",
      "The following objects are masked from ‘package:base’:\n",
      "\n",
      "    intersect, setdiff, setequal, union\n",
      "\n"
     ]
    }
   ],
   "source": [
    "library(\"dplyr\")\n",
    "library(\"nycflights13\")"
   ]
  },
  {
   "cell_type": "markdown",
   "metadata": {},
   "source": [
    "Creates the my_db database using the command src_sqlite"
   ]
  },
  {
   "cell_type": "code",
   "execution_count": 2,
   "metadata": {
    "collapsed": false
   },
   "outputs": [],
   "source": [
    "my_db <- src_sqlite(\"my_db.sqlite3\", create = T)"
   ]
  },
  {
   "cell_type": "markdown",
   "metadata": {},
   "source": [
    "Import the flights data using the convenient copy_to() function."
   ]
  },
  {
   "cell_type": "code",
   "execution_count": 3,
   "metadata": {
    "collapsed": false
   },
   "outputs": [],
   "source": [
    "flights_sqlite <- copy_to(my_db, flights, temporary = FALSE, indexes = list(c(\"year\", \"month\", \"day\"), \"carrier\", \"tailnum\"))"
   ]
  },
  {
   "cell_type": "markdown",
   "metadata": {},
   "source": [
    "Print a few rows "
   ]
  },
  {
   "cell_type": "code",
   "execution_count": 4,
   "metadata": {
    "collapsed": false
   },
   "outputs": [
    {
     "data": {
      "text/plain": [
       "Source:   query [?? x 19]\n",
       "Database: sqlite 3.11.1 [my_db.sqlite3]\n",
       "\n",
       "   year month   day dep_time sched_dep_time dep_delay arr_time sched_arr_time\n",
       "  <int> <int> <int>    <int>          <int>     <dbl>    <int>          <int>\n",
       "1  2013     1     1      517            515         2      830            819\n",
       "2  2013     1     1      533            529         4      850            830\n",
       "3  2013     1     1      542            540         2      923            850\n",
       "4  2013     1     1      544            545        -1     1004           1022\n",
       "5  2013     1     1      554            600        -6      812            837\n",
       "6  2013     1     1      554            558        -4      740            728\n",
       "# ... with 11 more variables: arr_delay <dbl>, carrier <chr>, flight <int>,\n",
       "#   tailnum <chr>, origin <chr>, dest <chr>, air_time <dbl>, distance <dbl>,\n",
       "#   hour <dbl>, minute <dbl>, time_hour <dbl>"
      ]
     },
     "metadata": {},
     "output_type": "display_data"
    }
   ],
   "source": [
    "head(flights_sqlite)"
   ]
  },
  {
   "cell_type": "markdown",
   "metadata": {},
   "source": [
    "A built-in src that will cache flights in a standard location"
   ]
  },
  {
   "cell_type": "code",
   "execution_count": 5,
   "metadata": {
    "collapsed": false
   },
   "outputs": [
    {
     "name": "stderr",
     "output_type": "stream",
     "text": [
      "Caching nycflights db at /tmp/Rtmpa6cr7q/nycflights13.sqlite\n",
      "Creating table: airlines\n",
      "Creating table: airports\n",
      "Creating table: flights\n",
      "Creating table: planes\n",
      "Creating table: weather\n"
     ]
    }
   ],
   "source": [
    "flights_sqlite <- tbl(nycflights13_sqlite(), \"flights\")"
   ]
  },
  {
   "cell_type": "markdown",
   "metadata": {},
   "source": [
    "Prints contents of flights_sqlite"
   ]
  },
  {
   "cell_type": "code",
   "execution_count": 6,
   "metadata": {
    "collapsed": false
   },
   "outputs": [
    {
     "data": {
      "text/plain": [
       "Source:   query [?? x 19]\n",
       "Database: sqlite 3.11.1 [/tmp/Rtmpa6cr7q/nycflights13.sqlite]\n",
       "\n",
       "    year month   day dep_time sched_dep_time dep_delay arr_time sched_arr_time\n",
       "   <int> <int> <int>    <int>          <int>     <dbl>    <int>          <int>\n",
       "1   2013     1     1      517            515         2      830            819\n",
       "2   2013     1     1      533            529         4      850            830\n",
       "3   2013     1     1      542            540         2      923            850\n",
       "4   2013     1     1      544            545        -1     1004           1022\n",
       "5   2013     1     1      554            600        -6      812            837\n",
       "6   2013     1     1      554            558        -4      740            728\n",
       "7   2013     1     1      555            600        -5      913            854\n",
       "8   2013     1     1      557            600        -3      709            723\n",
       "9   2013     1     1      557            600        -3      838            846\n",
       "10  2013     1     1      558            600        -2      753            745\n",
       "# ... with more rows, and 11 more variables: arr_delay <dbl>, carrier <chr>,\n",
       "#   flight <int>, tailnum <chr>, origin <chr>, dest <chr>, air_time <dbl>,\n",
       "#   distance <dbl>, hour <dbl>, minute <dbl>, time_hour <dbl>"
      ]
     },
     "metadata": {},
     "output_type": "display_data"
    }
   ],
   "source": [
    "flights_sqlite"
   ]
  },
  {
   "cell_type": "markdown",
   "metadata": {},
   "source": [
    "An alternative for flights_sqlite <- tbl(nycflights13_sqlite(), \"flights\")"
   ]
  },
  {
   "cell_type": "code",
   "execution_count": 7,
   "metadata": {
    "collapsed": false
   },
   "outputs": [
    {
     "data": {
      "text/plain": [
       "Source:   query [?? x 19]\n",
       "Database: sqlite 3.11.1 [my_db.sqlite3]\n",
       "\n",
       "    year month   day dep_time sched_dep_time dep_delay arr_time sched_arr_time\n",
       "   <int> <int> <int>    <int>          <int>     <dbl>    <int>          <int>\n",
       "1   2013     1     1      517            515         2      830            819\n",
       "2   2013     1     1      533            529         4      850            830\n",
       "3   2013     1     1      542            540         2      923            850\n",
       "4   2013     1     1      544            545        -1     1004           1022\n",
       "5   2013     1     1      554            600        -6      812            837\n",
       "6   2013     1     1      554            558        -4      740            728\n",
       "7   2013     1     1      555            600        -5      913            854\n",
       "8   2013     1     1      557            600        -3      709            723\n",
       "9   2013     1     1      557            600        -3      838            846\n",
       "10  2013     1     1      558            600        -2      753            745\n",
       "# ... with more rows, and 11 more variables: arr_delay <dbl>, carrier <chr>,\n",
       "#   flight <int>, tailnum <chr>, origin <chr>, dest <chr>, air_time <dbl>,\n",
       "#   distance <dbl>, hour <dbl>, minute <dbl>, time_hour <dbl>"
      ]
     },
     "metadata": {},
     "output_type": "display_data"
    }
   ],
   "source": [
    "tbl(my_db, sql(\"SELECT * FROM flights\"))"
   ]
  },
  {
   "cell_type": "markdown",
   "metadata": {},
   "source": [
    "Select the mentioned columns from the flights_sqlite"
   ]
  },
  {
   "cell_type": "code",
   "execution_count": 8,
   "metadata": {
    "collapsed": false
   },
   "outputs": [
    {
     "data": {
      "text/plain": [
       "Source:   query [?? x 5]\n",
       "Database: sqlite 3.11.1 [/tmp/Rtmpa6cr7q/nycflights13.sqlite]\n",
       "\n",
       "    year month   day dep_delay arr_delay\n",
       "   <int> <int> <int>     <dbl>     <dbl>\n",
       "1   2013     1     1         2        11\n",
       "2   2013     1     1         4        20\n",
       "3   2013     1     1         2        33\n",
       "4   2013     1     1        -1       -18\n",
       "5   2013     1     1        -6       -25\n",
       "6   2013     1     1        -4        12\n",
       "7   2013     1     1        -5        19\n",
       "8   2013     1     1        -3       -14\n",
       "9   2013     1     1        -3        -8\n",
       "10  2013     1     1        -2         8\n",
       "# ... with more rows"
      ]
     },
     "metadata": {},
     "output_type": "display_data"
    }
   ],
   "source": [
    "select(flights_sqlite, year:day, dep_delay, arr_delay)"
   ]
  },
  {
   "cell_type": "markdown",
   "metadata": {},
   "source": [
    "Selects the rows based on a parameter"
   ]
  },
  {
   "cell_type": "code",
   "execution_count": 9,
   "metadata": {
    "collapsed": false
   },
   "outputs": [
    {
     "data": {
      "text/plain": [
       "Source:   query [?? x 19]\n",
       "Database: sqlite 3.11.1 [/tmp/Rtmpa6cr7q/nycflights13.sqlite]\n",
       "\n",
       "    year month   day dep_time sched_dep_time dep_delay arr_time sched_arr_time\n",
       "   <int> <int> <int>    <int>          <int>     <dbl>    <int>          <int>\n",
       "1   2013     1     1      848           1835       853     1001           1950\n",
       "2   2013     1     1     1815           1325       290     2120           1542\n",
       "3   2013     1     1     1842           1422       260     1958           1535\n",
       "4   2013     1     1     2115           1700       255     2330           1920\n",
       "5   2013     1     1     2205           1720       285       46           2040\n",
       "6   2013     1     1     2343           1724       379      314           1938\n",
       "7   2013     1     2     1332            904       268     1616           1128\n",
       "8   2013     1     2     1412            838       334     1710           1147\n",
       "9   2013     1     2     1607           1030       337     2003           1355\n",
       "10  2013     1     2     2131           1512       379     2340           1741\n",
       "# ... with more rows, and 11 more variables: arr_delay <dbl>, carrier <chr>,\n",
       "#   flight <int>, tailnum <chr>, origin <chr>, dest <chr>, air_time <dbl>,\n",
       "#   distance <dbl>, hour <dbl>, minute <dbl>, time_hour <dbl>"
      ]
     },
     "metadata": {},
     "output_type": "display_data"
    }
   ],
   "source": [
    "filter(flights_sqlite, dep_delay > 240)"
   ]
  },
  {
   "cell_type": "markdown",
   "metadata": {},
   "source": [
    "Arranges the rows based on given parameter"
   ]
  },
  {
   "cell_type": "code",
   "execution_count": 10,
   "metadata": {
    "collapsed": false
   },
   "outputs": [
    {
     "data": {
      "text/plain": [
       "Source:   query [?? x 19]\n",
       "Database: sqlite 3.11.1 [/tmp/Rtmpa6cr7q/nycflights13.sqlite]\n",
       "\n",
       "    year month   day dep_time sched_dep_time dep_delay arr_time sched_arr_time\n",
       "   <int> <int> <int>    <int>          <int>     <dbl>    <int>          <int>\n",
       "1   2013     1     1      517            515         2      830            819\n",
       "2   2013     1     1      533            529         4      850            830\n",
       "3   2013     1     1      542            540         2      923            850\n",
       "4   2013     1     1      544            545        -1     1004           1022\n",
       "5   2013     1     1      554            600        -6      812            837\n",
       "6   2013     1     1      554            558        -4      740            728\n",
       "7   2013     1     1      555            600        -5      913            854\n",
       "8   2013     1     1      557            600        -3      709            723\n",
       "9   2013     1     1      557            600        -3      838            846\n",
       "10  2013     1     1      558            600        -2      753            745\n",
       "# ... with more rows, and 11 more variables: arr_delay <dbl>, carrier <chr>,\n",
       "#   flight <int>, tailnum <chr>, origin <chr>, dest <chr>, air_time <dbl>,\n",
       "#   distance <dbl>, hour <dbl>, minute <dbl>, time_hour <dbl>"
      ]
     },
     "metadata": {},
     "output_type": "display_data"
    }
   ],
   "source": [
    "arrange(flights_sqlite, year, month, day)"
   ]
  },
  {
   "cell_type": "markdown",
   "metadata": {},
   "source": [
    "Mutate adds the column in table with a given formula using other fields"
   ]
  },
  {
   "cell_type": "code",
   "execution_count": 11,
   "metadata": {
    "collapsed": false
   },
   "outputs": [
    {
     "data": {
      "text/plain": [
       "Source:   query [?? x 20]\n",
       "Database: sqlite 3.11.1 [/tmp/Rtmpa6cr7q/nycflights13.sqlite]\n",
       "\n",
       "    year month   day dep_time sched_dep_time dep_delay arr_time sched_arr_time\n",
       "   <int> <int> <int>    <int>          <int>     <dbl>    <int>          <int>\n",
       "1   2013     1     1      517            515         2      830            819\n",
       "2   2013     1     1      533            529         4      850            830\n",
       "3   2013     1     1      542            540         2      923            850\n",
       "4   2013     1     1      544            545        -1     1004           1022\n",
       "5   2013     1     1      554            600        -6      812            837\n",
       "6   2013     1     1      554            558        -4      740            728\n",
       "7   2013     1     1      555            600        -5      913            854\n",
       "8   2013     1     1      557            600        -3      709            723\n",
       "9   2013     1     1      557            600        -3      838            846\n",
       "10  2013     1     1      558            600        -2      753            745\n",
       "# ... with more rows, and 12 more variables: arr_delay <dbl>, carrier <chr>,\n",
       "#   flight <int>, tailnum <chr>, origin <chr>, dest <chr>, air_time <dbl>,\n",
       "#   distance <dbl>, hour <dbl>, minute <dbl>, time_hour <dbl>, speed <dbl>"
      ]
     },
     "metadata": {},
     "output_type": "display_data"
    }
   ],
   "source": [
    "mutate(flights_sqlite, speed = air_time / distance)"
   ]
  },
  {
   "cell_type": "markdown",
   "metadata": {},
   "source": [
    "Summarises as per a given parameter"
   ]
  },
  {
   "cell_type": "code",
   "execution_count": 12,
   "metadata": {
    "collapsed": false
   },
   "outputs": [
    {
     "data": {
      "text/plain": [
       "Source:   query [?? x 1]\n",
       "Database: sqlite 3.11.1 [/tmp/Rtmpa6cr7q/nycflights13.sqlite]\n",
       "\n",
       "    delay\n",
       "    <dbl>\n",
       "1 1349.11"
      ]
     },
     "metadata": {},
     "output_type": "display_data"
    }
   ],
   "source": [
    "summarise(flights_sqlite, delay = mean(dep_time))"
   ]
  },
  {
   "cell_type": "markdown",
   "metadata": {},
   "source": [
    "** Laziness Example ** When working with databases, dplyr tries to be as lazy as possible:\n",
    "1. It never pulls data into R unless you explicitly ask for it.\n",
    "2.     It delays doing any work until the last possible moment: it collects together everything you want to do and then sends it to the database in one step."
   ]
  },
  {
   "cell_type": "code",
   "execution_count": 13,
   "metadata": {
    "collapsed": true
   },
   "outputs": [],
   "source": [
    "c1 <- filter(flights_sqlite, year == 2013, month == 1, day == 1)\n",
    "c2 <- select(c1, year, month, day, carrier, dep_delay, air_time, distance)\n",
    "c3 <- mutate(c2, speed = distance / air_time * 60)\n",
    "c4 <- arrange(c3, year, month, day, carrier)"
   ]
  },
  {
   "cell_type": "markdown",
   "metadata": {},
   "source": [
    "Fetches the data from database when requested. This is how Laziness works"
   ]
  },
  {
   "cell_type": "code",
   "execution_count": 14,
   "metadata": {
    "collapsed": false
   },
   "outputs": [
    {
     "data": {
      "text/plain": [
       "Source:   query [?? x 8]\n",
       "Database: sqlite 3.11.1 [/tmp/Rtmpa6cr7q/nycflights13.sqlite]\n",
       "\n",
       "    year month   day carrier dep_delay air_time distance    speed\n",
       "   <int> <int> <int>   <chr>     <dbl>    <dbl>    <dbl>    <dbl>\n",
       "1   2013     1     1      9E         0      189     1029 326.6667\n",
       "2   2013     1     1      9E        -9       57      228 240.0000\n",
       "3   2013     1     1      9E        -3       68      301 265.5882\n",
       "4   2013     1     1      9E        -6       57      209 220.0000\n",
       "5   2013     1     1      9E        -8       66      264 240.0000\n",
       "6   2013     1     1      9E         0       40      184 276.0000\n",
       "7   2013     1     1      9E         6      146      740 304.1096\n",
       "8   2013     1     1      9E         0      139      665 287.0504\n",
       "9   2013     1     1      9E        -8      150      765 306.0000\n",
       "10  2013     1     1      9E        -6       41      187 273.6585\n",
       "# ... with more rows"
      ]
     },
     "metadata": {},
     "output_type": "display_data"
    }
   ],
   "source": [
    "c4"
   ]
  },
  {
   "cell_type": "markdown",
   "metadata": {},
   "source": [
    "To pull down all the results use collect(), which returns a tbl_df()"
   ]
  },
  {
   "cell_type": "code",
   "execution_count": 15,
   "metadata": {
    "collapsed": false
   },
   "outputs": [
    {
     "data": {
      "text/html": [
       "<table>\n",
       "<thead><tr><th scope=col>year</th><th scope=col>month</th><th scope=col>day</th><th scope=col>carrier</th><th scope=col>dep_delay</th><th scope=col>air_time</th><th scope=col>distance</th><th scope=col>speed</th></tr></thead>\n",
       "<tbody>\n",
       "\t<tr><td>2013    </td><td>1       </td><td>1       </td><td>9E      </td><td>  0     </td><td>189     </td><td>1029    </td><td>326.6667</td></tr>\n",
       "\t<tr><td>2013    </td><td>1       </td><td>1       </td><td>9E      </td><td> -9     </td><td> 57     </td><td> 228    </td><td>240.0000</td></tr>\n",
       "\t<tr><td>2013    </td><td>1       </td><td>1       </td><td>9E      </td><td> -3     </td><td> 68     </td><td> 301    </td><td>265.5882</td></tr>\n",
       "\t<tr><td>2013    </td><td>1       </td><td>1       </td><td>9E      </td><td> -6     </td><td> 57     </td><td> 209    </td><td>220.0000</td></tr>\n",
       "\t<tr><td>2013    </td><td>1       </td><td>1       </td><td>9E      </td><td> -8     </td><td> 66     </td><td> 264    </td><td>240.0000</td></tr>\n",
       "\t<tr><td>2013    </td><td>1       </td><td>1       </td><td>9E      </td><td>  0     </td><td> 40     </td><td> 184    </td><td>276.0000</td></tr>\n",
       "\t<tr><td>2013    </td><td>1       </td><td>1       </td><td>9E      </td><td>  6     </td><td>146     </td><td> 740    </td><td>304.1096</td></tr>\n",
       "\t<tr><td>2013    </td><td>1       </td><td>1       </td><td>9E      </td><td>  0     </td><td>139     </td><td> 665    </td><td>287.0504</td></tr>\n",
       "\t<tr><td>2013    </td><td>1       </td><td>1       </td><td>9E      </td><td> -8     </td><td>150     </td><td> 765    </td><td>306.0000</td></tr>\n",
       "\t<tr><td>2013    </td><td>1       </td><td>1       </td><td>9E      </td><td> -6     </td><td> 41     </td><td> 187    </td><td>273.6585</td></tr>\n",
       "\t<tr><td>2013    </td><td>1       </td><td>1       </td><td>9E      </td><td>-10     </td><td> 35     </td><td>  94    </td><td>161.1429</td></tr>\n",
       "\t<tr><td>2013    </td><td>1       </td><td>1       </td><td>9E      </td><td> 52     </td><td>173     </td><td>1029    </td><td>356.8786</td></tr>\n",
       "\t<tr><td>2013    </td><td>1       </td><td>1       </td><td>9E      </td><td> 88     </td><td> 72     </td><td> 427    </td><td>355.8333</td></tr>\n",
       "\t<tr><td>2013    </td><td>1       </td><td>1       </td><td>9E      </td><td> -4     </td><td>107     </td><td> 509    </td><td>285.4206</td></tr>\n",
       "\t<tr><td>2013    </td><td>1       </td><td>1       </td><td>9E      </td><td> -3     </td><td>106     </td><td> 636    </td><td>360.0000</td></tr>\n",
       "\t<tr><td>2013    </td><td>1       </td><td>1       </td><td>9E      </td><td>  0     </td><td>207     </td><td>1182    </td><td>342.6087</td></tr>\n",
       "\t<tr><td>2013    </td><td>1       </td><td>1       </td><td>9E      </td><td>  0     </td><td>141     </td><td> 740    </td><td>314.8936</td></tr>\n",
       "\t<tr><td>2013    </td><td>1       </td><td>1       </td><td>9E      </td><td> -2     </td><td> 75     </td><td> 427    </td><td>341.6000</td></tr>\n",
       "\t<tr><td>2013    </td><td>1       </td><td>1       </td><td>9E      </td><td> 59     </td><td> NA     </td><td>1391    </td><td>      NA</td></tr>\n",
       "\t<tr><td>2013    </td><td>1       </td><td>1       </td><td>9E      </td><td>  5     </td><td>129     </td><td> 828    </td><td>385.1163</td></tr>\n",
       "\t<tr><td>2013    </td><td>1       </td><td>1       </td><td>9E      </td><td> -5     </td><td> 76     </td><td> 340    </td><td>268.4211</td></tr>\n",
       "\t<tr><td>2013    </td><td>1       </td><td>1       </td><td>9E      </td><td> -8     </td><td> 41     </td><td> 184    </td><td>269.2683</td></tr>\n",
       "\t<tr><td>2013    </td><td>1       </td><td>1       </td><td>9E      </td><td>  0     </td><td> 30     </td><td>  94    </td><td>188.0000</td></tr>\n",
       "\t<tr><td>2013    </td><td>1       </td><td>1       </td><td>9E      </td><td> 10     </td><td> 62     </td><td> 301    </td><td>291.2903</td></tr>\n",
       "\t<tr><td>2013    </td><td>1       </td><td>1       </td><td>9E      </td><td> 42     </td><td> 91     </td><td> 425    </td><td>280.2198</td></tr>\n",
       "\t<tr><td>2013    </td><td>1       </td><td>1       </td><td>9E      </td><td> 38     </td><td>118     </td><td> 589    </td><td>299.4915</td></tr>\n",
       "\t<tr><td>2013    </td><td>1       </td><td>1       </td><td>9E      </td><td> 11     </td><td> 43     </td><td> 213    </td><td>297.2093</td></tr>\n",
       "\t<tr><td>2013    </td><td>1       </td><td>1       </td><td>9E      </td><td>255     </td><td>115     </td><td> 589    </td><td>307.3043</td></tr>\n",
       "\t<tr><td>2013    </td><td>1       </td><td>1       </td><td>AA      </td><td>  2     </td><td>160     </td><td>1089    </td><td>408.3750</td></tr>\n",
       "\t<tr><td>2013    </td><td>1       </td><td>1       </td><td>AA      </td><td> -2     </td><td>138     </td><td> 733    </td><td>318.6957</td></tr>\n",
       "\t<tr><td>⋮</td><td>⋮</td><td>⋮</td><td>⋮</td><td>⋮</td><td>⋮</td><td>⋮</td><td>⋮</td></tr>\n",
       "\t<tr><td>2013    </td><td>1       </td><td>1       </td><td>VX      </td><td> 0      </td><td>362     </td><td>2475    </td><td>410.2210</td></tr>\n",
       "\t<tr><td>2013    </td><td>1       </td><td>1       </td><td>VX      </td><td> 0      </td><td>364     </td><td>2586    </td><td>426.2637</td></tr>\n",
       "\t<tr><td>2013    </td><td>1       </td><td>1       </td><td>VX      </td><td>-8      </td><td>349     </td><td>2475    </td><td>425.5014</td></tr>\n",
       "\t<tr><td>2013    </td><td>1       </td><td>1       </td><td>WN      </td><td>-1      </td><td> 40     </td><td> 185    </td><td>277.5000</td></tr>\n",
       "\t<tr><td>2013    </td><td>1       </td><td>1       </td><td>WN      </td><td>-1      </td><td>279     </td><td>1620    </td><td>348.3871</td></tr>\n",
       "\t<tr><td>2013    </td><td>1       </td><td>1       </td><td>WN      </td><td>-3      </td><td>146     </td><td> 711    </td><td>292.1918</td></tr>\n",
       "\t<tr><td>2013    </td><td>1       </td><td>1       </td><td>WN      </td><td> 4      </td><td>264     </td><td>1605    </td><td>364.7727</td></tr>\n",
       "\t<tr><td>2013    </td><td>1       </td><td>1       </td><td>WN      </td><td>-2      </td><td>145     </td><td> 725    </td><td>300.0000</td></tr>\n",
       "\t<tr><td>2013    </td><td>1       </td><td>1       </td><td>WN      </td><td>-3      </td><td>143     </td><td> 738    </td><td>309.6503</td></tr>\n",
       "\t<tr><td>2013    </td><td>1       </td><td>1       </td><td>WN      </td><td>-1      </td><td> 43     </td><td> 185    </td><td>258.1395</td></tr>\n",
       "\t<tr><td>2013    </td><td>1       </td><td>1       </td><td>WN      </td><td>-5      </td><td>176     </td><td> 888    </td><td>302.7273</td></tr>\n",
       "\t<tr><td>2013    </td><td>1       </td><td>1       </td><td>WN      </td><td>-2      </td><td> 38     </td><td> 169    </td><td>266.8421</td></tr>\n",
       "\t<tr><td>2013    </td><td>1       </td><td>1       </td><td>WN      </td><td> 0      </td><td>142     </td><td> 711    </td><td>300.4225</td></tr>\n",
       "\t<tr><td>2013    </td><td>1       </td><td>1       </td><td>WN      </td><td>-2      </td><td>137     </td><td> 738    </td><td>323.2117</td></tr>\n",
       "\t<tr><td>2013    </td><td>1       </td><td>1       </td><td>WN      </td><td> 0      </td><td>264     </td><td>1620    </td><td>368.1818</td></tr>\n",
       "\t<tr><td>2013    </td><td>1       </td><td>1       </td><td>WN      </td><td> 6      </td><td>239     </td><td>1411    </td><td>354.2259</td></tr>\n",
       "\t<tr><td>2013    </td><td>1       </td><td>1       </td><td>WN      </td><td>16      </td><td>334     </td><td>2133    </td><td>383.1737</td></tr>\n",
       "\t<tr><td>2013    </td><td>1       </td><td>1       </td><td>WN      </td><td> 5      </td><td>141     </td><td> 725    </td><td>308.5106</td></tr>\n",
       "\t<tr><td>2013    </td><td>1       </td><td>1       </td><td>WN      </td><td>-4      </td><td>141     </td><td> 711    </td><td>302.5532</td></tr>\n",
       "\t<tr><td>2013    </td><td>1       </td><td>1       </td><td>WN      </td><td>16      </td><td>133     </td><td> 738    </td><td>332.9323</td></tr>\n",
       "\t<tr><td>2013    </td><td>1       </td><td>1       </td><td>WN      </td><td> 3      </td><td>254     </td><td>1605    </td><td>379.1339</td></tr>\n",
       "\t<tr><td>2013    </td><td>1       </td><td>1       </td><td>WN      </td><td>-3      </td><td>181     </td><td> 888    </td><td>294.3646</td></tr>\n",
       "\t<tr><td>2013    </td><td>1       </td><td>1       </td><td>WN      </td><td> 7      </td><td>181     </td><td> 872    </td><td>289.0608</td></tr>\n",
       "\t<tr><td>2013    </td><td>1       </td><td>1       </td><td>WN      </td><td> 8      </td><td>245     </td><td>1411    </td><td>345.5510</td></tr>\n",
       "\t<tr><td>2013    </td><td>1       </td><td>1       </td><td>WN      </td><td>-1      </td><td>137     </td><td> 725    </td><td>317.5182</td></tr>\n",
       "\t<tr><td>2013    </td><td>1       </td><td>1       </td><td>WN      </td><td> 6      </td><td>148     </td><td> 711    </td><td>288.2432</td></tr>\n",
       "\t<tr><td>2013    </td><td>1       </td><td>1       </td><td>WN      </td><td>10      </td><td> 46     </td><td> 185    </td><td>241.3043</td></tr>\n",
       "\t<tr><td>2013    </td><td>1       </td><td>1       </td><td>WN      </td><td>-2      </td><td>131     </td><td> 738    </td><td>338.0153</td></tr>\n",
       "\t<tr><td>2013    </td><td>1       </td><td>1       </td><td>WN      </td><td>31      </td><td>134     </td><td> 711    </td><td>318.3582</td></tr>\n",
       "\t<tr><td>2013    </td><td>1       </td><td>1       </td><td>WN      </td><td>-2      </td><td>134     </td><td> 725    </td><td>324.6269</td></tr>\n",
       "</tbody>\n",
       "</table>\n"
      ],
      "text/latex": [
       "\\begin{tabular}{r|llllllll}\n",
       " year & month & day & carrier & dep\\_delay & air\\_time & distance & speed\\\\\n",
       "\\hline\n",
       "\t 2013     & 1        & 1        & 9E       &   0      & 189      & 1029     & 326.6667\\\\\n",
       "\t 2013     & 1        & 1        & 9E       &  -9      &  57      &  228     & 240.0000\\\\\n",
       "\t 2013     & 1        & 1        & 9E       &  -3      &  68      &  301     & 265.5882\\\\\n",
       "\t 2013     & 1        & 1        & 9E       &  -6      &  57      &  209     & 220.0000\\\\\n",
       "\t 2013     & 1        & 1        & 9E       &  -8      &  66      &  264     & 240.0000\\\\\n",
       "\t 2013     & 1        & 1        & 9E       &   0      &  40      &  184     & 276.0000\\\\\n",
       "\t 2013     & 1        & 1        & 9E       &   6      & 146      &  740     & 304.1096\\\\\n",
       "\t 2013     & 1        & 1        & 9E       &   0      & 139      &  665     & 287.0504\\\\\n",
       "\t 2013     & 1        & 1        & 9E       &  -8      & 150      &  765     & 306.0000\\\\\n",
       "\t 2013     & 1        & 1        & 9E       &  -6      &  41      &  187     & 273.6585\\\\\n",
       "\t 2013     & 1        & 1        & 9E       & -10      &  35      &   94     & 161.1429\\\\\n",
       "\t 2013     & 1        & 1        & 9E       &  52      & 173      & 1029     & 356.8786\\\\\n",
       "\t 2013     & 1        & 1        & 9E       &  88      &  72      &  427     & 355.8333\\\\\n",
       "\t 2013     & 1        & 1        & 9E       &  -4      & 107      &  509     & 285.4206\\\\\n",
       "\t 2013     & 1        & 1        & 9E       &  -3      & 106      &  636     & 360.0000\\\\\n",
       "\t 2013     & 1        & 1        & 9E       &   0      & 207      & 1182     & 342.6087\\\\\n",
       "\t 2013     & 1        & 1        & 9E       &   0      & 141      &  740     & 314.8936\\\\\n",
       "\t 2013     & 1        & 1        & 9E       &  -2      &  75      &  427     & 341.6000\\\\\n",
       "\t 2013     & 1        & 1        & 9E       &  59      &  NA      & 1391     &       NA\\\\\n",
       "\t 2013     & 1        & 1        & 9E       &   5      & 129      &  828     & 385.1163\\\\\n",
       "\t 2013     & 1        & 1        & 9E       &  -5      &  76      &  340     & 268.4211\\\\\n",
       "\t 2013     & 1        & 1        & 9E       &  -8      &  41      &  184     & 269.2683\\\\\n",
       "\t 2013     & 1        & 1        & 9E       &   0      &  30      &   94     & 188.0000\\\\\n",
       "\t 2013     & 1        & 1        & 9E       &  10      &  62      &  301     & 291.2903\\\\\n",
       "\t 2013     & 1        & 1        & 9E       &  42      &  91      &  425     & 280.2198\\\\\n",
       "\t 2013     & 1        & 1        & 9E       &  38      & 118      &  589     & 299.4915\\\\\n",
       "\t 2013     & 1        & 1        & 9E       &  11      &  43      &  213     & 297.2093\\\\\n",
       "\t 2013     & 1        & 1        & 9E       & 255      & 115      &  589     & 307.3043\\\\\n",
       "\t 2013     & 1        & 1        & AA       &   2      & 160      & 1089     & 408.3750\\\\\n",
       "\t 2013     & 1        & 1        & AA       &  -2      & 138      &  733     & 318.6957\\\\\n",
       "\t ⋮ & ⋮ & ⋮ & ⋮ & ⋮ & ⋮ & ⋮ & ⋮\\\\\n",
       "\t 2013     & 1        & 1        & VX       &  0       & 362      & 2475     & 410.2210\\\\\n",
       "\t 2013     & 1        & 1        & VX       &  0       & 364      & 2586     & 426.2637\\\\\n",
       "\t 2013     & 1        & 1        & VX       & -8       & 349      & 2475     & 425.5014\\\\\n",
       "\t 2013     & 1        & 1        & WN       & -1       &  40      &  185     & 277.5000\\\\\n",
       "\t 2013     & 1        & 1        & WN       & -1       & 279      & 1620     & 348.3871\\\\\n",
       "\t 2013     & 1        & 1        & WN       & -3       & 146      &  711     & 292.1918\\\\\n",
       "\t 2013     & 1        & 1        & WN       &  4       & 264      & 1605     & 364.7727\\\\\n",
       "\t 2013     & 1        & 1        & WN       & -2       & 145      &  725     & 300.0000\\\\\n",
       "\t 2013     & 1        & 1        & WN       & -3       & 143      &  738     & 309.6503\\\\\n",
       "\t 2013     & 1        & 1        & WN       & -1       &  43      &  185     & 258.1395\\\\\n",
       "\t 2013     & 1        & 1        & WN       & -5       & 176      &  888     & 302.7273\\\\\n",
       "\t 2013     & 1        & 1        & WN       & -2       &  38      &  169     & 266.8421\\\\\n",
       "\t 2013     & 1        & 1        & WN       &  0       & 142      &  711     & 300.4225\\\\\n",
       "\t 2013     & 1        & 1        & WN       & -2       & 137      &  738     & 323.2117\\\\\n",
       "\t 2013     & 1        & 1        & WN       &  0       & 264      & 1620     & 368.1818\\\\\n",
       "\t 2013     & 1        & 1        & WN       &  6       & 239      & 1411     & 354.2259\\\\\n",
       "\t 2013     & 1        & 1        & WN       & 16       & 334      & 2133     & 383.1737\\\\\n",
       "\t 2013     & 1        & 1        & WN       &  5       & 141      &  725     & 308.5106\\\\\n",
       "\t 2013     & 1        & 1        & WN       & -4       & 141      &  711     & 302.5532\\\\\n",
       "\t 2013     & 1        & 1        & WN       & 16       & 133      &  738     & 332.9323\\\\\n",
       "\t 2013     & 1        & 1        & WN       &  3       & 254      & 1605     & 379.1339\\\\\n",
       "\t 2013     & 1        & 1        & WN       & -3       & 181      &  888     & 294.3646\\\\\n",
       "\t 2013     & 1        & 1        & WN       &  7       & 181      &  872     & 289.0608\\\\\n",
       "\t 2013     & 1        & 1        & WN       &  8       & 245      & 1411     & 345.5510\\\\\n",
       "\t 2013     & 1        & 1        & WN       & -1       & 137      &  725     & 317.5182\\\\\n",
       "\t 2013     & 1        & 1        & WN       &  6       & 148      &  711     & 288.2432\\\\\n",
       "\t 2013     & 1        & 1        & WN       & 10       &  46      &  185     & 241.3043\\\\\n",
       "\t 2013     & 1        & 1        & WN       & -2       & 131      &  738     & 338.0153\\\\\n",
       "\t 2013     & 1        & 1        & WN       & 31       & 134      &  711     & 318.3582\\\\\n",
       "\t 2013     & 1        & 1        & WN       & -2       & 134      &  725     & 324.6269\\\\\n",
       "\\end{tabular}\n"
      ],
      "text/markdown": [
       "\n",
       "year | month | day | carrier | dep_delay | air_time | distance | speed | \n",
       "|---|---|---|---|---|---|---|---|---|---|---|---|---|---|---|---|---|---|---|---|---|---|---|---|---|---|---|---|---|---|---|---|---|---|---|---|---|---|---|---|---|---|---|---|---|---|---|---|---|---|---|---|---|---|---|---|---|---|---|---|---|\n",
       "| 2013     | 1        | 1        | 9E       |   0      | 189      | 1029     | 326.6667 | \n",
       "| 2013     | 1        | 1        | 9E       |  -9      |  57      |  228     | 240.0000 | \n",
       "| 2013     | 1        | 1        | 9E       |  -3      |  68      |  301     | 265.5882 | \n",
       "| 2013     | 1        | 1        | 9E       |  -6      |  57      |  209     | 220.0000 | \n",
       "| 2013     | 1        | 1        | 9E       |  -8      |  66      |  264     | 240.0000 | \n",
       "| 2013     | 1        | 1        | 9E       |   0      |  40      |  184     | 276.0000 | \n",
       "| 2013     | 1        | 1        | 9E       |   6      | 146      |  740     | 304.1096 | \n",
       "| 2013     | 1        | 1        | 9E       |   0      | 139      |  665     | 287.0504 | \n",
       "| 2013     | 1        | 1        | 9E       |  -8      | 150      |  765     | 306.0000 | \n",
       "| 2013     | 1        | 1        | 9E       |  -6      |  41      |  187     | 273.6585 | \n",
       "| 2013     | 1        | 1        | 9E       | -10      |  35      |   94     | 161.1429 | \n",
       "| 2013     | 1        | 1        | 9E       |  52      | 173      | 1029     | 356.8786 | \n",
       "| 2013     | 1        | 1        | 9E       |  88      |  72      |  427     | 355.8333 | \n",
       "| 2013     | 1        | 1        | 9E       |  -4      | 107      |  509     | 285.4206 | \n",
       "| 2013     | 1        | 1        | 9E       |  -3      | 106      |  636     | 360.0000 | \n",
       "| 2013     | 1        | 1        | 9E       |   0      | 207      | 1182     | 342.6087 | \n",
       "| 2013     | 1        | 1        | 9E       |   0      | 141      |  740     | 314.8936 | \n",
       "| 2013     | 1        | 1        | 9E       |  -2      |  75      |  427     | 341.6000 | \n",
       "| 2013     | 1        | 1        | 9E       |  59      |  NA      | 1391     |       NA | \n",
       "| 2013     | 1        | 1        | 9E       |   5      | 129      |  828     | 385.1163 | \n",
       "| 2013     | 1        | 1        | 9E       |  -5      |  76      |  340     | 268.4211 | \n",
       "| 2013     | 1        | 1        | 9E       |  -8      |  41      |  184     | 269.2683 | \n",
       "| 2013     | 1        | 1        | 9E       |   0      |  30      |   94     | 188.0000 | \n",
       "| 2013     | 1        | 1        | 9E       |  10      |  62      |  301     | 291.2903 | \n",
       "| 2013     | 1        | 1        | 9E       |  42      |  91      |  425     | 280.2198 | \n",
       "| 2013     | 1        | 1        | 9E       |  38      | 118      |  589     | 299.4915 | \n",
       "| 2013     | 1        | 1        | 9E       |  11      |  43      |  213     | 297.2093 | \n",
       "| 2013     | 1        | 1        | 9E       | 255      | 115      |  589     | 307.3043 | \n",
       "| 2013     | 1        | 1        | AA       |   2      | 160      | 1089     | 408.3750 | \n",
       "| 2013     | 1        | 1        | AA       |  -2      | 138      |  733     | 318.6957 | \n",
       "| ⋮ | ⋮ | ⋮ | ⋮ | ⋮ | ⋮ | ⋮ | ⋮ | \n",
       "| 2013     | 1        | 1        | VX       |  0       | 362      | 2475     | 410.2210 | \n",
       "| 2013     | 1        | 1        | VX       |  0       | 364      | 2586     | 426.2637 | \n",
       "| 2013     | 1        | 1        | VX       | -8       | 349      | 2475     | 425.5014 | \n",
       "| 2013     | 1        | 1        | WN       | -1       |  40      |  185     | 277.5000 | \n",
       "| 2013     | 1        | 1        | WN       | -1       | 279      | 1620     | 348.3871 | \n",
       "| 2013     | 1        | 1        | WN       | -3       | 146      |  711     | 292.1918 | \n",
       "| 2013     | 1        | 1        | WN       |  4       | 264      | 1605     | 364.7727 | \n",
       "| 2013     | 1        | 1        | WN       | -2       | 145      |  725     | 300.0000 | \n",
       "| 2013     | 1        | 1        | WN       | -3       | 143      |  738     | 309.6503 | \n",
       "| 2013     | 1        | 1        | WN       | -1       |  43      |  185     | 258.1395 | \n",
       "| 2013     | 1        | 1        | WN       | -5       | 176      |  888     | 302.7273 | \n",
       "| 2013     | 1        | 1        | WN       | -2       |  38      |  169     | 266.8421 | \n",
       "| 2013     | 1        | 1        | WN       |  0       | 142      |  711     | 300.4225 | \n",
       "| 2013     | 1        | 1        | WN       | -2       | 137      |  738     | 323.2117 | \n",
       "| 2013     | 1        | 1        | WN       |  0       | 264      | 1620     | 368.1818 | \n",
       "| 2013     | 1        | 1        | WN       |  6       | 239      | 1411     | 354.2259 | \n",
       "| 2013     | 1        | 1        | WN       | 16       | 334      | 2133     | 383.1737 | \n",
       "| 2013     | 1        | 1        | WN       |  5       | 141      |  725     | 308.5106 | \n",
       "| 2013     | 1        | 1        | WN       | -4       | 141      |  711     | 302.5532 | \n",
       "| 2013     | 1        | 1        | WN       | 16       | 133      |  738     | 332.9323 | \n",
       "| 2013     | 1        | 1        | WN       |  3       | 254      | 1605     | 379.1339 | \n",
       "| 2013     | 1        | 1        | WN       | -3       | 181      |  888     | 294.3646 | \n",
       "| 2013     | 1        | 1        | WN       |  7       | 181      |  872     | 289.0608 | \n",
       "| 2013     | 1        | 1        | WN       |  8       | 245      | 1411     | 345.5510 | \n",
       "| 2013     | 1        | 1        | WN       | -1       | 137      |  725     | 317.5182 | \n",
       "| 2013     | 1        | 1        | WN       |  6       | 148      |  711     | 288.2432 | \n",
       "| 2013     | 1        | 1        | WN       | 10       |  46      |  185     | 241.3043 | \n",
       "| 2013     | 1        | 1        | WN       | -2       | 131      |  738     | 338.0153 | \n",
       "| 2013     | 1        | 1        | WN       | 31       | 134      |  711     | 318.3582 | \n",
       "| 2013     | 1        | 1        | WN       | -2       | 134      |  725     | 324.6269 | \n",
       "\n",
       "\n"
      ],
      "text/plain": [
       "    year month day carrier dep_delay air_time distance speed   \n",
       "1   2013 1     1   9E        0       189      1029     326.6667\n",
       "2   2013 1     1   9E       -9        57       228     240.0000\n",
       "3   2013 1     1   9E       -3        68       301     265.5882\n",
       "4   2013 1     1   9E       -6        57       209     220.0000\n",
       "5   2013 1     1   9E       -8        66       264     240.0000\n",
       "6   2013 1     1   9E        0        40       184     276.0000\n",
       "7   2013 1     1   9E        6       146       740     304.1096\n",
       "8   2013 1     1   9E        0       139       665     287.0504\n",
       "9   2013 1     1   9E       -8       150       765     306.0000\n",
       "10  2013 1     1   9E       -6        41       187     273.6585\n",
       "11  2013 1     1   9E      -10        35        94     161.1429\n",
       "12  2013 1     1   9E       52       173      1029     356.8786\n",
       "13  2013 1     1   9E       88        72       427     355.8333\n",
       "14  2013 1     1   9E       -4       107       509     285.4206\n",
       "15  2013 1     1   9E       -3       106       636     360.0000\n",
       "16  2013 1     1   9E        0       207      1182     342.6087\n",
       "17  2013 1     1   9E        0       141       740     314.8936\n",
       "18  2013 1     1   9E       -2        75       427     341.6000\n",
       "19  2013 1     1   9E       59        NA      1391           NA\n",
       "20  2013 1     1   9E        5       129       828     385.1163\n",
       "21  2013 1     1   9E       -5        76       340     268.4211\n",
       "22  2013 1     1   9E       -8        41       184     269.2683\n",
       "23  2013 1     1   9E        0        30        94     188.0000\n",
       "24  2013 1     1   9E       10        62       301     291.2903\n",
       "25  2013 1     1   9E       42        91       425     280.2198\n",
       "26  2013 1     1   9E       38       118       589     299.4915\n",
       "27  2013 1     1   9E       11        43       213     297.2093\n",
       "28  2013 1     1   9E      255       115       589     307.3043\n",
       "29  2013 1     1   AA        2       160      1089     408.3750\n",
       "30  2013 1     1   AA       -2       138       733     318.6957\n",
       "⋮   ⋮    ⋮     ⋮   ⋮       ⋮         ⋮        ⋮        ⋮       \n",
       "813 2013 1     1   VX       0        362      2475     410.2210\n",
       "814 2013 1     1   VX       0        364      2586     426.2637\n",
       "815 2013 1     1   VX      -8        349      2475     425.5014\n",
       "816 2013 1     1   WN      -1         40       185     277.5000\n",
       "817 2013 1     1   WN      -1        279      1620     348.3871\n",
       "818 2013 1     1   WN      -3        146       711     292.1918\n",
       "819 2013 1     1   WN       4        264      1605     364.7727\n",
       "820 2013 1     1   WN      -2        145       725     300.0000\n",
       "821 2013 1     1   WN      -3        143       738     309.6503\n",
       "822 2013 1     1   WN      -1         43       185     258.1395\n",
       "823 2013 1     1   WN      -5        176       888     302.7273\n",
       "824 2013 1     1   WN      -2         38       169     266.8421\n",
       "825 2013 1     1   WN       0        142       711     300.4225\n",
       "826 2013 1     1   WN      -2        137       738     323.2117\n",
       "827 2013 1     1   WN       0        264      1620     368.1818\n",
       "828 2013 1     1   WN       6        239      1411     354.2259\n",
       "829 2013 1     1   WN      16        334      2133     383.1737\n",
       "830 2013 1     1   WN       5        141       725     308.5106\n",
       "831 2013 1     1   WN      -4        141       711     302.5532\n",
       "832 2013 1     1   WN      16        133       738     332.9323\n",
       "833 2013 1     1   WN       3        254      1605     379.1339\n",
       "834 2013 1     1   WN      -3        181       888     294.3646\n",
       "835 2013 1     1   WN       7        181       872     289.0608\n",
       "836 2013 1     1   WN       8        245      1411     345.5510\n",
       "837 2013 1     1   WN      -1        137       725     317.5182\n",
       "838 2013 1     1   WN       6        148       711     288.2432\n",
       "839 2013 1     1   WN      10         46       185     241.3043\n",
       "840 2013 1     1   WN      -2        131       738     338.0153\n",
       "841 2013 1     1   WN      31        134       711     318.3582\n",
       "842 2013 1     1   WN      -2        134       725     324.6269"
      ]
     },
     "metadata": {},
     "output_type": "display_data"
    }
   ],
   "source": [
    "collect(c4)"
   ]
  },
  {
   "cell_type": "markdown",
   "metadata": {},
   "source": [
    "You can see the query dplyr has generated by looking at the query component of the object"
   ]
  },
  {
   "cell_type": "code",
   "execution_count": 16,
   "metadata": {
    "collapsed": false
   },
   "outputs": [
    {
     "data": {
      "text/plain": [
       "NULL"
      ]
     },
     "metadata": {},
     "output_type": "display_data"
    }
   ],
   "source": [
    "c4$query"
   ]
  },
  {
   "cell_type": "markdown",
   "metadata": {},
   "source": [
    "You can also ask the database how it plans to execute the query with explain(). It’s helpful if you’re trying to figure out which indexes are being used."
   ]
  },
  {
   "cell_type": "code",
   "execution_count": 17,
   "metadata": {
    "collapsed": false
   },
   "outputs": [
    {
     "name": "stderr",
     "output_type": "stream",
     "text": [
      "<SQL>\n",
      "SELECT *\n",
      "FROM (SELECT `year`, `month`, `day`, `carrier`, `dep_delay`, `air_time`, `distance`, `distance` / `air_time` * 60.0 AS `speed`\n",
      "FROM (SELECT `year` AS `year`, `month` AS `month`, `day` AS `day`, `carrier` AS `carrier`, `dep_delay` AS `dep_delay`, `air_time` AS `air_time`, `distance` AS `distance`\n",
      "FROM (SELECT *\n",
      "FROM `flights`\n",
      "WHERE ((`year` = 2013.0) AND (`month` = 1.0) AND (`day` = 1.0)))))\n",
      "ORDER BY `year`, `month`, `day`, `carrier`\n",
      "\n",
      "\n",
      "<PLAN>\n",
      "   addr       opcode p1    p2 p3           p4 p5 comment\n",
      "1     0         Init  0    56  0              00      NA\n",
      "2     1   SorterOpen  4     9  0       k(1,B) 00      NA\n",
      "3     2     OpenRead  3   131  0           19 00      NA\n",
      "4     3     OpenRead  5 22656  0     k(4,,,,) 02      NA\n",
      "5     4         Real  0     1  0         2013 00      NA\n",
      "6     5         Real  0     2  0            1 00      NA\n",
      "7     6         Real  0     3  0            1 00      NA\n",
      "8     7     Affinity  1     3  0          DDD 00      NA\n",
      "9     8       SeekGE  5    36  1            3 00      NA\n",
      "10    9        IdxGT  5    36  1            3 00      NA\n",
      "11   10         Seek  5     0  3              00      NA\n",
      "12   11       Column  5     0  8              00      NA\n",
      "13   12       Column  5     1  9              00      NA\n",
      "14   13       Column  5     2 10              00      NA\n",
      "15   14       Column  3     9 11              00      NA\n",
      "16   15       Column  3     5 12              00      NA\n",
      "17   16 RealAffinity 12     0  0              00      NA\n",
      "18   17       Column  3    14 13              00      NA\n",
      "19   18 RealAffinity 13     0  0              00      NA\n",
      "20   19       Column  3    15 14              00      NA\n",
      "21   20 RealAffinity 14     0  0              00      NA\n",
      "22   21       Divide 13    14 16              00      NA\n",
      "23   22     Multiply 18    16 15              00      NA\n",
      "24   23         Copy  8     4  0              00      NA\n",
      "25   24         Copy  9     5  0              00      NA\n",
      "26   25         Copy 10     6  0              00      NA\n",
      "27   26         Copy 11     7  0              00      NA\n",
      "28   27   MakeRecord  7     9 19              00      NA\n",
      "29   28 SequenceTest  4    33  0              00      NA\n",
      "30   29      Compare 20     4  3 k(4,B,B,B,B) 00      NA\n",
      "31   30         Jump 31    34 31              00      NA\n",
      "32   31        Gosub 23    40  0              00      NA\n",
      "33   32  ResetSorter  4     0  0              00      NA\n",
      "34   33         Move  4    20  3              00      NA\n",
      "35   34 SorterInsert  4    19  0              00      NA\n",
      "36   35         Next  5     9  1              00      NA\n",
      "37   36        Close  3     0  0              00      NA\n",
      "38   37        Close  5     0  0              00      NA\n",
      "39   38        Gosub 23    40  0              00      NA\n",
      "40   39         Goto  0    55  0              00      NA\n",
      "41   40         Once  0    42  0              00      NA\n",
      "42   41   OpenPseudo  6    24 10              00      NA\n",
      "43   42   SorterSort  4    55  0              00      NA\n",
      "44   43   SorterData  4    24  6              00      NA\n",
      "45   44       Column  6     1  8              00      NA\n",
      "46   45       Column  6     2  9              00      NA\n",
      "47   46       Column  6     3 10              00      NA\n",
      "48   47       Column  6     4 11              00      NA\n",
      "49   48       Column  6     5 12              00      NA\n",
      "50   49       Column  6     6 13              00      NA\n",
      "51   50       Column  6     7 14              00      NA\n",
      "52   51       Column  6     8 15              00      NA\n",
      "53   52    ResultRow  8     8  0              00      NA\n",
      "54   53   SorterNext  4    43  0              00      NA\n",
      "55   54       Return 23     0  0              00      NA\n",
      "56   55         Halt  0     0  0              00      NA\n",
      "57   56  Transaction  0     0 16            0 01      NA\n",
      "58   57    TableLock  0   131  0      flights 00      NA\n",
      "59   58         Real  0    18  0           60 00      NA\n",
      "60   59         Goto  0     1  0              00      NA\n"
     ]
    }
   ],
   "source": [
    "explain(c4)"
   ]
  },
  {
   "cell_type": "markdown",
   "metadata": {},
   "source": [
    "When performing the simple mathematical operations used when filtering, mutating or summarising, translating R code to SQL (or indeed to any programming language) is relatively straightforward.\n",
    "dplyr knows how to convert the R functions to SQL"
   ]
  },
  {
   "cell_type": "code",
   "execution_count": 18,
   "metadata": {
    "collapsed": false
   },
   "outputs": [
    {
     "data": {
      "text/html": [
       "'\"x\"'"
      ],
      "text/latex": [
       "'\"x\"'"
      ],
      "text/markdown": [
       "'\"x\"'"
      ],
      "text/plain": [
       "<SQL> \"x\""
      ]
     },
     "metadata": {},
     "output_type": "display_data"
    }
   ],
   "source": [
    "translate_sql(x)"
   ]
  },
  {
   "cell_type": "code",
   "execution_count": 19,
   "metadata": {
    "collapsed": false
   },
   "outputs": [
    {
     "data": {
      "text/html": [
       "'\\'x''"
      ],
      "text/latex": [
       "'\\textbackslash{}'x''"
      ],
      "text/markdown": [
       "'\\'x''"
      ],
      "text/plain": [
       "<SQL> 'x'"
      ]
     },
     "metadata": {},
     "output_type": "display_data"
    }
   ],
   "source": [
    "translate_sql(\"x\")"
   ]
  },
  {
   "cell_type": "code",
   "execution_count": 20,
   "metadata": {
    "collapsed": false
   },
   "outputs": [
    {
     "data": {
      "text/html": [
       "'\"x\" = 1.0 AND (\"y\" &lt; 2.0 OR \"z\" &gt; 3.0)'"
      ],
      "text/latex": [
       "'\"x\" = 1.0 AND (\"y\" < 2.0 OR \"z\" > 3.0)'"
      ],
      "text/markdown": [
       "'\"x\" = 1.0 AND (\"y\" &lt; 2.0 OR \"z\" &gt; 3.0)'"
      ],
      "text/plain": [
       "<SQL> \"x\" = 1.0 AND (\"y\" < 2.0 OR \"z\" > 3.0)"
      ]
     },
     "metadata": {},
     "output_type": "display_data"
    }
   ],
   "source": [
    "translate_sql(x == 1 && (y < 2 || z > 3))"
   ]
  },
  {
   "cell_type": "code",
   "execution_count": 21,
   "metadata": {
    "collapsed": false
   },
   "outputs": [
    {
     "data": {
      "text/html": [
       "'POWER(\"x\", 2.0) &lt; 10.0'"
      ],
      "text/latex": [
       "'POWER(\"x\", 2.0) < 10.0'"
      ],
      "text/markdown": [
       "'POWER(\"x\", 2.0) &lt; 10.0'"
      ],
      "text/plain": [
       "<SQL> POWER(\"x\", 2.0) < 10.0"
      ]
     },
     "metadata": {},
     "output_type": "display_data"
    }
   ],
   "source": [
    "translate_sql(x ^ 2 < 10)"
   ]
  },
  {
   "cell_type": "code",
   "execution_count": 22,
   "metadata": {
    "collapsed": false
   },
   "outputs": [
    {
     "data": {
      "text/html": [
       "'\"x\" % 2.0 = 10.0'"
      ],
      "text/latex": [
       "'\"x\" \\% 2.0 = 10.0'"
      ],
      "text/markdown": [
       "'\"x\" % 2.0 = 10.0'"
      ],
      "text/plain": [
       "<SQL> \"x\" % 2.0 = 10.0"
      ]
     },
     "metadata": {},
     "output_type": "display_data"
    }
   ],
   "source": [
    "translate_sql(x %% 2 == 10)"
   ]
  },
  {
   "cell_type": "code",
   "execution_count": 23,
   "metadata": {
    "collapsed": false
   },
   "outputs": [
    {
     "data": {
      "text/html": [
       "'1.0'"
      ],
      "text/latex": [
       "'1.0'"
      ],
      "text/markdown": [
       "'1.0'"
      ],
      "text/plain": [
       "<SQL> 1.0"
      ]
     },
     "metadata": {},
     "output_type": "display_data"
    }
   ],
   "source": [
    "translate_sql(1)"
   ]
  },
  {
   "cell_type": "code",
   "execution_count": 24,
   "metadata": {
    "collapsed": false
   },
   "outputs": [
    {
     "data": {
      "text/html": [
       "'1'"
      ],
      "text/latex": [
       "'1'"
      ],
      "text/markdown": [
       "'1'"
      ],
      "text/plain": [
       "<SQL> 1"
      ]
     },
     "metadata": {},
     "output_type": "display_data"
    }
   ],
   "source": [
    "translate_sql(1L)"
   ]
  },
  {
   "cell_type": "code",
   "execution_count": 26,
   "metadata": {
    "collapsed": false
   },
   "outputs": [
    {
     "data": {
      "text/html": [
       "'GLOB(\"x\", \"y\")'"
      ],
      "text/latex": [
       "'GLOB(\"x\", \"y\")'"
      ],
      "text/markdown": [
       "'GLOB(\"x\", \"y\")'"
      ],
      "text/plain": [
       "<SQL> GLOB(\"x\", \"y\")"
      ]
     },
     "metadata": {},
     "output_type": "display_data"
    }
   ],
   "source": [
    "translate_sql(glob(x, y))"
   ]
  },
  {
   "cell_type": "code",
   "execution_count": 27,
   "metadata": {
    "collapsed": false
   },
   "outputs": [
    {
     "data": {
      "text/html": [
       "'\"x\" LIKE \\'ab*''"
      ],
      "text/latex": [
       "'\"x\" LIKE \\textbackslash{}'ab*''"
      ],
      "text/markdown": [
       "'\"x\" LIKE \\'ab*''"
      ],
      "text/plain": [
       "<SQL> \"x\" LIKE 'ab*'"
      ]
     },
     "metadata": {},
     "output_type": "display_data"
    }
   ],
   "source": [
    "translate_sql(x %like% \"ab*\")"
   ]
  },
  {
   "cell_type": "markdown",
   "metadata": {},
   "source": [
    "SQLite lacks the window functions that are needed for grouped mutation and filtering. This means that the only really useful operations for grouped SQLite tables are found in summarise(). The grouped summarise from the introduction translates well - the only difference is that databases always drop NULLs (their equivalent of missing values), so we don’t supply na.rm = TRUE."
   ]
  },
  {
   "cell_type": "code",
   "execution_count": 28,
   "metadata": {
    "collapsed": true
   },
   "outputs": [],
   "source": [
    "by_tailnum <- group_by(flights_sqlite, tailnum)\n",
    "delay <- summarise(by_tailnum,\n",
    "  count = n(),\n",
    "  dist = mean(distance),\n",
    "  delay = mean(arr_delay)\n",
    ")\n",
    "delay <- filter(delay, count > 20, dist < 2000)\n",
    "delay_local <- collect(delay)"
   ]
  },
  {
   "cell_type": "markdown",
   "metadata": {},
   "source": [
    "# References"
   ]
  },
  {
   "cell_type": "markdown",
   "metadata": {},
   "source": [
    "1. https://cran.r-project.org/web/packages/dplyr/vignettes/databases.html"
   ]
  }
 ],
 "metadata": {
  "kernelspec": {
   "display_name": "R",
   "language": "R",
   "name": "ir"
  },
  "language_info": {
   "codemirror_mode": "r",
   "file_extension": ".r",
   "mimetype": "text/x-r-source",
   "name": "R",
   "pygments_lexer": "r",
   "version": "3.3.2"
  }
 },
 "nbformat": 4,
 "nbformat_minor": 2
}
