{
 "cells": [
  {
   "cell_type": "markdown",
   "metadata": {},
   "source": [
    "# DIC LAB 2 Problem 2 B : Repurpose Data : European Soccer Data"
   ]
  },
  {
   "cell_type": "code",
   "execution_count": 25,
   "metadata": {
    "collapsed": false
   },
   "outputs": [],
   "source": [
    "library(\"XML\")\n",
    "library(\"methods\")\n",
    "library(\"dplyr\")\n",
    "library(\"tidyr\")"
   ]
  },
  {
   "cell_type": "markdown",
   "metadata": {},
   "source": [
    "Read the player data"
   ]
  },
  {
   "cell_type": "code",
   "execution_count": 26,
   "metadata": {
    "collapsed": false
   },
   "outputs": [],
   "source": [
    "playersFinalData <- read.csv(file=\"player.csv\", header=TRUE, sep=\",\")"
   ]
  },
  {
   "cell_type": "markdown",
   "metadata": {},
   "source": [
    "Read the team data "
   ]
  },
  {
   "cell_type": "code",
   "execution_count": 27,
   "metadata": {
    "collapsed": true
   },
   "outputs": [],
   "source": [
    "teamFinalData <- read.csv(file=\"team.csv\", header=TRUE, sep=\",\")"
   ]
  },
  {
   "cell_type": "markdown",
   "metadata": {},
   "source": [
    "Display the data"
   ]
  },
  {
   "cell_type": "code",
   "execution_count": 28,
   "metadata": {
    "collapsed": false
   },
   "outputs": [
    {
     "data": {
      "text/html": [
       "<table>\n",
       "<thead><tr><th scope=col>player_api_id</th><th scope=col>player_name</th><th scope=col>overall_rating</th><th scope=col>gk_rating</th><th scope=col>appearances</th><th scope=col>league_appearances</th></tr></thead>\n",
       "<tbody>\n",
       "\t<tr><td>505942            </td><td>Aaron Appindangoye</td><td>67                </td><td> 43               </td><td>  8               </td><td>1                 </td></tr>\n",
       "\t<tr><td>155782            </td><td>Aaron Cresswell   </td><td>74                </td><td>121               </td><td> 75               </td><td>1                 </td></tr>\n",
       "\t<tr><td>162549            </td><td>Aaron Doran       </td><td>71                </td><td>125               </td><td>104               </td><td>1                 </td></tr>\n",
       "\t<tr><td> 30572            </td><td>Aaron Galindo     </td><td>75                </td><td>111               </td><td> 10               </td><td>1                 </td></tr>\n",
       "\t<tr><td> 23780            </td><td>Aaron Hughes      </td><td>78                </td><td>129               </td><td>162               </td><td>1                 </td></tr>\n",
       "\t<tr><td> 27316            </td><td>Aaron Hunt        </td><td>79                </td><td>132               </td><td>158               </td><td>1                 </td></tr>\n",
       "</tbody>\n",
       "</table>\n"
      ],
      "text/latex": [
       "\\begin{tabular}{r|llllll}\n",
       " player\\_api\\_id & player\\_name & overall\\_rating & gk\\_rating & appearances & league\\_appearances\\\\\n",
       "\\hline\n",
       "\t 505942             & Aaron Appindangoye & 67                 &  43                &   8                & 1                 \\\\\n",
       "\t 155782             & Aaron Cresswell    & 74                 & 121                &  75                & 1                 \\\\\n",
       "\t 162549             & Aaron Doran        & 71                 & 125                & 104                & 1                 \\\\\n",
       "\t  30572             & Aaron Galindo      & 75                 & 111                &  10                & 1                 \\\\\n",
       "\t  23780             & Aaron Hughes       & 78                 & 129                & 162                & 1                 \\\\\n",
       "\t  27316             & Aaron Hunt         & 79                 & 132                & 158                & 1                 \\\\\n",
       "\\end{tabular}\n"
      ],
      "text/markdown": [
       "\n",
       "player_api_id | player_name | overall_rating | gk_rating | appearances | league_appearances | \n",
       "|---|---|---|---|---|---|\n",
       "| 505942             | Aaron Appindangoye | 67                 |  43                |   8                | 1                  | \n",
       "| 155782             | Aaron Cresswell    | 74                 | 121                |  75                | 1                  | \n",
       "| 162549             | Aaron Doran        | 71                 | 125                | 104                | 1                  | \n",
       "|  30572             | Aaron Galindo      | 75                 | 111                |  10                | 1                  | \n",
       "|  23780             | Aaron Hughes       | 78                 | 129                | 162                | 1                  | \n",
       "|  27316             | Aaron Hunt         | 79                 | 132                | 158                | 1                  | \n",
       "\n",
       "\n"
      ],
      "text/plain": [
       "  player_api_id player_name        overall_rating gk_rating appearances\n",
       "1 505942        Aaron Appindangoye 67              43         8        \n",
       "2 155782        Aaron Cresswell    74             121        75        \n",
       "3 162549        Aaron Doran        71             125       104        \n",
       "4  30572        Aaron Galindo      75             111        10        \n",
       "5  23780        Aaron Hughes       78             129       162        \n",
       "6  27316        Aaron Hunt         79             132       158        \n",
       "  league_appearances\n",
       "1 1                 \n",
       "2 1                 \n",
       "3 1                 \n",
       "4 1                 \n",
       "5 1                 \n",
       "6 1                 "
      ]
     },
     "metadata": {},
     "output_type": "display_data"
    }
   ],
   "source": [
    "head(playersFinalData)"
   ]
  },
  {
   "cell_type": "markdown",
   "metadata": {},
   "source": [
    "Display the data"
   ]
  },
  {
   "cell_type": "code",
   "execution_count": 29,
   "metadata": {
    "collapsed": false
   },
   "outputs": [
    {
     "data": {
      "text/html": [
       "<table>\n",
       "<thead><tr><th scope=col>team_api_id</th><th scope=col>team_long_name</th><th scope=col>chance_creation</th><th scope=col>build_up_play</th><th scope=col>defense</th><th scope=col>awayGoals</th><th scope=col>homeGoals</th><th scope=col>goals</th></tr></thead>\n",
       "<tbody>\n",
       "\t<tr><td> 9987            </td><td>KRC Genk         </td><td>182              </td><td>148              </td><td>205              </td><td>143              </td><td>205              </td><td>348              </td></tr>\n",
       "\t<tr><td> 9993            </td><td>Beerschot AC     </td><td>185              </td><td> NA              </td><td>210              </td><td> 62              </td><td>112              </td><td>174              </td></tr>\n",
       "\t<tr><td>10000            </td><td>SV Zulte-Waregem </td><td>153              </td><td>147              </td><td>200              </td><td>130              </td><td>176              </td><td>306              </td></tr>\n",
       "\t<tr><td> 9994            </td><td>Sporting Lokeren </td><td>154              </td><td>159              </td><td>200              </td><td>130              </td><td>149              </td><td>279              </td></tr>\n",
       "\t<tr><td> 9984            </td><td>KSV Cercle Brugge</td><td>200              </td><td>145              </td><td>195              </td><td> 94              </td><td>119              </td><td>213              </td></tr>\n",
       "\t<tr><td> 8635            </td><td>RSC Anderlecht   </td><td>182              </td><td>149              </td><td>190              </td><td>180              </td><td>247              </td><td>427              </td></tr>\n",
       "</tbody>\n",
       "</table>\n"
      ],
      "text/latex": [
       "\\begin{tabular}{r|llllllll}\n",
       " team\\_api\\_id & team\\_long\\_name & chance\\_creation & build\\_up\\_play & defense & awayGoals & homeGoals & goals\\\\\n",
       "\\hline\n",
       "\t  9987             & KRC Genk          & 182               & 148               & 205               & 143               & 205               & 348              \\\\\n",
       "\t  9993             & Beerschot AC      & 185               &  NA               & 210               &  62               & 112               & 174              \\\\\n",
       "\t 10000             & SV Zulte-Waregem  & 153               & 147               & 200               & 130               & 176               & 306              \\\\\n",
       "\t  9994             & Sporting Lokeren  & 154               & 159               & 200               & 130               & 149               & 279              \\\\\n",
       "\t  9984             & KSV Cercle Brugge & 200               & 145               & 195               &  94               & 119               & 213              \\\\\n",
       "\t  8635             & RSC Anderlecht    & 182               & 149               & 190               & 180               & 247               & 427              \\\\\n",
       "\\end{tabular}\n"
      ],
      "text/markdown": [
       "\n",
       "team_api_id | team_long_name | chance_creation | build_up_play | defense | awayGoals | homeGoals | goals | \n",
       "|---|---|---|---|---|---|\n",
       "|  9987             | KRC Genk          | 182               | 148               | 205               | 143               | 205               | 348               | \n",
       "|  9993             | Beerschot AC      | 185               |  NA               | 210               |  62               | 112               | 174               | \n",
       "| 10000             | SV Zulte-Waregem  | 153               | 147               | 200               | 130               | 176               | 306               | \n",
       "|  9994             | Sporting Lokeren  | 154               | 159               | 200               | 130               | 149               | 279               | \n",
       "|  9984             | KSV Cercle Brugge | 200               | 145               | 195               |  94               | 119               | 213               | \n",
       "|  8635             | RSC Anderlecht    | 182               | 149               | 190               | 180               | 247               | 427               | \n",
       "\n",
       "\n"
      ],
      "text/plain": [
       "  team_api_id team_long_name    chance_creation build_up_play defense awayGoals\n",
       "1  9987       KRC Genk          182             148           205     143      \n",
       "2  9993       Beerschot AC      185              NA           210      62      \n",
       "3 10000       SV Zulte-Waregem  153             147           200     130      \n",
       "4  9994       Sporting Lokeren  154             159           200     130      \n",
       "5  9984       KSV Cercle Brugge 200             145           195      94      \n",
       "6  8635       RSC Anderlecht    182             149           190     180      \n",
       "  homeGoals goals\n",
       "1 205       348  \n",
       "2 112       174  \n",
       "3 176       306  \n",
       "4 149       279  \n",
       "5 119       213  \n",
       "6 247       427  "
      ]
     },
     "metadata": {},
     "output_type": "display_data"
    }
   ],
   "source": [
    "head(teamFinalData)"
   ]
  },
  {
   "cell_type": "markdown",
   "metadata": {},
   "source": [
    "Qn) Which are the top 10 players by overall rating?"
   ]
  },
  {
   "cell_type": "code",
   "execution_count": 30,
   "metadata": {
    "collapsed": false
   },
   "outputs": [
    {
     "name": "stderr",
     "output_type": "stream",
     "text": [
      "Selecting by overall_rating\n"
     ]
    }
   ],
   "source": [
    "topPlayer = tbl_df(playersFinalData) %>% select(player_name,overall_rating) %>% top_n(10) %>% arrange(desc(overall_rating))"
   ]
  },
  {
   "cell_type": "code",
   "execution_count": 31,
   "metadata": {
    "collapsed": false
   },
   "outputs": [
    {
     "data": {
      "text/html": [
       "<table>\n",
       "<thead><tr><th scope=col>player_name</th><th scope=col>overall_rating</th></tr></thead>\n",
       "<tbody>\n",
       "\t<tr><td>Lionel Messi     </td><td>94               </td></tr>\n",
       "\t<tr><td>Cristiano Ronaldo</td><td>93               </td></tr>\n",
       "\t<tr><td>Gianluigi Buffon </td><td>93               </td></tr>\n",
       "\t<tr><td>Wayne Rooney     </td><td>93               </td></tr>\n",
       "\t<tr><td>Gregory Coupet   </td><td>92               </td></tr>\n",
       "\t<tr><td>Xavi Hernandez   </td><td>92               </td></tr>\n",
       "\t<tr><td>Alessandro Nesta </td><td>91               </td></tr>\n",
       "\t<tr><td>Andres Iniesta   </td><td>91               </td></tr>\n",
       "\t<tr><td>Fabio Cannavaro  </td><td>91               </td></tr>\n",
       "\t<tr><td>Iker Casillas    </td><td>91               </td></tr>\n",
       "</tbody>\n",
       "</table>\n"
      ],
      "text/latex": [
       "\\begin{tabular}{r|ll}\n",
       " player\\_name & overall\\_rating\\\\\n",
       "\\hline\n",
       "\t Lionel Messi      & 94               \\\\\n",
       "\t Cristiano Ronaldo & 93               \\\\\n",
       "\t Gianluigi Buffon  & 93               \\\\\n",
       "\t Wayne Rooney      & 93               \\\\\n",
       "\t Gregory Coupet    & 92               \\\\\n",
       "\t Xavi Hernandez    & 92               \\\\\n",
       "\t Alessandro Nesta  & 91               \\\\\n",
       "\t Andres Iniesta    & 91               \\\\\n",
       "\t Fabio Cannavaro   & 91               \\\\\n",
       "\t Iker Casillas     & 91               \\\\\n",
       "\\end{tabular}\n"
      ],
      "text/markdown": [
       "\n",
       "player_name | overall_rating | \n",
       "|---|---|---|---|---|---|---|---|---|---|\n",
       "| Lionel Messi      | 94                | \n",
       "| Cristiano Ronaldo | 93                | \n",
       "| Gianluigi Buffon  | 93                | \n",
       "| Wayne Rooney      | 93                | \n",
       "| Gregory Coupet    | 92                | \n",
       "| Xavi Hernandez    | 92                | \n",
       "| Alessandro Nesta  | 91                | \n",
       "| Andres Iniesta    | 91                | \n",
       "| Fabio Cannavaro   | 91                | \n",
       "| Iker Casillas     | 91                | \n",
       "\n",
       "\n"
      ],
      "text/plain": [
       "   player_name       overall_rating\n",
       "1  Lionel Messi      94            \n",
       "2  Cristiano Ronaldo 93            \n",
       "3  Gianluigi Buffon  93            \n",
       "4  Wayne Rooney      93            \n",
       "5  Gregory Coupet    92            \n",
       "6  Xavi Hernandez    92            \n",
       "7  Alessandro Nesta  91            \n",
       "8  Andres Iniesta    91            \n",
       "9  Fabio Cannavaro   91            \n",
       "10 Iker Casillas     91            "
      ]
     },
     "metadata": {},
     "output_type": "display_data"
    }
   ],
   "source": [
    "head(topPlayer,n=10)"
   ]
  },
  {
   "cell_type": "markdown",
   "metadata": {},
   "source": [
    "Qn) Which are the top 10 goalkeepers by sum of gk attributes?"
   ]
  },
  {
   "cell_type": "code",
   "execution_count": 32,
   "metadata": {
    "collapsed": false
   },
   "outputs": [
    {
     "name": "stderr",
     "output_type": "stream",
     "text": [
      "Selecting by gk_rating\n"
     ]
    }
   ],
   "source": [
    "topGoalKeeper = tbl_df(playersFinalData) %>% select(player_name,gk_rating) %>% top_n(10) %>% arrange(desc(gk_rating))"
   ]
  },
  {
   "cell_type": "code",
   "execution_count": 33,
   "metadata": {
    "collapsed": false
   },
   "outputs": [
    {
     "data": {
      "text/html": [
       "<table>\n",
       "<thead><tr><th scope=col>player_name</th><th scope=col>gk_rating</th></tr></thead>\n",
       "<tbody>\n",
       "\t<tr><td>Gianluigi Buffon </td><td>449              </td></tr>\n",
       "\t<tr><td>Gregory Coupet   </td><td>447              </td></tr>\n",
       "\t<tr><td>Petr Cech        </td><td>445              </td></tr>\n",
       "\t<tr><td>Iker Casillas    </td><td>442              </td></tr>\n",
       "\t<tr><td>Manuel Neuer     </td><td>440              </td></tr>\n",
       "\t<tr><td>Julio Cesar      </td><td>438              </td></tr>\n",
       "\t<tr><td>Sebastian Frey   </td><td>437              </td></tr>\n",
       "\t<tr><td>Edwin van der Sar</td><td>436              </td></tr>\n",
       "\t<tr><td>David De Gea     </td><td>429              </td></tr>\n",
       "\t<tr><td>Pepe Reina       </td><td>428              </td></tr>\n",
       "</tbody>\n",
       "</table>\n"
      ],
      "text/latex": [
       "\\begin{tabular}{r|ll}\n",
       " player\\_name & gk\\_rating\\\\\n",
       "\\hline\n",
       "\t Gianluigi Buffon  & 449              \\\\\n",
       "\t Gregory Coupet    & 447              \\\\\n",
       "\t Petr Cech         & 445              \\\\\n",
       "\t Iker Casillas     & 442              \\\\\n",
       "\t Manuel Neuer      & 440              \\\\\n",
       "\t Julio Cesar       & 438              \\\\\n",
       "\t Sebastian Frey    & 437              \\\\\n",
       "\t Edwin van der Sar & 436              \\\\\n",
       "\t David De Gea      & 429              \\\\\n",
       "\t Pepe Reina        & 428              \\\\\n",
       "\\end{tabular}\n"
      ],
      "text/markdown": [
       "\n",
       "player_name | gk_rating | \n",
       "|---|---|---|---|---|---|---|---|---|---|\n",
       "| Gianluigi Buffon  | 449               | \n",
       "| Gregory Coupet    | 447               | \n",
       "| Petr Cech         | 445               | \n",
       "| Iker Casillas     | 442               | \n",
       "| Manuel Neuer      | 440               | \n",
       "| Julio Cesar       | 438               | \n",
       "| Sebastian Frey    | 437               | \n",
       "| Edwin van der Sar | 436               | \n",
       "| David De Gea      | 429               | \n",
       "| Pepe Reina        | 428               | \n",
       "\n",
       "\n"
      ],
      "text/plain": [
       "   player_name       gk_rating\n",
       "1  Gianluigi Buffon  449      \n",
       "2  Gregory Coupet    447      \n",
       "3  Petr Cech         445      \n",
       "4  Iker Casillas     442      \n",
       "5  Manuel Neuer      440      \n",
       "6  Julio Cesar       438      \n",
       "7  Sebastian Frey    437      \n",
       "8  Edwin van der Sar 436      \n",
       "9  David De Gea      429      \n",
       "10 Pepe Reina        428      "
      ]
     },
     "metadata": {},
     "output_type": "display_data"
    }
   ],
   "source": [
    "head(topGoalKeeper,n=10)"
   ]
  },
  {
   "cell_type": "markdown",
   "metadata": {},
   "source": [
    "Qn) Which are the top 10 players by number of appearances (with any team they played with)?"
   ]
  },
  {
   "cell_type": "code",
   "execution_count": 34,
   "metadata": {
    "collapsed": false
   },
   "outputs": [
    {
     "name": "stderr",
     "output_type": "stream",
     "text": [
      "Selecting by appearances\n"
     ]
    }
   ],
   "source": [
    "topAppearances = select(playersFinalData,player_name,appearances) %>% top_n(10) %>% arrange(desc(appearances))"
   ]
  },
  {
   "cell_type": "code",
   "execution_count": 35,
   "metadata": {
    "collapsed": false
   },
   "outputs": [
    {
     "data": {
      "text/html": [
       "<table>\n",
       "<thead><tr><th scope=col>player_name</th><th scope=col>appearances</th></tr></thead>\n",
       "<tbody>\n",
       "\t<tr><td>Steve Mandanda      </td><td>300                 </td></tr>\n",
       "\t<tr><td>Stephane Ruffier    </td><td>294                 </td></tr>\n",
       "\t<tr><td>Gorka Iraizoz Moreno</td><td>286                 </td></tr>\n",
       "\t<tr><td>Samir Handanovic    </td><td>286                 </td></tr>\n",
       "\t<tr><td>Hugo Lloris         </td><td>282                 </td></tr>\n",
       "\t<tr><td>Tim Howard          </td><td>282                 </td></tr>\n",
       "\t<tr><td>Joe Hart            </td><td>275                 </td></tr>\n",
       "\t<tr><td>Cedric Carrasso     </td><td>268                 </td></tr>\n",
       "\t<tr><td>Daniel Congre       </td><td>262                 </td></tr>\n",
       "\t<tr><td>Moussa Sissoko      </td><td>260                 </td></tr>\n",
       "</tbody>\n",
       "</table>\n"
      ],
      "text/latex": [
       "\\begin{tabular}{r|ll}\n",
       " player\\_name & appearances\\\\\n",
       "\\hline\n",
       "\t Steve Mandanda       & 300                 \\\\\n",
       "\t Stephane Ruffier     & 294                 \\\\\n",
       "\t Gorka Iraizoz Moreno & 286                 \\\\\n",
       "\t Samir Handanovic     & 286                 \\\\\n",
       "\t Hugo Lloris          & 282                 \\\\\n",
       "\t Tim Howard           & 282                 \\\\\n",
       "\t Joe Hart             & 275                 \\\\\n",
       "\t Cedric Carrasso      & 268                 \\\\\n",
       "\t Daniel Congre        & 262                 \\\\\n",
       "\t Moussa Sissoko       & 260                 \\\\\n",
       "\\end{tabular}\n"
      ],
      "text/markdown": [
       "\n",
       "player_name | appearances | \n",
       "|---|---|---|---|---|---|---|---|---|---|\n",
       "| Steve Mandanda       | 300                  | \n",
       "| Stephane Ruffier     | 294                  | \n",
       "| Gorka Iraizoz Moreno | 286                  | \n",
       "| Samir Handanovic     | 286                  | \n",
       "| Hugo Lloris          | 282                  | \n",
       "| Tim Howard           | 282                  | \n",
       "| Joe Hart             | 275                  | \n",
       "| Cedric Carrasso      | 268                  | \n",
       "| Daniel Congre        | 262                  | \n",
       "| Moussa Sissoko       | 260                  | \n",
       "\n",
       "\n"
      ],
      "text/plain": [
       "   player_name          appearances\n",
       "1  Steve Mandanda       300        \n",
       "2  Stephane Ruffier     294        \n",
       "3  Gorka Iraizoz Moreno 286        \n",
       "4  Samir Handanovic     286        \n",
       "5  Hugo Lloris          282        \n",
       "6  Tim Howard           282        \n",
       "7  Joe Hart             275        \n",
       "8  Cedric Carrasso      268        \n",
       "9  Daniel Congre        262        \n",
       "10 Moussa Sissoko       260        "
      ]
     },
     "metadata": {},
     "output_type": "display_data"
    }
   ],
   "source": [
    "head(topAppearances,n=10)"
   ]
  },
  {
   "cell_type": "markdown",
   "metadata": {},
   "source": [
    "Qn) Which are the top 10 players by number of leagues they played in?"
   ]
  },
  {
   "cell_type": "code",
   "execution_count": 36,
   "metadata": {
    "collapsed": false
   },
   "outputs": [
    {
     "name": "stderr",
     "output_type": "stream",
     "text": [
      "Selecting by league_appearances\n"
     ]
    }
   ],
   "source": [
    "topLeagueAppearances = select(playersFinalData,player_name,league_appearances) %>% top_n(10) %>% arrange(desc(league_appearances))"
   ]
  },
  {
   "cell_type": "code",
   "execution_count": 37,
   "metadata": {
    "collapsed": false
   },
   "outputs": [
    {
     "data": {
      "text/html": [
       "<table>\n",
       "<thead><tr><th scope=col>player_name</th><th scope=col>league_appearances</th></tr></thead>\n",
       "<tbody>\n",
       "\t<tr><td>Gelson Fernandes     </td><td>6                    </td></tr>\n",
       "\t<tr><td>Filip Djuricic       </td><td>5                    </td></tr>\n",
       "\t<tr><td>Ricky van Wolfswinkel</td><td>5                    </td></tr>\n",
       "\t<tr><td>Aleksandar Tonev     </td><td>4                    </td></tr>\n",
       "\t<tr><td>Alfred Finnbogason   </td><td>4                    </td></tr>\n",
       "\t<tr><td>Almen Abdi           </td><td>4                    </td></tr>\n",
       "\t<tr><td>Aly Cissokho         </td><td>4                    </td></tr>\n",
       "\t<tr><td>Angel Di Maria       </td><td>4                    </td></tr>\n",
       "\t<tr><td>Bojan Krkic          </td><td>4                    </td></tr>\n",
       "\t<tr><td>Bryan Ruiz           </td><td>4                    </td></tr>\n",
       "</tbody>\n",
       "</table>\n"
      ],
      "text/latex": [
       "\\begin{tabular}{r|ll}\n",
       " player\\_name & league\\_appearances\\\\\n",
       "\\hline\n",
       "\t Gelson Fernandes      & 6                    \\\\\n",
       "\t Filip Djuricic        & 5                    \\\\\n",
       "\t Ricky van Wolfswinkel & 5                    \\\\\n",
       "\t Aleksandar Tonev      & 4                    \\\\\n",
       "\t Alfred Finnbogason    & 4                    \\\\\n",
       "\t Almen Abdi            & 4                    \\\\\n",
       "\t Aly Cissokho          & 4                    \\\\\n",
       "\t Angel Di Maria        & 4                    \\\\\n",
       "\t Bojan Krkic           & 4                    \\\\\n",
       "\t Bryan Ruiz            & 4                    \\\\\n",
       "\\end{tabular}\n"
      ],
      "text/markdown": [
       "\n",
       "player_name | league_appearances | \n",
       "|---|---|---|---|---|---|---|---|---|---|\n",
       "| Gelson Fernandes      | 6                     | \n",
       "| Filip Djuricic        | 5                     | \n",
       "| Ricky van Wolfswinkel | 5                     | \n",
       "| Aleksandar Tonev      | 4                     | \n",
       "| Alfred Finnbogason    | 4                     | \n",
       "| Almen Abdi            | 4                     | \n",
       "| Aly Cissokho          | 4                     | \n",
       "| Angel Di Maria        | 4                     | \n",
       "| Bojan Krkic           | 4                     | \n",
       "| Bryan Ruiz            | 4                     | \n",
       "\n",
       "\n"
      ],
      "text/plain": [
       "   player_name           league_appearances\n",
       "1  Gelson Fernandes      6                 \n",
       "2  Filip Djuricic        5                 \n",
       "3  Ricky van Wolfswinkel 5                 \n",
       "4  Aleksandar Tonev      4                 \n",
       "5  Alfred Finnbogason    4                 \n",
       "6  Almen Abdi            4                 \n",
       "7  Aly Cissokho          4                 \n",
       "8  Angel Di Maria        4                 \n",
       "9  Bojan Krkic           4                 \n",
       "10 Bryan Ruiz            4                 "
      ]
     },
     "metadata": {},
     "output_type": "display_data"
    }
   ],
   "source": [
    "head(topLeagueAppearances,n=10)"
   ]
  },
  {
   "cell_type": "markdown",
   "metadata": {},
   "source": [
    "Qn) Which are the top 10 teams by sum of build up play attributes?"
   ]
  },
  {
   "cell_type": "code",
   "execution_count": 38,
   "metadata": {
    "collapsed": false
   },
   "outputs": [
    {
     "name": "stderr",
     "output_type": "stream",
     "text": [
      "Selecting by build_up_play\n"
     ]
    }
   ],
   "source": [
    "topBuildUpTeam = tbl_df(teamFinalData) %>% select(team_long_name,build_up_play) %>% top_n(10) %>% arrange(desc(build_up_play))"
   ]
  },
  {
   "cell_type": "code",
   "execution_count": 39,
   "metadata": {
    "collapsed": false
   },
   "outputs": [
    {
     "data": {
      "text/html": [
       "<table>\n",
       "<thead><tr><th scope=col>team_long_name</th><th scope=col>build_up_play</th></tr></thead>\n",
       "<tbody>\n",
       "\t<tr><td>Torino                    </td><td>209                       </td></tr>\n",
       "\t<tr><td>Udinese                   </td><td>205                       </td></tr>\n",
       "\t<tr><td>Fortuna Düsseldorf        </td><td>198                       </td></tr>\n",
       "\t<tr><td>Podbeskidzie Bielsko-Biała</td><td>193                       </td></tr>\n",
       "\t<tr><td>Korona Kielce             </td><td>192                       </td></tr>\n",
       "\t<tr><td>Carpi                     </td><td>190                       </td></tr>\n",
       "\t<tr><td>Widzew Łódź               </td><td>190                       </td></tr>\n",
       "\t<tr><td>Widzew Łódź               </td><td>190                       </td></tr>\n",
       "\t<tr><td>FC Nantes                 </td><td>189                       </td></tr>\n",
       "\t<tr><td>Lazio                     </td><td>188                       </td></tr>\n",
       "</tbody>\n",
       "</table>\n"
      ],
      "text/latex": [
       "\\begin{tabular}{r|ll}\n",
       " team\\_long\\_name & build\\_up\\_play\\\\\n",
       "\\hline\n",
       "\t Torino                     & 209                       \\\\\n",
       "\t Udinese                    & 205                       \\\\\n",
       "\t Fortuna Düsseldorf         & 198                       \\\\\n",
       "\t Podbeskidzie Bielsko-Biała & 193                       \\\\\n",
       "\t Korona Kielce              & 192                       \\\\\n",
       "\t Carpi                      & 190                       \\\\\n",
       "\t Widzew Łódź                & 190                       \\\\\n",
       "\t Widzew Łódź                & 190                       \\\\\n",
       "\t FC Nantes                  & 189                       \\\\\n",
       "\t Lazio                      & 188                       \\\\\n",
       "\\end{tabular}\n"
      ],
      "text/markdown": [
       "\n",
       "team_long_name | build_up_play | \n",
       "|---|---|---|---|---|---|---|---|---|---|\n",
       "| Torino                     | 209                        | \n",
       "| Udinese                    | 205                        | \n",
       "| Fortuna Düsseldorf         | 198                        | \n",
       "| Podbeskidzie Bielsko-Biała | 193                        | \n",
       "| Korona Kielce              | 192                        | \n",
       "| Carpi                      | 190                        | \n",
       "| Widzew Łódź                | 190                        | \n",
       "| Widzew Łódź                | 190                        | \n",
       "| FC Nantes                  | 189                        | \n",
       "| Lazio                      | 188                        | \n",
       "\n",
       "\n"
      ],
      "text/plain": [
       "   team_long_name             build_up_play\n",
       "1  Torino                     209          \n",
       "2  Udinese                    205          \n",
       "3  Fortuna Düsseldorf         198          \n",
       "4  Podbeskidzie Bielsko-Biała 193          \n",
       "5  Korona Kielce              192          \n",
       "6  Carpi                      190          \n",
       "7  Widzew Łódź                190          \n",
       "8  Widzew Łódź                190          \n",
       "9  FC Nantes                  189          \n",
       "10 Lazio                      188          "
      ]
     },
     "metadata": {},
     "output_type": "display_data"
    }
   ],
   "source": [
    "head(topBuildUpTeam,n=10)"
   ]
  },
  {
   "cell_type": "markdown",
   "metadata": {},
   "source": [
    "Qn) Which are the top 10 teams by sum of chance creation attributes?"
   ]
  },
  {
   "cell_type": "code",
   "execution_count": 40,
   "metadata": {
    "collapsed": false
   },
   "outputs": [
    {
     "name": "stderr",
     "output_type": "stream",
     "text": [
      "Selecting by chance_creation\n"
     ]
    }
   ],
   "source": [
    "topChanceCreationTeam = tbl_df(teamFinalData) %>% select(team_long_name,chance_creation) %>% top_n(10) %>% arrange(desc(chance_creation))"
   ]
  },
  {
   "cell_type": "code",
   "execution_count": 41,
   "metadata": {
    "collapsed": false
   },
   "outputs": [
    {
     "data": {
      "text/html": [
       "<table>\n",
       "<thead><tr><th scope=col>team_long_name</th><th scope=col>chance_creation</th></tr></thead>\n",
       "<tbody>\n",
       "\t<tr><td>Lazio                  </td><td>220                    </td></tr>\n",
       "\t<tr><td>SV Werder Bremen       </td><td>216                    </td></tr>\n",
       "\t<tr><td>Napoli                 </td><td>215                    </td></tr>\n",
       "\t<tr><td>Manchester City        </td><td>210                    </td></tr>\n",
       "\t<tr><td>Tottenham Hotspur      </td><td>210                    </td></tr>\n",
       "\t<tr><td>Birmingham City        </td><td>210                    </td></tr>\n",
       "\t<tr><td>Wolverhampton Wanderers</td><td>210                    </td></tr>\n",
       "\t<tr><td>Burnley                </td><td>210                    </td></tr>\n",
       "\t<tr><td>Swansea City           </td><td>210                    </td></tr>\n",
       "\t<tr><td>Queens Park Rangers    </td><td>210                    </td></tr>\n",
       "</tbody>\n",
       "</table>\n"
      ],
      "text/latex": [
       "\\begin{tabular}{r|ll}\n",
       " team\\_long\\_name & chance\\_creation\\\\\n",
       "\\hline\n",
       "\t Lazio                   & 220                    \\\\\n",
       "\t SV Werder Bremen        & 216                    \\\\\n",
       "\t Napoli                  & 215                    \\\\\n",
       "\t Manchester City         & 210                    \\\\\n",
       "\t Tottenham Hotspur       & 210                    \\\\\n",
       "\t Birmingham City         & 210                    \\\\\n",
       "\t Wolverhampton Wanderers & 210                    \\\\\n",
       "\t Burnley                 & 210                    \\\\\n",
       "\t Swansea City            & 210                    \\\\\n",
       "\t Queens Park Rangers     & 210                    \\\\\n",
       "\\end{tabular}\n"
      ],
      "text/markdown": [
       "\n",
       "team_long_name | chance_creation | \n",
       "|---|---|---|---|---|---|---|---|---|---|\n",
       "| Lazio                   | 220                     | \n",
       "| SV Werder Bremen        | 216                     | \n",
       "| Napoli                  | 215                     | \n",
       "| Manchester City         | 210                     | \n",
       "| Tottenham Hotspur       | 210                     | \n",
       "| Birmingham City         | 210                     | \n",
       "| Wolverhampton Wanderers | 210                     | \n",
       "| Burnley                 | 210                     | \n",
       "| Swansea City            | 210                     | \n",
       "| Queens Park Rangers     | 210                     | \n",
       "\n",
       "\n"
      ],
      "text/plain": [
       "   team_long_name          chance_creation\n",
       "1  Lazio                   220            \n",
       "2  SV Werder Bremen        216            \n",
       "3  Napoli                  215            \n",
       "4  Manchester City         210            \n",
       "5  Tottenham Hotspur       210            \n",
       "6  Birmingham City         210            \n",
       "7  Wolverhampton Wanderers 210            \n",
       "8  Burnley                 210            \n",
       "9  Swansea City            210            \n",
       "10 Queens Park Rangers     210            "
      ]
     },
     "metadata": {},
     "output_type": "display_data"
    }
   ],
   "source": [
    "head(topChanceCreationTeam,n=10)"
   ]
  },
  {
   "cell_type": "markdown",
   "metadata": {},
   "source": [
    "Qn) Which are the top 10 teams by sum of defense attributes?"
   ]
  },
  {
   "cell_type": "code",
   "execution_count": 42,
   "metadata": {
    "collapsed": false
   },
   "outputs": [
    {
     "name": "stderr",
     "output_type": "stream",
     "text": [
      "Selecting by defense\n"
     ]
    }
   ],
   "source": [
    "topDefenseTeam = tbl_df(teamFinalData) %>% select(team_long_name,defense) %>% top_n(10) %>% arrange(desc(defense))"
   ]
  },
  {
   "cell_type": "code",
   "execution_count": 43,
   "metadata": {
    "collapsed": false
   },
   "outputs": [
    {
     "data": {
      "text/html": [
       "<table>\n",
       "<thead><tr><th scope=col>team_long_name</th><th scope=col>defense</th></tr></thead>\n",
       "<tbody>\n",
       "\t<tr><td>Beerschot AC           </td><td>210                    </td></tr>\n",
       "\t<tr><td>KVC Westerlo           </td><td>210                    </td></tr>\n",
       "\t<tr><td>Sporting Charleroi     </td><td>210                    </td></tr>\n",
       "\t<tr><td>West Bromwich Albion   </td><td>210                    </td></tr>\n",
       "\t<tr><td>Hull City              </td><td>210                    </td></tr>\n",
       "\t<tr><td>Birmingham City        </td><td>210                    </td></tr>\n",
       "\t<tr><td>Wolverhampton Wanderers</td><td>210                    </td></tr>\n",
       "\t<tr><td>Blackpool              </td><td>210                    </td></tr>\n",
       "\t<tr><td>Swansea City           </td><td>210                    </td></tr>\n",
       "\t<tr><td>Queens Park Rangers    </td><td>210                    </td></tr>\n",
       "</tbody>\n",
       "</table>\n"
      ],
      "text/latex": [
       "\\begin{tabular}{r|ll}\n",
       " team\\_long\\_name & defense\\\\\n",
       "\\hline\n",
       "\t Beerschot AC            & 210                    \\\\\n",
       "\t KVC Westerlo            & 210                    \\\\\n",
       "\t Sporting Charleroi      & 210                    \\\\\n",
       "\t West Bromwich Albion    & 210                    \\\\\n",
       "\t Hull City               & 210                    \\\\\n",
       "\t Birmingham City         & 210                    \\\\\n",
       "\t Wolverhampton Wanderers & 210                    \\\\\n",
       "\t Blackpool               & 210                    \\\\\n",
       "\t Swansea City            & 210                    \\\\\n",
       "\t Queens Park Rangers     & 210                    \\\\\n",
       "\\end{tabular}\n"
      ],
      "text/markdown": [
       "\n",
       "team_long_name | defense | \n",
       "|---|---|---|---|---|---|---|---|---|---|\n",
       "| Beerschot AC            | 210                     | \n",
       "| KVC Westerlo            | 210                     | \n",
       "| Sporting Charleroi      | 210                     | \n",
       "| West Bromwich Albion    | 210                     | \n",
       "| Hull City               | 210                     | \n",
       "| Birmingham City         | 210                     | \n",
       "| Wolverhampton Wanderers | 210                     | \n",
       "| Blackpool               | 210                     | \n",
       "| Swansea City            | 210                     | \n",
       "| Queens Park Rangers     | 210                     | \n",
       "\n",
       "\n"
      ],
      "text/plain": [
       "   team_long_name          defense\n",
       "1  Beerschot AC            210    \n",
       "2  KVC Westerlo            210    \n",
       "3  Sporting Charleroi      210    \n",
       "4  West Bromwich Albion    210    \n",
       "5  Hull City               210    \n",
       "6  Birmingham City         210    \n",
       "7  Wolverhampton Wanderers 210    \n",
       "8  Blackpool               210    \n",
       "9  Swansea City            210    \n",
       "10 Queens Park Rangers     210    "
      ]
     },
     "metadata": {},
     "output_type": "display_data"
    }
   ],
   "source": [
    "head(topDefenseTeam,n=10)"
   ]
  },
  {
   "cell_type": "markdown",
   "metadata": {},
   "source": [
    "Qn) Which are the top 10 teams by number of scored goals?"
   ]
  },
  {
   "cell_type": "code",
   "execution_count": 44,
   "metadata": {
    "collapsed": false
   },
   "outputs": [
    {
     "name": "stderr",
     "output_type": "stream",
     "text": [
      "Selecting by goals\n"
     ]
    }
   ],
   "source": [
    "topGoalScoringTeams = teamFinalData %>% select(team_long_name,goals) %>% top_n(10) %>% arrange(desc(goals))"
   ]
  },
  {
   "cell_type": "code",
   "execution_count": 45,
   "metadata": {
    "collapsed": false
   },
   "outputs": [
    {
     "data": {
      "text/html": [
       "<table>\n",
       "<thead><tr><th scope=col>team_long_name</th><th scope=col>goals</th></tr></thead>\n",
       "<tbody>\n",
       "\t<tr><td>FC Barcelona     </td><td>849              </td></tr>\n",
       "\t<tr><td>Real Madrid CF   </td><td>843              </td></tr>\n",
       "\t<tr><td>Celtic           </td><td>695              </td></tr>\n",
       "\t<tr><td>FC Bayern Munich </td><td>653              </td></tr>\n",
       "\t<tr><td>PSV              </td><td>652              </td></tr>\n",
       "\t<tr><td>Ajax             </td><td>647              </td></tr>\n",
       "\t<tr><td>FC Basel         </td><td>619              </td></tr>\n",
       "\t<tr><td>Manchester City  </td><td>606              </td></tr>\n",
       "\t<tr><td>Chelsea          </td><td>583              </td></tr>\n",
       "\t<tr><td>Manchester United</td><td>582              </td></tr>\n",
       "</tbody>\n",
       "</table>\n"
      ],
      "text/latex": [
       "\\begin{tabular}{r|ll}\n",
       " team\\_long\\_name & goals\\\\\n",
       "\\hline\n",
       "\t FC Barcelona      & 849              \\\\\n",
       "\t Real Madrid CF    & 843              \\\\\n",
       "\t Celtic            & 695              \\\\\n",
       "\t FC Bayern Munich  & 653              \\\\\n",
       "\t PSV               & 652              \\\\\n",
       "\t Ajax              & 647              \\\\\n",
       "\t FC Basel          & 619              \\\\\n",
       "\t Manchester City   & 606              \\\\\n",
       "\t Chelsea           & 583              \\\\\n",
       "\t Manchester United & 582              \\\\\n",
       "\\end{tabular}\n"
      ],
      "text/markdown": [
       "\n",
       "team_long_name | goals | \n",
       "|---|---|---|---|---|---|---|---|---|---|\n",
       "| FC Barcelona      | 849               | \n",
       "| Real Madrid CF    | 843               | \n",
       "| Celtic            | 695               | \n",
       "| FC Bayern Munich  | 653               | \n",
       "| PSV               | 652               | \n",
       "| Ajax              | 647               | \n",
       "| FC Basel          | 619               | \n",
       "| Manchester City   | 606               | \n",
       "| Chelsea           | 583               | \n",
       "| Manchester United | 582               | \n",
       "\n",
       "\n"
      ],
      "text/plain": [
       "   team_long_name    goals\n",
       "1  FC Barcelona      849  \n",
       "2  Real Madrid CF    843  \n",
       "3  Celtic            695  \n",
       "4  FC Bayern Munich  653  \n",
       "5  PSV               652  \n",
       "6  Ajax              647  \n",
       "7  FC Basel          619  \n",
       "8  Manchester City   606  \n",
       "9  Chelsea           583  \n",
       "10 Manchester United 582  "
      ]
     },
     "metadata": {},
     "output_type": "display_data"
    }
   ],
   "source": [
    "head(topGoalScoringTeams,n=10)"
   ]
  },
  {
   "cell_type": "markdown",
   "metadata": {},
   "source": [
    "# References"
   ]
  },
  {
   "cell_type": "markdown",
   "metadata": {},
   "source": [
    "1. https://cran.r-project.org/web/packages/dplyr/dplyr.pdf\n",
    "2. https://cran.rstudio.com/web/packages/dplyr/vignettes/introduction.html\n",
    "3. https://cran.r-project.org/web/packages/dplyr/vignettes/two-table.html\n",
    "4. https://cran.r-project.org/web/packages/tidyr/vignettes/tidy-data.html\n",
    "5. https://blog.rstudio.org/2014/07/22/introducing-tidyr/\n",
    "6. https://rpubs.com/bradleyboehmke/data_wrangling\n",
    "7. https://rdrr.io/cran/dplyr/man/join.tbl_sql.html\n",
    "8. http://stat545.com/bit001_dplyr-cheatsheet.html"
   ]
  },
  {
   "cell_type": "code",
   "execution_count": null,
   "metadata": {
    "collapsed": true
   },
   "outputs": [],
   "source": []
  }
 ],
 "metadata": {
  "kernelspec": {
   "display_name": "R",
   "language": "R",
   "name": "ir"
  },
  "language_info": {
   "codemirror_mode": "r",
   "file_extension": ".r",
   "mimetype": "text/x-r-source",
   "name": "R",
   "pygments_lexer": "r",
   "version": "3.3.2"
  }
 },
 "nbformat": 4,
 "nbformat_minor": 2
}
