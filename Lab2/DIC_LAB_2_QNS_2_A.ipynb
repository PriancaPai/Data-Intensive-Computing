{
 "cells": [
  {
   "cell_type": "markdown",
   "metadata": {},
   "source": [
    "# DIC LAB 2 Problem 2 A: Extract Data : European Soccer Data"
   ]
  },
  {
   "cell_type": "markdown",
   "metadata": {},
   "source": [
    "Define all the libraries which needs to be set for operations here"
   ]
  },
  {
   "cell_type": "code",
   "execution_count": 1,
   "metadata": {
    "collapsed": false
   },
   "outputs": [
    {
     "name": "stderr",
     "output_type": "stream",
     "text": [
      "\n",
      "Attaching package: ‘dplyr’\n",
      "\n",
      "The following objects are masked from ‘package:stats’:\n",
      "\n",
      "    filter, lag\n",
      "\n",
      "The following objects are masked from ‘package:base’:\n",
      "\n",
      "    intersect, setdiff, setequal, union\n",
      "\n"
     ]
    }
   ],
   "source": [
    "library(\"XML\")\n",
    "library(\"methods\")\n",
    "library(\"dplyr\")\n",
    "library(\"tidyr\")"
   ]
  },
  {
   "cell_type": "markdown",
   "metadata": {},
   "source": [
    "Define the database name"
   ]
  },
  {
   "cell_type": "code",
   "execution_count": 2,
   "metadata": {
    "collapsed": true
   },
   "outputs": [],
   "source": [
    "dbName = toString(\"database.sqlite\")"
   ]
  },
  {
   "cell_type": "markdown",
   "metadata": {},
   "source": [
    "Connect to the database"
   ]
  },
  {
   "cell_type": "code",
   "execution_count": 3,
   "metadata": {
    "collapsed": true
   },
   "outputs": [],
   "source": [
    "my_db <- src_sqlite(dbName, create = FALSE)"
   ]
  },
  {
   "cell_type": "markdown",
   "metadata": {},
   "source": [
    "Query the Player table"
   ]
  },
  {
   "cell_type": "code",
   "execution_count": 4,
   "metadata": {
    "collapsed": true
   },
   "outputs": [],
   "source": [
    "playerTable = tbl(my_db, sql(\"SELECT player_api_id,player_name FROM Player\"))"
   ]
  },
  {
   "cell_type": "markdown",
   "metadata": {},
   "source": [
    "Query the Player Attributes table"
   ]
  },
  {
   "cell_type": "code",
   "execution_count": 5,
   "metadata": {
    "collapsed": true
   },
   "outputs": [],
   "source": [
    "playerAttrTable = tbl(my_db, sql(\"SELECT player_api_id,overall_rating,gk_diving,gk_handling,gk_kicking,gk_positioning,gk_reflexes FROM Player_Attributes\"))"
   ]
  },
  {
   "cell_type": "markdown",
   "metadata": {},
   "source": [
    "Add the gk_rating field to the table using mutate and gk fields"
   ]
  },
  {
   "cell_type": "code",
   "execution_count": 6,
   "metadata": {
    "collapsed": true
   },
   "outputs": [],
   "source": [
    "playerAttrTable = mutate(playerAttrTable, gk_rating = (gk_diving + gk_handling + gk_kicking + gk_positioning + gk_reflexes))"
   ]
  },
  {
   "cell_type": "markdown",
   "metadata": {},
   "source": [
    "Group all the players by their id and find the different max ratings"
   ]
  },
  {
   "cell_type": "code",
   "execution_count": 7,
   "metadata": {
    "collapsed": true
   },
   "outputs": [],
   "source": [
    "playerAttrTable = playerAttrTable %>% \n",
    "    group_by(player_api_id) %>%\n",
    "    summarize(overall_rating = max(overall_rating), gk_rating = max(gk_rating))"
   ]
  },
  {
   "cell_type": "markdown",
   "metadata": {},
   "source": [
    "Print the table content"
   ]
  },
  {
   "cell_type": "code",
   "execution_count": 8,
   "metadata": {
    "collapsed": false
   },
   "outputs": [
    {
     "data": {
      "text/plain": [
       "Source:   query [?? x 3]\n",
       "Database: sqlite 3.11.1 [database.sqlite]\n",
       "\n",
       "   player_api_id overall_rating gk_rating\n",
       "           <int>          <int>     <int>\n",
       "1           2625             63       153\n",
       "2           2752             72        53\n",
       "3           2768             75       128\n",
       "4           2770             74       148\n",
       "5           2790             73       144\n",
       "6           2796             69       340\n",
       "7           2802             82       146\n",
       "8           2805             76       141\n",
       "9           2857             72       143\n",
       "10          2862             76       146\n",
       "# ... with more rows"
      ]
     },
     "metadata": {},
     "output_type": "display_data"
    }
   ],
   "source": [
    "playerAttrTable"
   ]
  },
  {
   "cell_type": "markdown",
   "metadata": {},
   "source": [
    "Left Join the tables by player id"
   ]
  },
  {
   "cell_type": "code",
   "execution_count": 9,
   "metadata": {
    "collapsed": true
   },
   "outputs": [],
   "source": [
    "playerData = left_join(playerTable, playerAttrTable, by = \"player_api_id\")"
   ]
  },
  {
   "cell_type": "markdown",
   "metadata": {},
   "source": [
    "Print the data after join"
   ]
  },
  {
   "cell_type": "code",
   "execution_count": 10,
   "metadata": {
    "collapsed": false
   },
   "outputs": [
    {
     "data": {
      "text/plain": [
       "Source:   query [?? x 4]\n",
       "Database: sqlite 3.11.1 [database.sqlite]\n",
       "\n",
       "   player_api_id        player_name overall_rating gk_rating\n",
       "           <int>              <chr>          <int>     <int>\n",
       "1         505942 Aaron Appindangoye             67        43\n",
       "2         155782    Aaron Cresswell             74       121\n",
       "3         162549        Aaron Doran             71       125\n",
       "4          30572      Aaron Galindo             75       111\n",
       "5          23780       Aaron Hughes             78       129\n",
       "6          27316         Aaron Hunt             79       132\n",
       "7         564793         Aaron Kuhl             61        64\n",
       "8          30895       Aaron Lennon             84       146\n",
       "9         528212       Aaron Lennox             48       237\n",
       "10        101042      Aaron Meijers             69        54\n",
       "# ... with more rows"
      ]
     },
     "metadata": {},
     "output_type": "display_data"
    }
   ],
   "source": [
    "playerData"
   ]
  },
  {
   "cell_type": "markdown",
   "metadata": {},
   "source": [
    "Query the Match table"
   ]
  },
  {
   "cell_type": "code",
   "execution_count": 11,
   "metadata": {
    "collapsed": true
   },
   "outputs": [],
   "source": [
    "matchTable = tbl(my_db, sql(\"SELECT league_id,home_team_api_id,away_team_api_id,home_team_goal,away_team_goal,home_player_1,home_player_2,home_player_3,home_player_4,home_player_5,home_player_6,home_player_7,home_player_8,home_player_9,home_player_10,home_player_11,away_player_1,away_player_2,away_player_3,away_player_4,away_player_5,away_player_6,away_player_7,away_player_8,away_player_9,away_player_10,away_player_11 FROM Match\"))"
   ]
  },
  {
   "cell_type": "markdown",
   "metadata": {},
   "source": [
    "Group the Match table based on the player id"
   ]
  },
  {
   "cell_type": "code",
   "execution_count": 12,
   "metadata": {
    "collapsed": true
   },
   "outputs": [],
   "source": [
    "playerMatchDataTable = gather(tbl_df(matchTable), players, player_api_id, home_player_1 : away_player_11)"
   ]
  },
  {
   "cell_type": "markdown",
   "metadata": {},
   "source": [
    "Group the players based on their id and summarize the attributes"
   ]
  },
  {
   "cell_type": "code",
   "execution_count": 13,
   "metadata": {
    "collapsed": true
   },
   "outputs": [],
   "source": [
    "playerMatchesDF = playerMatchDataTable %>% \n",
    "    group_by(player_api_id) %>%\n",
    "    summarize(appearances = n(),league_appearances = n_distinct(league_id))"
   ]
  },
  {
   "cell_type": "markdown",
   "metadata": {},
   "source": [
    "Print the data "
   ]
  },
  {
   "cell_type": "code",
   "execution_count": 14,
   "metadata": {
    "collapsed": false
   },
   "outputs": [
    {
     "data": {
      "text/html": [
       "<table>\n",
       "<thead><tr><th scope=col>player_api_id</th><th scope=col>appearances</th><th scope=col>league_appearances</th></tr></thead>\n",
       "<tbody>\n",
       "\t<tr><td>2625</td><td> 90 </td><td>1   </td></tr>\n",
       "\t<tr><td>2752</td><td> 81 </td><td>1   </td></tr>\n",
       "\t<tr><td>2768</td><td> 71 </td><td>1   </td></tr>\n",
       "\t<tr><td>2770</td><td> 16 </td><td>2   </td></tr>\n",
       "\t<tr><td>2790</td><td> 50 </td><td>1   </td></tr>\n",
       "\t<tr><td>2796</td><td>  1 </td><td>1   </td></tr>\n",
       "\t<tr><td>2802</td><td>144 </td><td>2   </td></tr>\n",
       "\t<tr><td>2805</td><td>131 </td><td>1   </td></tr>\n",
       "\t<tr><td>2857</td><td>  3 </td><td>1   </td></tr>\n",
       "\t<tr><td>2862</td><td> 17 </td><td>1   </td></tr>\n",
       "\t<tr><td>2907</td><td>  6 </td><td>1   </td></tr>\n",
       "\t<tr><td>2973</td><td> 16 </td><td>1   </td></tr>\n",
       "\t<tr><td>2977</td><td>  5 </td><td>1   </td></tr>\n",
       "\t<tr><td>2983</td><td> 71 </td><td>1   </td></tr>\n",
       "\t<tr><td>2984</td><td> 38 </td><td>1   </td></tr>\n",
       "\t<tr><td>3140</td><td> 42 </td><td>1   </td></tr>\n",
       "\t<tr><td>3204</td><td> 42 </td><td>1   </td></tr>\n",
       "\t<tr><td>3263</td><td> 19 </td><td>1   </td></tr>\n",
       "\t<tr><td>3264</td><td>  1 </td><td>1   </td></tr>\n",
       "\t<tr><td>3316</td><td>  6 </td><td>1   </td></tr>\n",
       "\t<tr><td>3329</td><td> 85 </td><td>1   </td></tr>\n",
       "\t<tr><td>3377</td><td>  1 </td><td>1   </td></tr>\n",
       "\t<tr><td>3441</td><td> 74 </td><td>1   </td></tr>\n",
       "\t<tr><td>3512</td><td>  4 </td><td>1   </td></tr>\n",
       "\t<tr><td>3517</td><td> 17 </td><td>1   </td></tr>\n",
       "\t<tr><td>3520</td><td> 70 </td><td>1   </td></tr>\n",
       "\t<tr><td>4747</td><td> 36 </td><td>1   </td></tr>\n",
       "\t<tr><td>4863</td><td> 25 </td><td>1   </td></tr>\n",
       "\t<tr><td>4902</td><td> 68 </td><td>1   </td></tr>\n",
       "\t<tr><td>4939</td><td> 97 </td><td>1   </td></tr>\n",
       "\t<tr><td>⋮</td><td>⋮</td><td>⋮</td></tr>\n",
       "\t<tr><td>703659</td><td>    1 </td><td> 1    </td></tr>\n",
       "\t<tr><td>704523</td><td>    4 </td><td> 1    </td></tr>\n",
       "\t<tr><td>705484</td><td>    4 </td><td> 1    </td></tr>\n",
       "\t<tr><td>706985</td><td>    2 </td><td> 1    </td></tr>\n",
       "\t<tr><td>710807</td><td>    1 </td><td> 1    </td></tr>\n",
       "\t<tr><td>715642</td><td>    1 </td><td> 1    </td></tr>\n",
       "\t<tr><td>716998</td><td>    1 </td><td> 1    </td></tr>\n",
       "\t<tr><td>717248</td><td>    4 </td><td> 1    </td></tr>\n",
       "\t<tr><td>717270</td><td>    1 </td><td> 1    </td></tr>\n",
       "\t<tr><td>717557</td><td>    4 </td><td> 1    </td></tr>\n",
       "\t<tr><td>719413</td><td>    3 </td><td> 1    </td></tr>\n",
       "\t<tr><td>720738</td><td>    5 </td><td> 1    </td></tr>\n",
       "\t<tr><td>721133</td><td>   15 </td><td> 1    </td></tr>\n",
       "\t<tr><td>722766</td><td>   13 </td><td> 1    </td></tr>\n",
       "\t<tr><td>723037</td><td>    7 </td><td> 1    </td></tr>\n",
       "\t<tr><td>725718</td><td>    1 </td><td> 1    </td></tr>\n",
       "\t<tr><td>726956</td><td>    4 </td><td> 1    </td></tr>\n",
       "\t<tr><td>728125</td><td>    2 </td><td> 1    </td></tr>\n",
       "\t<tr><td>728414</td><td>    1 </td><td> 1    </td></tr>\n",
       "\t<tr><td>728478</td><td>    1 </td><td> 1    </td></tr>\n",
       "\t<tr><td>730065</td><td>    1 </td><td> 1    </td></tr>\n",
       "\t<tr><td>733787</td><td>    2 </td><td> 1    </td></tr>\n",
       "\t<tr><td>742405</td><td>    1 </td><td> 1    </td></tr>\n",
       "\t<tr><td>743720</td><td>    1 </td><td> 1    </td></tr>\n",
       "\t<tr><td>744907</td><td>    1 </td><td> 1    </td></tr>\n",
       "\t<tr><td>746419</td><td>    2 </td><td> 1    </td></tr>\n",
       "\t<tr><td>748432</td><td>    2 </td><td> 1    </td></tr>\n",
       "\t<tr><td>750435</td><td>    1 </td><td> 1    </td></tr>\n",
       "\t<tr><td>750584</td><td>    1 </td><td> 1    </td></tr>\n",
       "\t<tr><td>    NA</td><td>29257 </td><td>11    </td></tr>\n",
       "</tbody>\n",
       "</table>\n"
      ],
      "text/latex": [
       "\\begin{tabular}{r|lll}\n",
       " player\\_api\\_id & appearances & league\\_appearances\\\\\n",
       "\\hline\n",
       "\t 2625 &  90  & 1   \\\\\n",
       "\t 2752 &  81  & 1   \\\\\n",
       "\t 2768 &  71  & 1   \\\\\n",
       "\t 2770 &  16  & 2   \\\\\n",
       "\t 2790 &  50  & 1   \\\\\n",
       "\t 2796 &   1  & 1   \\\\\n",
       "\t 2802 & 144  & 2   \\\\\n",
       "\t 2805 & 131  & 1   \\\\\n",
       "\t 2857 &   3  & 1   \\\\\n",
       "\t 2862 &  17  & 1   \\\\\n",
       "\t 2907 &   6  & 1   \\\\\n",
       "\t 2973 &  16  & 1   \\\\\n",
       "\t 2977 &   5  & 1   \\\\\n",
       "\t 2983 &  71  & 1   \\\\\n",
       "\t 2984 &  38  & 1   \\\\\n",
       "\t 3140 &  42  & 1   \\\\\n",
       "\t 3204 &  42  & 1   \\\\\n",
       "\t 3263 &  19  & 1   \\\\\n",
       "\t 3264 &   1  & 1   \\\\\n",
       "\t 3316 &   6  & 1   \\\\\n",
       "\t 3329 &  85  & 1   \\\\\n",
       "\t 3377 &   1  & 1   \\\\\n",
       "\t 3441 &  74  & 1   \\\\\n",
       "\t 3512 &   4  & 1   \\\\\n",
       "\t 3517 &  17  & 1   \\\\\n",
       "\t 3520 &  70  & 1   \\\\\n",
       "\t 4747 &  36  & 1   \\\\\n",
       "\t 4863 &  25  & 1   \\\\\n",
       "\t 4902 &  68  & 1   \\\\\n",
       "\t 4939 &  97  & 1   \\\\\n",
       "\t ⋮ & ⋮ & ⋮\\\\\n",
       "\t 703659 &     1  &  1    \\\\\n",
       "\t 704523 &     4  &  1    \\\\\n",
       "\t 705484 &     4  &  1    \\\\\n",
       "\t 706985 &     2  &  1    \\\\\n",
       "\t 710807 &     1  &  1    \\\\\n",
       "\t 715642 &     1  &  1    \\\\\n",
       "\t 716998 &     1  &  1    \\\\\n",
       "\t 717248 &     4  &  1    \\\\\n",
       "\t 717270 &     1  &  1    \\\\\n",
       "\t 717557 &     4  &  1    \\\\\n",
       "\t 719413 &     3  &  1    \\\\\n",
       "\t 720738 &     5  &  1    \\\\\n",
       "\t 721133 &    15  &  1    \\\\\n",
       "\t 722766 &    13  &  1    \\\\\n",
       "\t 723037 &     7  &  1    \\\\\n",
       "\t 725718 &     1  &  1    \\\\\n",
       "\t 726956 &     4  &  1    \\\\\n",
       "\t 728125 &     2  &  1    \\\\\n",
       "\t 728414 &     1  &  1    \\\\\n",
       "\t 728478 &     1  &  1    \\\\\n",
       "\t 730065 &     1  &  1    \\\\\n",
       "\t 733787 &     2  &  1    \\\\\n",
       "\t 742405 &     1  &  1    \\\\\n",
       "\t 743720 &     1  &  1    \\\\\n",
       "\t 744907 &     1  &  1    \\\\\n",
       "\t 746419 &     2  &  1    \\\\\n",
       "\t 748432 &     2  &  1    \\\\\n",
       "\t 750435 &     1  &  1    \\\\\n",
       "\t 750584 &     1  &  1    \\\\\n",
       "\t     NA & 29257  & 11    \\\\\n",
       "\\end{tabular}\n"
      ],
      "text/markdown": [
       "\n",
       "player_api_id | appearances | league_appearances | \n",
       "|---|---|---|---|---|---|---|---|---|---|---|---|---|---|---|---|---|---|---|---|---|---|---|---|---|---|---|---|---|---|---|---|---|---|---|---|---|---|---|---|---|---|---|---|---|---|---|---|---|---|---|---|---|---|---|---|---|---|---|---|---|\n",
       "| 2625 |  90  | 1    | \n",
       "| 2752 |  81  | 1    | \n",
       "| 2768 |  71  | 1    | \n",
       "| 2770 |  16  | 2    | \n",
       "| 2790 |  50  | 1    | \n",
       "| 2796 |   1  | 1    | \n",
       "| 2802 | 144  | 2    | \n",
       "| 2805 | 131  | 1    | \n",
       "| 2857 |   3  | 1    | \n",
       "| 2862 |  17  | 1    | \n",
       "| 2907 |   6  | 1    | \n",
       "| 2973 |  16  | 1    | \n",
       "| 2977 |   5  | 1    | \n",
       "| 2983 |  71  | 1    | \n",
       "| 2984 |  38  | 1    | \n",
       "| 3140 |  42  | 1    | \n",
       "| 3204 |  42  | 1    | \n",
       "| 3263 |  19  | 1    | \n",
       "| 3264 |   1  | 1    | \n",
       "| 3316 |   6  | 1    | \n",
       "| 3329 |  85  | 1    | \n",
       "| 3377 |   1  | 1    | \n",
       "| 3441 |  74  | 1    | \n",
       "| 3512 |   4  | 1    | \n",
       "| 3517 |  17  | 1    | \n",
       "| 3520 |  70  | 1    | \n",
       "| 4747 |  36  | 1    | \n",
       "| 4863 |  25  | 1    | \n",
       "| 4902 |  68  | 1    | \n",
       "| 4939 |  97  | 1    | \n",
       "| ⋮ | ⋮ | ⋮ | \n",
       "| 703659 |     1  |  1     | \n",
       "| 704523 |     4  |  1     | \n",
       "| 705484 |     4  |  1     | \n",
       "| 706985 |     2  |  1     | \n",
       "| 710807 |     1  |  1     | \n",
       "| 715642 |     1  |  1     | \n",
       "| 716998 |     1  |  1     | \n",
       "| 717248 |     4  |  1     | \n",
       "| 717270 |     1  |  1     | \n",
       "| 717557 |     4  |  1     | \n",
       "| 719413 |     3  |  1     | \n",
       "| 720738 |     5  |  1     | \n",
       "| 721133 |    15  |  1     | \n",
       "| 722766 |    13  |  1     | \n",
       "| 723037 |     7  |  1     | \n",
       "| 725718 |     1  |  1     | \n",
       "| 726956 |     4  |  1     | \n",
       "| 728125 |     2  |  1     | \n",
       "| 728414 |     1  |  1     | \n",
       "| 728478 |     1  |  1     | \n",
       "| 730065 |     1  |  1     | \n",
       "| 733787 |     2  |  1     | \n",
       "| 742405 |     1  |  1     | \n",
       "| 743720 |     1  |  1     | \n",
       "| 744907 |     1  |  1     | \n",
       "| 746419 |     2  |  1     | \n",
       "| 748432 |     2  |  1     | \n",
       "| 750435 |     1  |  1     | \n",
       "| 750584 |     1  |  1     | \n",
       "|     NA | 29257  | 11     | \n",
       "\n",
       "\n"
      ],
      "text/plain": [
       "      player_api_id appearances league_appearances\n",
       "1     2625           90         1                 \n",
       "2     2752           81         1                 \n",
       "3     2768           71         1                 \n",
       "4     2770           16         2                 \n",
       "5     2790           50         1                 \n",
       "6     2796            1         1                 \n",
       "7     2802          144         2                 \n",
       "8     2805          131         1                 \n",
       "9     2857            3         1                 \n",
       "10    2862           17         1                 \n",
       "11    2907            6         1                 \n",
       "12    2973           16         1                 \n",
       "13    2977            5         1                 \n",
       "14    2983           71         1                 \n",
       "15    2984           38         1                 \n",
       "16    3140           42         1                 \n",
       "17    3204           42         1                 \n",
       "18    3263           19         1                 \n",
       "19    3264            1         1                 \n",
       "20    3316            6         1                 \n",
       "21    3329           85         1                 \n",
       "22    3377            1         1                 \n",
       "23    3441           74         1                 \n",
       "24    3512            4         1                 \n",
       "25    3517           17         1                 \n",
       "26    3520           70         1                 \n",
       "27    4747           36         1                 \n",
       "28    4863           25         1                 \n",
       "29    4902           68         1                 \n",
       "30    4939           97         1                 \n",
       "⋮     ⋮             ⋮           ⋮                 \n",
       "11032 703659            1        1                \n",
       "11033 704523            4        1                \n",
       "11034 705484            4        1                \n",
       "11035 706985            2        1                \n",
       "11036 710807            1        1                \n",
       "11037 715642            1        1                \n",
       "11038 716998            1        1                \n",
       "11039 717248            4        1                \n",
       "11040 717270            1        1                \n",
       "11041 717557            4        1                \n",
       "11042 719413            3        1                \n",
       "11043 720738            5        1                \n",
       "11044 721133           15        1                \n",
       "11045 722766           13        1                \n",
       "11046 723037            7        1                \n",
       "11047 725718            1        1                \n",
       "11048 726956            4        1                \n",
       "11049 728125            2        1                \n",
       "11050 728414            1        1                \n",
       "11051 728478            1        1                \n",
       "11052 730065            1        1                \n",
       "11053 733787            2        1                \n",
       "11054 742405            1        1                \n",
       "11055 743720            1        1                \n",
       "11056 744907            1        1                \n",
       "11057 746419            2        1                \n",
       "11058 748432            2        1                \n",
       "11059 750435            1        1                \n",
       "11060 750584            1        1                \n",
       "11061     NA        29257       11                "
      ]
     },
     "metadata": {},
     "output_type": "display_data"
    }
   ],
   "source": [
    "playerMatchesDF"
   ]
  },
  {
   "cell_type": "markdown",
   "metadata": {},
   "source": [
    "Join the two tables now based on the player id"
   ]
  },
  {
   "cell_type": "code",
   "execution_count": 15,
   "metadata": {
    "collapsed": false
   },
   "outputs": [],
   "source": [
    "playersFinalData = left_join(tbl_df(playerData), playerMatchesDF, by = \"player_api_id\")"
   ]
  },
  {
   "cell_type": "markdown",
   "metadata": {},
   "source": [
    "Print the data "
   ]
  },
  {
   "cell_type": "code",
   "execution_count": 16,
   "metadata": {
    "collapsed": false
   },
   "outputs": [
    {
     "data": {
      "text/html": [
       "<table>\n",
       "<thead><tr><th scope=col>player_api_id</th><th scope=col>player_name</th><th scope=col>overall_rating</th><th scope=col>gk_rating</th><th scope=col>appearances</th><th scope=col>league_appearances</th></tr></thead>\n",
       "<tbody>\n",
       "\t<tr><td>505942            </td><td>Aaron Appindangoye</td><td>67                </td><td> 43               </td><td>  8               </td><td>1                 </td></tr>\n",
       "\t<tr><td>155782            </td><td>Aaron Cresswell   </td><td>74                </td><td>121               </td><td> 75               </td><td>1                 </td></tr>\n",
       "\t<tr><td>162549            </td><td>Aaron Doran       </td><td>71                </td><td>125               </td><td>104               </td><td>1                 </td></tr>\n",
       "\t<tr><td> 30572            </td><td>Aaron Galindo     </td><td>75                </td><td>111               </td><td> 10               </td><td>1                 </td></tr>\n",
       "\t<tr><td> 23780            </td><td>Aaron Hughes      </td><td>78                </td><td>129               </td><td>162               </td><td>1                 </td></tr>\n",
       "\t<tr><td> 27316            </td><td>Aaron Hunt        </td><td>79                </td><td>132               </td><td>158               </td><td>1                 </td></tr>\n",
       "\t<tr><td>564793            </td><td>Aaron Kuhl        </td><td>61                </td><td> 64               </td><td>  5               </td><td>1                 </td></tr>\n",
       "\t<tr><td> 30895            </td><td>Aaron Lennon      </td><td>84                </td><td>146               </td><td>181               </td><td>1                 </td></tr>\n",
       "\t<tr><td>528212            </td><td>Aaron Lennox      </td><td>48                </td><td>237               </td><td>  1               </td><td>1                 </td></tr>\n",
       "\t<tr><td>101042            </td><td>Aaron Meijers     </td><td>69                </td><td> 54               </td><td>167               </td><td>1                 </td></tr>\n",
       "</tbody>\n",
       "</table>\n"
      ],
      "text/latex": [
       "\\begin{tabular}{r|llllll}\n",
       " player\\_api\\_id & player\\_name & overall\\_rating & gk\\_rating & appearances & league\\_appearances\\\\\n",
       "\\hline\n",
       "\t 505942             & Aaron Appindangoye & 67                 &  43                &   8                & 1                 \\\\\n",
       "\t 155782             & Aaron Cresswell    & 74                 & 121                &  75                & 1                 \\\\\n",
       "\t 162549             & Aaron Doran        & 71                 & 125                & 104                & 1                 \\\\\n",
       "\t  30572             & Aaron Galindo      & 75                 & 111                &  10                & 1                 \\\\\n",
       "\t  23780             & Aaron Hughes       & 78                 & 129                & 162                & 1                 \\\\\n",
       "\t  27316             & Aaron Hunt         & 79                 & 132                & 158                & 1                 \\\\\n",
       "\t 564793             & Aaron Kuhl         & 61                 &  64                &   5                & 1                 \\\\\n",
       "\t  30895             & Aaron Lennon       & 84                 & 146                & 181                & 1                 \\\\\n",
       "\t 528212             & Aaron Lennox       & 48                 & 237                &   1                & 1                 \\\\\n",
       "\t 101042             & Aaron Meijers      & 69                 &  54                & 167                & 1                 \\\\\n",
       "\\end{tabular}\n"
      ],
      "text/markdown": [
       "\n",
       "player_api_id | player_name | overall_rating | gk_rating | appearances | league_appearances | \n",
       "|---|---|---|---|---|---|---|---|---|---|\n",
       "| 505942             | Aaron Appindangoye | 67                 |  43                |   8                | 1                  | \n",
       "| 155782             | Aaron Cresswell    | 74                 | 121                |  75                | 1                  | \n",
       "| 162549             | Aaron Doran        | 71                 | 125                | 104                | 1                  | \n",
       "|  30572             | Aaron Galindo      | 75                 | 111                |  10                | 1                  | \n",
       "|  23780             | Aaron Hughes       | 78                 | 129                | 162                | 1                  | \n",
       "|  27316             | Aaron Hunt         | 79                 | 132                | 158                | 1                  | \n",
       "| 564793             | Aaron Kuhl         | 61                 |  64                |   5                | 1                  | \n",
       "|  30895             | Aaron Lennon       | 84                 | 146                | 181                | 1                  | \n",
       "| 528212             | Aaron Lennox       | 48                 | 237                |   1                | 1                  | \n",
       "| 101042             | Aaron Meijers      | 69                 |  54                | 167                | 1                  | \n",
       "\n",
       "\n"
      ],
      "text/plain": [
       "   player_api_id player_name        overall_rating gk_rating appearances\n",
       "1  505942        Aaron Appindangoye 67              43         8        \n",
       "2  155782        Aaron Cresswell    74             121        75        \n",
       "3  162549        Aaron Doran        71             125       104        \n",
       "4   30572        Aaron Galindo      75             111        10        \n",
       "5   23780        Aaron Hughes       78             129       162        \n",
       "6   27316        Aaron Hunt         79             132       158        \n",
       "7  564793        Aaron Kuhl         61              64         5        \n",
       "8   30895        Aaron Lennon       84             146       181        \n",
       "9  528212        Aaron Lennox       48             237         1        \n",
       "10 101042        Aaron Meijers      69              54       167        \n",
       "   league_appearances\n",
       "1  1                 \n",
       "2  1                 \n",
       "3  1                 \n",
       "4  1                 \n",
       "5  1                 \n",
       "6  1                 \n",
       "7  1                 \n",
       "8  1                 \n",
       "9  1                 \n",
       "10 1                 "
      ]
     },
     "metadata": {},
     "output_type": "display_data"
    }
   ],
   "source": [
    "head(playersFinalData,n=10)"
   ]
  },
  {
   "cell_type": "markdown",
   "metadata": {},
   "source": [
    "Query the Team table"
   ]
  },
  {
   "cell_type": "code",
   "execution_count": 17,
   "metadata": {
    "collapsed": true
   },
   "outputs": [],
   "source": [
    "teamTable = tbl(my_db, sql(\"SELECT team_api_id,team_long_name FROM Team\"))"
   ]
  },
  {
   "cell_type": "markdown",
   "metadata": {},
   "source": [
    "Query the Team attribute table"
   ]
  },
  {
   "cell_type": "code",
   "execution_count": 18,
   "metadata": {
    "collapsed": true
   },
   "outputs": [],
   "source": [
    "teamAttrTable = tbl(my_db, sql(\"SELECT team_api_id,buildUpPlaySpeed,buildUpPlayDribbling,buildUpPlayPassing,chanceCreationPassing,chanceCreationCrossing,chanceCreationShooting,defencePressure,defenceAggression,defenceTeamWidth FROM Team_Attributes\"))"
   ]
  },
  {
   "cell_type": "markdown",
   "metadata": {},
   "source": [
    "Add the extra fields using different tables"
   ]
  },
  {
   "cell_type": "code",
   "execution_count": 19,
   "metadata": {
    "collapsed": true
   },
   "outputs": [],
   "source": [
    "teamAttrTable = mutate(teamAttrTable, chance_creation = (chanceCreationPassing + chanceCreationCrossing + chanceCreationShooting), build_up_play =(buildUpPlaySpeed +buildUpPlayDribbling+buildUpPlayPassing), defense = (defencePressure+defenceAggression+defenceTeamWidth))"
   ]
  },
  {
   "cell_type": "markdown",
   "metadata": {},
   "source": [
    "Group the team table based on the team id and max Values"
   ]
  },
  {
   "cell_type": "code",
   "execution_count": 20,
   "metadata": {
    "collapsed": true
   },
   "outputs": [],
   "source": [
    "teamAttrTable = teamAttrTable %>% \n",
    "    group_by(team_api_id) %>%\n",
    "    summarize(chance_creation = max(chance_creation), build_up_play = max(build_up_play), defense = max(defense))"
   ]
  },
  {
   "cell_type": "markdown",
   "metadata": {},
   "source": [
    "Print the data "
   ]
  },
  {
   "cell_type": "code",
   "execution_count": 21,
   "metadata": {
    "collapsed": false
   },
   "outputs": [
    {
     "data": {
      "text/plain": [
       "Source:   query [?? x 4]\n",
       "Database: sqlite 3.11.1 [database.sqlite]\n",
       "\n",
       "   team_api_id chance_creation build_up_play defense\n",
       "         <int>           <int>         <int>   <int>\n",
       "1         1601             186           139     175\n",
       "2         1773             157           153     137\n",
       "3         1957             163           158     210\n",
       "4         2033             165           147     155\n",
       "5         2182             196           176     160\n",
       "6         2183             180            NA     175\n",
       "7         2186             168           125     205\n",
       "8         4087             180           156     165\n",
       "9         4170             165            NA     200\n",
       "10        6269             172           179     151\n",
       "# ... with more rows"
      ]
     },
     "metadata": {},
     "output_type": "display_data"
    }
   ],
   "source": [
    "teamAttrTable"
   ]
  },
  {
   "cell_type": "markdown",
   "metadata": {},
   "source": [
    "Join the two tables into one"
   ]
  },
  {
   "cell_type": "code",
   "execution_count": 22,
   "metadata": {
    "collapsed": true
   },
   "outputs": [],
   "source": [
    "teamTableData = left_join(teamTable, teamAttrTable, by = \"team_api_id\")"
   ]
  },
  {
   "cell_type": "markdown",
   "metadata": {},
   "source": [
    "Print the data "
   ]
  },
  {
   "cell_type": "code",
   "execution_count": 23,
   "metadata": {
    "collapsed": false
   },
   "outputs": [
    {
     "data": {
      "text/plain": [
       "Source:   query [?? x 5]\n",
       "Database: sqlite 3.11.1 [database.sqlite]\n",
       "\n",
       "   team_api_id    team_long_name chance_creation build_up_play defense\n",
       "         <int>             <chr>           <int>         <int>   <int>\n",
       "1         9987          KRC Genk             182           148     205\n",
       "2         9993      Beerschot AC             185            NA     210\n",
       "3        10000  SV Zulte-Waregem             153           147     200\n",
       "4         9994  Sporting Lokeren             154           159     200\n",
       "5         9984 KSV Cercle Brugge             200           145     195\n",
       "6         8635    RSC Anderlecht             182           149     190\n",
       "7         9991          KAA Gent             184           142     166\n",
       "8         9998         RAEC Mons             168           160     138\n",
       "9         7947     FCV Dender EH              NA            NA      NA\n",
       "10        9985 Standard de Liège             182           161     205\n",
       "# ... with more rows"
      ]
     },
     "metadata": {},
     "output_type": "display_data"
    }
   ],
   "source": [
    "teamTableData"
   ]
  },
  {
   "cell_type": "markdown",
   "metadata": {},
   "source": [
    "Group the teams based on the two given ids"
   ]
  },
  {
   "cell_type": "code",
   "execution_count": 24,
   "metadata": {
    "collapsed": true
   },
   "outputs": [],
   "source": [
    "teamMatchDataTable = gather(tbl_df(matchTable), team, team_api_id, home_team_api_id,away_team_api_id)"
   ]
  },
  {
   "cell_type": "markdown",
   "metadata": {},
   "source": [
    "Find the gilas scored by the home team "
   ]
  },
  {
   "cell_type": "code",
   "execution_count": 25,
   "metadata": {
    "collapsed": true
   },
   "outputs": [],
   "source": [
    "homeTeamGoals = gather(tbl_df(matchTable), team, team_api_id, home_team_api_id) %>% \n",
    "    group_by(team_api_id) %>%\n",
    "    summarize(homeGoals = sum(home_team_goal))"
   ]
  },
  {
   "cell_type": "markdown",
   "metadata": {},
   "source": [
    "Print the data "
   ]
  },
  {
   "cell_type": "code",
   "execution_count": 26,
   "metadata": {
    "collapsed": false
   },
   "outputs": [
    {
     "data": {
      "text/html": [
       "<table>\n",
       "<thead><tr><th scope=col>team_api_id</th><th scope=col>homeGoals</th></tr></thead>\n",
       "<tbody>\n",
       "\t<tr><td>1601</td><td>148 </td></tr>\n",
       "\t<tr><td>1773</td><td> 74 </td></tr>\n",
       "\t<tr><td>1957</td><td>176 </td></tr>\n",
       "\t<tr><td>2033</td><td> 70 </td></tr>\n",
       "\t<tr><td>2182</td><td>215 </td></tr>\n",
       "\t<tr><td>2183</td><td> 96 </td></tr>\n",
       "\t<tr><td>2186</td><td>144 </td></tr>\n",
       "\t<tr><td>4049</td><td> 22 </td></tr>\n",
       "\t<tr><td>4064</td><td> 13 </td></tr>\n",
       "\t<tr><td>4087</td><td>105 </td></tr>\n",
       "</tbody>\n",
       "</table>\n"
      ],
      "text/latex": [
       "\\begin{tabular}{r|ll}\n",
       " team\\_api\\_id & homeGoals\\\\\n",
       "\\hline\n",
       "\t 1601 & 148 \\\\\n",
       "\t 1773 &  74 \\\\\n",
       "\t 1957 & 176 \\\\\n",
       "\t 2033 &  70 \\\\\n",
       "\t 2182 & 215 \\\\\n",
       "\t 2183 &  96 \\\\\n",
       "\t 2186 & 144 \\\\\n",
       "\t 4049 &  22 \\\\\n",
       "\t 4064 &  13 \\\\\n",
       "\t 4087 & 105 \\\\\n",
       "\\end{tabular}\n"
      ],
      "text/markdown": [
       "\n",
       "team_api_id | homeGoals | \n",
       "|---|---|---|---|---|---|---|---|---|---|\n",
       "| 1601 | 148  | \n",
       "| 1773 |  74  | \n",
       "| 1957 | 176  | \n",
       "| 2033 |  70  | \n",
       "| 2182 | 215  | \n",
       "| 2183 |  96  | \n",
       "| 2186 | 144  | \n",
       "| 4049 |  22  | \n",
       "| 4064 |  13  | \n",
       "| 4087 | 105  | \n",
       "\n",
       "\n"
      ],
      "text/plain": [
       "   team_api_id homeGoals\n",
       "1  1601        148      \n",
       "2  1773         74      \n",
       "3  1957        176      \n",
       "4  2033         70      \n",
       "5  2182        215      \n",
       "6  2183         96      \n",
       "7  2186        144      \n",
       "8  4049         22      \n",
       "9  4064         13      \n",
       "10 4087        105      "
      ]
     },
     "metadata": {},
     "output_type": "display_data"
    }
   ],
   "source": [
    "head(homeTeamGoals,n =10)"
   ]
  },
  {
   "cell_type": "markdown",
   "metadata": {},
   "source": [
    "Group the teams based on the id's for away teams"
   ]
  },
  {
   "cell_type": "code",
   "execution_count": 27,
   "metadata": {
    "collapsed": true
   },
   "outputs": [],
   "source": [
    "awayTeamGoals = gather(tbl_df(matchTable), team, team_api_id, away_team_api_id) %>% \n",
    "    group_by(team_api_id) %>%\n",
    "    summarize(awayGoals = sum(away_team_goal))"
   ]
  },
  {
   "cell_type": "markdown",
   "metadata": {},
   "source": [
    "Join the teams based on the goals when playing as away and home team "
   ]
  },
  {
   "cell_type": "code",
   "execution_count": 28,
   "metadata": {
    "collapsed": false
   },
   "outputs": [
    {
     "name": "stderr",
     "output_type": "stream",
     "text": [
      "Joining, by = \"team_api_id\"\n"
     ]
    }
   ],
   "source": [
    "teamGoalsData = full_join(awayTeamGoals,homeTeamGoals) %>%  mutate(goals = (awayGoals+homeGoals))"
   ]
  },
  {
   "cell_type": "markdown",
   "metadata": {},
   "source": [
    "Print the data "
   ]
  },
  {
   "cell_type": "code",
   "execution_count": 29,
   "metadata": {
    "collapsed": false
   },
   "outputs": [
    {
     "data": {
      "text/html": [
       "<table>\n",
       "<thead><tr><th scope=col>team_api_id</th><th scope=col>awayGoals</th><th scope=col>homeGoals</th><th scope=col>goals</th></tr></thead>\n",
       "<tbody>\n",
       "\t<tr><td>1601</td><td>132 </td><td>148 </td><td>280 </td></tr>\n",
       "\t<tr><td>1773</td><td> 52 </td><td> 74 </td><td>126 </td></tr>\n",
       "\t<tr><td>1957</td><td>111 </td><td>176 </td><td>287 </td></tr>\n",
       "\t<tr><td>2033</td><td> 68 </td><td> 70 </td><td>138 </td></tr>\n",
       "\t<tr><td>2182</td><td>157 </td><td>215 </td><td>372 </td></tr>\n",
       "\t<tr><td>2183</td><td> 88 </td><td> 96 </td><td>184 </td></tr>\n",
       "\t<tr><td>2186</td><td> 91 </td><td>144 </td><td>235 </td></tr>\n",
       "\t<tr><td>4049</td><td> 13 </td><td> 22 </td><td> 35 </td></tr>\n",
       "\t<tr><td>4064</td><td> 14 </td><td> 13 </td><td> 27 </td></tr>\n",
       "\t<tr><td>4087</td><td> 75 </td><td>105 </td><td>180 </td></tr>\n",
       "\t<tr><td>4170</td><td> 12 </td><td> 19 </td><td> 31 </td></tr>\n",
       "\t<tr><td>6269</td><td> 15 </td><td> 19 </td><td> 34 </td></tr>\n",
       "\t<tr><td>6351</td><td> 13 </td><td> 15 </td><td> 28 </td></tr>\n",
       "\t<tr><td>6367</td><td>  8 </td><td> 19 </td><td> 27 </td></tr>\n",
       "\t<tr><td>6391</td><td> 14 </td><td> 23 </td><td> 37 </td></tr>\n",
       "\t<tr><td>6403</td><td>126 </td><td>166 </td><td>292 </td></tr>\n",
       "\t<tr><td>6413</td><td> 80 </td><td>124 </td><td>204 </td></tr>\n",
       "\t<tr><td>6421</td><td> 20 </td><td> 35 </td><td> 55 </td></tr>\n",
       "\t<tr><td>6433</td><td> 33 </td><td> 41 </td><td> 74 </td></tr>\n",
       "\t<tr><td>6493</td><td> 54 </td><td> 74 </td><td>128 </td></tr>\n",
       "\t<tr><td>6547</td><td> 12 </td><td> 17 </td><td> 29 </td></tr>\n",
       "\t<tr><td>6601</td><td> 11 </td><td> 27 </td><td> 38 </td></tr>\n",
       "\t<tr><td>6631</td><td>  9 </td><td> 15 </td><td> 24 </td></tr>\n",
       "\t<tr><td>7730</td><td> 47 </td><td> 52 </td><td> 99 </td></tr>\n",
       "\t<tr><td>7788</td><td> 52 </td><td> 67 </td><td>119 </td></tr>\n",
       "\t<tr><td>7794</td><td> 64 </td><td>101 </td><td>165 </td></tr>\n",
       "\t<tr><td>7819</td><td>111 </td><td>109 </td><td>220 </td></tr>\n",
       "\t<tr><td>7841</td><td>117 </td><td>131 </td><td>248 </td></tr>\n",
       "\t<tr><td>7842</td><td> 71 </td><td> 96 </td><td>167 </td></tr>\n",
       "\t<tr><td>7844</td><td>144 </td><td>156 </td><td>300 </td></tr>\n",
       "\t<tr><td>⋮</td><td>⋮</td><td>⋮</td><td>⋮</td></tr>\n",
       "\t<tr><td> 10214</td><td>145   </td><td>187   </td><td>332   </td></tr>\n",
       "\t<tr><td> 10215</td><td>104   </td><td>136   </td><td>240   </td></tr>\n",
       "\t<tr><td> 10217</td><td>162   </td><td>204   </td><td>366   </td></tr>\n",
       "\t<tr><td> 10218</td><td> 64   </td><td> 90   </td><td>154   </td></tr>\n",
       "\t<tr><td> 10219</td><td> 61   </td><td> 92   </td><td>153   </td></tr>\n",
       "\t<tr><td> 10228</td><td>203   </td><td>267   </td><td>470   </td></tr>\n",
       "\t<tr><td> 10229</td><td>213   </td><td>279   </td><td>492   </td></tr>\n",
       "\t<tr><td> 10233</td><td>143   </td><td>249   </td><td>392   </td></tr>\n",
       "\t<tr><td> 10235</td><td>198   </td><td>291   </td><td>489   </td></tr>\n",
       "\t<tr><td> 10238</td><td>103   </td><td>135   </td><td>238   </td></tr>\n",
       "\t<tr><td> 10242</td><td> 33   </td><td> 38   </td><td> 71   </td></tr>\n",
       "\t<tr><td> 10243</td><td>227   </td><td>241   </td><td>468   </td></tr>\n",
       "\t<tr><td> 10249</td><td>151   </td><td>193   </td><td>344   </td></tr>\n",
       "\t<tr><td> 10251</td><td>123   </td><td>136   </td><td>259   </td></tr>\n",
       "\t<tr><td> 10252</td><td>156   </td><td>179   </td><td>335   </td></tr>\n",
       "\t<tr><td> 10260</td><td>244   </td><td>338   </td><td>582   </td></tr>\n",
       "\t<tr><td> 10261</td><td>125   </td><td>199   </td><td>324   </td></tr>\n",
       "\t<tr><td> 10264</td><td>159   </td><td>239   </td><td>398   </td></tr>\n",
       "\t<tr><td> 10265</td><td>164   </td><td>168   </td><td>332   </td></tr>\n",
       "\t<tr><td> 10267</td><td>185   </td><td>299   </td><td>484   </td></tr>\n",
       "\t<tr><td> 10268</td><td> 33   </td><td> 32   </td><td> 65   </td></tr>\n",
       "\t<tr><td> 10269</td><td>196   </td><td>219   </td><td>415   </td></tr>\n",
       "\t<tr><td> 10278</td><td>  9   </td><td> 27   </td><td> 36   </td></tr>\n",
       "\t<tr><td> 10281</td><td> 76   </td><td> 94   </td><td>170   </td></tr>\n",
       "\t<tr><td>108893</td><td>  7   </td><td> 14   </td><td> 21   </td></tr>\n",
       "\t<tr><td>158085</td><td> 45   </td><td> 56   </td><td>101   </td></tr>\n",
       "\t<tr><td>177361</td><td> 12   </td><td> 21   </td><td> 33   </td></tr>\n",
       "\t<tr><td>188163</td><td> 19   </td><td> 15   </td><td> 34   </td></tr>\n",
       "\t<tr><td>208931</td><td> 14   </td><td> 23   </td><td> 37   </td></tr>\n",
       "\t<tr><td>274581</td><td> 30   </td><td> 41   </td><td> 71   </td></tr>\n",
       "</tbody>\n",
       "</table>\n"
      ],
      "text/latex": [
       "\\begin{tabular}{r|llll}\n",
       " team\\_api\\_id & awayGoals & homeGoals & goals\\\\\n",
       "\\hline\n",
       "\t 1601 & 132  & 148  & 280 \\\\\n",
       "\t 1773 &  52  &  74  & 126 \\\\\n",
       "\t 1957 & 111  & 176  & 287 \\\\\n",
       "\t 2033 &  68  &  70  & 138 \\\\\n",
       "\t 2182 & 157  & 215  & 372 \\\\\n",
       "\t 2183 &  88  &  96  & 184 \\\\\n",
       "\t 2186 &  91  & 144  & 235 \\\\\n",
       "\t 4049 &  13  &  22  &  35 \\\\\n",
       "\t 4064 &  14  &  13  &  27 \\\\\n",
       "\t 4087 &  75  & 105  & 180 \\\\\n",
       "\t 4170 &  12  &  19  &  31 \\\\\n",
       "\t 6269 &  15  &  19  &  34 \\\\\n",
       "\t 6351 &  13  &  15  &  28 \\\\\n",
       "\t 6367 &   8  &  19  &  27 \\\\\n",
       "\t 6391 &  14  &  23  &  37 \\\\\n",
       "\t 6403 & 126  & 166  & 292 \\\\\n",
       "\t 6413 &  80  & 124  & 204 \\\\\n",
       "\t 6421 &  20  &  35  &  55 \\\\\n",
       "\t 6433 &  33  &  41  &  74 \\\\\n",
       "\t 6493 &  54  &  74  & 128 \\\\\n",
       "\t 6547 &  12  &  17  &  29 \\\\\n",
       "\t 6601 &  11  &  27  &  38 \\\\\n",
       "\t 6631 &   9  &  15  &  24 \\\\\n",
       "\t 7730 &  47  &  52  &  99 \\\\\n",
       "\t 7788 &  52  &  67  & 119 \\\\\n",
       "\t 7794 &  64  & 101  & 165 \\\\\n",
       "\t 7819 & 111  & 109  & 220 \\\\\n",
       "\t 7841 & 117  & 131  & 248 \\\\\n",
       "\t 7842 &  71  &  96  & 167 \\\\\n",
       "\t 7844 & 144  & 156  & 300 \\\\\n",
       "\t ⋮ & ⋮ & ⋮ & ⋮\\\\\n",
       "\t  10214 & 145    & 187    & 332   \\\\\n",
       "\t  10215 & 104    & 136    & 240   \\\\\n",
       "\t  10217 & 162    & 204    & 366   \\\\\n",
       "\t  10218 &  64    &  90    & 154   \\\\\n",
       "\t  10219 &  61    &  92    & 153   \\\\\n",
       "\t  10228 & 203    & 267    & 470   \\\\\n",
       "\t  10229 & 213    & 279    & 492   \\\\\n",
       "\t  10233 & 143    & 249    & 392   \\\\\n",
       "\t  10235 & 198    & 291    & 489   \\\\\n",
       "\t  10238 & 103    & 135    & 238   \\\\\n",
       "\t  10242 &  33    &  38    &  71   \\\\\n",
       "\t  10243 & 227    & 241    & 468   \\\\\n",
       "\t  10249 & 151    & 193    & 344   \\\\\n",
       "\t  10251 & 123    & 136    & 259   \\\\\n",
       "\t  10252 & 156    & 179    & 335   \\\\\n",
       "\t  10260 & 244    & 338    & 582   \\\\\n",
       "\t  10261 & 125    & 199    & 324   \\\\\n",
       "\t  10264 & 159    & 239    & 398   \\\\\n",
       "\t  10265 & 164    & 168    & 332   \\\\\n",
       "\t  10267 & 185    & 299    & 484   \\\\\n",
       "\t  10268 &  33    &  32    &  65   \\\\\n",
       "\t  10269 & 196    & 219    & 415   \\\\\n",
       "\t  10278 &   9    &  27    &  36   \\\\\n",
       "\t  10281 &  76    &  94    & 170   \\\\\n",
       "\t 108893 &   7    &  14    &  21   \\\\\n",
       "\t 158085 &  45    &  56    & 101   \\\\\n",
       "\t 177361 &  12    &  21    &  33   \\\\\n",
       "\t 188163 &  19    &  15    &  34   \\\\\n",
       "\t 208931 &  14    &  23    &  37   \\\\\n",
       "\t 274581 &  30    &  41    &  71   \\\\\n",
       "\\end{tabular}\n"
      ],
      "text/markdown": [
       "\n",
       "team_api_id | awayGoals | homeGoals | goals | \n",
       "|---|---|---|---|---|---|---|---|---|---|---|---|---|---|---|---|---|---|---|---|---|---|---|---|---|---|---|---|---|---|---|---|---|---|---|---|---|---|---|---|---|---|---|---|---|---|---|---|---|---|---|---|---|---|---|---|---|---|---|---|---|\n",
       "| 1601 | 132  | 148  | 280  | \n",
       "| 1773 |  52  |  74  | 126  | \n",
       "| 1957 | 111  | 176  | 287  | \n",
       "| 2033 |  68  |  70  | 138  | \n",
       "| 2182 | 157  | 215  | 372  | \n",
       "| 2183 |  88  |  96  | 184  | \n",
       "| 2186 |  91  | 144  | 235  | \n",
       "| 4049 |  13  |  22  |  35  | \n",
       "| 4064 |  14  |  13  |  27  | \n",
       "| 4087 |  75  | 105  | 180  | \n",
       "| 4170 |  12  |  19  |  31  | \n",
       "| 6269 |  15  |  19  |  34  | \n",
       "| 6351 |  13  |  15  |  28  | \n",
       "| 6367 |   8  |  19  |  27  | \n",
       "| 6391 |  14  |  23  |  37  | \n",
       "| 6403 | 126  | 166  | 292  | \n",
       "| 6413 |  80  | 124  | 204  | \n",
       "| 6421 |  20  |  35  |  55  | \n",
       "| 6433 |  33  |  41  |  74  | \n",
       "| 6493 |  54  |  74  | 128  | \n",
       "| 6547 |  12  |  17  |  29  | \n",
       "| 6601 |  11  |  27  |  38  | \n",
       "| 6631 |   9  |  15  |  24  | \n",
       "| 7730 |  47  |  52  |  99  | \n",
       "| 7788 |  52  |  67  | 119  | \n",
       "| 7794 |  64  | 101  | 165  | \n",
       "| 7819 | 111  | 109  | 220  | \n",
       "| 7841 | 117  | 131  | 248  | \n",
       "| 7842 |  71  |  96  | 167  | \n",
       "| 7844 | 144  | 156  | 300  | \n",
       "| ⋮ | ⋮ | ⋮ | ⋮ | \n",
       "|  10214 | 145    | 187    | 332    | \n",
       "|  10215 | 104    | 136    | 240    | \n",
       "|  10217 | 162    | 204    | 366    | \n",
       "|  10218 |  64    |  90    | 154    | \n",
       "|  10219 |  61    |  92    | 153    | \n",
       "|  10228 | 203    | 267    | 470    | \n",
       "|  10229 | 213    | 279    | 492    | \n",
       "|  10233 | 143    | 249    | 392    | \n",
       "|  10235 | 198    | 291    | 489    | \n",
       "|  10238 | 103    | 135    | 238    | \n",
       "|  10242 |  33    |  38    |  71    | \n",
       "|  10243 | 227    | 241    | 468    | \n",
       "|  10249 | 151    | 193    | 344    | \n",
       "|  10251 | 123    | 136    | 259    | \n",
       "|  10252 | 156    | 179    | 335    | \n",
       "|  10260 | 244    | 338    | 582    | \n",
       "|  10261 | 125    | 199    | 324    | \n",
       "|  10264 | 159    | 239    | 398    | \n",
       "|  10265 | 164    | 168    | 332    | \n",
       "|  10267 | 185    | 299    | 484    | \n",
       "|  10268 |  33    |  32    |  65    | \n",
       "|  10269 | 196    | 219    | 415    | \n",
       "|  10278 |   9    |  27    |  36    | \n",
       "|  10281 |  76    |  94    | 170    | \n",
       "| 108893 |   7    |  14    |  21    | \n",
       "| 158085 |  45    |  56    | 101    | \n",
       "| 177361 |  12    |  21    |  33    | \n",
       "| 188163 |  19    |  15    |  34    | \n",
       "| 208931 |  14    |  23    |  37    | \n",
       "| 274581 |  30    |  41    |  71    | \n",
       "\n",
       "\n"
      ],
      "text/plain": [
       "    team_api_id awayGoals homeGoals goals\n",
       "1   1601        132       148       280  \n",
       "2   1773         52        74       126  \n",
       "3   1957        111       176       287  \n",
       "4   2033         68        70       138  \n",
       "5   2182        157       215       372  \n",
       "6   2183         88        96       184  \n",
       "7   2186         91       144       235  \n",
       "8   4049         13        22        35  \n",
       "9   4064         14        13        27  \n",
       "10  4087         75       105       180  \n",
       "11  4170         12        19        31  \n",
       "12  6269         15        19        34  \n",
       "13  6351         13        15        28  \n",
       "14  6367          8        19        27  \n",
       "15  6391         14        23        37  \n",
       "16  6403        126       166       292  \n",
       "17  6413         80       124       204  \n",
       "18  6421         20        35        55  \n",
       "19  6433         33        41        74  \n",
       "20  6493         54        74       128  \n",
       "21  6547         12        17        29  \n",
       "22  6601         11        27        38  \n",
       "23  6631          9        15        24  \n",
       "24  7730         47        52        99  \n",
       "25  7788         52        67       119  \n",
       "26  7794         64       101       165  \n",
       "27  7819        111       109       220  \n",
       "28  7841        117       131       248  \n",
       "29  7842         71        96       167  \n",
       "30  7844        144       156       300  \n",
       "⋮   ⋮           ⋮         ⋮         ⋮    \n",
       "270  10214      145       187       332  \n",
       "271  10215      104       136       240  \n",
       "272  10217      162       204       366  \n",
       "273  10218       64        90       154  \n",
       "274  10219       61        92       153  \n",
       "275  10228      203       267       470  \n",
       "276  10229      213       279       492  \n",
       "277  10233      143       249       392  \n",
       "278  10235      198       291       489  \n",
       "279  10238      103       135       238  \n",
       "280  10242       33        38        71  \n",
       "281  10243      227       241       468  \n",
       "282  10249      151       193       344  \n",
       "283  10251      123       136       259  \n",
       "284  10252      156       179       335  \n",
       "285  10260      244       338       582  \n",
       "286  10261      125       199       324  \n",
       "287  10264      159       239       398  \n",
       "288  10265      164       168       332  \n",
       "289  10267      185       299       484  \n",
       "290  10268       33        32        65  \n",
       "291  10269      196       219       415  \n",
       "292  10278        9        27        36  \n",
       "293  10281       76        94       170  \n",
       "294 108893        7        14        21  \n",
       "295 158085       45        56       101  \n",
       "296 177361       12        21        33  \n",
       "297 188163       19        15        34  \n",
       "298 208931       14        23        37  \n",
       "299 274581       30        41        71  "
      ]
     },
     "metadata": {},
     "output_type": "display_data"
    }
   ],
   "source": [
    "teamGoalsData"
   ]
  },
  {
   "cell_type": "markdown",
   "metadata": {},
   "source": [
    "Join the tables to make a full team table"
   ]
  },
  {
   "cell_type": "code",
   "execution_count": 30,
   "metadata": {
    "collapsed": true
   },
   "outputs": [],
   "source": [
    "teamFinalData = left_join(tbl_df(teamTableData),teamGoalsData,by = \"team_api_id\")"
   ]
  },
  {
   "cell_type": "markdown",
   "metadata": {},
   "source": [
    "Print the data "
   ]
  },
  {
   "cell_type": "code",
   "execution_count": 31,
   "metadata": {
    "collapsed": false
   },
   "outputs": [
    {
     "data": {
      "text/html": [
       "<table>\n",
       "<thead><tr><th scope=col>team_api_id</th><th scope=col>team_long_name</th><th scope=col>chance_creation</th><th scope=col>build_up_play</th><th scope=col>defense</th><th scope=col>awayGoals</th><th scope=col>homeGoals</th><th scope=col>goals</th></tr></thead>\n",
       "<tbody>\n",
       "\t<tr><td> 9987            </td><td>KRC Genk         </td><td>182              </td><td>148              </td><td>205              </td><td>143              </td><td>205              </td><td>348              </td></tr>\n",
       "\t<tr><td> 9993            </td><td>Beerschot AC     </td><td>185              </td><td> NA              </td><td>210              </td><td> 62              </td><td>112              </td><td>174              </td></tr>\n",
       "\t<tr><td>10000            </td><td>SV Zulte-Waregem </td><td>153              </td><td>147              </td><td>200              </td><td>130              </td><td>176              </td><td>306              </td></tr>\n",
       "\t<tr><td> 9994            </td><td>Sporting Lokeren </td><td>154              </td><td>159              </td><td>200              </td><td>130              </td><td>149              </td><td>279              </td></tr>\n",
       "\t<tr><td> 9984            </td><td>KSV Cercle Brugge</td><td>200              </td><td>145              </td><td>195              </td><td> 94              </td><td>119              </td><td>213              </td></tr>\n",
       "\t<tr><td> 8635            </td><td>RSC Anderlecht   </td><td>182              </td><td>149              </td><td>190              </td><td>180              </td><td>247              </td><td>427              </td></tr>\n",
       "\t<tr><td> 9991            </td><td>KAA Gent         </td><td>184              </td><td>142              </td><td>166              </td><td>177              </td><td>213              </td><td>390              </td></tr>\n",
       "\t<tr><td> 9998            </td><td>RAEC Mons        </td><td>168              </td><td>160              </td><td>138              </td><td> 53              </td><td> 76              </td><td>129              </td></tr>\n",
       "\t<tr><td> 7947            </td><td>FCV Dender EH    </td><td> NA              </td><td> NA              </td><td> NA              </td><td> 23              </td><td> 21              </td><td> 44              </td></tr>\n",
       "\t<tr><td> 9985            </td><td>Standard de Liège</td><td>182              </td><td>161              </td><td>205              </td><td>142              </td><td>199              </td><td>341              </td></tr>\n",
       "</tbody>\n",
       "</table>\n"
      ],
      "text/latex": [
       "\\begin{tabular}{r|llllllll}\n",
       " team\\_api\\_id & team\\_long\\_name & chance\\_creation & build\\_up\\_play & defense & awayGoals & homeGoals & goals\\\\\n",
       "\\hline\n",
       "\t  9987             & KRC Genk          & 182               & 148               & 205               & 143               & 205               & 348              \\\\\n",
       "\t  9993             & Beerschot AC      & 185               &  NA               & 210               &  62               & 112               & 174              \\\\\n",
       "\t 10000             & SV Zulte-Waregem  & 153               & 147               & 200               & 130               & 176               & 306              \\\\\n",
       "\t  9994             & Sporting Lokeren  & 154               & 159               & 200               & 130               & 149               & 279              \\\\\n",
       "\t  9984             & KSV Cercle Brugge & 200               & 145               & 195               &  94               & 119               & 213              \\\\\n",
       "\t  8635             & RSC Anderlecht    & 182               & 149               & 190               & 180               & 247               & 427              \\\\\n",
       "\t  9991             & KAA Gent          & 184               & 142               & 166               & 177               & 213               & 390              \\\\\n",
       "\t  9998             & RAEC Mons         & 168               & 160               & 138               &  53               &  76               & 129              \\\\\n",
       "\t  7947             & FCV Dender EH     &  NA               &  NA               &  NA               &  23               &  21               &  44              \\\\\n",
       "\t  9985             & Standard de Liège & 182               & 161               & 205               & 142               & 199               & 341              \\\\\n",
       "\\end{tabular}\n"
      ],
      "text/markdown": [
       "\n",
       "team_api_id | team_long_name | chance_creation | build_up_play | defense | awayGoals | homeGoals | goals | \n",
       "|---|---|---|---|---|---|---|---|---|---|\n",
       "|  9987             | KRC Genk          | 182               | 148               | 205               | 143               | 205               | 348               | \n",
       "|  9993             | Beerschot AC      | 185               |  NA               | 210               |  62               | 112               | 174               | \n",
       "| 10000             | SV Zulte-Waregem  | 153               | 147               | 200               | 130               | 176               | 306               | \n",
       "|  9994             | Sporting Lokeren  | 154               | 159               | 200               | 130               | 149               | 279               | \n",
       "|  9984             | KSV Cercle Brugge | 200               | 145               | 195               |  94               | 119               | 213               | \n",
       "|  8635             | RSC Anderlecht    | 182               | 149               | 190               | 180               | 247               | 427               | \n",
       "|  9991             | KAA Gent          | 184               | 142               | 166               | 177               | 213               | 390               | \n",
       "|  9998             | RAEC Mons         | 168               | 160               | 138               |  53               |  76               | 129               | \n",
       "|  7947             | FCV Dender EH     |  NA               |  NA               |  NA               |  23               |  21               |  44               | \n",
       "|  9985             | Standard de Liège | 182               | 161               | 205               | 142               | 199               | 341               | \n",
       "\n",
       "\n"
      ],
      "text/plain": [
       "   team_api_id team_long_name    chance_creation build_up_play defense\n",
       "1   9987       KRC Genk          182             148           205    \n",
       "2   9993       Beerschot AC      185              NA           210    \n",
       "3  10000       SV Zulte-Waregem  153             147           200    \n",
       "4   9994       Sporting Lokeren  154             159           200    \n",
       "5   9984       KSV Cercle Brugge 200             145           195    \n",
       "6   8635       RSC Anderlecht    182             149           190    \n",
       "7   9991       KAA Gent          184             142           166    \n",
       "8   9998       RAEC Mons         168             160           138    \n",
       "9   7947       FCV Dender EH      NA              NA            NA    \n",
       "10  9985       Standard de Liège 182             161           205    \n",
       "   awayGoals homeGoals goals\n",
       "1  143       205       348  \n",
       "2   62       112       174  \n",
       "3  130       176       306  \n",
       "4  130       149       279  \n",
       "5   94       119       213  \n",
       "6  180       247       427  \n",
       "7  177       213       390  \n",
       "8   53        76       129  \n",
       "9   23        21        44  \n",
       "10 142       199       341  "
      ]
     },
     "metadata": {},
     "output_type": "display_data"
    }
   ],
   "source": [
    "head(teamFinalData,n=10)"
   ]
  },
  {
   "cell_type": "markdown",
   "metadata": {},
   "source": [
    "Write the player data to a csv file"
   ]
  },
  {
   "cell_type": "code",
   "execution_count": 32,
   "metadata": {
    "collapsed": true
   },
   "outputs": [],
   "source": [
    "write.csv(playersFinalData, file = \"player.csv\",row.names=FALSE)"
   ]
  },
  {
   "cell_type": "markdown",
   "metadata": {},
   "source": [
    "Write the team data to a csv file"
   ]
  },
  {
   "cell_type": "code",
   "execution_count": 33,
   "metadata": {
    "collapsed": true
   },
   "outputs": [],
   "source": [
    "write.csv(teamFinalData, file = \"team.csv\",row.names=FALSE)"
   ]
  },
  {
   "cell_type": "markdown",
   "metadata": {
    "collapsed": true
   },
   "source": [
    "# References"
   ]
  },
  {
   "cell_type": "markdown",
   "metadata": {},
   "source": [
    "1. https://cran.r-project.org/web/packages/dplyr/dplyr.pdf\n",
    "2. https://cran.rstudio.com/web/packages/dplyr/vignettes/introduction.html\n",
    "3. https://cran.r-project.org/web/packages/dplyr/vignettes/two-table.html\n",
    "4. https://cran.r-project.org/web/packages/tidyr/vignettes/tidy-data.html\n",
    "5. https://blog.rstudio.org/2014/07/22/introducing-tidyr/\n",
    "6. https://rpubs.com/bradleyboehmke/data_wrangling\n",
    "7. https://rdrr.io/cran/dplyr/man/join.tbl_sql.html\n",
    "8. http://stat545.com/bit001_dplyr-cheatsheet.html"
   ]
  }
 ],
 "metadata": {
  "kernelspec": {
   "display_name": "R",
   "language": "R",
   "name": "ir"
  },
  "language_info": {
   "codemirror_mode": "r",
   "file_extension": ".r",
   "mimetype": "text/x-r-source",
   "name": "R",
   "pygments_lexer": "r",
   "version": "3.3.2"
  }
 },
 "nbformat": 4,
 "nbformat_minor": 2
}
