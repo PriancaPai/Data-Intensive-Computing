{
 "cells": [
  {
   "cell_type": "code",
   "execution_count": 113,
   "metadata": {
    "collapsed": false
   },
   "outputs": [],
   "source": [
    "library(\"dplyr\")\n",
    "library(\"tidyr\")"
   ]
  },
  {
   "cell_type": "code",
   "execution_count": 114,
   "metadata": {
    "collapsed": true
   },
   "outputs": [],
   "source": [
    "dbName = toString(\"database.sqlite\")"
   ]
  },
  {
   "cell_type": "code",
   "execution_count": 115,
   "metadata": {
    "collapsed": false
   },
   "outputs": [],
   "source": [
    "my_db <- src_sqlite(dbName, create = FALSE)"
   ]
  },
  {
   "cell_type": "code",
   "execution_count": 116,
   "metadata": {
    "collapsed": false
   },
   "outputs": [
    {
     "data": {
      "text/html": [
       "<ol class=list-inline>\n",
       "\t<li>'Country'</li>\n",
       "\t<li>'League'</li>\n",
       "\t<li>'Match'</li>\n",
       "\t<li>'Player'</li>\n",
       "\t<li>'Player_Attributes'</li>\n",
       "\t<li>'Team'</li>\n",
       "\t<li>'Team_Attributes'</li>\n",
       "\t<li>'sqlite_sequence'</li>\n",
       "</ol>\n"
      ],
      "text/latex": [
       "\\begin{enumerate*}\n",
       "\\item 'Country'\n",
       "\\item 'League'\n",
       "\\item 'Match'\n",
       "\\item 'Player'\n",
       "\\item 'Player\\_Attributes'\n",
       "\\item 'Team'\n",
       "\\item 'Team\\_Attributes'\n",
       "\\item 'sqlite\\_sequence'\n",
       "\\end{enumerate*}\n"
      ],
      "text/markdown": [
       "1. 'Country'\n",
       "2. 'League'\n",
       "3. 'Match'\n",
       "4. 'Player'\n",
       "5. 'Player_Attributes'\n",
       "6. 'Team'\n",
       "7. 'Team_Attributes'\n",
       "8. 'sqlite_sequence'\n",
       "\n",
       "\n"
      ],
      "text/plain": [
       "[1] \"Country\"           \"League\"            \"Match\"            \n",
       "[4] \"Player\"            \"Player_Attributes\" \"Team\"             \n",
       "[7] \"Team_Attributes\"   \"sqlite_sequence\"  "
      ]
     },
     "metadata": {},
     "output_type": "display_data"
    }
   ],
   "source": [
    "src_tbls(my_db)"
   ]
  },
  {
   "cell_type": "code",
   "execution_count": 117,
   "metadata": {
    "collapsed": true
   },
   "outputs": [],
   "source": [
    "playerDF = tbl(my_db, sql(\"SELECT player_api_id,player_name,player_fifa_api_id FROM Player\"))"
   ]
  },
  {
   "cell_type": "code",
   "execution_count": 118,
   "metadata": {
    "collapsed": false
   },
   "outputs": [
    {
     "data": {
      "text/plain": [
       "Source:   query [?? x 3]\n",
       "Database: sqlite 3.11.1 [database.sqlite]\n",
       "\n",
       "  player_api_id        player_name player_fifa_api_id\n",
       "          <int>              <chr>              <int>\n",
       "1        505942 Aaron Appindangoye             218353\n",
       "2        155782    Aaron Cresswell             189615\n",
       "3        162549        Aaron Doran             186170\n",
       "4         30572      Aaron Galindo             140161\n",
       "5         23780       Aaron Hughes              17725\n",
       "6         27316         Aaron Hunt             158138"
      ]
     },
     "metadata": {},
     "output_type": "display_data"
    }
   ],
   "source": [
    "head(playerDF)"
   ]
  },
  {
   "cell_type": "code",
   "execution_count": 119,
   "metadata": {
    "collapsed": false
   },
   "outputs": [],
   "source": [
    "playerAttrDF = tbl(my_db, sql(\"SELECT player_fifa_api_id,player_api_id,overall_rating,gk_diving,gk_handling,gk_kicking,gk_positioning,gk_reflexes FROM Player_Attributes\"))"
   ]
  },
  {
   "cell_type": "code",
   "execution_count": 120,
   "metadata": {
    "collapsed": false
   },
   "outputs": [
    {
     "data": {
      "text/plain": [
       "Source:   query [?? x 8]\n",
       "Database: sqlite 3.11.1 [database.sqlite]\n",
       "\n",
       "  player_fifa_api_id player_api_id overall_rating gk_diving gk_handling\n",
       "               <int>         <int>          <int>     <int>       <int>\n",
       "1             218353        505942             67         6          11\n",
       "2             218353        505942             67         6          11\n",
       "3             218353        505942             62         6          11\n",
       "4             218353        505942             61         5          10\n",
       "5             218353        505942             61         5          10\n",
       "6             189615        155782             74        14           7\n",
       "# ... with 3 more variables: gk_kicking <int>, gk_positioning <int>,\n",
       "#   gk_reflexes <int>"
      ]
     },
     "metadata": {},
     "output_type": "display_data"
    }
   ],
   "source": [
    "head(playerAttrDF)"
   ]
  },
  {
   "cell_type": "code",
   "execution_count": 121,
   "metadata": {
    "collapsed": false
   },
   "outputs": [],
   "source": [
    "playerAttrDF = mutate(playerAttrDF, gk_rating = (gk_diving + gk_handling + gk_kicking + gk_positioning + gk_reflexes))"
   ]
  },
  {
   "cell_type": "code",
   "execution_count": 122,
   "metadata": {
    "collapsed": false
   },
   "outputs": [
    {
     "data": {
      "text/plain": [
       "Source:   query [?? x 9]\n",
       "Database: sqlite 3.11.1 [database.sqlite]\n",
       "\n",
       "   player_fifa_api_id player_api_id overall_rating gk_diving gk_handling\n",
       "                <int>         <int>          <int>     <int>       <int>\n",
       "1              218353        505942             67         6          11\n",
       "2              218353        505942             67         6          11\n",
       "3              218353        505942             62         6          11\n",
       "4              218353        505942             61         5          10\n",
       "5              218353        505942             61         5          10\n",
       "6              189615        155782             74        14           7\n",
       "7              189615        155782             74        14           7\n",
       "8              189615        155782             73        14           7\n",
       "9              189615        155782             73        14           7\n",
       "10             189615        155782             73        14           7\n",
       "# ... with more rows, and 4 more variables: gk_kicking <int>,\n",
       "#   gk_positioning <int>, gk_reflexes <int>, gk_rating <int>"
      ]
     },
     "metadata": {},
     "output_type": "display_data"
    }
   ],
   "source": [
    "playerAttrDF"
   ]
  },
  {
   "cell_type": "code",
   "execution_count": 123,
   "metadata": {
    "collapsed": false
   },
   "outputs": [],
   "source": [
    "groupPlayerDF = playerAttrDF %>% \n",
    "    group_by(player_api_id) %>%\n",
    "    summarize(overall_rating = max(overall_rating), gk_rating = max(gk_rating))"
   ]
  },
  {
   "cell_type": "code",
   "execution_count": 124,
   "metadata": {
    "collapsed": false
   },
   "outputs": [
    {
     "data": {
      "text/plain": [
       "Source:   query [?? x 3]\n",
       "Database: sqlite 3.11.1 [database.sqlite]\n",
       "\n",
       "   player_api_id overall_rating gk_rating\n",
       "           <int>          <int>     <int>\n",
       "1           2625             63       153\n",
       "2           2752             72        53\n",
       "3           2768             75       128\n",
       "4           2770             74       148\n",
       "5           2790             73       144\n",
       "6           2796             69       340\n",
       "7           2802             82       146\n",
       "8           2805             76       141\n",
       "9           2857             72       143\n",
       "10          2862             76       146\n",
       "# ... with more rows"
      ]
     },
     "metadata": {},
     "output_type": "display_data"
    }
   ],
   "source": [
    "groupPlayerDF"
   ]
  },
  {
   "cell_type": "code",
   "execution_count": 126,
   "metadata": {
    "collapsed": true
   },
   "outputs": [],
   "source": [
    "playerData = left_join(playerDF, groupPlayerDF, by = \"player_api_id\")"
   ]
  },
  {
   "cell_type": "code",
   "execution_count": 127,
   "metadata": {
    "collapsed": false
   },
   "outputs": [
    {
     "data": {
      "text/plain": [
       "Source:   query [?? x 5]\n",
       "Database: sqlite 3.11.1 [database.sqlite]\n",
       "\n",
       "  player_api_id        player_name player_fifa_api_id overall_rating gk_rating\n",
       "          <int>              <chr>              <int>          <int>     <int>\n",
       "1        505942 Aaron Appindangoye             218353             67        43\n",
       "2        155782    Aaron Cresswell             189615             74       121\n",
       "3        162549        Aaron Doran             186170             71       125\n",
       "4         30572      Aaron Galindo             140161             75       111\n",
       "5         23780       Aaron Hughes              17725             78       129\n",
       "6         27316         Aaron Hunt             158138             79       132"
      ]
     },
     "metadata": {},
     "output_type": "display_data"
    }
   ],
   "source": [
    "head(playerData)"
   ]
  },
  {
   "cell_type": "code",
   "execution_count": 128,
   "metadata": {
    "collapsed": false
   },
   "outputs": [
    {
     "data": {
      "text/plain": [
       "Source:   query [?? x 5]\n",
       "Database: sqlite 3.11.1 [database.sqlite]\n",
       "\n",
       "   player_api_id        player_name player_fifa_api_id overall_rating gk_rating\n",
       "           <int>              <chr>              <int>          <int>     <int>\n",
       "1         505942 Aaron Appindangoye             218353             67        43\n",
       "2         155782    Aaron Cresswell             189615             74       121\n",
       "3         162549        Aaron Doran             186170             71       125\n",
       "4          30572      Aaron Galindo             140161             75       111\n",
       "5          23780       Aaron Hughes              17725             78       129\n",
       "6          27316         Aaron Hunt             158138             79       132\n",
       "7         564793         Aaron Kuhl             221280             61        64\n",
       "8          30895       Aaron Lennon             152747             84       146\n",
       "9         528212       Aaron Lennox             206592             48       237\n",
       "10        101042      Aaron Meijers             188621             69        54\n",
       "# ... with more rows"
      ]
     },
     "metadata": {},
     "output_type": "display_data"
    }
   ],
   "source": [
    "playerData"
   ]
  },
  {
   "cell_type": "code",
   "execution_count": 129,
   "metadata": {
    "collapsed": false
   },
   "outputs": [
    {
     "name": "stderr",
     "output_type": "stream",
     "text": [
      "Selecting by overall_rating\n"
     ]
    }
   ],
   "source": [
    "topPlayer = tbl_df(playerData) %>% select(player_name,overall_rating) %>% top_n(10) %>% arrange(desc(overall_rating))"
   ]
  },
  {
   "cell_type": "code",
   "execution_count": 130,
   "metadata": {
    "collapsed": false
   },
   "outputs": [
    {
     "data": {
      "text/html": [
       "<table>\n",
       "<thead><tr><th scope=col>player_name</th><th scope=col>overall_rating</th></tr></thead>\n",
       "<tbody>\n",
       "\t<tr><td>Lionel Messi     </td><td>94               </td></tr>\n",
       "\t<tr><td>Cristiano Ronaldo</td><td>93               </td></tr>\n",
       "\t<tr><td>Gianluigi Buffon </td><td>93               </td></tr>\n",
       "\t<tr><td>Wayne Rooney     </td><td>93               </td></tr>\n",
       "\t<tr><td>Gregory Coupet   </td><td>92               </td></tr>\n",
       "\t<tr><td>Xavi Hernandez   </td><td>92               </td></tr>\n",
       "\t<tr><td>Alessandro Nesta </td><td>91               </td></tr>\n",
       "\t<tr><td>Andres Iniesta   </td><td>91               </td></tr>\n",
       "\t<tr><td>Fabio Cannavaro  </td><td>91               </td></tr>\n",
       "\t<tr><td>Iker Casillas    </td><td>91               </td></tr>\n",
       "</tbody>\n",
       "</table>\n"
      ],
      "text/latex": [
       "\\begin{tabular}{r|ll}\n",
       " player\\_name & overall\\_rating\\\\\n",
       "\\hline\n",
       "\t Lionel Messi      & 94               \\\\\n",
       "\t Cristiano Ronaldo & 93               \\\\\n",
       "\t Gianluigi Buffon  & 93               \\\\\n",
       "\t Wayne Rooney      & 93               \\\\\n",
       "\t Gregory Coupet    & 92               \\\\\n",
       "\t Xavi Hernandez    & 92               \\\\\n",
       "\t Alessandro Nesta  & 91               \\\\\n",
       "\t Andres Iniesta    & 91               \\\\\n",
       "\t Fabio Cannavaro   & 91               \\\\\n",
       "\t Iker Casillas     & 91               \\\\\n",
       "\\end{tabular}\n"
      ],
      "text/markdown": [
       "\n",
       "player_name | overall_rating | \n",
       "|---|---|---|---|---|---|---|---|---|---|\n",
       "| Lionel Messi      | 94                | \n",
       "| Cristiano Ronaldo | 93                | \n",
       "| Gianluigi Buffon  | 93                | \n",
       "| Wayne Rooney      | 93                | \n",
       "| Gregory Coupet    | 92                | \n",
       "| Xavi Hernandez    | 92                | \n",
       "| Alessandro Nesta  | 91                | \n",
       "| Andres Iniesta    | 91                | \n",
       "| Fabio Cannavaro   | 91                | \n",
       "| Iker Casillas     | 91                | \n",
       "\n",
       "\n"
      ],
      "text/plain": [
       "   player_name       overall_rating\n",
       "1  Lionel Messi      94            \n",
       "2  Cristiano Ronaldo 93            \n",
       "3  Gianluigi Buffon  93            \n",
       "4  Wayne Rooney      93            \n",
       "5  Gregory Coupet    92            \n",
       "6  Xavi Hernandez    92            \n",
       "7  Alessandro Nesta  91            \n",
       "8  Andres Iniesta    91            \n",
       "9  Fabio Cannavaro   91            \n",
       "10 Iker Casillas     91            "
      ]
     },
     "metadata": {},
     "output_type": "display_data"
    }
   ],
   "source": [
    "head(topPlayer, n = 10)"
   ]
  },
  {
   "cell_type": "code",
   "execution_count": 131,
   "metadata": {
    "collapsed": false
   },
   "outputs": [
    {
     "name": "stderr",
     "output_type": "stream",
     "text": [
      "Selecting by gk_rating\n"
     ]
    }
   ],
   "source": [
    "topGoalKeeper = tbl_df(playerData) %>% select(player_name,gk_rating) %>% top_n(10) %>% arrange(desc(gk_rating))"
   ]
  },
  {
   "cell_type": "code",
   "execution_count": 132,
   "metadata": {
    "collapsed": false
   },
   "outputs": [
    {
     "data": {
      "text/html": [
       "<table>\n",
       "<thead><tr><th scope=col>player_name</th><th scope=col>gk_rating</th></tr></thead>\n",
       "<tbody>\n",
       "\t<tr><td>Gianluigi Buffon </td><td>449              </td></tr>\n",
       "\t<tr><td>Gregory Coupet   </td><td>447              </td></tr>\n",
       "\t<tr><td>Petr Cech        </td><td>445              </td></tr>\n",
       "\t<tr><td>Iker Casillas    </td><td>442              </td></tr>\n",
       "\t<tr><td>Manuel Neuer     </td><td>440              </td></tr>\n",
       "\t<tr><td>Julio Cesar      </td><td>438              </td></tr>\n",
       "\t<tr><td>Sebastian Frey   </td><td>437              </td></tr>\n",
       "\t<tr><td>Edwin van der Sar</td><td>436              </td></tr>\n",
       "\t<tr><td>David De Gea     </td><td>429              </td></tr>\n",
       "\t<tr><td>Pepe Reina       </td><td>428              </td></tr>\n",
       "</tbody>\n",
       "</table>\n"
      ],
      "text/latex": [
       "\\begin{tabular}{r|ll}\n",
       " player\\_name & gk\\_rating\\\\\n",
       "\\hline\n",
       "\t Gianluigi Buffon  & 449              \\\\\n",
       "\t Gregory Coupet    & 447              \\\\\n",
       "\t Petr Cech         & 445              \\\\\n",
       "\t Iker Casillas     & 442              \\\\\n",
       "\t Manuel Neuer      & 440              \\\\\n",
       "\t Julio Cesar       & 438              \\\\\n",
       "\t Sebastian Frey    & 437              \\\\\n",
       "\t Edwin van der Sar & 436              \\\\\n",
       "\t David De Gea      & 429              \\\\\n",
       "\t Pepe Reina        & 428              \\\\\n",
       "\\end{tabular}\n"
      ],
      "text/markdown": [
       "\n",
       "player_name | gk_rating | \n",
       "|---|---|---|---|---|---|---|---|---|---|\n",
       "| Gianluigi Buffon  | 449               | \n",
       "| Gregory Coupet    | 447               | \n",
       "| Petr Cech         | 445               | \n",
       "| Iker Casillas     | 442               | \n",
       "| Manuel Neuer      | 440               | \n",
       "| Julio Cesar       | 438               | \n",
       "| Sebastian Frey    | 437               | \n",
       "| Edwin van der Sar | 436               | \n",
       "| David De Gea      | 429               | \n",
       "| Pepe Reina        | 428               | \n",
       "\n",
       "\n"
      ],
      "text/plain": [
       "   player_name       gk_rating\n",
       "1  Gianluigi Buffon  449      \n",
       "2  Gregory Coupet    447      \n",
       "3  Petr Cech         445      \n",
       "4  Iker Casillas     442      \n",
       "5  Manuel Neuer      440      \n",
       "6  Julio Cesar       438      \n",
       "7  Sebastian Frey    437      \n",
       "8  Edwin van der Sar 436      \n",
       "9  David De Gea      429      \n",
       "10 Pepe Reina        428      "
      ]
     },
     "metadata": {},
     "output_type": "display_data"
    }
   ],
   "source": [
    "head(topGoalKeeper, n = 10)"
   ]
  },
  {
   "cell_type": "code",
   "execution_count": 201,
   "metadata": {
    "collapsed": false
   },
   "outputs": [],
   "source": [
    "matchTable = tbl(my_db, sql(\"SELECT league_id,home_team_api_id,away_team_api_id,home_team_goal,away_team_goal,home_player_1,home_player_2,home_player_3,home_player_4,home_player_5,home_player_6,home_player_7,home_player_8,home_player_9,home_player_10,home_player_11,away_player_1,away_player_2,away_player_3,away_player_4,away_player_5,away_player_6,away_player_7,away_player_8,away_player_9,away_player_10,away_player_11 FROM Match\"))"
   ]
  },
  {
   "cell_type": "code",
   "execution_count": 202,
   "metadata": {
    "collapsed": false
   },
   "outputs": [],
   "source": [
    "matchDF = tbl_df(matchTable)"
   ]
  },
  {
   "cell_type": "code",
   "execution_count": 203,
   "metadata": {
    "collapsed": false
   },
   "outputs": [],
   "source": [
    "matchDataDF = gather(matchDF, players, player_api_id, home_player_1 : away_player_11)"
   ]
  },
  {
   "cell_type": "code",
   "execution_count": 204,
   "metadata": {
    "collapsed": false
   },
   "outputs": [
    {
     "data": {
      "text/html": [
       "<table>\n",
       "<thead><tr><th scope=col>league_id</th><th scope=col>home_team_api_id</th><th scope=col>away_team_api_id</th><th scope=col>home_team_goal</th><th scope=col>away_team_goal</th><th scope=col>players</th><th scope=col>player_api_id</th></tr></thead>\n",
       "<tbody>\n",
       "\t<tr><td>1            </td><td> 9987        </td><td>9993         </td><td>1            </td><td>1            </td><td>home_player_1</td><td>NA           </td></tr>\n",
       "\t<tr><td>1            </td><td>10000        </td><td>9994         </td><td>0            </td><td>0            </td><td>home_player_1</td><td>NA           </td></tr>\n",
       "\t<tr><td>1            </td><td> 9984        </td><td>8635         </td><td>0            </td><td>3            </td><td>home_player_1</td><td>NA           </td></tr>\n",
       "\t<tr><td>1            </td><td> 9991        </td><td>9998         </td><td>5            </td><td>0            </td><td>home_player_1</td><td>NA           </td></tr>\n",
       "\t<tr><td>1            </td><td> 7947        </td><td>9985         </td><td>1            </td><td>3            </td><td>home_player_1</td><td>NA           </td></tr>\n",
       "\t<tr><td>1            </td><td> 8203        </td><td>8342         </td><td>1            </td><td>1            </td><td>home_player_1</td><td>NA           </td></tr>\n",
       "</tbody>\n",
       "</table>\n"
      ],
      "text/latex": [
       "\\begin{tabular}{r|lllllll}\n",
       " league\\_id & home\\_team\\_api\\_id & away\\_team\\_api\\_id & home\\_team\\_goal & away\\_team\\_goal & players & player\\_api\\_id\\\\\n",
       "\\hline\n",
       "\t 1                 &  9987             & 9993              & 1                 & 1                 & home\\_player\\_1 & NA               \\\\\n",
       "\t 1                 & 10000             & 9994              & 0                 & 0                 & home\\_player\\_1 & NA               \\\\\n",
       "\t 1                 &  9984             & 8635              & 0                 & 3                 & home\\_player\\_1 & NA               \\\\\n",
       "\t 1                 &  9991             & 9998              & 5                 & 0                 & home\\_player\\_1 & NA               \\\\\n",
       "\t 1                 &  7947             & 9985              & 1                 & 3                 & home\\_player\\_1 & NA               \\\\\n",
       "\t 1                 &  8203             & 8342              & 1                 & 1                 & home\\_player\\_1 & NA               \\\\\n",
       "\\end{tabular}\n"
      ],
      "text/markdown": [
       "\n",
       "league_id | home_team_api_id | away_team_api_id | home_team_goal | away_team_goal | players | player_api_id | \n",
       "|---|---|---|---|---|---|\n",
       "| 1             |  9987         | 9993          | 1             | 1             | home_player_1 | NA            | \n",
       "| 1             | 10000         | 9994          | 0             | 0             | home_player_1 | NA            | \n",
       "| 1             |  9984         | 8635          | 0             | 3             | home_player_1 | NA            | \n",
       "| 1             |  9991         | 9998          | 5             | 0             | home_player_1 | NA            | \n",
       "| 1             |  7947         | 9985          | 1             | 3             | home_player_1 | NA            | \n",
       "| 1             |  8203         | 8342          | 1             | 1             | home_player_1 | NA            | \n",
       "\n",
       "\n"
      ],
      "text/plain": [
       "  league_id home_team_api_id away_team_api_id home_team_goal away_team_goal\n",
       "1 1          9987            9993             1              1             \n",
       "2 1         10000            9994             0              0             \n",
       "3 1          9984            8635             0              3             \n",
       "4 1          9991            9998             5              0             \n",
       "5 1          7947            9985             1              3             \n",
       "6 1          8203            8342             1              1             \n",
       "  players       player_api_id\n",
       "1 home_player_1 NA           \n",
       "2 home_player_1 NA           \n",
       "3 home_player_1 NA           \n",
       "4 home_player_1 NA           \n",
       "5 home_player_1 NA           \n",
       "6 home_player_1 NA           "
      ]
     },
     "metadata": {},
     "output_type": "display_data"
    }
   ],
   "source": [
    "head(matchDataDF)"
   ]
  },
  {
   "cell_type": "code",
   "execution_count": 178,
   "metadata": {
    "collapsed": true
   },
   "outputs": [],
   "source": [
    "playerMatchesDF = matchDataDF %>% \n",
    "    group_by(player_api_id) %>%\n",
    "    summarize(appearances = n(),league_appearances = n_distinct(league_id))"
   ]
  },
  {
   "cell_type": "code",
   "execution_count": 179,
   "metadata": {
    "collapsed": false
   },
   "outputs": [
    {
     "data": {
      "text/html": [
       "<table>\n",
       "<thead><tr><th scope=col>player_api_id</th><th scope=col>appearances</th><th scope=col>league_appearances</th></tr></thead>\n",
       "<tbody>\n",
       "\t<tr><td>2625</td><td>90  </td><td>1   </td></tr>\n",
       "\t<tr><td>2752</td><td>81  </td><td>1   </td></tr>\n",
       "\t<tr><td>2768</td><td>71  </td><td>1   </td></tr>\n",
       "\t<tr><td>2770</td><td>16  </td><td>2   </td></tr>\n",
       "\t<tr><td>2790</td><td>50  </td><td>1   </td></tr>\n",
       "\t<tr><td>2796</td><td> 1  </td><td>1   </td></tr>\n",
       "</tbody>\n",
       "</table>\n"
      ],
      "text/latex": [
       "\\begin{tabular}{r|lll}\n",
       " player\\_api\\_id & appearances & league\\_appearances\\\\\n",
       "\\hline\n",
       "\t 2625 & 90   & 1   \\\\\n",
       "\t 2752 & 81   & 1   \\\\\n",
       "\t 2768 & 71   & 1   \\\\\n",
       "\t 2770 & 16   & 2   \\\\\n",
       "\t 2790 & 50   & 1   \\\\\n",
       "\t 2796 &  1   & 1   \\\\\n",
       "\\end{tabular}\n"
      ],
      "text/markdown": [
       "\n",
       "player_api_id | appearances | league_appearances | \n",
       "|---|---|---|---|---|---|\n",
       "| 2625 | 90   | 1    | \n",
       "| 2752 | 81   | 1    | \n",
       "| 2768 | 71   | 1    | \n",
       "| 2770 | 16   | 2    | \n",
       "| 2790 | 50   | 1    | \n",
       "| 2796 |  1   | 1    | \n",
       "\n",
       "\n"
      ],
      "text/plain": [
       "  player_api_id appearances league_appearances\n",
       "1 2625          90          1                 \n",
       "2 2752          81          1                 \n",
       "3 2768          71          1                 \n",
       "4 2770          16          2                 \n",
       "5 2790          50          1                 \n",
       "6 2796           1          1                 "
      ]
     },
     "metadata": {},
     "output_type": "display_data"
    }
   ],
   "source": [
    "head(playerMatchesDF)"
   ]
  },
  {
   "cell_type": "code",
   "execution_count": 180,
   "metadata": {
    "collapsed": false
   },
   "outputs": [],
   "source": [
    "playerDatatemp = left_join(tbl_df(playerData), playerMatchesDF, by = \"player_api_id\")"
   ]
  },
  {
   "cell_type": "code",
   "execution_count": 181,
   "metadata": {
    "collapsed": false
   },
   "outputs": [
    {
     "data": {
      "text/html": [
       "<table>\n",
       "<thead><tr><th scope=col>player_api_id</th><th scope=col>player_name</th><th scope=col>player_fifa_api_id</th><th scope=col>overall_rating</th><th scope=col>gk_rating</th><th scope=col>appearances</th><th scope=col>league_appearances</th></tr></thead>\n",
       "<tbody>\n",
       "\t<tr><td>505942            </td><td>Aaron Appindangoye</td><td>218353            </td><td>67                </td><td> 43               </td><td>  8               </td><td>1                 </td></tr>\n",
       "\t<tr><td>155782            </td><td>Aaron Cresswell   </td><td>189615            </td><td>74                </td><td>121               </td><td> 75               </td><td>1                 </td></tr>\n",
       "\t<tr><td>162549            </td><td>Aaron Doran       </td><td>186170            </td><td>71                </td><td>125               </td><td>104               </td><td>1                 </td></tr>\n",
       "\t<tr><td> 30572            </td><td>Aaron Galindo     </td><td>140161            </td><td>75                </td><td>111               </td><td> 10               </td><td>1                 </td></tr>\n",
       "\t<tr><td> 23780            </td><td>Aaron Hughes      </td><td> 17725            </td><td>78                </td><td>129               </td><td>162               </td><td>1                 </td></tr>\n",
       "\t<tr><td> 27316            </td><td>Aaron Hunt        </td><td>158138            </td><td>79                </td><td>132               </td><td>158               </td><td>1                 </td></tr>\n",
       "</tbody>\n",
       "</table>\n"
      ],
      "text/latex": [
       "\\begin{tabular}{r|lllllll}\n",
       " player\\_api\\_id & player\\_name & player\\_fifa\\_api\\_id & overall\\_rating & gk\\_rating & appearances & league\\_appearances\\\\\n",
       "\\hline\n",
       "\t 505942             & Aaron Appindangoye & 218353             & 67                 &  43                &   8                & 1                 \\\\\n",
       "\t 155782             & Aaron Cresswell    & 189615             & 74                 & 121                &  75                & 1                 \\\\\n",
       "\t 162549             & Aaron Doran        & 186170             & 71                 & 125                & 104                & 1                 \\\\\n",
       "\t  30572             & Aaron Galindo      & 140161             & 75                 & 111                &  10                & 1                 \\\\\n",
       "\t  23780             & Aaron Hughes       &  17725             & 78                 & 129                & 162                & 1                 \\\\\n",
       "\t  27316             & Aaron Hunt         & 158138             & 79                 & 132                & 158                & 1                 \\\\\n",
       "\\end{tabular}\n"
      ],
      "text/markdown": [
       "\n",
       "player_api_id | player_name | player_fifa_api_id | overall_rating | gk_rating | appearances | league_appearances | \n",
       "|---|---|---|---|---|---|\n",
       "| 505942             | Aaron Appindangoye | 218353             | 67                 |  43                |   8                | 1                  | \n",
       "| 155782             | Aaron Cresswell    | 189615             | 74                 | 121                |  75                | 1                  | \n",
       "| 162549             | Aaron Doran        | 186170             | 71                 | 125                | 104                | 1                  | \n",
       "|  30572             | Aaron Galindo      | 140161             | 75                 | 111                |  10                | 1                  | \n",
       "|  23780             | Aaron Hughes       |  17725             | 78                 | 129                | 162                | 1                  | \n",
       "|  27316             | Aaron Hunt         | 158138             | 79                 | 132                | 158                | 1                  | \n",
       "\n",
       "\n"
      ],
      "text/plain": [
       "  player_api_id player_name        player_fifa_api_id overall_rating gk_rating\n",
       "1 505942        Aaron Appindangoye 218353             67              43      \n",
       "2 155782        Aaron Cresswell    189615             74             121      \n",
       "3 162549        Aaron Doran        186170             71             125      \n",
       "4  30572        Aaron Galindo      140161             75             111      \n",
       "5  23780        Aaron Hughes        17725             78             129      \n",
       "6  27316        Aaron Hunt         158138             79             132      \n",
       "  appearances league_appearances\n",
       "1   8         1                 \n",
       "2  75         1                 \n",
       "3 104         1                 \n",
       "4  10         1                 \n",
       "5 162         1                 \n",
       "6 158         1                 "
      ]
     },
     "metadata": {},
     "output_type": "display_data"
    }
   ],
   "source": [
    "head(playerDatatemp)"
   ]
  },
  {
   "cell_type": "code",
   "execution_count": 182,
   "metadata": {
    "collapsed": false
   },
   "outputs": [
    {
     "name": "stderr",
     "output_type": "stream",
     "text": [
      "Selecting by appearances\n"
     ]
    }
   ],
   "source": [
    "topAppearances = select(playerDatatemp,player_name,appearances) %>% top_n(10) %>% arrange(desc(appearances))"
   ]
  },
  {
   "cell_type": "code",
   "execution_count": 183,
   "metadata": {
    "collapsed": false
   },
   "outputs": [
    {
     "data": {
      "text/html": [
       "<table>\n",
       "<thead><tr><th scope=col>player_name</th><th scope=col>appearances</th></tr></thead>\n",
       "<tbody>\n",
       "\t<tr><td>Steve Mandanda      </td><td>300                 </td></tr>\n",
       "\t<tr><td>Stephane Ruffier    </td><td>294                 </td></tr>\n",
       "\t<tr><td>Gorka Iraizoz Moreno</td><td>286                 </td></tr>\n",
       "\t<tr><td>Samir Handanovic    </td><td>286                 </td></tr>\n",
       "\t<tr><td>Hugo Lloris         </td><td>282                 </td></tr>\n",
       "\t<tr><td>Tim Howard          </td><td>282                 </td></tr>\n",
       "\t<tr><td>Joe Hart            </td><td>275                 </td></tr>\n",
       "\t<tr><td>Cedric Carrasso     </td><td>268                 </td></tr>\n",
       "\t<tr><td>Daniel Congre       </td><td>262                 </td></tr>\n",
       "\t<tr><td>Moussa Sissoko      </td><td>260                 </td></tr>\n",
       "</tbody>\n",
       "</table>\n"
      ],
      "text/latex": [
       "\\begin{tabular}{r|ll}\n",
       " player\\_name & appearances\\\\\n",
       "\\hline\n",
       "\t Steve Mandanda       & 300                 \\\\\n",
       "\t Stephane Ruffier     & 294                 \\\\\n",
       "\t Gorka Iraizoz Moreno & 286                 \\\\\n",
       "\t Samir Handanovic     & 286                 \\\\\n",
       "\t Hugo Lloris          & 282                 \\\\\n",
       "\t Tim Howard           & 282                 \\\\\n",
       "\t Joe Hart             & 275                 \\\\\n",
       "\t Cedric Carrasso      & 268                 \\\\\n",
       "\t Daniel Congre        & 262                 \\\\\n",
       "\t Moussa Sissoko       & 260                 \\\\\n",
       "\\end{tabular}\n"
      ],
      "text/markdown": [
       "\n",
       "player_name | appearances | \n",
       "|---|---|---|---|---|---|---|---|---|---|\n",
       "| Steve Mandanda       | 300                  | \n",
       "| Stephane Ruffier     | 294                  | \n",
       "| Gorka Iraizoz Moreno | 286                  | \n",
       "| Samir Handanovic     | 286                  | \n",
       "| Hugo Lloris          | 282                  | \n",
       "| Tim Howard           | 282                  | \n",
       "| Joe Hart             | 275                  | \n",
       "| Cedric Carrasso      | 268                  | \n",
       "| Daniel Congre        | 262                  | \n",
       "| Moussa Sissoko       | 260                  | \n",
       "\n",
       "\n"
      ],
      "text/plain": [
       "   player_name          appearances\n",
       "1  Steve Mandanda       300        \n",
       "2  Stephane Ruffier     294        \n",
       "3  Gorka Iraizoz Moreno 286        \n",
       "4  Samir Handanovic     286        \n",
       "5  Hugo Lloris          282        \n",
       "6  Tim Howard           282        \n",
       "7  Joe Hart             275        \n",
       "8  Cedric Carrasso      268        \n",
       "9  Daniel Congre        262        \n",
       "10 Moussa Sissoko       260        "
      ]
     },
     "metadata": {},
     "output_type": "display_data"
    }
   ],
   "source": [
    "head(topAppearances, n = 10)"
   ]
  },
  {
   "cell_type": "code",
   "execution_count": 184,
   "metadata": {
    "collapsed": false
   },
   "outputs": [
    {
     "name": "stderr",
     "output_type": "stream",
     "text": [
      "Selecting by league_appearances\n"
     ]
    }
   ],
   "source": [
    "topLeagueAppearances = select(playerDatatemp,player_name,league_appearances) %>% top_n(10) %>% arrange(desc(league_appearances))"
   ]
  },
  {
   "cell_type": "code",
   "execution_count": 185,
   "metadata": {
    "collapsed": false
   },
   "outputs": [
    {
     "data": {
      "text/html": [
       "<table>\n",
       "<thead><tr><th scope=col>player_name</th><th scope=col>league_appearances</th></tr></thead>\n",
       "<tbody>\n",
       "\t<tr><td>Gelson Fernandes     </td><td>6                    </td></tr>\n",
       "\t<tr><td>Filip Djuricic       </td><td>5                    </td></tr>\n",
       "\t<tr><td>Ricky van Wolfswinkel</td><td>5                    </td></tr>\n",
       "\t<tr><td>Aleksandar Tonev     </td><td>4                    </td></tr>\n",
       "\t<tr><td>Alfred Finnbogason   </td><td>4                    </td></tr>\n",
       "\t<tr><td>Almen Abdi           </td><td>4                    </td></tr>\n",
       "\t<tr><td>Aly Cissokho         </td><td>4                    </td></tr>\n",
       "\t<tr><td>Angel Di Maria       </td><td>4                    </td></tr>\n",
       "\t<tr><td>Bojan Krkic          </td><td>4                    </td></tr>\n",
       "\t<tr><td>Bryan Ruiz           </td><td>4                    </td></tr>\n",
       "</tbody>\n",
       "</table>\n"
      ],
      "text/latex": [
       "\\begin{tabular}{r|ll}\n",
       " player\\_name & league\\_appearances\\\\\n",
       "\\hline\n",
       "\t Gelson Fernandes      & 6                    \\\\\n",
       "\t Filip Djuricic        & 5                    \\\\\n",
       "\t Ricky van Wolfswinkel & 5                    \\\\\n",
       "\t Aleksandar Tonev      & 4                    \\\\\n",
       "\t Alfred Finnbogason    & 4                    \\\\\n",
       "\t Almen Abdi            & 4                    \\\\\n",
       "\t Aly Cissokho          & 4                    \\\\\n",
       "\t Angel Di Maria        & 4                    \\\\\n",
       "\t Bojan Krkic           & 4                    \\\\\n",
       "\t Bryan Ruiz            & 4                    \\\\\n",
       "\\end{tabular}\n"
      ],
      "text/markdown": [
       "\n",
       "player_name | league_appearances | \n",
       "|---|---|---|---|---|---|---|---|---|---|\n",
       "| Gelson Fernandes      | 6                     | \n",
       "| Filip Djuricic        | 5                     | \n",
       "| Ricky van Wolfswinkel | 5                     | \n",
       "| Aleksandar Tonev      | 4                     | \n",
       "| Alfred Finnbogason    | 4                     | \n",
       "| Almen Abdi            | 4                     | \n",
       "| Aly Cissokho          | 4                     | \n",
       "| Angel Di Maria        | 4                     | \n",
       "| Bojan Krkic           | 4                     | \n",
       "| Bryan Ruiz            | 4                     | \n",
       "\n",
       "\n"
      ],
      "text/plain": [
       "   player_name           league_appearances\n",
       "1  Gelson Fernandes      6                 \n",
       "2  Filip Djuricic        5                 \n",
       "3  Ricky van Wolfswinkel 5                 \n",
       "4  Aleksandar Tonev      4                 \n",
       "5  Alfred Finnbogason    4                 \n",
       "6  Almen Abdi            4                 \n",
       "7  Aly Cissokho          4                 \n",
       "8  Angel Di Maria        4                 \n",
       "9  Bojan Krkic           4                 \n",
       "10 Bryan Ruiz            4                 "
      ]
     },
     "metadata": {},
     "output_type": "display_data"
    }
   ],
   "source": [
    "head(topLeagueAppearances,n = 10)"
   ]
  },
  {
   "cell_type": "code",
   "execution_count": 236,
   "metadata": {
    "collapsed": true
   },
   "outputs": [],
   "source": [
    "teamTable = tbl(my_db, sql(\"SELECT team_api_id,team_long_name FROM Team\"))"
   ]
  },
  {
   "cell_type": "code",
   "execution_count": 237,
   "metadata": {
    "collapsed": false
   },
   "outputs": [
    {
     "data": {
      "text/plain": [
       "Source:   query [?? x 2]\n",
       "Database: sqlite 3.11.1 [database.sqlite]\n",
       "\n",
       "   team_api_id    team_long_name\n",
       "         <int>             <chr>\n",
       "1         9987          KRC Genk\n",
       "2         9993      Beerschot AC\n",
       "3        10000  SV Zulte-Waregem\n",
       "4         9994  Sporting Lokeren\n",
       "5         9984 KSV Cercle Brugge\n",
       "6         8635    RSC Anderlecht\n",
       "7         9991          KAA Gent\n",
       "8         9998         RAEC Mons\n",
       "9         7947     FCV Dender EH\n",
       "10        9985 Standard de Liège\n",
       "# ... with more rows"
      ]
     },
     "metadata": {},
     "output_type": "display_data"
    }
   ],
   "source": [
    "teamTable"
   ]
  },
  {
   "cell_type": "code",
   "execution_count": 238,
   "metadata": {
    "collapsed": true
   },
   "outputs": [],
   "source": [
    "teamAttrTable = tbl(my_db, sql(\"SELECT team_api_id,buildUpPlaySpeed,buildUpPlayDribbling,buildUpPlayPassing,chanceCreationPassing,chanceCreationCrossing,chanceCreationShooting,defencePressure,defenceAggression,defenceTeamWidth FROM Team_Attributes\"))"
   ]
  },
  {
   "cell_type": "code",
   "execution_count": 239,
   "metadata": {
    "collapsed": false
   },
   "outputs": [],
   "source": [
    "teamAttrTable = mutate(teamAttrTable, chance_creation = (chanceCreationPassing + chanceCreationCrossing + chanceCreationShooting), build_up_play =(buildUpPlaySpeed +buildUpPlayDribbling+buildUpPlayPassing), defense = (defencePressure+defenceAggression+defenceTeamWidth))"
   ]
  },
  {
   "cell_type": "code",
   "execution_count": 245,
   "metadata": {
    "collapsed": true
   },
   "outputs": [],
   "source": [
    "groupteamTable = teamAttrTable %>% \n",
    "    group_by(team_api_id) %>%\n",
    "    summarize(chance_creation = max(chance_creation), build_up_play = max(build_up_play), defense = max(defense))"
   ]
  },
  {
   "cell_type": "code",
   "execution_count": 246,
   "metadata": {
    "collapsed": false
   },
   "outputs": [
    {
     "data": {
      "text/plain": [
       "Source:   query [?? x 4]\n",
       "Database: sqlite 3.11.1 [database.sqlite]\n",
       "\n",
       "  team_api_id chance_creation build_up_play defense\n",
       "        <int>           <int>         <int>   <int>\n",
       "1        9930             181           156     150"
      ]
     },
     "metadata": {},
     "output_type": "display_data"
    }
   ],
   "source": [
    "filter(groupteamTable, team_api_id==9930)"
   ]
  },
  {
   "cell_type": "code",
   "execution_count": 247,
   "metadata": {
    "collapsed": false
   },
   "outputs": [],
   "source": [
    "teamData = left_join(teamTable, groupteamTable, by = \"team_api_id\")"
   ]
  },
  {
   "cell_type": "code",
   "execution_count": 248,
   "metadata": {
    "collapsed": false
   },
   "outputs": [
    {
     "data": {
      "text/plain": [
       "Source:   query [?? x 5]\n",
       "Database: sqlite 3.11.1 [database.sqlite]\n",
       "\n",
       "   team_api_id    team_long_name chance_creation build_up_play defense\n",
       "         <int>             <chr>           <int>         <int>   <int>\n",
       "1         9987          KRC Genk             182           148     205\n",
       "2         9993      Beerschot AC             185            NA     210\n",
       "3        10000  SV Zulte-Waregem             153           147     200\n",
       "4         9994  Sporting Lokeren             154           159     200\n",
       "5         9984 KSV Cercle Brugge             200           145     195\n",
       "6         8635    RSC Anderlecht             182           149     190\n",
       "7         9991          KAA Gent             184           142     166\n",
       "8         9998         RAEC Mons             168           160     138\n",
       "9         7947     FCV Dender EH              NA            NA      NA\n",
       "10        9985 Standard de Liège             182           161     205\n",
       "# ... with more rows"
      ]
     },
     "metadata": {},
     "output_type": "display_data"
    }
   ],
   "source": [
    "teamData"
   ]
  },
  {
   "cell_type": "code",
   "execution_count": 249,
   "metadata": {
    "collapsed": false
   },
   "outputs": [
    {
     "name": "stderr",
     "output_type": "stream",
     "text": [
      "Selecting by build_up_play\n"
     ]
    }
   ],
   "source": [
    "topBuildUpTeam = tbl_df(teamData) %>% select(team_long_name,build_up_play) %>% top_n(10) %>% arrange(desc(build_up_play))"
   ]
  },
  {
   "cell_type": "code",
   "execution_count": 250,
   "metadata": {
    "collapsed": false
   },
   "outputs": [
    {
     "data": {
      "text/html": [
       "<table>\n",
       "<thead><tr><th scope=col>team_long_name</th><th scope=col>build_up_play</th></tr></thead>\n",
       "<tbody>\n",
       "\t<tr><td>Torino                    </td><td>209                       </td></tr>\n",
       "\t<tr><td>Udinese                   </td><td>205                       </td></tr>\n",
       "\t<tr><td>Fortuna Düsseldorf        </td><td>198                       </td></tr>\n",
       "\t<tr><td>Podbeskidzie Bielsko-Biała</td><td>193                       </td></tr>\n",
       "\t<tr><td>Korona Kielce             </td><td>192                       </td></tr>\n",
       "\t<tr><td>Carpi                     </td><td>190                       </td></tr>\n",
       "\t<tr><td>Widzew Łódź               </td><td>190                       </td></tr>\n",
       "\t<tr><td>Widzew Łódź               </td><td>190                       </td></tr>\n",
       "\t<tr><td>FC Nantes                 </td><td>189                       </td></tr>\n",
       "\t<tr><td>Lazio                     </td><td>188                       </td></tr>\n",
       "</tbody>\n",
       "</table>\n"
      ],
      "text/latex": [
       "\\begin{tabular}{r|ll}\n",
       " team\\_long\\_name & build\\_up\\_play\\\\\n",
       "\\hline\n",
       "\t Torino                     & 209                       \\\\\n",
       "\t Udinese                    & 205                       \\\\\n",
       "\t Fortuna Düsseldorf         & 198                       \\\\\n",
       "\t Podbeskidzie Bielsko-Biała & 193                       \\\\\n",
       "\t Korona Kielce              & 192                       \\\\\n",
       "\t Carpi                      & 190                       \\\\\n",
       "\t Widzew Łódź                & 190                       \\\\\n",
       "\t Widzew Łódź                & 190                       \\\\\n",
       "\t FC Nantes                  & 189                       \\\\\n",
       "\t Lazio                      & 188                       \\\\\n",
       "\\end{tabular}\n"
      ],
      "text/markdown": [
       "\n",
       "team_long_name | build_up_play | \n",
       "|---|---|---|---|---|---|---|---|---|---|\n",
       "| Torino                     | 209                        | \n",
       "| Udinese                    | 205                        | \n",
       "| Fortuna Düsseldorf         | 198                        | \n",
       "| Podbeskidzie Bielsko-Biała | 193                        | \n",
       "| Korona Kielce              | 192                        | \n",
       "| Carpi                      | 190                        | \n",
       "| Widzew Łódź                | 190                        | \n",
       "| Widzew Łódź                | 190                        | \n",
       "| FC Nantes                  | 189                        | \n",
       "| Lazio                      | 188                        | \n",
       "\n",
       "\n"
      ],
      "text/plain": [
       "   team_long_name             build_up_play\n",
       "1  Torino                     209          \n",
       "2  Udinese                    205          \n",
       "3  Fortuna Düsseldorf         198          \n",
       "4  Podbeskidzie Bielsko-Biała 193          \n",
       "5  Korona Kielce              192          \n",
       "6  Carpi                      190          \n",
       "7  Widzew Łódź                190          \n",
       "8  Widzew Łódź                190          \n",
       "9  FC Nantes                  189          \n",
       "10 Lazio                      188          "
      ]
     },
     "metadata": {},
     "output_type": "display_data"
    }
   ],
   "source": [
    "head(topBuildUpTeam, n = 10)"
   ]
  },
  {
   "cell_type": "code",
   "execution_count": 251,
   "metadata": {
    "collapsed": false
   },
   "outputs": [
    {
     "name": "stderr",
     "output_type": "stream",
     "text": [
      "Selecting by chance_creation\n"
     ]
    }
   ],
   "source": [
    "topChanceCreationTeam = tbl_df(teamData) %>% select(team_long_name,chance_creation) %>% top_n(10) %>% arrange(desc(chance_creation))"
   ]
  },
  {
   "cell_type": "code",
   "execution_count": 252,
   "metadata": {
    "collapsed": false
   },
   "outputs": [
    {
     "data": {
      "text/html": [
       "<table>\n",
       "<thead><tr><th scope=col>team_long_name</th><th scope=col>chance_creation</th></tr></thead>\n",
       "<tbody>\n",
       "\t<tr><td>Lazio                  </td><td>220                    </td></tr>\n",
       "\t<tr><td>SV Werder Bremen       </td><td>216                    </td></tr>\n",
       "\t<tr><td>Napoli                 </td><td>215                    </td></tr>\n",
       "\t<tr><td>Manchester City        </td><td>210                    </td></tr>\n",
       "\t<tr><td>Tottenham Hotspur      </td><td>210                    </td></tr>\n",
       "\t<tr><td>Birmingham City        </td><td>210                    </td></tr>\n",
       "\t<tr><td>Wolverhampton Wanderers</td><td>210                    </td></tr>\n",
       "\t<tr><td>Burnley                </td><td>210                    </td></tr>\n",
       "\t<tr><td>Swansea City           </td><td>210                    </td></tr>\n",
       "\t<tr><td>Queens Park Rangers    </td><td>210                    </td></tr>\n",
       "</tbody>\n",
       "</table>\n"
      ],
      "text/latex": [
       "\\begin{tabular}{r|ll}\n",
       " team\\_long\\_name & chance\\_creation\\\\\n",
       "\\hline\n",
       "\t Lazio                   & 220                    \\\\\n",
       "\t SV Werder Bremen        & 216                    \\\\\n",
       "\t Napoli                  & 215                    \\\\\n",
       "\t Manchester City         & 210                    \\\\\n",
       "\t Tottenham Hotspur       & 210                    \\\\\n",
       "\t Birmingham City         & 210                    \\\\\n",
       "\t Wolverhampton Wanderers & 210                    \\\\\n",
       "\t Burnley                 & 210                    \\\\\n",
       "\t Swansea City            & 210                    \\\\\n",
       "\t Queens Park Rangers     & 210                    \\\\\n",
       "\\end{tabular}\n"
      ],
      "text/markdown": [
       "\n",
       "team_long_name | chance_creation | \n",
       "|---|---|---|---|---|---|---|---|---|---|\n",
       "| Lazio                   | 220                     | \n",
       "| SV Werder Bremen        | 216                     | \n",
       "| Napoli                  | 215                     | \n",
       "| Manchester City         | 210                     | \n",
       "| Tottenham Hotspur       | 210                     | \n",
       "| Birmingham City         | 210                     | \n",
       "| Wolverhampton Wanderers | 210                     | \n",
       "| Burnley                 | 210                     | \n",
       "| Swansea City            | 210                     | \n",
       "| Queens Park Rangers     | 210                     | \n",
       "\n",
       "\n"
      ],
      "text/plain": [
       "   team_long_name          chance_creation\n",
       "1  Lazio                   220            \n",
       "2  SV Werder Bremen        216            \n",
       "3  Napoli                  215            \n",
       "4  Manchester City         210            \n",
       "5  Tottenham Hotspur       210            \n",
       "6  Birmingham City         210            \n",
       "7  Wolverhampton Wanderers 210            \n",
       "8  Burnley                 210            \n",
       "9  Swansea City            210            \n",
       "10 Queens Park Rangers     210            "
      ]
     },
     "metadata": {},
     "output_type": "display_data"
    }
   ],
   "source": [
    "head(topChanceCreationTeam,n=10)"
   ]
  },
  {
   "cell_type": "code",
   "execution_count": 253,
   "metadata": {
    "collapsed": false
   },
   "outputs": [
    {
     "name": "stderr",
     "output_type": "stream",
     "text": [
      "Selecting by defense\n"
     ]
    }
   ],
   "source": [
    "topDefenseTeam = tbl_df(teamData) %>% select(team_long_name,defense) %>% top_n(10) %>% arrange(desc(defense))"
   ]
  },
  {
   "cell_type": "code",
   "execution_count": 254,
   "metadata": {
    "collapsed": false
   },
   "outputs": [
    {
     "data": {
      "text/html": [
       "<table>\n",
       "<thead><tr><th scope=col>team_long_name</th><th scope=col>defense</th></tr></thead>\n",
       "<tbody>\n",
       "\t<tr><td>Beerschot AC           </td><td>210                    </td></tr>\n",
       "\t<tr><td>KVC Westerlo           </td><td>210                    </td></tr>\n",
       "\t<tr><td>Sporting Charleroi     </td><td>210                    </td></tr>\n",
       "\t<tr><td>West Bromwich Albion   </td><td>210                    </td></tr>\n",
       "\t<tr><td>Hull City              </td><td>210                    </td></tr>\n",
       "\t<tr><td>Birmingham City        </td><td>210                    </td></tr>\n",
       "\t<tr><td>Wolverhampton Wanderers</td><td>210                    </td></tr>\n",
       "\t<tr><td>Blackpool              </td><td>210                    </td></tr>\n",
       "\t<tr><td>Swansea City           </td><td>210                    </td></tr>\n",
       "\t<tr><td>Queens Park Rangers    </td><td>210                    </td></tr>\n",
       "</tbody>\n",
       "</table>\n"
      ],
      "text/latex": [
       "\\begin{tabular}{r|ll}\n",
       " team\\_long\\_name & defense\\\\\n",
       "\\hline\n",
       "\t Beerschot AC            & 210                    \\\\\n",
       "\t KVC Westerlo            & 210                    \\\\\n",
       "\t Sporting Charleroi      & 210                    \\\\\n",
       "\t West Bromwich Albion    & 210                    \\\\\n",
       "\t Hull City               & 210                    \\\\\n",
       "\t Birmingham City         & 210                    \\\\\n",
       "\t Wolverhampton Wanderers & 210                    \\\\\n",
       "\t Blackpool               & 210                    \\\\\n",
       "\t Swansea City            & 210                    \\\\\n",
       "\t Queens Park Rangers     & 210                    \\\\\n",
       "\\end{tabular}\n"
      ],
      "text/markdown": [
       "\n",
       "team_long_name | defense | \n",
       "|---|---|---|---|---|---|---|---|---|---|\n",
       "| Beerschot AC            | 210                     | \n",
       "| KVC Westerlo            | 210                     | \n",
       "| Sporting Charleroi      | 210                     | \n",
       "| West Bromwich Albion    | 210                     | \n",
       "| Hull City               | 210                     | \n",
       "| Birmingham City         | 210                     | \n",
       "| Wolverhampton Wanderers | 210                     | \n",
       "| Blackpool               | 210                     | \n",
       "| Swansea City            | 210                     | \n",
       "| Queens Park Rangers     | 210                     | \n",
       "\n",
       "\n"
      ],
      "text/plain": [
       "   team_long_name          defense\n",
       "1  Beerschot AC            210    \n",
       "2  KVC Westerlo            210    \n",
       "3  Sporting Charleroi      210    \n",
       "4  West Bromwich Albion    210    \n",
       "5  Hull City               210    \n",
       "6  Birmingham City         210    \n",
       "7  Wolverhampton Wanderers 210    \n",
       "8  Blackpool               210    \n",
       "9  Swansea City            210    \n",
       "10 Queens Park Rangers     210    "
      ]
     },
     "metadata": {},
     "output_type": "display_data"
    }
   ],
   "source": [
    "head(topDefenseTeam, n = 10)"
   ]
  },
  {
   "cell_type": "code",
   "execution_count": 255,
   "metadata": {
    "collapsed": true
   },
   "outputs": [],
   "source": [
    "teamMatchDF = tbl_df(matchTable)"
   ]
  },
  {
   "cell_type": "code",
   "execution_count": 256,
   "metadata": {
    "collapsed": false
   },
   "outputs": [
    {
     "data": {
      "text/html": [
       "<table>\n",
       "<thead><tr><th scope=col>league_id</th><th scope=col>home_team_api_id</th><th scope=col>away_team_api_id</th><th scope=col>home_team_goal</th><th scope=col>away_team_goal</th><th scope=col>home_player_1</th><th scope=col>home_player_2</th><th scope=col>home_player_3</th><th scope=col>home_player_4</th><th scope=col>home_player_5</th><th scope=col>⋯</th><th scope=col>away_player_2</th><th scope=col>away_player_3</th><th scope=col>away_player_4</th><th scope=col>away_player_5</th><th scope=col>away_player_6</th><th scope=col>away_player_7</th><th scope=col>away_player_8</th><th scope=col>away_player_9</th><th scope=col>away_player_10</th><th scope=col>away_player_11</th></tr></thead>\n",
       "<tbody>\n",
       "\t<tr><td>1    </td><td> 9987</td><td> 9993</td><td>1    </td><td>1    </td><td>NA   </td><td>NA   </td><td>NA   </td><td>NA   </td><td>NA   </td><td>⋯    </td><td>NA   </td><td>NA   </td><td>NA   </td><td>NA   </td><td>NA   </td><td>NA   </td><td>NA   </td><td>NA   </td><td>NA   </td><td>NA   </td></tr>\n",
       "\t<tr><td>1    </td><td>10000</td><td> 9994</td><td>0    </td><td>0    </td><td>NA   </td><td>NA   </td><td>NA   </td><td>NA   </td><td>NA   </td><td>⋯    </td><td>NA   </td><td>NA   </td><td>NA   </td><td>NA   </td><td>NA   </td><td>NA   </td><td>NA   </td><td>NA   </td><td>NA   </td><td>NA   </td></tr>\n",
       "\t<tr><td>1    </td><td> 9984</td><td> 8635</td><td>0    </td><td>3    </td><td>NA   </td><td>NA   </td><td>NA   </td><td>NA   </td><td>NA   </td><td>⋯    </td><td>NA   </td><td>NA   </td><td>NA   </td><td>NA   </td><td>NA   </td><td>NA   </td><td>NA   </td><td>NA   </td><td>NA   </td><td>NA   </td></tr>\n",
       "\t<tr><td>1    </td><td> 9991</td><td> 9998</td><td>5    </td><td>0    </td><td>NA   </td><td>NA   </td><td>NA   </td><td>NA   </td><td>NA   </td><td>⋯    </td><td>NA   </td><td>NA   </td><td>NA   </td><td>NA   </td><td>NA   </td><td>NA   </td><td>NA   </td><td>NA   </td><td>NA   </td><td>NA   </td></tr>\n",
       "\t<tr><td>1    </td><td> 7947</td><td> 9985</td><td>1    </td><td>3    </td><td>NA   </td><td>NA   </td><td>NA   </td><td>NA   </td><td>NA   </td><td>⋯    </td><td>NA   </td><td>NA   </td><td>NA   </td><td>NA   </td><td>NA   </td><td>NA   </td><td>NA   </td><td>NA   </td><td>NA   </td><td>NA   </td></tr>\n",
       "\t<tr><td>1    </td><td> 8203</td><td> 8342</td><td>1    </td><td>1    </td><td>NA   </td><td>NA   </td><td>NA   </td><td>NA   </td><td>NA   </td><td>⋯    </td><td>NA   </td><td>NA   </td><td>NA   </td><td>NA   </td><td>NA   </td><td>NA   </td><td>NA   </td><td>NA   </td><td>NA   </td><td>NA   </td></tr>\n",
       "\t<tr><td>1    </td><td> 9999</td><td> 8571</td><td>2    </td><td>2    </td><td>NA   </td><td>NA   </td><td>NA   </td><td>NA   </td><td>NA   </td><td>⋯    </td><td>NA   </td><td>NA   </td><td>NA   </td><td>NA   </td><td>NA   </td><td>NA   </td><td>NA   </td><td>NA   </td><td>NA   </td><td>NA   </td></tr>\n",
       "\t<tr><td>1    </td><td> 4049</td><td> 9996</td><td>1    </td><td>2    </td><td>NA   </td><td>NA   </td><td>NA   </td><td>NA   </td><td>NA   </td><td>⋯    </td><td>NA   </td><td>NA   </td><td>NA   </td><td>NA   </td><td>NA   </td><td>NA   </td><td>NA   </td><td>NA   </td><td>NA   </td><td>NA   </td></tr>\n",
       "\t<tr><td>1    </td><td>10001</td><td> 9986</td><td>1    </td><td>0    </td><td>NA   </td><td>NA   </td><td>NA   </td><td>NA   </td><td>NA   </td><td>⋯    </td><td>NA   </td><td>NA   </td><td>NA   </td><td>NA   </td><td>NA   </td><td>NA   </td><td>NA   </td><td>NA   </td><td>NA   </td><td>NA   </td></tr>\n",
       "\t<tr><td>1    </td><td> 8342</td><td> 8571</td><td>4    </td><td>1    </td><td>NA   </td><td>NA   </td><td>NA   </td><td>NA   </td><td>NA   </td><td>⋯    </td><td>NA   </td><td>NA   </td><td>NA   </td><td>NA   </td><td>NA   </td><td>NA   </td><td>NA   </td><td>NA   </td><td>NA   </td><td>NA   </td></tr>\n",
       "\t<tr><td>1    </td><td> 9985</td><td> 9986</td><td>1    </td><td>2    </td><td>NA   </td><td>NA   </td><td>NA   </td><td>NA   </td><td>NA   </td><td>⋯    </td><td>NA   </td><td>NA   </td><td>NA   </td><td>NA   </td><td>NA   </td><td>NA   </td><td>NA   </td><td>NA   </td><td>NA   </td><td>NA   </td></tr>\n",
       "\t<tr><td>1    </td><td>10000</td><td> 9991</td><td>0    </td><td>2    </td><td>NA   </td><td>NA   </td><td>NA   </td><td>NA   </td><td>NA   </td><td>⋯    </td><td>NA   </td><td>NA   </td><td>NA   </td><td>NA   </td><td>NA   </td><td>NA   </td><td>NA   </td><td>NA   </td><td>NA   </td><td>NA   </td></tr>\n",
       "\t<tr><td>1    </td><td> 9994</td><td> 9998</td><td>0    </td><td>0    </td><td>NA   </td><td>NA   </td><td>NA   </td><td>NA   </td><td>NA   </td><td>⋯    </td><td>NA   </td><td>NA   </td><td>NA   </td><td>NA   </td><td>NA   </td><td>NA   </td><td>NA   </td><td>NA   </td><td>NA   </td><td>NA   </td></tr>\n",
       "\t<tr><td>1    </td><td> 7947</td><td>10001</td><td>2    </td><td>2    </td><td>NA   </td><td>NA   </td><td>NA   </td><td>NA   </td><td>NA   </td><td>⋯    </td><td>NA   </td><td>NA   </td><td>NA   </td><td>NA   </td><td>NA   </td><td>NA   </td><td>NA   </td><td>NA   </td><td>NA   </td><td>NA   </td></tr>\n",
       "\t<tr><td>1    </td><td> 8203</td><td> 9999</td><td>1    </td><td>2    </td><td>NA   </td><td>NA   </td><td>NA   </td><td>NA   </td><td>NA   </td><td>⋯    </td><td>NA   </td><td>NA   </td><td>NA   </td><td>NA   </td><td>NA   </td><td>NA   </td><td>NA   </td><td>NA   </td><td>NA   </td><td>NA   </td></tr>\n",
       "\t<tr><td>1    </td><td> 9996</td><td> 9984</td><td>0    </td><td>1    </td><td>NA   </td><td>NA   </td><td>NA   </td><td>NA   </td><td>NA   </td><td>⋯    </td><td>NA   </td><td>NA   </td><td>NA   </td><td>NA   </td><td>NA   </td><td>NA   </td><td>NA   </td><td>NA   </td><td>NA   </td><td>NA   </td></tr>\n",
       "\t<tr><td>1    </td><td> 4049</td><td> 9987</td><td>1    </td><td>3    </td><td>NA   </td><td>NA   </td><td>NA   </td><td>NA   </td><td>NA   </td><td>⋯    </td><td>NA   </td><td>NA   </td><td>NA   </td><td>NA   </td><td>NA   </td><td>NA   </td><td>NA   </td><td>NA   </td><td>NA   </td><td>NA   </td></tr>\n",
       "\t<tr><td>1    </td><td> 9993</td><td> 8635</td><td>1    </td><td>3    </td><td>NA   </td><td>NA   </td><td>NA   </td><td>NA   </td><td>NA   </td><td>⋯    </td><td>NA   </td><td>NA   </td><td>NA   </td><td>NA   </td><td>NA   </td><td>NA   </td><td>NA   </td><td>NA   </td><td>NA   </td><td>NA   </td></tr>\n",
       "\t<tr><td>1    </td><td> 8635</td><td> 9994</td><td>2    </td><td>3    </td><td>NA   </td><td>NA   </td><td>NA   </td><td>NA   </td><td>NA   </td><td>⋯    </td><td>NA   </td><td>NA   </td><td>NA   </td><td>NA   </td><td>NA   </td><td>NA   </td><td>NA   </td><td>NA   </td><td>NA   </td><td>NA   </td></tr>\n",
       "\t<tr><td>1    </td><td> 9998</td><td> 9996</td><td>0    </td><td>0    </td><td>NA   </td><td>NA   </td><td>NA   </td><td>NA   </td><td>NA   </td><td>⋯    </td><td>NA   </td><td>NA   </td><td>NA   </td><td>NA   </td><td>NA   </td><td>NA   </td><td>NA   </td><td>NA   </td><td>NA   </td><td>NA   </td></tr>\n",
       "\t<tr><td>1    </td><td> 9986</td><td> 8342</td><td>2    </td><td>2    </td><td>NA   </td><td>NA   </td><td>NA   </td><td>NA   </td><td>NA   </td><td>⋯    </td><td>NA   </td><td>NA   </td><td>NA   </td><td>NA   </td><td>NA   </td><td>NA   </td><td>NA   </td><td>NA   </td><td>NA   </td><td>NA   </td></tr>\n",
       "\t<tr><td>1    </td><td> 9984</td><td>10000</td><td>2    </td><td>0    </td><td>NA   </td><td>NA   </td><td>NA   </td><td>NA   </td><td>NA   </td><td>⋯    </td><td>NA   </td><td>NA   </td><td>NA   </td><td>NA   </td><td>NA   </td><td>NA   </td><td>NA   </td><td>NA   </td><td>NA   </td><td>NA   </td></tr>\n",
       "\t<tr><td>1    </td><td> 9991</td><td> 7947</td><td>1    </td><td>1    </td><td>NA   </td><td>NA   </td><td>NA   </td><td>NA   </td><td>NA   </td><td>⋯    </td><td>NA   </td><td>NA   </td><td>NA   </td><td>NA   </td><td>NA   </td><td>NA   </td><td>NA   </td><td>NA   </td><td>NA   </td><td>NA   </td></tr>\n",
       "\t<tr><td>1    </td><td> 9999</td><td> 4049</td><td>1    </td><td>2    </td><td>NA   </td><td>NA   </td><td>NA   </td><td>NA   </td><td>NA   </td><td>⋯    </td><td>NA   </td><td>NA   </td><td>NA   </td><td>NA   </td><td>NA   </td><td>NA   </td><td>NA   </td><td>NA   </td><td>NA   </td><td>NA   </td></tr>\n",
       "\t<tr><td>1    </td><td> 8571</td><td> 8203</td><td>0    </td><td>0    </td><td>NA   </td><td>NA   </td><td>NA   </td><td>NA   </td><td>NA   </td><td>⋯    </td><td>NA   </td><td>NA   </td><td>NA   </td><td>NA   </td><td>NA   </td><td>NA   </td><td>NA   </td><td>NA   </td><td>NA   </td><td>NA   </td></tr>\n",
       "\t<tr><td>1    </td><td>10001</td><td> 9987</td><td>1    </td><td>0    </td><td>NA   </td><td>NA   </td><td>NA   </td><td>NA   </td><td>NA   </td><td>⋯    </td><td>NA   </td><td>NA   </td><td>NA   </td><td>NA   </td><td>NA   </td><td>NA   </td><td>NA   </td><td>NA   </td><td>NA   </td><td>NA   </td></tr>\n",
       "\t<tr><td>1    </td><td> 9993</td><td> 9985</td><td>1    </td><td>3    </td><td>NA   </td><td>NA   </td><td>NA   </td><td>NA   </td><td>NA   </td><td>⋯    </td><td>NA   </td><td>NA   </td><td>NA   </td><td>NA   </td><td>NA   </td><td>NA   </td><td>NA   </td><td>NA   </td><td>NA   </td><td>NA   </td></tr>\n",
       "\t<tr><td>1    </td><td> 8342</td><td> 8635</td><td>1    </td><td>1    </td><td>NA   </td><td>NA   </td><td>NA   </td><td>NA   </td><td>NA   </td><td>⋯    </td><td>NA   </td><td>NA   </td><td>NA   </td><td>NA   </td><td>NA   </td><td>NA   </td><td>NA   </td><td>NA   </td><td>NA   </td><td>NA   </td></tr>\n",
       "\t<tr><td>1    </td><td> 9987</td><td> 9999</td><td>1    </td><td>1    </td><td>NA   </td><td>NA   </td><td>NA   </td><td>NA   </td><td>NA   </td><td>⋯    </td><td>NA   </td><td>NA   </td><td>NA   </td><td>NA   </td><td>NA   </td><td>NA   </td><td>NA   </td><td>NA   </td><td>NA   </td><td>NA   </td></tr>\n",
       "\t<tr><td>1    </td><td>10000</td><td> 9993</td><td>2    </td><td>2    </td><td>NA   </td><td>NA   </td><td>NA   </td><td>NA   </td><td>NA   </td><td>⋯    </td><td>NA   </td><td>NA   </td><td>NA   </td><td>NA   </td><td>NA   </td><td>NA   </td><td>NA   </td><td>NA   </td><td>NA   </td><td>NA   </td></tr>\n",
       "\t<tr><td>⋮</td><td>⋮</td><td>⋮</td><td>⋮</td><td>⋮</td><td>⋮</td><td>⋮</td><td>⋮</td><td>⋮</td><td>⋮</td><td>⋱</td><td>⋮</td><td>⋮</td><td>⋮</td><td>⋮</td><td>⋮</td><td>⋮</td><td>⋮</td><td>⋮</td><td>⋮</td><td>⋮</td></tr>\n",
       "\t<tr><td>24558 </td><td> 9956 </td><td> 7896 </td><td>6     </td><td>1     </td><td>157856</td><td> 42258</td><td>294256</td><td>177689</td><td>513512</td><td>⋯     </td><td>282287</td><td> 41415</td><td>173534</td><td>    NA</td><td>393337</td><td>491221</td><td>  8893</td><td> 67369</td><td>491794</td><td>178142</td></tr>\n",
       "\t<tr><td>24558 </td><td>10199 </td><td> 9931 </td><td>1     </td><td>3     </td><td> 42276</td><td>114792</td><td>166889</td><td>150007</td><td> 42294</td><td>⋯     </td><td> 30835</td><td>172768</td><td> 22834</td><td> 40536</td><td> 25772</td><td>207234</td><td> 40274</td><td>114738</td><td> 41726</td><td>527103</td></tr>\n",
       "\t<tr><td>24558 </td><td>10190 </td><td>10243 </td><td>0     </td><td>2     </td><td> 42231</td><td> 45780</td><td> 95220</td><td>638592</td><td>120082</td><td>⋯     </td><td>121080</td><td> 34268</td><td>656668</td><td>260964</td><td> 67008</td><td>113235</td><td> 92252</td><td>198082</td><td>540230</td><td> 67306</td></tr>\n",
       "\t<tr><td>24558 </td><td> 9824 </td><td>10179 </td><td>1     </td><td>1     </td><td> 33272</td><td>214344</td><td> 41621</td><td> 30138</td><td>458806</td><td>⋯     </td><td>140495</td><td>202663</td><td> 32597</td><td>114794</td><td>    NA</td><td> 67349</td><td> 95230</td><td>451335</td><td>106559</td><td>275122</td></tr>\n",
       "\t<tr><td>24558 </td><td>10192 </td><td>10191 </td><td>3     </td><td>1     </td><td>274787</td><td> 25843</td><td>108451</td><td> 25815</td><td> 94553</td><td>⋯     </td><td>239959</td><td> 67304</td><td>178210</td><td>158253</td><td>186524</td><td> 25809</td><td>133126</td><td>520466</td><td>184610</td><td>232110</td></tr>\n",
       "\t<tr><td>24558 </td><td> 9931 </td><td>10191 </td><td>3     </td><td>1     </td><td>156175</td><td> 95216</td><td>172768</td><td> 30492</td><td>181211</td><td>⋯     </td><td>239959</td><td>320183</td><td>  8800</td><td>158253</td><td>133126</td><td> 25809</td><td>121115</td><td>520466</td><td>232110</td><td>289732</td></tr>\n",
       "\t<tr><td>24558 </td><td>10192 </td><td> 7896 </td><td>0     </td><td>1     </td><td>274787</td><td>492132</td><td>108451</td><td> 25815</td><td> 94553</td><td>⋯     </td><td>282287</td><td> 41415</td><td>173534</td><td>114212</td><td>491221</td><td>393337</td><td>  8893</td><td>186948</td><td> 93229</td><td>178142</td></tr>\n",
       "\t<tr><td>24558 </td><td>10199 </td><td>10190 </td><td>0     </td><td>1     </td><td> 42276</td><td>114792</td><td>178119</td><td>150007</td><td> 42294</td><td>⋯     </td><td> 45780</td><td>638592</td><td> 95220</td><td>120082</td><td>171229</td><td>308309</td><td> 67333</td><td> 66934</td><td>176298</td><td> 35831</td></tr>\n",
       "\t<tr><td>24558 </td><td>10179 </td><td>10243 </td><td>3     </td><td>1     </td><td> 10637</td><td> 67349</td><td>202663</td><td> 32597</td><td>114794</td><td>⋯     </td><td>121080</td><td> 34268</td><td>656668</td><td>260964</td><td> 92252</td><td> 67008</td><td>113235</td><td>108525</td><td>254704</td><td> 67306</td></tr>\n",
       "\t<tr><td>24558 </td><td> 9824 </td><td> 9956 </td><td>3     </td><td>3     </td><td> 33272</td><td>358156</td><td> 25813</td><td> 41621</td><td>458806</td><td>⋯     </td><td> 42258</td><td>155075</td><td>177689</td><td>513512</td><td>173936</td><td> 39979</td><td>147959</td><td>451983</td><td> 80564</td><td>289472</td></tr>\n",
       "\t<tr><td>24558 </td><td> 7896 </td><td> 9931 </td><td>1     </td><td>3     </td><td>    NA</td><td>282287</td><td>173534</td><td> 41415</td><td>    NA</td><td>⋯     </td><td> 30835</td><td>172768</td><td> 22834</td><td>181211</td><td>339992</td><td>207234</td><td> 25794</td><td>176206</td><td>402975</td><td>527104</td></tr>\n",
       "\t<tr><td>24558 </td><td>10179 </td><td>10192 </td><td>1     </td><td>3     </td><td> 10637</td><td> 67349</td><td>202663</td><td> 32597</td><td>114794</td><td>⋯     </td><td>492132</td><td>493185</td><td> 25815</td><td> 94553</td><td>320184</td><td>598355</td><td>190525</td><td>302079</td><td> 45174</td><td> 37554</td></tr>\n",
       "\t<tr><td>24558 </td><td>10190 </td><td> 9956 </td><td>0     </td><td>2     </td><td> 42231</td><td> 45780</td><td> 95220</td><td>638592</td><td>120082</td><td>⋯     </td><td>274779</td><td>294256</td><td>155075</td><td>513512</td><td>173936</td><td> 39979</td><td>147959</td><td>451983</td><td> 80564</td><td>289472</td></tr>\n",
       "\t<tr><td>24558 </td><td>10191 </td><td> 9824 </td><td>1     </td><td>0     </td><td> 67311</td><td>239959</td><td>178210</td><td> 67304</td><td>158253</td><td>⋯     </td><td>114735</td><td>257845</td><td> 41621</td><td>458806</td><td>358156</td><td> 56868</td><td>214344</td><td>113227</td><td>114011</td><td>209371</td></tr>\n",
       "\t<tr><td>24558 </td><td>10243 </td><td>10199 </td><td>2     </td><td>5     </td><td>274776</td><td>121080</td><td> 34268</td><td>113235</td><td>260964</td><td>⋯     </td><td>114792</td><td>150007</td><td>178119</td><td> 42294</td><td>185518</td><td>260708</td><td>201704</td><td> 95257</td><td>104646</td><td> 34082</td></tr>\n",
       "\t<tr><td>24558 </td><td> 7896 </td><td>10199 </td><td>0     </td><td>1     </td><td>    NA</td><td>  8881</td><td>173534</td><td> 41415</td><td>282287</td><td>⋯     </td><td>114792</td><td>150007</td><td>178119</td><td> 27232</td><td>185518</td><td>260708</td><td>201704</td><td> 95257</td><td>104646</td><td> 34082</td></tr>\n",
       "\t<tr><td>24558 </td><td> 9824 </td><td>10190 </td><td>1     </td><td>0     </td><td> 33272</td><td>114735</td><td> 25813</td><td> 41621</td><td>458806</td><td>⋯     </td><td> 67363</td><td> 95220</td><td>638592</td><td>413155</td><td>143790</td><td>171229</td><td> 66934</td><td> 92094</td><td>195215</td><td>119839</td></tr>\n",
       "\t<tr><td>24558 </td><td>10191 </td><td>10179 </td><td>0     </td><td>2     </td><td> 67311</td><td>239959</td><td>178210</td><td> 67304</td><td>158253</td><td>⋯     </td><td> 67349</td><td>202663</td><td> 32597</td><td>114794</td><td>188114</td><td> 25840</td><td>482200</td><td>538336</td><td> 95230</td><td>275122</td></tr>\n",
       "\t<tr><td>24558 </td><td> 9931 </td><td>10243 </td><td>3     </td><td>1     </td><td>156175</td><td> 95216</td><td>172768</td><td> 22834</td><td> 40536</td><td>⋯     </td><td>121080</td><td> 34268</td><td>197757</td><td>260964</td><td> 92252</td><td> 67008</td><td>198082</td><td>108525</td><td>194532</td><td> 67306</td></tr>\n",
       "\t<tr><td>24558 </td><td> 9956 </td><td>10192 </td><td>3     </td><td>2     </td><td>132814</td><td>274779</td><td>294256</td><td>155075</td><td> 42258</td><td>⋯     </td><td>492132</td><td>108451</td><td> 25815</td><td> 94553</td><td>119702</td><td>320184</td><td> 25860</td><td>302079</td><td> 45174</td><td>422412</td></tr>\n",
       "\t<tr><td>24558 </td><td> 9931 </td><td>10190 </td><td>2     </td><td>1     </td><td>156175</td><td> 95216</td><td>172768</td><td> 22834</td><td> 30835</td><td>⋯     </td><td>678384</td><td>638592</td><td> 67363</td><td>413155</td><td> 45780</td><td>143790</td><td> 66934</td><td>176298</td><td> 92094</td><td> 72628</td></tr>\n",
       "\t<tr><td>24558 </td><td>10192 </td><td> 9824 </td><td>4     </td><td>0     </td><td>274787</td><td>492132</td><td>108451</td><td> 25815</td><td> 94553</td><td>⋯     </td><td>114735</td><td> 25813</td><td> 41621</td><td>358156</td><td>114011</td><td> 42237</td><td> 56868</td><td>209371</td><td>531309</td><td>113227</td></tr>\n",
       "\t<tr><td>24558 </td><td>10199 </td><td> 9956 </td><td>3     </td><td>3     </td><td> 42276</td><td> 27232</td><td>178119</td><td>150007</td><td> 42294</td><td>⋯     </td><td>274779</td><td>155075</td><td>294256</td><td> 42258</td><td>173936</td><td> 39979</td><td>147959</td><td>451983</td><td> 80564</td><td>289472</td></tr>\n",
       "\t<tr><td>24558 </td><td>10243 </td><td>10191 </td><td>3     </td><td>3     </td><td>274776</td><td>451982</td><td> 34268</td><td>197757</td><td>121080</td><td>⋯     </td><td>  8800</td><td>320183</td><td> 67304</td><td> 67389</td><td>133126</td><td>186524</td><td> 93223</td><td>121115</td><td> 25809</td><td>289732</td></tr>\n",
       "\t<tr><td>24558 </td><td>10179 </td><td> 7896 </td><td>3     </td><td>0     </td><td> 10637</td><td> 67349</td><td>202663</td><td> 32597</td><td>114794</td><td>⋯     </td><td>  8881</td><td> 39646</td><td> 41415</td><td>282287</td><td>491221</td><td>150084</td><td>  8893</td><td>140490</td><td> 93229</td><td>178142</td></tr>\n",
       "\t<tr><td>24558 </td><td>10190 </td><td>10191 </td><td>1     </td><td>0     </td><td> 42231</td><td>678384</td><td> 95220</td><td>638592</td><td>413155</td><td>⋯     </td><td>563066</td><td>  8800</td><td> 67304</td><td>158253</td><td>133126</td><td>186524</td><td> 93223</td><td>121115</td><td>232110</td><td>289732</td></tr>\n",
       "\t<tr><td>24558 </td><td> 9824 </td><td>10199 </td><td>1     </td><td>2     </td><td> 33272</td><td> 41621</td><td> 25813</td><td>257845</td><td>114735</td><td>⋯     </td><td>114792</td><td>150007</td><td>178119</td><td> 27232</td><td>570830</td><td>260708</td><td>201704</td><td> 36382</td><td> 34082</td><td> 95257</td></tr>\n",
       "\t<tr><td>24558 </td><td> 9956 </td><td>10179 </td><td>2     </td><td>0     </td><td>157856</td><td>274779</td><td>177689</td><td>294256</td><td> 42258</td><td>⋯     </td><td> 67349</td><td>202663</td><td> 32597</td><td>114794</td><td>188114</td><td> 25840</td><td>482200</td><td> 95230</td><td>451335</td><td>275122</td></tr>\n",
       "\t<tr><td>24558 </td><td> 7896 </td><td>10243 </td><td>0     </td><td>0     </td><td>    NA</td><td>  8881</td><td>173534</td><td> 39646</td><td>282287</td><td>⋯     </td><td>121080</td><td>197757</td><td>260964</td><td>231614</td><td>113235</td><td> 41116</td><td>462608</td><td> 42262</td><td> 92252</td><td>194532</td></tr>\n",
       "\t<tr><td>24558 </td><td>10192 </td><td> 9931 </td><td>4     </td><td>3     </td><td>274787</td><td>492132</td><td>108451</td><td> 25815</td><td> 94553</td><td>⋯     </td><td> 95216</td><td>172768</td><td> 22834</td><td>458806</td><td>207234</td><td> 25772</td><td> 40274</td><td> 34035</td><td> 41726</td><td>527103</td></tr>\n",
       "</tbody>\n",
       "</table>\n"
      ],
      "text/latex": [
       "\\begin{tabular}{r|lllllllllllllllllllllllllll}\n",
       " league\\_id & home\\_team\\_api\\_id & away\\_team\\_api\\_id & home\\_team\\_goal & away\\_team\\_goal & home\\_player\\_1 & home\\_player\\_2 & home\\_player\\_3 & home\\_player\\_4 & home\\_player\\_5 & ⋯ & away\\_player\\_2 & away\\_player\\_3 & away\\_player\\_4 & away\\_player\\_5 & away\\_player\\_6 & away\\_player\\_7 & away\\_player\\_8 & away\\_player\\_9 & away\\_player\\_10 & away\\_player\\_11\\\\\n",
       "\\hline\n",
       "\t 1     &  9987 &  9993 & 1     & 1     & NA    & NA    & NA    & NA    & NA    & ⋯     & NA    & NA    & NA    & NA    & NA    & NA    & NA    & NA    & NA    & NA   \\\\\n",
       "\t 1     & 10000 &  9994 & 0     & 0     & NA    & NA    & NA    & NA    & NA    & ⋯     & NA    & NA    & NA    & NA    & NA    & NA    & NA    & NA    & NA    & NA   \\\\\n",
       "\t 1     &  9984 &  8635 & 0     & 3     & NA    & NA    & NA    & NA    & NA    & ⋯     & NA    & NA    & NA    & NA    & NA    & NA    & NA    & NA    & NA    & NA   \\\\\n",
       "\t 1     &  9991 &  9998 & 5     & 0     & NA    & NA    & NA    & NA    & NA    & ⋯     & NA    & NA    & NA    & NA    & NA    & NA    & NA    & NA    & NA    & NA   \\\\\n",
       "\t 1     &  7947 &  9985 & 1     & 3     & NA    & NA    & NA    & NA    & NA    & ⋯     & NA    & NA    & NA    & NA    & NA    & NA    & NA    & NA    & NA    & NA   \\\\\n",
       "\t 1     &  8203 &  8342 & 1     & 1     & NA    & NA    & NA    & NA    & NA    & ⋯     & NA    & NA    & NA    & NA    & NA    & NA    & NA    & NA    & NA    & NA   \\\\\n",
       "\t 1     &  9999 &  8571 & 2     & 2     & NA    & NA    & NA    & NA    & NA    & ⋯     & NA    & NA    & NA    & NA    & NA    & NA    & NA    & NA    & NA    & NA   \\\\\n",
       "\t 1     &  4049 &  9996 & 1     & 2     & NA    & NA    & NA    & NA    & NA    & ⋯     & NA    & NA    & NA    & NA    & NA    & NA    & NA    & NA    & NA    & NA   \\\\\n",
       "\t 1     & 10001 &  9986 & 1     & 0     & NA    & NA    & NA    & NA    & NA    & ⋯     & NA    & NA    & NA    & NA    & NA    & NA    & NA    & NA    & NA    & NA   \\\\\n",
       "\t 1     &  8342 &  8571 & 4     & 1     & NA    & NA    & NA    & NA    & NA    & ⋯     & NA    & NA    & NA    & NA    & NA    & NA    & NA    & NA    & NA    & NA   \\\\\n",
       "\t 1     &  9985 &  9986 & 1     & 2     & NA    & NA    & NA    & NA    & NA    & ⋯     & NA    & NA    & NA    & NA    & NA    & NA    & NA    & NA    & NA    & NA   \\\\\n",
       "\t 1     & 10000 &  9991 & 0     & 2     & NA    & NA    & NA    & NA    & NA    & ⋯     & NA    & NA    & NA    & NA    & NA    & NA    & NA    & NA    & NA    & NA   \\\\\n",
       "\t 1     &  9994 &  9998 & 0     & 0     & NA    & NA    & NA    & NA    & NA    & ⋯     & NA    & NA    & NA    & NA    & NA    & NA    & NA    & NA    & NA    & NA   \\\\\n",
       "\t 1     &  7947 & 10001 & 2     & 2     & NA    & NA    & NA    & NA    & NA    & ⋯     & NA    & NA    & NA    & NA    & NA    & NA    & NA    & NA    & NA    & NA   \\\\\n",
       "\t 1     &  8203 &  9999 & 1     & 2     & NA    & NA    & NA    & NA    & NA    & ⋯     & NA    & NA    & NA    & NA    & NA    & NA    & NA    & NA    & NA    & NA   \\\\\n",
       "\t 1     &  9996 &  9984 & 0     & 1     & NA    & NA    & NA    & NA    & NA    & ⋯     & NA    & NA    & NA    & NA    & NA    & NA    & NA    & NA    & NA    & NA   \\\\\n",
       "\t 1     &  4049 &  9987 & 1     & 3     & NA    & NA    & NA    & NA    & NA    & ⋯     & NA    & NA    & NA    & NA    & NA    & NA    & NA    & NA    & NA    & NA   \\\\\n",
       "\t 1     &  9993 &  8635 & 1     & 3     & NA    & NA    & NA    & NA    & NA    & ⋯     & NA    & NA    & NA    & NA    & NA    & NA    & NA    & NA    & NA    & NA   \\\\\n",
       "\t 1     &  8635 &  9994 & 2     & 3     & NA    & NA    & NA    & NA    & NA    & ⋯     & NA    & NA    & NA    & NA    & NA    & NA    & NA    & NA    & NA    & NA   \\\\\n",
       "\t 1     &  9998 &  9996 & 0     & 0     & NA    & NA    & NA    & NA    & NA    & ⋯     & NA    & NA    & NA    & NA    & NA    & NA    & NA    & NA    & NA    & NA   \\\\\n",
       "\t 1     &  9986 &  8342 & 2     & 2     & NA    & NA    & NA    & NA    & NA    & ⋯     & NA    & NA    & NA    & NA    & NA    & NA    & NA    & NA    & NA    & NA   \\\\\n",
       "\t 1     &  9984 & 10000 & 2     & 0     & NA    & NA    & NA    & NA    & NA    & ⋯     & NA    & NA    & NA    & NA    & NA    & NA    & NA    & NA    & NA    & NA   \\\\\n",
       "\t 1     &  9991 &  7947 & 1     & 1     & NA    & NA    & NA    & NA    & NA    & ⋯     & NA    & NA    & NA    & NA    & NA    & NA    & NA    & NA    & NA    & NA   \\\\\n",
       "\t 1     &  9999 &  4049 & 1     & 2     & NA    & NA    & NA    & NA    & NA    & ⋯     & NA    & NA    & NA    & NA    & NA    & NA    & NA    & NA    & NA    & NA   \\\\\n",
       "\t 1     &  8571 &  8203 & 0     & 0     & NA    & NA    & NA    & NA    & NA    & ⋯     & NA    & NA    & NA    & NA    & NA    & NA    & NA    & NA    & NA    & NA   \\\\\n",
       "\t 1     & 10001 &  9987 & 1     & 0     & NA    & NA    & NA    & NA    & NA    & ⋯     & NA    & NA    & NA    & NA    & NA    & NA    & NA    & NA    & NA    & NA   \\\\\n",
       "\t 1     &  9993 &  9985 & 1     & 3     & NA    & NA    & NA    & NA    & NA    & ⋯     & NA    & NA    & NA    & NA    & NA    & NA    & NA    & NA    & NA    & NA   \\\\\n",
       "\t 1     &  8342 &  8635 & 1     & 1     & NA    & NA    & NA    & NA    & NA    & ⋯     & NA    & NA    & NA    & NA    & NA    & NA    & NA    & NA    & NA    & NA   \\\\\n",
       "\t 1     &  9987 &  9999 & 1     & 1     & NA    & NA    & NA    & NA    & NA    & ⋯     & NA    & NA    & NA    & NA    & NA    & NA    & NA    & NA    & NA    & NA   \\\\\n",
       "\t 1     & 10000 &  9993 & 2     & 2     & NA    & NA    & NA    & NA    & NA    & ⋯     & NA    & NA    & NA    & NA    & NA    & NA    & NA    & NA    & NA    & NA   \\\\\n",
       "\t ⋮ & ⋮ & ⋮ & ⋮ & ⋮ & ⋮ & ⋮ & ⋮ & ⋮ & ⋮ & ⋱ & ⋮ & ⋮ & ⋮ & ⋮ & ⋮ & ⋮ & ⋮ & ⋮ & ⋮ & ⋮\\\\\n",
       "\t 24558  &  9956  &  7896  & 6      & 1      & 157856 &  42258 & 294256 & 177689 & 513512 & ⋯      & 282287 &  41415 & 173534 &     NA & 393337 & 491221 &   8893 &  67369 & 491794 & 178142\\\\\n",
       "\t 24558  & 10199  &  9931  & 1      & 3      &  42276 & 114792 & 166889 & 150007 &  42294 & ⋯      &  30835 & 172768 &  22834 &  40536 &  25772 & 207234 &  40274 & 114738 &  41726 & 527103\\\\\n",
       "\t 24558  & 10190  & 10243  & 0      & 2      &  42231 &  45780 &  95220 & 638592 & 120082 & ⋯      & 121080 &  34268 & 656668 & 260964 &  67008 & 113235 &  92252 & 198082 & 540230 &  67306\\\\\n",
       "\t 24558  &  9824  & 10179  & 1      & 1      &  33272 & 214344 &  41621 &  30138 & 458806 & ⋯      & 140495 & 202663 &  32597 & 114794 &     NA &  67349 &  95230 & 451335 & 106559 & 275122\\\\\n",
       "\t 24558  & 10192  & 10191  & 3      & 1      & 274787 &  25843 & 108451 &  25815 &  94553 & ⋯      & 239959 &  67304 & 178210 & 158253 & 186524 &  25809 & 133126 & 520466 & 184610 & 232110\\\\\n",
       "\t 24558  &  9931  & 10191  & 3      & 1      & 156175 &  95216 & 172768 &  30492 & 181211 & ⋯      & 239959 & 320183 &   8800 & 158253 & 133126 &  25809 & 121115 & 520466 & 232110 & 289732\\\\\n",
       "\t 24558  & 10192  &  7896  & 0      & 1      & 274787 & 492132 & 108451 &  25815 &  94553 & ⋯      & 282287 &  41415 & 173534 & 114212 & 491221 & 393337 &   8893 & 186948 &  93229 & 178142\\\\\n",
       "\t 24558  & 10199  & 10190  & 0      & 1      &  42276 & 114792 & 178119 & 150007 &  42294 & ⋯      &  45780 & 638592 &  95220 & 120082 & 171229 & 308309 &  67333 &  66934 & 176298 &  35831\\\\\n",
       "\t 24558  & 10179  & 10243  & 3      & 1      &  10637 &  67349 & 202663 &  32597 & 114794 & ⋯      & 121080 &  34268 & 656668 & 260964 &  92252 &  67008 & 113235 & 108525 & 254704 &  67306\\\\\n",
       "\t 24558  &  9824  &  9956  & 3      & 3      &  33272 & 358156 &  25813 &  41621 & 458806 & ⋯      &  42258 & 155075 & 177689 & 513512 & 173936 &  39979 & 147959 & 451983 &  80564 & 289472\\\\\n",
       "\t 24558  &  7896  &  9931  & 1      & 3      &     NA & 282287 & 173534 &  41415 &     NA & ⋯      &  30835 & 172768 &  22834 & 181211 & 339992 & 207234 &  25794 & 176206 & 402975 & 527104\\\\\n",
       "\t 24558  & 10179  & 10192  & 1      & 3      &  10637 &  67349 & 202663 &  32597 & 114794 & ⋯      & 492132 & 493185 &  25815 &  94553 & 320184 & 598355 & 190525 & 302079 &  45174 &  37554\\\\\n",
       "\t 24558  & 10190  &  9956  & 0      & 2      &  42231 &  45780 &  95220 & 638592 & 120082 & ⋯      & 274779 & 294256 & 155075 & 513512 & 173936 &  39979 & 147959 & 451983 &  80564 & 289472\\\\\n",
       "\t 24558  & 10191  &  9824  & 1      & 0      &  67311 & 239959 & 178210 &  67304 & 158253 & ⋯      & 114735 & 257845 &  41621 & 458806 & 358156 &  56868 & 214344 & 113227 & 114011 & 209371\\\\\n",
       "\t 24558  & 10243  & 10199  & 2      & 5      & 274776 & 121080 &  34268 & 113235 & 260964 & ⋯      & 114792 & 150007 & 178119 &  42294 & 185518 & 260708 & 201704 &  95257 & 104646 &  34082\\\\\n",
       "\t 24558  &  7896  & 10199  & 0      & 1      &     NA &   8881 & 173534 &  41415 & 282287 & ⋯      & 114792 & 150007 & 178119 &  27232 & 185518 & 260708 & 201704 &  95257 & 104646 &  34082\\\\\n",
       "\t 24558  &  9824  & 10190  & 1      & 0      &  33272 & 114735 &  25813 &  41621 & 458806 & ⋯      &  67363 &  95220 & 638592 & 413155 & 143790 & 171229 &  66934 &  92094 & 195215 & 119839\\\\\n",
       "\t 24558  & 10191  & 10179  & 0      & 2      &  67311 & 239959 & 178210 &  67304 & 158253 & ⋯      &  67349 & 202663 &  32597 & 114794 & 188114 &  25840 & 482200 & 538336 &  95230 & 275122\\\\\n",
       "\t 24558  &  9931  & 10243  & 3      & 1      & 156175 &  95216 & 172768 &  22834 &  40536 & ⋯      & 121080 &  34268 & 197757 & 260964 &  92252 &  67008 & 198082 & 108525 & 194532 &  67306\\\\\n",
       "\t 24558  &  9956  & 10192  & 3      & 2      & 132814 & 274779 & 294256 & 155075 &  42258 & ⋯      & 492132 & 108451 &  25815 &  94553 & 119702 & 320184 &  25860 & 302079 &  45174 & 422412\\\\\n",
       "\t 24558  &  9931  & 10190  & 2      & 1      & 156175 &  95216 & 172768 &  22834 &  30835 & ⋯      & 678384 & 638592 &  67363 & 413155 &  45780 & 143790 &  66934 & 176298 &  92094 &  72628\\\\\n",
       "\t 24558  & 10192  &  9824  & 4      & 0      & 274787 & 492132 & 108451 &  25815 &  94553 & ⋯      & 114735 &  25813 &  41621 & 358156 & 114011 &  42237 &  56868 & 209371 & 531309 & 113227\\\\\n",
       "\t 24558  & 10199  &  9956  & 3      & 3      &  42276 &  27232 & 178119 & 150007 &  42294 & ⋯      & 274779 & 155075 & 294256 &  42258 & 173936 &  39979 & 147959 & 451983 &  80564 & 289472\\\\\n",
       "\t 24558  & 10243  & 10191  & 3      & 3      & 274776 & 451982 &  34268 & 197757 & 121080 & ⋯      &   8800 & 320183 &  67304 &  67389 & 133126 & 186524 &  93223 & 121115 &  25809 & 289732\\\\\n",
       "\t 24558  & 10179  &  7896  & 3      & 0      &  10637 &  67349 & 202663 &  32597 & 114794 & ⋯      &   8881 &  39646 &  41415 & 282287 & 491221 & 150084 &   8893 & 140490 &  93229 & 178142\\\\\n",
       "\t 24558  & 10190  & 10191  & 1      & 0      &  42231 & 678384 &  95220 & 638592 & 413155 & ⋯      & 563066 &   8800 &  67304 & 158253 & 133126 & 186524 &  93223 & 121115 & 232110 & 289732\\\\\n",
       "\t 24558  &  9824  & 10199  & 1      & 2      &  33272 &  41621 &  25813 & 257845 & 114735 & ⋯      & 114792 & 150007 & 178119 &  27232 & 570830 & 260708 & 201704 &  36382 &  34082 &  95257\\\\\n",
       "\t 24558  &  9956  & 10179  & 2      & 0      & 157856 & 274779 & 177689 & 294256 &  42258 & ⋯      &  67349 & 202663 &  32597 & 114794 & 188114 &  25840 & 482200 &  95230 & 451335 & 275122\\\\\n",
       "\t 24558  &  7896  & 10243  & 0      & 0      &     NA &   8881 & 173534 &  39646 & 282287 & ⋯      & 121080 & 197757 & 260964 & 231614 & 113235 &  41116 & 462608 &  42262 &  92252 & 194532\\\\\n",
       "\t 24558  & 10192  &  9931  & 4      & 3      & 274787 & 492132 & 108451 &  25815 &  94553 & ⋯      &  95216 & 172768 &  22834 & 458806 & 207234 &  25772 &  40274 &  34035 &  41726 & 527103\\\\\n",
       "\\end{tabular}\n"
      ],
      "text/markdown": [
       "\n",
       "league_id | home_team_api_id | away_team_api_id | home_team_goal | away_team_goal | home_player_1 | home_player_2 | home_player_3 | home_player_4 | home_player_5 | ⋯ | away_player_2 | away_player_3 | away_player_4 | away_player_5 | away_player_6 | away_player_7 | away_player_8 | away_player_9 | away_player_10 | away_player_11 | \n",
       "|---|---|---|---|---|---|---|---|---|---|---|---|---|---|---|---|---|---|---|---|---|---|---|---|---|---|---|---|---|---|---|---|---|---|---|---|---|---|---|---|---|---|---|---|---|---|---|---|---|---|---|---|---|---|---|---|---|---|---|---|---|\n",
       "| 1     |  9987 |  9993 | 1     | 1     | NA    | NA    | NA    | NA    | NA    | ⋯     | NA    | NA    | NA    | NA    | NA    | NA    | NA    | NA    | NA    | NA    | \n",
       "| 1     | 10000 |  9994 | 0     | 0     | NA    | NA    | NA    | NA    | NA    | ⋯     | NA    | NA    | NA    | NA    | NA    | NA    | NA    | NA    | NA    | NA    | \n",
       "| 1     |  9984 |  8635 | 0     | 3     | NA    | NA    | NA    | NA    | NA    | ⋯     | NA    | NA    | NA    | NA    | NA    | NA    | NA    | NA    | NA    | NA    | \n",
       "| 1     |  9991 |  9998 | 5     | 0     | NA    | NA    | NA    | NA    | NA    | ⋯     | NA    | NA    | NA    | NA    | NA    | NA    | NA    | NA    | NA    | NA    | \n",
       "| 1     |  7947 |  9985 | 1     | 3     | NA    | NA    | NA    | NA    | NA    | ⋯     | NA    | NA    | NA    | NA    | NA    | NA    | NA    | NA    | NA    | NA    | \n",
       "| 1     |  8203 |  8342 | 1     | 1     | NA    | NA    | NA    | NA    | NA    | ⋯     | NA    | NA    | NA    | NA    | NA    | NA    | NA    | NA    | NA    | NA    | \n",
       "| 1     |  9999 |  8571 | 2     | 2     | NA    | NA    | NA    | NA    | NA    | ⋯     | NA    | NA    | NA    | NA    | NA    | NA    | NA    | NA    | NA    | NA    | \n",
       "| 1     |  4049 |  9996 | 1     | 2     | NA    | NA    | NA    | NA    | NA    | ⋯     | NA    | NA    | NA    | NA    | NA    | NA    | NA    | NA    | NA    | NA    | \n",
       "| 1     | 10001 |  9986 | 1     | 0     | NA    | NA    | NA    | NA    | NA    | ⋯     | NA    | NA    | NA    | NA    | NA    | NA    | NA    | NA    | NA    | NA    | \n",
       "| 1     |  8342 |  8571 | 4     | 1     | NA    | NA    | NA    | NA    | NA    | ⋯     | NA    | NA    | NA    | NA    | NA    | NA    | NA    | NA    | NA    | NA    | \n",
       "| 1     |  9985 |  9986 | 1     | 2     | NA    | NA    | NA    | NA    | NA    | ⋯     | NA    | NA    | NA    | NA    | NA    | NA    | NA    | NA    | NA    | NA    | \n",
       "| 1     | 10000 |  9991 | 0     | 2     | NA    | NA    | NA    | NA    | NA    | ⋯     | NA    | NA    | NA    | NA    | NA    | NA    | NA    | NA    | NA    | NA    | \n",
       "| 1     |  9994 |  9998 | 0     | 0     | NA    | NA    | NA    | NA    | NA    | ⋯     | NA    | NA    | NA    | NA    | NA    | NA    | NA    | NA    | NA    | NA    | \n",
       "| 1     |  7947 | 10001 | 2     | 2     | NA    | NA    | NA    | NA    | NA    | ⋯     | NA    | NA    | NA    | NA    | NA    | NA    | NA    | NA    | NA    | NA    | \n",
       "| 1     |  8203 |  9999 | 1     | 2     | NA    | NA    | NA    | NA    | NA    | ⋯     | NA    | NA    | NA    | NA    | NA    | NA    | NA    | NA    | NA    | NA    | \n",
       "| 1     |  9996 |  9984 | 0     | 1     | NA    | NA    | NA    | NA    | NA    | ⋯     | NA    | NA    | NA    | NA    | NA    | NA    | NA    | NA    | NA    | NA    | \n",
       "| 1     |  4049 |  9987 | 1     | 3     | NA    | NA    | NA    | NA    | NA    | ⋯     | NA    | NA    | NA    | NA    | NA    | NA    | NA    | NA    | NA    | NA    | \n",
       "| 1     |  9993 |  8635 | 1     | 3     | NA    | NA    | NA    | NA    | NA    | ⋯     | NA    | NA    | NA    | NA    | NA    | NA    | NA    | NA    | NA    | NA    | \n",
       "| 1     |  8635 |  9994 | 2     | 3     | NA    | NA    | NA    | NA    | NA    | ⋯     | NA    | NA    | NA    | NA    | NA    | NA    | NA    | NA    | NA    | NA    | \n",
       "| 1     |  9998 |  9996 | 0     | 0     | NA    | NA    | NA    | NA    | NA    | ⋯     | NA    | NA    | NA    | NA    | NA    | NA    | NA    | NA    | NA    | NA    | \n",
       "| 1     |  9986 |  8342 | 2     | 2     | NA    | NA    | NA    | NA    | NA    | ⋯     | NA    | NA    | NA    | NA    | NA    | NA    | NA    | NA    | NA    | NA    | \n",
       "| 1     |  9984 | 10000 | 2     | 0     | NA    | NA    | NA    | NA    | NA    | ⋯     | NA    | NA    | NA    | NA    | NA    | NA    | NA    | NA    | NA    | NA    | \n",
       "| 1     |  9991 |  7947 | 1     | 1     | NA    | NA    | NA    | NA    | NA    | ⋯     | NA    | NA    | NA    | NA    | NA    | NA    | NA    | NA    | NA    | NA    | \n",
       "| 1     |  9999 |  4049 | 1     | 2     | NA    | NA    | NA    | NA    | NA    | ⋯     | NA    | NA    | NA    | NA    | NA    | NA    | NA    | NA    | NA    | NA    | \n",
       "| 1     |  8571 |  8203 | 0     | 0     | NA    | NA    | NA    | NA    | NA    | ⋯     | NA    | NA    | NA    | NA    | NA    | NA    | NA    | NA    | NA    | NA    | \n",
       "| 1     | 10001 |  9987 | 1     | 0     | NA    | NA    | NA    | NA    | NA    | ⋯     | NA    | NA    | NA    | NA    | NA    | NA    | NA    | NA    | NA    | NA    | \n",
       "| 1     |  9993 |  9985 | 1     | 3     | NA    | NA    | NA    | NA    | NA    | ⋯     | NA    | NA    | NA    | NA    | NA    | NA    | NA    | NA    | NA    | NA    | \n",
       "| 1     |  8342 |  8635 | 1     | 1     | NA    | NA    | NA    | NA    | NA    | ⋯     | NA    | NA    | NA    | NA    | NA    | NA    | NA    | NA    | NA    | NA    | \n",
       "| 1     |  9987 |  9999 | 1     | 1     | NA    | NA    | NA    | NA    | NA    | ⋯     | NA    | NA    | NA    | NA    | NA    | NA    | NA    | NA    | NA    | NA    | \n",
       "| 1     | 10000 |  9993 | 2     | 2     | NA    | NA    | NA    | NA    | NA    | ⋯     | NA    | NA    | NA    | NA    | NA    | NA    | NA    | NA    | NA    | NA    | \n",
       "| ⋮ | ⋮ | ⋮ | ⋮ | ⋮ | ⋮ | ⋮ | ⋮ | ⋮ | ⋮ | ⋱ | ⋮ | ⋮ | ⋮ | ⋮ | ⋮ | ⋮ | ⋮ | ⋮ | ⋮ | ⋮ | \n",
       "| 24558  |  9956  |  7896  | 6      | 1      | 157856 |  42258 | 294256 | 177689 | 513512 | ⋯      | 282287 |  41415 | 173534 |     NA | 393337 | 491221 |   8893 |  67369 | 491794 | 178142 | \n",
       "| 24558  | 10199  |  9931  | 1      | 3      |  42276 | 114792 | 166889 | 150007 |  42294 | ⋯      |  30835 | 172768 |  22834 |  40536 |  25772 | 207234 |  40274 | 114738 |  41726 | 527103 | \n",
       "| 24558  | 10190  | 10243  | 0      | 2      |  42231 |  45780 |  95220 | 638592 | 120082 | ⋯      | 121080 |  34268 | 656668 | 260964 |  67008 | 113235 |  92252 | 198082 | 540230 |  67306 | \n",
       "| 24558  |  9824  | 10179  | 1      | 1      |  33272 | 214344 |  41621 |  30138 | 458806 | ⋯      | 140495 | 202663 |  32597 | 114794 |     NA |  67349 |  95230 | 451335 | 106559 | 275122 | \n",
       "| 24558  | 10192  | 10191  | 3      | 1      | 274787 |  25843 | 108451 |  25815 |  94553 | ⋯      | 239959 |  67304 | 178210 | 158253 | 186524 |  25809 | 133126 | 520466 | 184610 | 232110 | \n",
       "| 24558  |  9931  | 10191  | 3      | 1      | 156175 |  95216 | 172768 |  30492 | 181211 | ⋯      | 239959 | 320183 |   8800 | 158253 | 133126 |  25809 | 121115 | 520466 | 232110 | 289732 | \n",
       "| 24558  | 10192  |  7896  | 0      | 1      | 274787 | 492132 | 108451 |  25815 |  94553 | ⋯      | 282287 |  41415 | 173534 | 114212 | 491221 | 393337 |   8893 | 186948 |  93229 | 178142 | \n",
       "| 24558  | 10199  | 10190  | 0      | 1      |  42276 | 114792 | 178119 | 150007 |  42294 | ⋯      |  45780 | 638592 |  95220 | 120082 | 171229 | 308309 |  67333 |  66934 | 176298 |  35831 | \n",
       "| 24558  | 10179  | 10243  | 3      | 1      |  10637 |  67349 | 202663 |  32597 | 114794 | ⋯      | 121080 |  34268 | 656668 | 260964 |  92252 |  67008 | 113235 | 108525 | 254704 |  67306 | \n",
       "| 24558  |  9824  |  9956  | 3      | 3      |  33272 | 358156 |  25813 |  41621 | 458806 | ⋯      |  42258 | 155075 | 177689 | 513512 | 173936 |  39979 | 147959 | 451983 |  80564 | 289472 | \n",
       "| 24558  |  7896  |  9931  | 1      | 3      |     NA | 282287 | 173534 |  41415 |     NA | ⋯      |  30835 | 172768 |  22834 | 181211 | 339992 | 207234 |  25794 | 176206 | 402975 | 527104 | \n",
       "| 24558  | 10179  | 10192  | 1      | 3      |  10637 |  67349 | 202663 |  32597 | 114794 | ⋯      | 492132 | 493185 |  25815 |  94553 | 320184 | 598355 | 190525 | 302079 |  45174 |  37554 | \n",
       "| 24558  | 10190  |  9956  | 0      | 2      |  42231 |  45780 |  95220 | 638592 | 120082 | ⋯      | 274779 | 294256 | 155075 | 513512 | 173936 |  39979 | 147959 | 451983 |  80564 | 289472 | \n",
       "| 24558  | 10191  |  9824  | 1      | 0      |  67311 | 239959 | 178210 |  67304 | 158253 | ⋯      | 114735 | 257845 |  41621 | 458806 | 358156 |  56868 | 214344 | 113227 | 114011 | 209371 | \n",
       "| 24558  | 10243  | 10199  | 2      | 5      | 274776 | 121080 |  34268 | 113235 | 260964 | ⋯      | 114792 | 150007 | 178119 |  42294 | 185518 | 260708 | 201704 |  95257 | 104646 |  34082 | \n",
       "| 24558  |  7896  | 10199  | 0      | 1      |     NA |   8881 | 173534 |  41415 | 282287 | ⋯      | 114792 | 150007 | 178119 |  27232 | 185518 | 260708 | 201704 |  95257 | 104646 |  34082 | \n",
       "| 24558  |  9824  | 10190  | 1      | 0      |  33272 | 114735 |  25813 |  41621 | 458806 | ⋯      |  67363 |  95220 | 638592 | 413155 | 143790 | 171229 |  66934 |  92094 | 195215 | 119839 | \n",
       "| 24558  | 10191  | 10179  | 0      | 2      |  67311 | 239959 | 178210 |  67304 | 158253 | ⋯      |  67349 | 202663 |  32597 | 114794 | 188114 |  25840 | 482200 | 538336 |  95230 | 275122 | \n",
       "| 24558  |  9931  | 10243  | 3      | 1      | 156175 |  95216 | 172768 |  22834 |  40536 | ⋯      | 121080 |  34268 | 197757 | 260964 |  92252 |  67008 | 198082 | 108525 | 194532 |  67306 | \n",
       "| 24558  |  9956  | 10192  | 3      | 2      | 132814 | 274779 | 294256 | 155075 |  42258 | ⋯      | 492132 | 108451 |  25815 |  94553 | 119702 | 320184 |  25860 | 302079 |  45174 | 422412 | \n",
       "| 24558  |  9931  | 10190  | 2      | 1      | 156175 |  95216 | 172768 |  22834 |  30835 | ⋯      | 678384 | 638592 |  67363 | 413155 |  45780 | 143790 |  66934 | 176298 |  92094 |  72628 | \n",
       "| 24558  | 10192  |  9824  | 4      | 0      | 274787 | 492132 | 108451 |  25815 |  94553 | ⋯      | 114735 |  25813 |  41621 | 358156 | 114011 |  42237 |  56868 | 209371 | 531309 | 113227 | \n",
       "| 24558  | 10199  |  9956  | 3      | 3      |  42276 |  27232 | 178119 | 150007 |  42294 | ⋯      | 274779 | 155075 | 294256 |  42258 | 173936 |  39979 | 147959 | 451983 |  80564 | 289472 | \n",
       "| 24558  | 10243  | 10191  | 3      | 3      | 274776 | 451982 |  34268 | 197757 | 121080 | ⋯      |   8800 | 320183 |  67304 |  67389 | 133126 | 186524 |  93223 | 121115 |  25809 | 289732 | \n",
       "| 24558  | 10179  |  7896  | 3      | 0      |  10637 |  67349 | 202663 |  32597 | 114794 | ⋯      |   8881 |  39646 |  41415 | 282287 | 491221 | 150084 |   8893 | 140490 |  93229 | 178142 | \n",
       "| 24558  | 10190  | 10191  | 1      | 0      |  42231 | 678384 |  95220 | 638592 | 413155 | ⋯      | 563066 |   8800 |  67304 | 158253 | 133126 | 186524 |  93223 | 121115 | 232110 | 289732 | \n",
       "| 24558  |  9824  | 10199  | 1      | 2      |  33272 |  41621 |  25813 | 257845 | 114735 | ⋯      | 114792 | 150007 | 178119 |  27232 | 570830 | 260708 | 201704 |  36382 |  34082 |  95257 | \n",
       "| 24558  |  9956  | 10179  | 2      | 0      | 157856 | 274779 | 177689 | 294256 |  42258 | ⋯      |  67349 | 202663 |  32597 | 114794 | 188114 |  25840 | 482200 |  95230 | 451335 | 275122 | \n",
       "| 24558  |  7896  | 10243  | 0      | 0      |     NA |   8881 | 173534 |  39646 | 282287 | ⋯      | 121080 | 197757 | 260964 | 231614 | 113235 |  41116 | 462608 |  42262 |  92252 | 194532 | \n",
       "| 24558  | 10192  |  9931  | 4      | 3      | 274787 | 492132 | 108451 |  25815 |  94553 | ⋯      |  95216 | 172768 |  22834 | 458806 | 207234 |  25772 |  40274 |  34035 |  41726 | 527103 | \n",
       "\n",
       "\n"
      ],
      "text/plain": [
       "      league_id home_team_api_id away_team_api_id home_team_goal away_team_goal\n",
       "1     1          9987             9993            1              1             \n",
       "2     1         10000             9994            0              0             \n",
       "3     1          9984             8635            0              3             \n",
       "4     1          9991             9998            5              0             \n",
       "5     1          7947             9985            1              3             \n",
       "6     1          8203             8342            1              1             \n",
       "7     1          9999             8571            2              2             \n",
       "8     1          4049             9996            1              2             \n",
       "9     1         10001             9986            1              0             \n",
       "10    1          8342             8571            4              1             \n",
       "11    1          9985             9986            1              2             \n",
       "12    1         10000             9991            0              2             \n",
       "13    1          9994             9998            0              0             \n",
       "14    1          7947            10001            2              2             \n",
       "15    1          8203             9999            1              2             \n",
       "16    1          9996             9984            0              1             \n",
       "17    1          4049             9987            1              3             \n",
       "18    1          9993             8635            1              3             \n",
       "19    1          8635             9994            2              3             \n",
       "20    1          9998             9996            0              0             \n",
       "21    1          9986             8342            2              2             \n",
       "22    1          9984            10000            2              0             \n",
       "23    1          9991             7947            1              1             \n",
       "24    1          9999             4049            1              2             \n",
       "25    1          8571             8203            0              0             \n",
       "26    1         10001             9987            1              0             \n",
       "27    1          9993             9985            1              3             \n",
       "28    1          8342             8635            1              1             \n",
       "29    1          9987             9999            1              1             \n",
       "30    1         10000             9993            2              2             \n",
       "⋮     ⋮         ⋮                ⋮                ⋮              ⋮             \n",
       "25950 24558      9956             7896            6              1             \n",
       "25951 24558     10199             9931            1              3             \n",
       "25952 24558     10190            10243            0              2             \n",
       "25953 24558      9824            10179            1              1             \n",
       "25954 24558     10192            10191            3              1             \n",
       "25955 24558      9931            10191            3              1             \n",
       "25956 24558     10192             7896            0              1             \n",
       "25957 24558     10199            10190            0              1             \n",
       "25958 24558     10179            10243            3              1             \n",
       "25959 24558      9824             9956            3              3             \n",
       "25960 24558      7896             9931            1              3             \n",
       "25961 24558     10179            10192            1              3             \n",
       "25962 24558     10190             9956            0              2             \n",
       "25963 24558     10191             9824            1              0             \n",
       "25964 24558     10243            10199            2              5             \n",
       "25965 24558      7896            10199            0              1             \n",
       "25966 24558      9824            10190            1              0             \n",
       "25967 24558     10191            10179            0              2             \n",
       "25968 24558      9931            10243            3              1             \n",
       "25969 24558      9956            10192            3              2             \n",
       "25970 24558      9931            10190            2              1             \n",
       "25971 24558     10192             9824            4              0             \n",
       "25972 24558     10199             9956            3              3             \n",
       "25973 24558     10243            10191            3              3             \n",
       "25974 24558     10179             7896            3              0             \n",
       "25975 24558     10190            10191            1              0             \n",
       "25976 24558      9824            10199            1              2             \n",
       "25977 24558      9956            10179            2              0             \n",
       "25978 24558      7896            10243            0              0             \n",
       "25979 24558     10192             9931            4              3             \n",
       "      home_player_1 home_player_2 home_player_3 home_player_4 home_player_5 ⋯\n",
       "1     NA            NA            NA            NA            NA            ⋯\n",
       "2     NA            NA            NA            NA            NA            ⋯\n",
       "3     NA            NA            NA            NA            NA            ⋯\n",
       "4     NA            NA            NA            NA            NA            ⋯\n",
       "5     NA            NA            NA            NA            NA            ⋯\n",
       "6     NA            NA            NA            NA            NA            ⋯\n",
       "7     NA            NA            NA            NA            NA            ⋯\n",
       "8     NA            NA            NA            NA            NA            ⋯\n",
       "9     NA            NA            NA            NA            NA            ⋯\n",
       "10    NA            NA            NA            NA            NA            ⋯\n",
       "11    NA            NA            NA            NA            NA            ⋯\n",
       "12    NA            NA            NA            NA            NA            ⋯\n",
       "13    NA            NA            NA            NA            NA            ⋯\n",
       "14    NA            NA            NA            NA            NA            ⋯\n",
       "15    NA            NA            NA            NA            NA            ⋯\n",
       "16    NA            NA            NA            NA            NA            ⋯\n",
       "17    NA            NA            NA            NA            NA            ⋯\n",
       "18    NA            NA            NA            NA            NA            ⋯\n",
       "19    NA            NA            NA            NA            NA            ⋯\n",
       "20    NA            NA            NA            NA            NA            ⋯\n",
       "21    NA            NA            NA            NA            NA            ⋯\n",
       "22    NA            NA            NA            NA            NA            ⋯\n",
       "23    NA            NA            NA            NA            NA            ⋯\n",
       "24    NA            NA            NA            NA            NA            ⋯\n",
       "25    NA            NA            NA            NA            NA            ⋯\n",
       "26    NA            NA            NA            NA            NA            ⋯\n",
       "27    NA            NA            NA            NA            NA            ⋯\n",
       "28    NA            NA            NA            NA            NA            ⋯\n",
       "29    NA            NA            NA            NA            NA            ⋯\n",
       "30    NA            NA            NA            NA            NA            ⋯\n",
       "⋮     ⋮             ⋮             ⋮             ⋮             ⋮             ⋱\n",
       "25950 157856         42258        294256        177689        513512        ⋯\n",
       "25951  42276        114792        166889        150007         42294        ⋯\n",
       "25952  42231         45780         95220        638592        120082        ⋯\n",
       "25953  33272        214344         41621         30138        458806        ⋯\n",
       "25954 274787         25843        108451         25815         94553        ⋯\n",
       "25955 156175         95216        172768         30492        181211        ⋯\n",
       "25956 274787        492132        108451         25815         94553        ⋯\n",
       "25957  42276        114792        178119        150007         42294        ⋯\n",
       "25958  10637         67349        202663         32597        114794        ⋯\n",
       "25959  33272        358156         25813         41621        458806        ⋯\n",
       "25960     NA        282287        173534         41415            NA        ⋯\n",
       "25961  10637         67349        202663         32597        114794        ⋯\n",
       "25962  42231         45780         95220        638592        120082        ⋯\n",
       "25963  67311        239959        178210         67304        158253        ⋯\n",
       "25964 274776        121080         34268        113235        260964        ⋯\n",
       "25965     NA          8881        173534         41415        282287        ⋯\n",
       "25966  33272        114735         25813         41621        458806        ⋯\n",
       "25967  67311        239959        178210         67304        158253        ⋯\n",
       "25968 156175         95216        172768         22834         40536        ⋯\n",
       "25969 132814        274779        294256        155075         42258        ⋯\n",
       "25970 156175         95216        172768         22834         30835        ⋯\n",
       "25971 274787        492132        108451         25815         94553        ⋯\n",
       "25972  42276         27232        178119        150007         42294        ⋯\n",
       "25973 274776        451982         34268        197757        121080        ⋯\n",
       "25974  10637         67349        202663         32597        114794        ⋯\n",
       "25975  42231        678384         95220        638592        413155        ⋯\n",
       "25976  33272         41621         25813        257845        114735        ⋯\n",
       "25977 157856        274779        177689        294256         42258        ⋯\n",
       "25978     NA          8881        173534         39646        282287        ⋯\n",
       "25979 274787        492132        108451         25815         94553        ⋯\n",
       "      away_player_2 away_player_3 away_player_4 away_player_5 away_player_6\n",
       "1     NA            NA            NA            NA            NA           \n",
       "2     NA            NA            NA            NA            NA           \n",
       "3     NA            NA            NA            NA            NA           \n",
       "4     NA            NA            NA            NA            NA           \n",
       "5     NA            NA            NA            NA            NA           \n",
       "6     NA            NA            NA            NA            NA           \n",
       "7     NA            NA            NA            NA            NA           \n",
       "8     NA            NA            NA            NA            NA           \n",
       "9     NA            NA            NA            NA            NA           \n",
       "10    NA            NA            NA            NA            NA           \n",
       "11    NA            NA            NA            NA            NA           \n",
       "12    NA            NA            NA            NA            NA           \n",
       "13    NA            NA            NA            NA            NA           \n",
       "14    NA            NA            NA            NA            NA           \n",
       "15    NA            NA            NA            NA            NA           \n",
       "16    NA            NA            NA            NA            NA           \n",
       "17    NA            NA            NA            NA            NA           \n",
       "18    NA            NA            NA            NA            NA           \n",
       "19    NA            NA            NA            NA            NA           \n",
       "20    NA            NA            NA            NA            NA           \n",
       "21    NA            NA            NA            NA            NA           \n",
       "22    NA            NA            NA            NA            NA           \n",
       "23    NA            NA            NA            NA            NA           \n",
       "24    NA            NA            NA            NA            NA           \n",
       "25    NA            NA            NA            NA            NA           \n",
       "26    NA            NA            NA            NA            NA           \n",
       "27    NA            NA            NA            NA            NA           \n",
       "28    NA            NA            NA            NA            NA           \n",
       "29    NA            NA            NA            NA            NA           \n",
       "30    NA            NA            NA            NA            NA           \n",
       "⋮     ⋮             ⋮             ⋮             ⋮             ⋮            \n",
       "25950 282287         41415        173534            NA        393337       \n",
       "25951  30835        172768         22834         40536         25772       \n",
       "25952 121080         34268        656668        260964         67008       \n",
       "25953 140495        202663         32597        114794            NA       \n",
       "25954 239959         67304        178210        158253        186524       \n",
       "25955 239959        320183          8800        158253        133126       \n",
       "25956 282287         41415        173534        114212        491221       \n",
       "25957  45780        638592         95220        120082        171229       \n",
       "25958 121080         34268        656668        260964         92252       \n",
       "25959  42258        155075        177689        513512        173936       \n",
       "25960  30835        172768         22834        181211        339992       \n",
       "25961 492132        493185         25815         94553        320184       \n",
       "25962 274779        294256        155075        513512        173936       \n",
       "25963 114735        257845         41621        458806        358156       \n",
       "25964 114792        150007        178119         42294        185518       \n",
       "25965 114792        150007        178119         27232        185518       \n",
       "25966  67363         95220        638592        413155        143790       \n",
       "25967  67349        202663         32597        114794        188114       \n",
       "25968 121080         34268        197757        260964         92252       \n",
       "25969 492132        108451         25815         94553        119702       \n",
       "25970 678384        638592         67363        413155         45780       \n",
       "25971 114735         25813         41621        358156        114011       \n",
       "25972 274779        155075        294256         42258        173936       \n",
       "25973   8800        320183         67304         67389        133126       \n",
       "25974   8881         39646         41415        282287        491221       \n",
       "25975 563066          8800         67304        158253        133126       \n",
       "25976 114792        150007        178119         27232        570830       \n",
       "25977  67349        202663         32597        114794        188114       \n",
       "25978 121080        197757        260964        231614        113235       \n",
       "25979  95216        172768         22834        458806        207234       \n",
       "      away_player_7 away_player_8 away_player_9 away_player_10 away_player_11\n",
       "1     NA            NA            NA            NA             NA            \n",
       "2     NA            NA            NA            NA             NA            \n",
       "3     NA            NA            NA            NA             NA            \n",
       "4     NA            NA            NA            NA             NA            \n",
       "5     NA            NA            NA            NA             NA            \n",
       "6     NA            NA            NA            NA             NA            \n",
       "7     NA            NA            NA            NA             NA            \n",
       "8     NA            NA            NA            NA             NA            \n",
       "9     NA            NA            NA            NA             NA            \n",
       "10    NA            NA            NA            NA             NA            \n",
       "11    NA            NA            NA            NA             NA            \n",
       "12    NA            NA            NA            NA             NA            \n",
       "13    NA            NA            NA            NA             NA            \n",
       "14    NA            NA            NA            NA             NA            \n",
       "15    NA            NA            NA            NA             NA            \n",
       "16    NA            NA            NA            NA             NA            \n",
       "17    NA            NA            NA            NA             NA            \n",
       "18    NA            NA            NA            NA             NA            \n",
       "19    NA            NA            NA            NA             NA            \n",
       "20    NA            NA            NA            NA             NA            \n",
       "21    NA            NA            NA            NA             NA            \n",
       "22    NA            NA            NA            NA             NA            \n",
       "23    NA            NA            NA            NA             NA            \n",
       "24    NA            NA            NA            NA             NA            \n",
       "25    NA            NA            NA            NA             NA            \n",
       "26    NA            NA            NA            NA             NA            \n",
       "27    NA            NA            NA            NA             NA            \n",
       "28    NA            NA            NA            NA             NA            \n",
       "29    NA            NA            NA            NA             NA            \n",
       "30    NA            NA            NA            NA             NA            \n",
       "⋮     ⋮             ⋮             ⋮             ⋮              ⋮             \n",
       "25950 491221          8893         67369        491794         178142        \n",
       "25951 207234         40274        114738         41726         527103        \n",
       "25952 113235         92252        198082        540230          67306        \n",
       "25953  67349         95230        451335        106559         275122        \n",
       "25954  25809        133126        520466        184610         232110        \n",
       "25955  25809        121115        520466        232110         289732        \n",
       "25956 393337          8893        186948         93229         178142        \n",
       "25957 308309         67333         66934        176298          35831        \n",
       "25958  67008        113235        108525        254704          67306        \n",
       "25959  39979        147959        451983         80564         289472        \n",
       "25960 207234         25794        176206        402975         527104        \n",
       "25961 598355        190525        302079         45174          37554        \n",
       "25962  39979        147959        451983         80564         289472        \n",
       "25963  56868        214344        113227        114011         209371        \n",
       "25964 260708        201704         95257        104646          34082        \n",
       "25965 260708        201704         95257        104646          34082        \n",
       "25966 171229         66934         92094        195215         119839        \n",
       "25967  25840        482200        538336         95230         275122        \n",
       "25968  67008        198082        108525        194532          67306        \n",
       "25969 320184         25860        302079         45174         422412        \n",
       "25970 143790         66934        176298         92094          72628        \n",
       "25971  42237         56868        209371        531309         113227        \n",
       "25972  39979        147959        451983         80564         289472        \n",
       "25973 186524         93223        121115         25809         289732        \n",
       "25974 150084          8893        140490         93229         178142        \n",
       "25975 186524         93223        121115        232110         289732        \n",
       "25976 260708        201704         36382         34082          95257        \n",
       "25977  25840        482200         95230        451335         275122        \n",
       "25978  41116        462608         42262         92252         194532        \n",
       "25979  25772         40274         34035         41726         527103        "
      ]
     },
     "metadata": {},
     "output_type": "display_data"
    }
   ],
   "source": [
    "teamMatchDF"
   ]
  },
  {
   "cell_type": "code",
   "execution_count": 257,
   "metadata": {
    "collapsed": false
   },
   "outputs": [
    {
     "data": {
      "text/plain": [
       "Source:   query [?? x 5]\n",
       "Database: sqlite 3.11.1 [database.sqlite]\n",
       "\n",
       "   team_api_id    team_long_name chance_creation build_up_play defense\n",
       "         <int>             <chr>           <int>         <int>   <int>\n",
       "1         9987          KRC Genk             182           148     205\n",
       "2         9993      Beerschot AC             185            NA     210\n",
       "3        10000  SV Zulte-Waregem             153           147     200\n",
       "4         9994  Sporting Lokeren             154           159     200\n",
       "5         9984 KSV Cercle Brugge             200           145     195\n",
       "6         8635    RSC Anderlecht             182           149     190\n",
       "7         9991          KAA Gent             184           142     166\n",
       "8         9998         RAEC Mons             168           160     138\n",
       "9         7947     FCV Dender EH              NA            NA      NA\n",
       "10        9985 Standard de Liège             182           161     205\n",
       "# ... with more rows"
      ]
     },
     "metadata": {},
     "output_type": "display_data"
    }
   ],
   "source": [
    "teamData"
   ]
  },
  {
   "cell_type": "code",
   "execution_count": 258,
   "metadata": {
    "collapsed": true
   },
   "outputs": [],
   "source": [
    "teamMatchDataDF = gather(teamMatchDF, team, team_api_id, home_team_api_id,away_team_api_id)"
   ]
  },
  {
   "cell_type": "code",
   "execution_count": 259,
   "metadata": {
    "collapsed": false
   },
   "outputs": [
    {
     "data": {
      "text/html": [
       "<table>\n",
       "<thead><tr><th scope=col>league_id</th><th scope=col>home_team_goal</th><th scope=col>away_team_goal</th><th scope=col>home_player_1</th><th scope=col>home_player_2</th><th scope=col>home_player_3</th><th scope=col>home_player_4</th><th scope=col>home_player_5</th><th scope=col>home_player_6</th><th scope=col>home_player_7</th><th scope=col>⋯</th><th scope=col>away_player_4</th><th scope=col>away_player_5</th><th scope=col>away_player_6</th><th scope=col>away_player_7</th><th scope=col>away_player_8</th><th scope=col>away_player_9</th><th scope=col>away_player_10</th><th scope=col>away_player_11</th><th scope=col>team</th><th scope=col>team_api_id</th></tr></thead>\n",
       "<tbody>\n",
       "\t<tr><td>1               </td><td>1               </td><td>1               </td><td>NA              </td><td>NA              </td><td>NA              </td><td>NA              </td><td>NA              </td><td>NA              </td><td>NA              </td><td>⋯               </td><td>NA              </td><td>NA              </td><td>NA              </td><td>NA              </td><td>NA              </td><td>NA              </td><td>NA              </td><td>NA              </td><td>home_team_api_id</td><td> 9987           </td></tr>\n",
       "\t<tr><td>1               </td><td>0               </td><td>0               </td><td>NA              </td><td>NA              </td><td>NA              </td><td>NA              </td><td>NA              </td><td>NA              </td><td>NA              </td><td>⋯               </td><td>NA              </td><td>NA              </td><td>NA              </td><td>NA              </td><td>NA              </td><td>NA              </td><td>NA              </td><td>NA              </td><td>home_team_api_id</td><td>10000           </td></tr>\n",
       "\t<tr><td>1               </td><td>0               </td><td>3               </td><td>NA              </td><td>NA              </td><td>NA              </td><td>NA              </td><td>NA              </td><td>NA              </td><td>NA              </td><td>⋯               </td><td>NA              </td><td>NA              </td><td>NA              </td><td>NA              </td><td>NA              </td><td>NA              </td><td>NA              </td><td>NA              </td><td>home_team_api_id</td><td> 9984           </td></tr>\n",
       "\t<tr><td>1               </td><td>5               </td><td>0               </td><td>NA              </td><td>NA              </td><td>NA              </td><td>NA              </td><td>NA              </td><td>NA              </td><td>NA              </td><td>⋯               </td><td>NA              </td><td>NA              </td><td>NA              </td><td>NA              </td><td>NA              </td><td>NA              </td><td>NA              </td><td>NA              </td><td>home_team_api_id</td><td> 9991           </td></tr>\n",
       "\t<tr><td>1               </td><td>1               </td><td>3               </td><td>NA              </td><td>NA              </td><td>NA              </td><td>NA              </td><td>NA              </td><td>NA              </td><td>NA              </td><td>⋯               </td><td>NA              </td><td>NA              </td><td>NA              </td><td>NA              </td><td>NA              </td><td>NA              </td><td>NA              </td><td>NA              </td><td>home_team_api_id</td><td> 7947           </td></tr>\n",
       "\t<tr><td>1               </td><td>1               </td><td>1               </td><td>NA              </td><td>NA              </td><td>NA              </td><td>NA              </td><td>NA              </td><td>NA              </td><td>NA              </td><td>⋯               </td><td>NA              </td><td>NA              </td><td>NA              </td><td>NA              </td><td>NA              </td><td>NA              </td><td>NA              </td><td>NA              </td><td>home_team_api_id</td><td> 8203           </td></tr>\n",
       "\t<tr><td>1               </td><td>2               </td><td>2               </td><td>NA              </td><td>NA              </td><td>NA              </td><td>NA              </td><td>NA              </td><td>NA              </td><td>NA              </td><td>⋯               </td><td>NA              </td><td>NA              </td><td>NA              </td><td>NA              </td><td>NA              </td><td>NA              </td><td>NA              </td><td>NA              </td><td>home_team_api_id</td><td> 9999           </td></tr>\n",
       "\t<tr><td>1               </td><td>1               </td><td>2               </td><td>NA              </td><td>NA              </td><td>NA              </td><td>NA              </td><td>NA              </td><td>NA              </td><td>NA              </td><td>⋯               </td><td>NA              </td><td>NA              </td><td>NA              </td><td>NA              </td><td>NA              </td><td>NA              </td><td>NA              </td><td>NA              </td><td>home_team_api_id</td><td> 4049           </td></tr>\n",
       "\t<tr><td>1               </td><td>1               </td><td>0               </td><td>NA              </td><td>NA              </td><td>NA              </td><td>NA              </td><td>NA              </td><td>NA              </td><td>NA              </td><td>⋯               </td><td>NA              </td><td>NA              </td><td>NA              </td><td>NA              </td><td>NA              </td><td>NA              </td><td>NA              </td><td>NA              </td><td>home_team_api_id</td><td>10001           </td></tr>\n",
       "\t<tr><td>1               </td><td>4               </td><td>1               </td><td>NA              </td><td>NA              </td><td>NA              </td><td>NA              </td><td>NA              </td><td>NA              </td><td>NA              </td><td>⋯               </td><td>NA              </td><td>NA              </td><td>NA              </td><td>NA              </td><td>NA              </td><td>NA              </td><td>NA              </td><td>NA              </td><td>home_team_api_id</td><td> 8342           </td></tr>\n",
       "\t<tr><td>1               </td><td>1               </td><td>2               </td><td>NA              </td><td>NA              </td><td>NA              </td><td>NA              </td><td>NA              </td><td>NA              </td><td>NA              </td><td>⋯               </td><td>NA              </td><td>NA              </td><td>NA              </td><td>NA              </td><td>NA              </td><td>NA              </td><td>NA              </td><td>NA              </td><td>home_team_api_id</td><td> 9985           </td></tr>\n",
       "\t<tr><td>1               </td><td>0               </td><td>2               </td><td>NA              </td><td>NA              </td><td>NA              </td><td>NA              </td><td>NA              </td><td>NA              </td><td>NA              </td><td>⋯               </td><td>NA              </td><td>NA              </td><td>NA              </td><td>NA              </td><td>NA              </td><td>NA              </td><td>NA              </td><td>NA              </td><td>home_team_api_id</td><td>10000           </td></tr>\n",
       "\t<tr><td>1               </td><td>0               </td><td>0               </td><td>NA              </td><td>NA              </td><td>NA              </td><td>NA              </td><td>NA              </td><td>NA              </td><td>NA              </td><td>⋯               </td><td>NA              </td><td>NA              </td><td>NA              </td><td>NA              </td><td>NA              </td><td>NA              </td><td>NA              </td><td>NA              </td><td>home_team_api_id</td><td> 9994           </td></tr>\n",
       "\t<tr><td>1               </td><td>2               </td><td>2               </td><td>NA              </td><td>NA              </td><td>NA              </td><td>NA              </td><td>NA              </td><td>NA              </td><td>NA              </td><td>⋯               </td><td>NA              </td><td>NA              </td><td>NA              </td><td>NA              </td><td>NA              </td><td>NA              </td><td>NA              </td><td>NA              </td><td>home_team_api_id</td><td> 7947           </td></tr>\n",
       "\t<tr><td>1               </td><td>1               </td><td>2               </td><td>NA              </td><td>NA              </td><td>NA              </td><td>NA              </td><td>NA              </td><td>NA              </td><td>NA              </td><td>⋯               </td><td>NA              </td><td>NA              </td><td>NA              </td><td>NA              </td><td>NA              </td><td>NA              </td><td>NA              </td><td>NA              </td><td>home_team_api_id</td><td> 8203           </td></tr>\n",
       "\t<tr><td>1               </td><td>0               </td><td>1               </td><td>NA              </td><td>NA              </td><td>NA              </td><td>NA              </td><td>NA              </td><td>NA              </td><td>NA              </td><td>⋯               </td><td>NA              </td><td>NA              </td><td>NA              </td><td>NA              </td><td>NA              </td><td>NA              </td><td>NA              </td><td>NA              </td><td>home_team_api_id</td><td> 9996           </td></tr>\n",
       "\t<tr><td>1               </td><td>1               </td><td>3               </td><td>NA              </td><td>NA              </td><td>NA              </td><td>NA              </td><td>NA              </td><td>NA              </td><td>NA              </td><td>⋯               </td><td>NA              </td><td>NA              </td><td>NA              </td><td>NA              </td><td>NA              </td><td>NA              </td><td>NA              </td><td>NA              </td><td>home_team_api_id</td><td> 4049           </td></tr>\n",
       "\t<tr><td>1               </td><td>1               </td><td>3               </td><td>NA              </td><td>NA              </td><td>NA              </td><td>NA              </td><td>NA              </td><td>NA              </td><td>NA              </td><td>⋯               </td><td>NA              </td><td>NA              </td><td>NA              </td><td>NA              </td><td>NA              </td><td>NA              </td><td>NA              </td><td>NA              </td><td>home_team_api_id</td><td> 9993           </td></tr>\n",
       "\t<tr><td>1               </td><td>2               </td><td>3               </td><td>NA              </td><td>NA              </td><td>NA              </td><td>NA              </td><td>NA              </td><td>NA              </td><td>NA              </td><td>⋯               </td><td>NA              </td><td>NA              </td><td>NA              </td><td>NA              </td><td>NA              </td><td>NA              </td><td>NA              </td><td>NA              </td><td>home_team_api_id</td><td> 8635           </td></tr>\n",
       "\t<tr><td>1               </td><td>0               </td><td>0               </td><td>NA              </td><td>NA              </td><td>NA              </td><td>NA              </td><td>NA              </td><td>NA              </td><td>NA              </td><td>⋯               </td><td>NA              </td><td>NA              </td><td>NA              </td><td>NA              </td><td>NA              </td><td>NA              </td><td>NA              </td><td>NA              </td><td>home_team_api_id</td><td> 9998           </td></tr>\n",
       "\t<tr><td>1               </td><td>2               </td><td>2               </td><td>NA              </td><td>NA              </td><td>NA              </td><td>NA              </td><td>NA              </td><td>NA              </td><td>NA              </td><td>⋯               </td><td>NA              </td><td>NA              </td><td>NA              </td><td>NA              </td><td>NA              </td><td>NA              </td><td>NA              </td><td>NA              </td><td>home_team_api_id</td><td> 9986           </td></tr>\n",
       "\t<tr><td>1               </td><td>2               </td><td>0               </td><td>NA              </td><td>NA              </td><td>NA              </td><td>NA              </td><td>NA              </td><td>NA              </td><td>NA              </td><td>⋯               </td><td>NA              </td><td>NA              </td><td>NA              </td><td>NA              </td><td>NA              </td><td>NA              </td><td>NA              </td><td>NA              </td><td>home_team_api_id</td><td> 9984           </td></tr>\n",
       "\t<tr><td>1               </td><td>1               </td><td>1               </td><td>NA              </td><td>NA              </td><td>NA              </td><td>NA              </td><td>NA              </td><td>NA              </td><td>NA              </td><td>⋯               </td><td>NA              </td><td>NA              </td><td>NA              </td><td>NA              </td><td>NA              </td><td>NA              </td><td>NA              </td><td>NA              </td><td>home_team_api_id</td><td> 9991           </td></tr>\n",
       "\t<tr><td>1               </td><td>1               </td><td>2               </td><td>NA              </td><td>NA              </td><td>NA              </td><td>NA              </td><td>NA              </td><td>NA              </td><td>NA              </td><td>⋯               </td><td>NA              </td><td>NA              </td><td>NA              </td><td>NA              </td><td>NA              </td><td>NA              </td><td>NA              </td><td>NA              </td><td>home_team_api_id</td><td> 9999           </td></tr>\n",
       "\t<tr><td>1               </td><td>0               </td><td>0               </td><td>NA              </td><td>NA              </td><td>NA              </td><td>NA              </td><td>NA              </td><td>NA              </td><td>NA              </td><td>⋯               </td><td>NA              </td><td>NA              </td><td>NA              </td><td>NA              </td><td>NA              </td><td>NA              </td><td>NA              </td><td>NA              </td><td>home_team_api_id</td><td> 8571           </td></tr>\n",
       "\t<tr><td>1               </td><td>1               </td><td>0               </td><td>NA              </td><td>NA              </td><td>NA              </td><td>NA              </td><td>NA              </td><td>NA              </td><td>NA              </td><td>⋯               </td><td>NA              </td><td>NA              </td><td>NA              </td><td>NA              </td><td>NA              </td><td>NA              </td><td>NA              </td><td>NA              </td><td>home_team_api_id</td><td>10001           </td></tr>\n",
       "\t<tr><td>1               </td><td>1               </td><td>3               </td><td>NA              </td><td>NA              </td><td>NA              </td><td>NA              </td><td>NA              </td><td>NA              </td><td>NA              </td><td>⋯               </td><td>NA              </td><td>NA              </td><td>NA              </td><td>NA              </td><td>NA              </td><td>NA              </td><td>NA              </td><td>NA              </td><td>home_team_api_id</td><td> 9993           </td></tr>\n",
       "\t<tr><td>1               </td><td>1               </td><td>1               </td><td>NA              </td><td>NA              </td><td>NA              </td><td>NA              </td><td>NA              </td><td>NA              </td><td>NA              </td><td>⋯               </td><td>NA              </td><td>NA              </td><td>NA              </td><td>NA              </td><td>NA              </td><td>NA              </td><td>NA              </td><td>NA              </td><td>home_team_api_id</td><td> 8342           </td></tr>\n",
       "\t<tr><td>1               </td><td>1               </td><td>1               </td><td>NA              </td><td>NA              </td><td>NA              </td><td>NA              </td><td>NA              </td><td>NA              </td><td>NA              </td><td>⋯               </td><td>NA              </td><td>NA              </td><td>NA              </td><td>NA              </td><td>NA              </td><td>NA              </td><td>NA              </td><td>NA              </td><td>home_team_api_id</td><td> 9987           </td></tr>\n",
       "\t<tr><td>1               </td><td>2               </td><td>2               </td><td>NA              </td><td>NA              </td><td>NA              </td><td>NA              </td><td>NA              </td><td>NA              </td><td>NA              </td><td>⋯               </td><td>NA              </td><td>NA              </td><td>NA              </td><td>NA              </td><td>NA              </td><td>NA              </td><td>NA              </td><td>NA              </td><td>home_team_api_id</td><td>10000           </td></tr>\n",
       "\t<tr><td>⋮</td><td>⋮</td><td>⋮</td><td>⋮</td><td>⋮</td><td>⋮</td><td>⋮</td><td>⋮</td><td>⋮</td><td>⋮</td><td>⋱</td><td>⋮</td><td>⋮</td><td>⋮</td><td>⋮</td><td>⋮</td><td>⋮</td><td>⋮</td><td>⋮</td><td>⋮</td><td>⋮</td></tr>\n",
       "\t<tr><td>24558           </td><td>6               </td><td>1               </td><td>157856          </td><td> 42258          </td><td>294256          </td><td>177689          </td><td>513512          </td><td>173936          </td><td> 39979          </td><td>⋯               </td><td>173534          </td><td>    NA          </td><td>393337          </td><td>491221          </td><td>  8893          </td><td> 67369          </td><td>491794          </td><td>178142          </td><td>away_team_api_id</td><td> 7896           </td></tr>\n",
       "\t<tr><td>24558           </td><td>1               </td><td>3               </td><td> 42276          </td><td>114792          </td><td>166889          </td><td>150007          </td><td> 42294          </td><td>570830          </td><td>260708          </td><td>⋯               </td><td> 22834          </td><td> 40536          </td><td> 25772          </td><td>207234          </td><td> 40274          </td><td>114738          </td><td> 41726          </td><td>527103          </td><td>away_team_api_id</td><td> 9931           </td></tr>\n",
       "\t<tr><td>24558           </td><td>0               </td><td>2               </td><td> 42231          </td><td> 45780          </td><td> 95220          </td><td>638592          </td><td>120082          </td><td>119839          </td><td>171229          </td><td>⋯               </td><td>656668          </td><td>260964          </td><td> 67008          </td><td>113235          </td><td> 92252          </td><td>198082          </td><td>540230          </td><td> 67306          </td><td>away_team_api_id</td><td>10243           </td></tr>\n",
       "\t<tr><td>24558           </td><td>1               </td><td>1               </td><td> 33272          </td><td>214344          </td><td> 41621          </td><td> 30138          </td><td>458806          </td><td> 42237          </td><td> 56868          </td><td>⋯               </td><td> 32597          </td><td>114794          </td><td>    NA          </td><td> 67349          </td><td> 95230          </td><td>451335          </td><td>106559          </td><td>275122          </td><td>away_team_api_id</td><td>10179           </td></tr>\n",
       "\t<tr><td>24558           </td><td>3               </td><td>1               </td><td>274787          </td><td> 25843          </td><td>108451          </td><td> 25815          </td><td> 94553          </td><td>119702          </td><td>320184          </td><td>⋯               </td><td>178210          </td><td>158253          </td><td>186524          </td><td> 25809          </td><td>133126          </td><td>520466          </td><td>184610          </td><td>232110          </td><td>away_team_api_id</td><td>10191           </td></tr>\n",
       "\t<tr><td>24558           </td><td>3               </td><td>1               </td><td>156175          </td><td> 95216          </td><td>172768          </td><td> 30492          </td><td>181211          </td><td>339992          </td><td>207234          </td><td>⋯               </td><td>  8800          </td><td>158253          </td><td>133126          </td><td> 25809          </td><td>121115          </td><td>520466          </td><td>232110          </td><td>289732          </td><td>away_team_api_id</td><td>10191           </td></tr>\n",
       "\t<tr><td>24558           </td><td>0               </td><td>1               </td><td>274787          </td><td>492132          </td><td>108451          </td><td> 25815          </td><td> 94553          </td><td>119702          </td><td>190525          </td><td>⋯               </td><td>173534          </td><td>114212          </td><td>491221          </td><td>393337          </td><td>  8893          </td><td>186948          </td><td> 93229          </td><td>178142          </td><td>away_team_api_id</td><td> 7896           </td></tr>\n",
       "\t<tr><td>24558           </td><td>0               </td><td>1               </td><td> 42276          </td><td>114792          </td><td>178119          </td><td>150007          </td><td> 42294          </td><td>185518          </td><td>260708          </td><td>⋯               </td><td> 95220          </td><td>120082          </td><td>171229          </td><td>308309          </td><td> 67333          </td><td> 66934          </td><td>176298          </td><td> 35831          </td><td>away_team_api_id</td><td>10190           </td></tr>\n",
       "\t<tr><td>24558           </td><td>3               </td><td>1               </td><td> 10637          </td><td> 67349          </td><td>202663          </td><td> 32597          </td><td>114794          </td><td> 25840          </td><td>535957          </td><td>⋯               </td><td>656668          </td><td>260964          </td><td> 92252          </td><td> 67008          </td><td>113235          </td><td>108525          </td><td>254704          </td><td> 67306          </td><td>away_team_api_id</td><td>10243           </td></tr>\n",
       "\t<tr><td>24558           </td><td>3               </td><td>3               </td><td> 33272          </td><td>358156          </td><td> 25813          </td><td> 41621          </td><td>458806          </td><td>214344          </td><td> 42237          </td><td>⋯               </td><td>177689          </td><td>513512          </td><td>173936          </td><td> 39979          </td><td>147959          </td><td>451983          </td><td> 80564          </td><td>289472          </td><td>away_team_api_id</td><td> 9956           </td></tr>\n",
       "\t<tr><td>24558           </td><td>1               </td><td>3               </td><td>    NA          </td><td>282287          </td><td>173534          </td><td> 41415          </td><td>    NA          </td><td>491221          </td><td>393337          </td><td>⋯               </td><td> 22834          </td><td>181211          </td><td>339992          </td><td>207234          </td><td> 25794          </td><td>176206          </td><td>402975          </td><td>527104          </td><td>away_team_api_id</td><td> 9931           </td></tr>\n",
       "\t<tr><td>24558           </td><td>1               </td><td>3               </td><td> 10637          </td><td> 67349          </td><td>202663          </td><td> 32597          </td><td>114794          </td><td>188114          </td><td> 25840          </td><td>⋯               </td><td> 25815          </td><td> 94553          </td><td>320184          </td><td>598355          </td><td>190525          </td><td>302079          </td><td> 45174          </td><td> 37554          </td><td>away_team_api_id</td><td>10192           </td></tr>\n",
       "\t<tr><td>24558           </td><td>0               </td><td>2               </td><td> 42231          </td><td> 45780          </td><td> 95220          </td><td>638592          </td><td>120082          </td><td>171229          </td><td>308309          </td><td>⋯               </td><td>155075          </td><td>513512          </td><td>173936          </td><td> 39979          </td><td>147959          </td><td>451983          </td><td> 80564          </td><td>289472          </td><td>away_team_api_id</td><td> 9956           </td></tr>\n",
       "\t<tr><td>24558           </td><td>1               </td><td>0               </td><td> 67311          </td><td>239959          </td><td>178210          </td><td> 67304          </td><td>158253          </td><td>133126          </td><td>520466          </td><td>⋯               </td><td> 41621          </td><td>458806          </td><td>358156          </td><td> 56868          </td><td>214344          </td><td>113227          </td><td>114011          </td><td>209371          </td><td>away_team_api_id</td><td> 9824           </td></tr>\n",
       "\t<tr><td>24558           </td><td>2               </td><td>5               </td><td>274776          </td><td>121080          </td><td> 34268          </td><td>113235          </td><td>260964          </td><td> 67008          </td><td> 92252          </td><td>⋯               </td><td>178119          </td><td> 42294          </td><td>185518          </td><td>260708          </td><td>201704          </td><td> 95257          </td><td>104646          </td><td> 34082          </td><td>away_team_api_id</td><td>10199           </td></tr>\n",
       "\t<tr><td>24558           </td><td>0               </td><td>1               </td><td>    NA          </td><td>  8881          </td><td>173534          </td><td> 41415          </td><td>282287          </td><td>491221          </td><td>393337          </td><td>⋯               </td><td>178119          </td><td> 27232          </td><td>185518          </td><td>260708          </td><td>201704          </td><td> 95257          </td><td>104646          </td><td> 34082          </td><td>away_team_api_id</td><td>10199           </td></tr>\n",
       "\t<tr><td>24558           </td><td>1               </td><td>0               </td><td> 33272          </td><td>114735          </td><td> 25813          </td><td> 41621          </td><td>458806          </td><td> 42237          </td><td> 56868          </td><td>⋯               </td><td>638592          </td><td>413155          </td><td>143790          </td><td>171229          </td><td> 66934          </td><td> 92094          </td><td>195215          </td><td>119839          </td><td>away_team_api_id</td><td>10190           </td></tr>\n",
       "\t<tr><td>24558           </td><td>0               </td><td>2               </td><td> 67311          </td><td>239959          </td><td>178210          </td><td> 67304          </td><td>158253          </td><td>186524          </td><td> 93223          </td><td>⋯               </td><td> 32597          </td><td>114794          </td><td>188114          </td><td> 25840          </td><td>482200          </td><td>538336          </td><td> 95230          </td><td>275122          </td><td>away_team_api_id</td><td>10179           </td></tr>\n",
       "\t<tr><td>24558           </td><td>3               </td><td>1               </td><td>156175          </td><td> 95216          </td><td>172768          </td><td> 22834          </td><td> 40536          </td><td>207234          </td><td>114738          </td><td>⋯               </td><td>197757          </td><td>260964          </td><td> 92252          </td><td> 67008          </td><td>198082          </td><td>108525          </td><td>194532          </td><td> 67306          </td><td>away_team_api_id</td><td>10243           </td></tr>\n",
       "\t<tr><td>24558           </td><td>3               </td><td>2               </td><td>132814          </td><td>274779          </td><td>294256          </td><td>155075          </td><td> 42258          </td><td>173936          </td><td> 39979          </td><td>⋯               </td><td> 25815          </td><td> 94553          </td><td>119702          </td><td>320184          </td><td> 25860          </td><td>302079          </td><td> 45174          </td><td>422412          </td><td>away_team_api_id</td><td>10192           </td></tr>\n",
       "\t<tr><td>24558           </td><td>2               </td><td>1               </td><td>156175          </td><td> 95216          </td><td>172768          </td><td> 22834          </td><td> 30835          </td><td>339992          </td><td>114738          </td><td>⋯               </td><td> 67363          </td><td>413155          </td><td> 45780          </td><td>143790          </td><td> 66934          </td><td>176298          </td><td> 92094          </td><td> 72628          </td><td>away_team_api_id</td><td>10190           </td></tr>\n",
       "\t<tr><td>24558           </td><td>4               </td><td>0               </td><td>274787          </td><td>492132          </td><td>108451          </td><td> 25815          </td><td> 94553          </td><td>384376          </td><td>598355          </td><td>⋯               </td><td> 41621          </td><td>358156          </td><td>114011          </td><td> 42237          </td><td> 56868          </td><td>209371          </td><td>531309          </td><td>113227          </td><td>away_team_api_id</td><td> 9824           </td></tr>\n",
       "\t<tr><td>24558           </td><td>3               </td><td>3               </td><td> 42276          </td><td> 27232          </td><td>178119          </td><td>150007          </td><td> 42294          </td><td> 73977          </td><td>114792          </td><td>⋯               </td><td>294256          </td><td> 42258          </td><td>173936          </td><td> 39979          </td><td>147959          </td><td>451983          </td><td> 80564          </td><td>289472          </td><td>away_team_api_id</td><td> 9956           </td></tr>\n",
       "\t<tr><td>24558           </td><td>3               </td><td>3               </td><td>274776          </td><td>451982          </td><td> 34268          </td><td>197757          </td><td>121080          </td><td>462608          </td><td> 67008          </td><td>⋯               </td><td> 67304          </td><td> 67389          </td><td>133126          </td><td>186524          </td><td> 93223          </td><td>121115          </td><td> 25809          </td><td>289732          </td><td>away_team_api_id</td><td>10191           </td></tr>\n",
       "\t<tr><td>24558           </td><td>3               </td><td>0               </td><td> 10637          </td><td> 67349          </td><td>202663          </td><td> 32597          </td><td>114794          </td><td>188114          </td><td> 25840          </td><td>⋯               </td><td> 41415          </td><td>282287          </td><td>491221          </td><td>150084          </td><td>  8893          </td><td>140490          </td><td> 93229          </td><td>178142          </td><td>away_team_api_id</td><td> 7896           </td></tr>\n",
       "\t<tr><td>24558           </td><td>1               </td><td>0               </td><td> 42231          </td><td>678384          </td><td> 95220          </td><td>638592          </td><td>413155          </td><td> 45780          </td><td>171229          </td><td>⋯               </td><td> 67304          </td><td>158253          </td><td>133126          </td><td>186524          </td><td> 93223          </td><td>121115          </td><td>232110          </td><td>289732          </td><td>away_team_api_id</td><td>10191           </td></tr>\n",
       "\t<tr><td>24558           </td><td>1               </td><td>2               </td><td> 33272          </td><td> 41621          </td><td> 25813          </td><td>257845          </td><td>114735          </td><td> 42237          </td><td>113227          </td><td>⋯               </td><td>178119          </td><td> 27232          </td><td>570830          </td><td>260708          </td><td>201704          </td><td> 36382          </td><td> 34082          </td><td> 95257          </td><td>away_team_api_id</td><td>10199           </td></tr>\n",
       "\t<tr><td>24558           </td><td>2               </td><td>0               </td><td>157856          </td><td>274779          </td><td>177689          </td><td>294256          </td><td> 42258          </td><td> 39979          </td><td>173936          </td><td>⋯               </td><td> 32597          </td><td>114794          </td><td>188114          </td><td> 25840          </td><td>482200          </td><td> 95230          </td><td>451335          </td><td>275122          </td><td>away_team_api_id</td><td>10179           </td></tr>\n",
       "\t<tr><td>24558           </td><td>0               </td><td>0               </td><td>    NA          </td><td>  8881          </td><td>173534          </td><td> 39646          </td><td>282287          </td><td>340790          </td><td>393337          </td><td>⋯               </td><td>260964          </td><td>231614          </td><td>113235          </td><td> 41116          </td><td>462608          </td><td> 42262          </td><td> 92252          </td><td>194532          </td><td>away_team_api_id</td><td>10243           </td></tr>\n",
       "\t<tr><td>24558           </td><td>4               </td><td>3               </td><td>274787          </td><td>492132          </td><td>108451          </td><td> 25815          </td><td> 94553          </td><td>384376          </td><td>598355          </td><td>⋯               </td><td> 22834          </td><td>458806          </td><td>207234          </td><td> 25772          </td><td> 40274          </td><td> 34035          </td><td> 41726          </td><td>527103          </td><td>away_team_api_id</td><td> 9931           </td></tr>\n",
       "</tbody>\n",
       "</table>\n"
      ],
      "text/latex": [
       "\\begin{tabular}{r|lllllllllllllllllllllllllll}\n",
       " league\\_id & home\\_team\\_goal & away\\_team\\_goal & home\\_player\\_1 & home\\_player\\_2 & home\\_player\\_3 & home\\_player\\_4 & home\\_player\\_5 & home\\_player\\_6 & home\\_player\\_7 & ⋯ & away\\_player\\_4 & away\\_player\\_5 & away\\_player\\_6 & away\\_player\\_7 & away\\_player\\_8 & away\\_player\\_9 & away\\_player\\_10 & away\\_player\\_11 & team & team\\_api\\_id\\\\\n",
       "\\hline\n",
       "\t 1                      & 1                      & 1                      & NA                     & NA                     & NA                     & NA                     & NA                     & NA                     & NA                     & ⋯                      & NA                     & NA                     & NA                     & NA                     & NA                     & NA                     & NA                     & NA                     & home\\_team\\_api\\_id &  9987                 \\\\\n",
       "\t 1                      & 0                      & 0                      & NA                     & NA                     & NA                     & NA                     & NA                     & NA                     & NA                     & ⋯                      & NA                     & NA                     & NA                     & NA                     & NA                     & NA                     & NA                     & NA                     & home\\_team\\_api\\_id & 10000                 \\\\\n",
       "\t 1                      & 0                      & 3                      & NA                     & NA                     & NA                     & NA                     & NA                     & NA                     & NA                     & ⋯                      & NA                     & NA                     & NA                     & NA                     & NA                     & NA                     & NA                     & NA                     & home\\_team\\_api\\_id &  9984                 \\\\\n",
       "\t 1                      & 5                      & 0                      & NA                     & NA                     & NA                     & NA                     & NA                     & NA                     & NA                     & ⋯                      & NA                     & NA                     & NA                     & NA                     & NA                     & NA                     & NA                     & NA                     & home\\_team\\_api\\_id &  9991                 \\\\\n",
       "\t 1                      & 1                      & 3                      & NA                     & NA                     & NA                     & NA                     & NA                     & NA                     & NA                     & ⋯                      & NA                     & NA                     & NA                     & NA                     & NA                     & NA                     & NA                     & NA                     & home\\_team\\_api\\_id &  7947                 \\\\\n",
       "\t 1                      & 1                      & 1                      & NA                     & NA                     & NA                     & NA                     & NA                     & NA                     & NA                     & ⋯                      & NA                     & NA                     & NA                     & NA                     & NA                     & NA                     & NA                     & NA                     & home\\_team\\_api\\_id &  8203                 \\\\\n",
       "\t 1                      & 2                      & 2                      & NA                     & NA                     & NA                     & NA                     & NA                     & NA                     & NA                     & ⋯                      & NA                     & NA                     & NA                     & NA                     & NA                     & NA                     & NA                     & NA                     & home\\_team\\_api\\_id &  9999                 \\\\\n",
       "\t 1                      & 1                      & 2                      & NA                     & NA                     & NA                     & NA                     & NA                     & NA                     & NA                     & ⋯                      & NA                     & NA                     & NA                     & NA                     & NA                     & NA                     & NA                     & NA                     & home\\_team\\_api\\_id &  4049                 \\\\\n",
       "\t 1                      & 1                      & 0                      & NA                     & NA                     & NA                     & NA                     & NA                     & NA                     & NA                     & ⋯                      & NA                     & NA                     & NA                     & NA                     & NA                     & NA                     & NA                     & NA                     & home\\_team\\_api\\_id & 10001                 \\\\\n",
       "\t 1                      & 4                      & 1                      & NA                     & NA                     & NA                     & NA                     & NA                     & NA                     & NA                     & ⋯                      & NA                     & NA                     & NA                     & NA                     & NA                     & NA                     & NA                     & NA                     & home\\_team\\_api\\_id &  8342                 \\\\\n",
       "\t 1                      & 1                      & 2                      & NA                     & NA                     & NA                     & NA                     & NA                     & NA                     & NA                     & ⋯                      & NA                     & NA                     & NA                     & NA                     & NA                     & NA                     & NA                     & NA                     & home\\_team\\_api\\_id &  9985                 \\\\\n",
       "\t 1                      & 0                      & 2                      & NA                     & NA                     & NA                     & NA                     & NA                     & NA                     & NA                     & ⋯                      & NA                     & NA                     & NA                     & NA                     & NA                     & NA                     & NA                     & NA                     & home\\_team\\_api\\_id & 10000                 \\\\\n",
       "\t 1                      & 0                      & 0                      & NA                     & NA                     & NA                     & NA                     & NA                     & NA                     & NA                     & ⋯                      & NA                     & NA                     & NA                     & NA                     & NA                     & NA                     & NA                     & NA                     & home\\_team\\_api\\_id &  9994                 \\\\\n",
       "\t 1                      & 2                      & 2                      & NA                     & NA                     & NA                     & NA                     & NA                     & NA                     & NA                     & ⋯                      & NA                     & NA                     & NA                     & NA                     & NA                     & NA                     & NA                     & NA                     & home\\_team\\_api\\_id &  7947                 \\\\\n",
       "\t 1                      & 1                      & 2                      & NA                     & NA                     & NA                     & NA                     & NA                     & NA                     & NA                     & ⋯                      & NA                     & NA                     & NA                     & NA                     & NA                     & NA                     & NA                     & NA                     & home\\_team\\_api\\_id &  8203                 \\\\\n",
       "\t 1                      & 0                      & 1                      & NA                     & NA                     & NA                     & NA                     & NA                     & NA                     & NA                     & ⋯                      & NA                     & NA                     & NA                     & NA                     & NA                     & NA                     & NA                     & NA                     & home\\_team\\_api\\_id &  9996                 \\\\\n",
       "\t 1                      & 1                      & 3                      & NA                     & NA                     & NA                     & NA                     & NA                     & NA                     & NA                     & ⋯                      & NA                     & NA                     & NA                     & NA                     & NA                     & NA                     & NA                     & NA                     & home\\_team\\_api\\_id &  4049                 \\\\\n",
       "\t 1                      & 1                      & 3                      & NA                     & NA                     & NA                     & NA                     & NA                     & NA                     & NA                     & ⋯                      & NA                     & NA                     & NA                     & NA                     & NA                     & NA                     & NA                     & NA                     & home\\_team\\_api\\_id &  9993                 \\\\\n",
       "\t 1                      & 2                      & 3                      & NA                     & NA                     & NA                     & NA                     & NA                     & NA                     & NA                     & ⋯                      & NA                     & NA                     & NA                     & NA                     & NA                     & NA                     & NA                     & NA                     & home\\_team\\_api\\_id &  8635                 \\\\\n",
       "\t 1                      & 0                      & 0                      & NA                     & NA                     & NA                     & NA                     & NA                     & NA                     & NA                     & ⋯                      & NA                     & NA                     & NA                     & NA                     & NA                     & NA                     & NA                     & NA                     & home\\_team\\_api\\_id &  9998                 \\\\\n",
       "\t 1                      & 2                      & 2                      & NA                     & NA                     & NA                     & NA                     & NA                     & NA                     & NA                     & ⋯                      & NA                     & NA                     & NA                     & NA                     & NA                     & NA                     & NA                     & NA                     & home\\_team\\_api\\_id &  9986                 \\\\\n",
       "\t 1                      & 2                      & 0                      & NA                     & NA                     & NA                     & NA                     & NA                     & NA                     & NA                     & ⋯                      & NA                     & NA                     & NA                     & NA                     & NA                     & NA                     & NA                     & NA                     & home\\_team\\_api\\_id &  9984                 \\\\\n",
       "\t 1                      & 1                      & 1                      & NA                     & NA                     & NA                     & NA                     & NA                     & NA                     & NA                     & ⋯                      & NA                     & NA                     & NA                     & NA                     & NA                     & NA                     & NA                     & NA                     & home\\_team\\_api\\_id &  9991                 \\\\\n",
       "\t 1                      & 1                      & 2                      & NA                     & NA                     & NA                     & NA                     & NA                     & NA                     & NA                     & ⋯                      & NA                     & NA                     & NA                     & NA                     & NA                     & NA                     & NA                     & NA                     & home\\_team\\_api\\_id &  9999                 \\\\\n",
       "\t 1                      & 0                      & 0                      & NA                     & NA                     & NA                     & NA                     & NA                     & NA                     & NA                     & ⋯                      & NA                     & NA                     & NA                     & NA                     & NA                     & NA                     & NA                     & NA                     & home\\_team\\_api\\_id &  8571                 \\\\\n",
       "\t 1                      & 1                      & 0                      & NA                     & NA                     & NA                     & NA                     & NA                     & NA                     & NA                     & ⋯                      & NA                     & NA                     & NA                     & NA                     & NA                     & NA                     & NA                     & NA                     & home\\_team\\_api\\_id & 10001                 \\\\\n",
       "\t 1                      & 1                      & 3                      & NA                     & NA                     & NA                     & NA                     & NA                     & NA                     & NA                     & ⋯                      & NA                     & NA                     & NA                     & NA                     & NA                     & NA                     & NA                     & NA                     & home\\_team\\_api\\_id &  9993                 \\\\\n",
       "\t 1                      & 1                      & 1                      & NA                     & NA                     & NA                     & NA                     & NA                     & NA                     & NA                     & ⋯                      & NA                     & NA                     & NA                     & NA                     & NA                     & NA                     & NA                     & NA                     & home\\_team\\_api\\_id &  8342                 \\\\\n",
       "\t 1                      & 1                      & 1                      & NA                     & NA                     & NA                     & NA                     & NA                     & NA                     & NA                     & ⋯                      & NA                     & NA                     & NA                     & NA                     & NA                     & NA                     & NA                     & NA                     & home\\_team\\_api\\_id &  9987                 \\\\\n",
       "\t 1                      & 2                      & 2                      & NA                     & NA                     & NA                     & NA                     & NA                     & NA                     & NA                     & ⋯                      & NA                     & NA                     & NA                     & NA                     & NA                     & NA                     & NA                     & NA                     & home\\_team\\_api\\_id & 10000                 \\\\\n",
       "\t ⋮ & ⋮ & ⋮ & ⋮ & ⋮ & ⋮ & ⋮ & ⋮ & ⋮ & ⋮ & ⋱ & ⋮ & ⋮ & ⋮ & ⋮ & ⋮ & ⋮ & ⋮ & ⋮ & ⋮ & ⋮\\\\\n",
       "\t 24558                  & 6                      & 1                      & 157856                 &  42258                 & 294256                 & 177689                 & 513512                 & 173936                 &  39979                 & ⋯                      & 173534                 &     NA                 & 393337                 & 491221                 &   8893                 &  67369                 & 491794                 & 178142                 & away\\_team\\_api\\_id &  7896                 \\\\\n",
       "\t 24558                  & 1                      & 3                      &  42276                 & 114792                 & 166889                 & 150007                 &  42294                 & 570830                 & 260708                 & ⋯                      &  22834                 &  40536                 &  25772                 & 207234                 &  40274                 & 114738                 &  41726                 & 527103                 & away\\_team\\_api\\_id &  9931                 \\\\\n",
       "\t 24558                  & 0                      & 2                      &  42231                 &  45780                 &  95220                 & 638592                 & 120082                 & 119839                 & 171229                 & ⋯                      & 656668                 & 260964                 &  67008                 & 113235                 &  92252                 & 198082                 & 540230                 &  67306                 & away\\_team\\_api\\_id & 10243                 \\\\\n",
       "\t 24558                  & 1                      & 1                      &  33272                 & 214344                 &  41621                 &  30138                 & 458806                 &  42237                 &  56868                 & ⋯                      &  32597                 & 114794                 &     NA                 &  67349                 &  95230                 & 451335                 & 106559                 & 275122                 & away\\_team\\_api\\_id & 10179                 \\\\\n",
       "\t 24558                  & 3                      & 1                      & 274787                 &  25843                 & 108451                 &  25815                 &  94553                 & 119702                 & 320184                 & ⋯                      & 178210                 & 158253                 & 186524                 &  25809                 & 133126                 & 520466                 & 184610                 & 232110                 & away\\_team\\_api\\_id & 10191                 \\\\\n",
       "\t 24558                  & 3                      & 1                      & 156175                 &  95216                 & 172768                 &  30492                 & 181211                 & 339992                 & 207234                 & ⋯                      &   8800                 & 158253                 & 133126                 &  25809                 & 121115                 & 520466                 & 232110                 & 289732                 & away\\_team\\_api\\_id & 10191                 \\\\\n",
       "\t 24558                  & 0                      & 1                      & 274787                 & 492132                 & 108451                 &  25815                 &  94553                 & 119702                 & 190525                 & ⋯                      & 173534                 & 114212                 & 491221                 & 393337                 &   8893                 & 186948                 &  93229                 & 178142                 & away\\_team\\_api\\_id &  7896                 \\\\\n",
       "\t 24558                  & 0                      & 1                      &  42276                 & 114792                 & 178119                 & 150007                 &  42294                 & 185518                 & 260708                 & ⋯                      &  95220                 & 120082                 & 171229                 & 308309                 &  67333                 &  66934                 & 176298                 &  35831                 & away\\_team\\_api\\_id & 10190                 \\\\\n",
       "\t 24558                  & 3                      & 1                      &  10637                 &  67349                 & 202663                 &  32597                 & 114794                 &  25840                 & 535957                 & ⋯                      & 656668                 & 260964                 &  92252                 &  67008                 & 113235                 & 108525                 & 254704                 &  67306                 & away\\_team\\_api\\_id & 10243                 \\\\\n",
       "\t 24558                  & 3                      & 3                      &  33272                 & 358156                 &  25813                 &  41621                 & 458806                 & 214344                 &  42237                 & ⋯                      & 177689                 & 513512                 & 173936                 &  39979                 & 147959                 & 451983                 &  80564                 & 289472                 & away\\_team\\_api\\_id &  9956                 \\\\\n",
       "\t 24558                  & 1                      & 3                      &     NA                 & 282287                 & 173534                 &  41415                 &     NA                 & 491221                 & 393337                 & ⋯                      &  22834                 & 181211                 & 339992                 & 207234                 &  25794                 & 176206                 & 402975                 & 527104                 & away\\_team\\_api\\_id &  9931                 \\\\\n",
       "\t 24558                  & 1                      & 3                      &  10637                 &  67349                 & 202663                 &  32597                 & 114794                 & 188114                 &  25840                 & ⋯                      &  25815                 &  94553                 & 320184                 & 598355                 & 190525                 & 302079                 &  45174                 &  37554                 & away\\_team\\_api\\_id & 10192                 \\\\\n",
       "\t 24558                  & 0                      & 2                      &  42231                 &  45780                 &  95220                 & 638592                 & 120082                 & 171229                 & 308309                 & ⋯                      & 155075                 & 513512                 & 173936                 &  39979                 & 147959                 & 451983                 &  80564                 & 289472                 & away\\_team\\_api\\_id &  9956                 \\\\\n",
       "\t 24558                  & 1                      & 0                      &  67311                 & 239959                 & 178210                 &  67304                 & 158253                 & 133126                 & 520466                 & ⋯                      &  41621                 & 458806                 & 358156                 &  56868                 & 214344                 & 113227                 & 114011                 & 209371                 & away\\_team\\_api\\_id &  9824                 \\\\\n",
       "\t 24558                  & 2                      & 5                      & 274776                 & 121080                 &  34268                 & 113235                 & 260964                 &  67008                 &  92252                 & ⋯                      & 178119                 &  42294                 & 185518                 & 260708                 & 201704                 &  95257                 & 104646                 &  34082                 & away\\_team\\_api\\_id & 10199                 \\\\\n",
       "\t 24558                  & 0                      & 1                      &     NA                 &   8881                 & 173534                 &  41415                 & 282287                 & 491221                 & 393337                 & ⋯                      & 178119                 &  27232                 & 185518                 & 260708                 & 201704                 &  95257                 & 104646                 &  34082                 & away\\_team\\_api\\_id & 10199                 \\\\\n",
       "\t 24558                  & 1                      & 0                      &  33272                 & 114735                 &  25813                 &  41621                 & 458806                 &  42237                 &  56868                 & ⋯                      & 638592                 & 413155                 & 143790                 & 171229                 &  66934                 &  92094                 & 195215                 & 119839                 & away\\_team\\_api\\_id & 10190                 \\\\\n",
       "\t 24558                  & 0                      & 2                      &  67311                 & 239959                 & 178210                 &  67304                 & 158253                 & 186524                 &  93223                 & ⋯                      &  32597                 & 114794                 & 188114                 &  25840                 & 482200                 & 538336                 &  95230                 & 275122                 & away\\_team\\_api\\_id & 10179                 \\\\\n",
       "\t 24558                  & 3                      & 1                      & 156175                 &  95216                 & 172768                 &  22834                 &  40536                 & 207234                 & 114738                 & ⋯                      & 197757                 & 260964                 &  92252                 &  67008                 & 198082                 & 108525                 & 194532                 &  67306                 & away\\_team\\_api\\_id & 10243                 \\\\\n",
       "\t 24558                  & 3                      & 2                      & 132814                 & 274779                 & 294256                 & 155075                 &  42258                 & 173936                 &  39979                 & ⋯                      &  25815                 &  94553                 & 119702                 & 320184                 &  25860                 & 302079                 &  45174                 & 422412                 & away\\_team\\_api\\_id & 10192                 \\\\\n",
       "\t 24558                  & 2                      & 1                      & 156175                 &  95216                 & 172768                 &  22834                 &  30835                 & 339992                 & 114738                 & ⋯                      &  67363                 & 413155                 &  45780                 & 143790                 &  66934                 & 176298                 &  92094                 &  72628                 & away\\_team\\_api\\_id & 10190                 \\\\\n",
       "\t 24558                  & 4                      & 0                      & 274787                 & 492132                 & 108451                 &  25815                 &  94553                 & 384376                 & 598355                 & ⋯                      &  41621                 & 358156                 & 114011                 &  42237                 &  56868                 & 209371                 & 531309                 & 113227                 & away\\_team\\_api\\_id &  9824                 \\\\\n",
       "\t 24558                  & 3                      & 3                      &  42276                 &  27232                 & 178119                 & 150007                 &  42294                 &  73977                 & 114792                 & ⋯                      & 294256                 &  42258                 & 173936                 &  39979                 & 147959                 & 451983                 &  80564                 & 289472                 & away\\_team\\_api\\_id &  9956                 \\\\\n",
       "\t 24558                  & 3                      & 3                      & 274776                 & 451982                 &  34268                 & 197757                 & 121080                 & 462608                 &  67008                 & ⋯                      &  67304                 &  67389                 & 133126                 & 186524                 &  93223                 & 121115                 &  25809                 & 289732                 & away\\_team\\_api\\_id & 10191                 \\\\\n",
       "\t 24558                  & 3                      & 0                      &  10637                 &  67349                 & 202663                 &  32597                 & 114794                 & 188114                 &  25840                 & ⋯                      &  41415                 & 282287                 & 491221                 & 150084                 &   8893                 & 140490                 &  93229                 & 178142                 & away\\_team\\_api\\_id &  7896                 \\\\\n",
       "\t 24558                  & 1                      & 0                      &  42231                 & 678384                 &  95220                 & 638592                 & 413155                 &  45780                 & 171229                 & ⋯                      &  67304                 & 158253                 & 133126                 & 186524                 &  93223                 & 121115                 & 232110                 & 289732                 & away\\_team\\_api\\_id & 10191                 \\\\\n",
       "\t 24558                  & 1                      & 2                      &  33272                 &  41621                 &  25813                 & 257845                 & 114735                 &  42237                 & 113227                 & ⋯                      & 178119                 &  27232                 & 570830                 & 260708                 & 201704                 &  36382                 &  34082                 &  95257                 & away\\_team\\_api\\_id & 10199                 \\\\\n",
       "\t 24558                  & 2                      & 0                      & 157856                 & 274779                 & 177689                 & 294256                 &  42258                 &  39979                 & 173936                 & ⋯                      &  32597                 & 114794                 & 188114                 &  25840                 & 482200                 &  95230                 & 451335                 & 275122                 & away\\_team\\_api\\_id & 10179                 \\\\\n",
       "\t 24558                  & 0                      & 0                      &     NA                 &   8881                 & 173534                 &  39646                 & 282287                 & 340790                 & 393337                 & ⋯                      & 260964                 & 231614                 & 113235                 &  41116                 & 462608                 &  42262                 &  92252                 & 194532                 & away\\_team\\_api\\_id & 10243                 \\\\\n",
       "\t 24558                  & 4                      & 3                      & 274787                 & 492132                 & 108451                 &  25815                 &  94553                 & 384376                 & 598355                 & ⋯                      &  22834                 & 458806                 & 207234                 &  25772                 &  40274                 &  34035                 &  41726                 & 527103                 & away\\_team\\_api\\_id &  9931                 \\\\\n",
       "\\end{tabular}\n"
      ],
      "text/markdown": [
       "\n",
       "league_id | home_team_goal | away_team_goal | home_player_1 | home_player_2 | home_player_3 | home_player_4 | home_player_5 | home_player_6 | home_player_7 | ⋯ | away_player_4 | away_player_5 | away_player_6 | away_player_7 | away_player_8 | away_player_9 | away_player_10 | away_player_11 | team | team_api_id | \n",
       "|---|---|---|---|---|---|---|---|---|---|---|---|---|---|---|---|---|---|---|---|---|---|---|---|---|---|---|---|---|---|---|---|---|---|---|---|---|---|---|---|---|---|---|---|---|---|---|---|---|---|---|---|---|---|---|---|---|---|---|---|---|\n",
       "| 1                | 1                | 1                | NA               | NA               | NA               | NA               | NA               | NA               | NA               | ⋯                | NA               | NA               | NA               | NA               | NA               | NA               | NA               | NA               | home_team_api_id |  9987            | \n",
       "| 1                | 0                | 0                | NA               | NA               | NA               | NA               | NA               | NA               | NA               | ⋯                | NA               | NA               | NA               | NA               | NA               | NA               | NA               | NA               | home_team_api_id | 10000            | \n",
       "| 1                | 0                | 3                | NA               | NA               | NA               | NA               | NA               | NA               | NA               | ⋯                | NA               | NA               | NA               | NA               | NA               | NA               | NA               | NA               | home_team_api_id |  9984            | \n",
       "| 1                | 5                | 0                | NA               | NA               | NA               | NA               | NA               | NA               | NA               | ⋯                | NA               | NA               | NA               | NA               | NA               | NA               | NA               | NA               | home_team_api_id |  9991            | \n",
       "| 1                | 1                | 3                | NA               | NA               | NA               | NA               | NA               | NA               | NA               | ⋯                | NA               | NA               | NA               | NA               | NA               | NA               | NA               | NA               | home_team_api_id |  7947            | \n",
       "| 1                | 1                | 1                | NA               | NA               | NA               | NA               | NA               | NA               | NA               | ⋯                | NA               | NA               | NA               | NA               | NA               | NA               | NA               | NA               | home_team_api_id |  8203            | \n",
       "| 1                | 2                | 2                | NA               | NA               | NA               | NA               | NA               | NA               | NA               | ⋯                | NA               | NA               | NA               | NA               | NA               | NA               | NA               | NA               | home_team_api_id |  9999            | \n",
       "| 1                | 1                | 2                | NA               | NA               | NA               | NA               | NA               | NA               | NA               | ⋯                | NA               | NA               | NA               | NA               | NA               | NA               | NA               | NA               | home_team_api_id |  4049            | \n",
       "| 1                | 1                | 0                | NA               | NA               | NA               | NA               | NA               | NA               | NA               | ⋯                | NA               | NA               | NA               | NA               | NA               | NA               | NA               | NA               | home_team_api_id | 10001            | \n",
       "| 1                | 4                | 1                | NA               | NA               | NA               | NA               | NA               | NA               | NA               | ⋯                | NA               | NA               | NA               | NA               | NA               | NA               | NA               | NA               | home_team_api_id |  8342            | \n",
       "| 1                | 1                | 2                | NA               | NA               | NA               | NA               | NA               | NA               | NA               | ⋯                | NA               | NA               | NA               | NA               | NA               | NA               | NA               | NA               | home_team_api_id |  9985            | \n",
       "| 1                | 0                | 2                | NA               | NA               | NA               | NA               | NA               | NA               | NA               | ⋯                | NA               | NA               | NA               | NA               | NA               | NA               | NA               | NA               | home_team_api_id | 10000            | \n",
       "| 1                | 0                | 0                | NA               | NA               | NA               | NA               | NA               | NA               | NA               | ⋯                | NA               | NA               | NA               | NA               | NA               | NA               | NA               | NA               | home_team_api_id |  9994            | \n",
       "| 1                | 2                | 2                | NA               | NA               | NA               | NA               | NA               | NA               | NA               | ⋯                | NA               | NA               | NA               | NA               | NA               | NA               | NA               | NA               | home_team_api_id |  7947            | \n",
       "| 1                | 1                | 2                | NA               | NA               | NA               | NA               | NA               | NA               | NA               | ⋯                | NA               | NA               | NA               | NA               | NA               | NA               | NA               | NA               | home_team_api_id |  8203            | \n",
       "| 1                | 0                | 1                | NA               | NA               | NA               | NA               | NA               | NA               | NA               | ⋯                | NA               | NA               | NA               | NA               | NA               | NA               | NA               | NA               | home_team_api_id |  9996            | \n",
       "| 1                | 1                | 3                | NA               | NA               | NA               | NA               | NA               | NA               | NA               | ⋯                | NA               | NA               | NA               | NA               | NA               | NA               | NA               | NA               | home_team_api_id |  4049            | \n",
       "| 1                | 1                | 3                | NA               | NA               | NA               | NA               | NA               | NA               | NA               | ⋯                | NA               | NA               | NA               | NA               | NA               | NA               | NA               | NA               | home_team_api_id |  9993            | \n",
       "| 1                | 2                | 3                | NA               | NA               | NA               | NA               | NA               | NA               | NA               | ⋯                | NA               | NA               | NA               | NA               | NA               | NA               | NA               | NA               | home_team_api_id |  8635            | \n",
       "| 1                | 0                | 0                | NA               | NA               | NA               | NA               | NA               | NA               | NA               | ⋯                | NA               | NA               | NA               | NA               | NA               | NA               | NA               | NA               | home_team_api_id |  9998            | \n",
       "| 1                | 2                | 2                | NA               | NA               | NA               | NA               | NA               | NA               | NA               | ⋯                | NA               | NA               | NA               | NA               | NA               | NA               | NA               | NA               | home_team_api_id |  9986            | \n",
       "| 1                | 2                | 0                | NA               | NA               | NA               | NA               | NA               | NA               | NA               | ⋯                | NA               | NA               | NA               | NA               | NA               | NA               | NA               | NA               | home_team_api_id |  9984            | \n",
       "| 1                | 1                | 1                | NA               | NA               | NA               | NA               | NA               | NA               | NA               | ⋯                | NA               | NA               | NA               | NA               | NA               | NA               | NA               | NA               | home_team_api_id |  9991            | \n",
       "| 1                | 1                | 2                | NA               | NA               | NA               | NA               | NA               | NA               | NA               | ⋯                | NA               | NA               | NA               | NA               | NA               | NA               | NA               | NA               | home_team_api_id |  9999            | \n",
       "| 1                | 0                | 0                | NA               | NA               | NA               | NA               | NA               | NA               | NA               | ⋯                | NA               | NA               | NA               | NA               | NA               | NA               | NA               | NA               | home_team_api_id |  8571            | \n",
       "| 1                | 1                | 0                | NA               | NA               | NA               | NA               | NA               | NA               | NA               | ⋯                | NA               | NA               | NA               | NA               | NA               | NA               | NA               | NA               | home_team_api_id | 10001            | \n",
       "| 1                | 1                | 3                | NA               | NA               | NA               | NA               | NA               | NA               | NA               | ⋯                | NA               | NA               | NA               | NA               | NA               | NA               | NA               | NA               | home_team_api_id |  9993            | \n",
       "| 1                | 1                | 1                | NA               | NA               | NA               | NA               | NA               | NA               | NA               | ⋯                | NA               | NA               | NA               | NA               | NA               | NA               | NA               | NA               | home_team_api_id |  8342            | \n",
       "| 1                | 1                | 1                | NA               | NA               | NA               | NA               | NA               | NA               | NA               | ⋯                | NA               | NA               | NA               | NA               | NA               | NA               | NA               | NA               | home_team_api_id |  9987            | \n",
       "| 1                | 2                | 2                | NA               | NA               | NA               | NA               | NA               | NA               | NA               | ⋯                | NA               | NA               | NA               | NA               | NA               | NA               | NA               | NA               | home_team_api_id | 10000            | \n",
       "| ⋮ | ⋮ | ⋮ | ⋮ | ⋮ | ⋮ | ⋮ | ⋮ | ⋮ | ⋮ | ⋱ | ⋮ | ⋮ | ⋮ | ⋮ | ⋮ | ⋮ | ⋮ | ⋮ | ⋮ | ⋮ | \n",
       "| 24558            | 6                | 1                | 157856           |  42258           | 294256           | 177689           | 513512           | 173936           |  39979           | ⋯                | 173534           |     NA           | 393337           | 491221           |   8893           |  67369           | 491794           | 178142           | away_team_api_id |  7896            | \n",
       "| 24558            | 1                | 3                |  42276           | 114792           | 166889           | 150007           |  42294           | 570830           | 260708           | ⋯                |  22834           |  40536           |  25772           | 207234           |  40274           | 114738           |  41726           | 527103           | away_team_api_id |  9931            | \n",
       "| 24558            | 0                | 2                |  42231           |  45780           |  95220           | 638592           | 120082           | 119839           | 171229           | ⋯                | 656668           | 260964           |  67008           | 113235           |  92252           | 198082           | 540230           |  67306           | away_team_api_id | 10243            | \n",
       "| 24558            | 1                | 1                |  33272           | 214344           |  41621           |  30138           | 458806           |  42237           |  56868           | ⋯                |  32597           | 114794           |     NA           |  67349           |  95230           | 451335           | 106559           | 275122           | away_team_api_id | 10179            | \n",
       "| 24558            | 3                | 1                | 274787           |  25843           | 108451           |  25815           |  94553           | 119702           | 320184           | ⋯                | 178210           | 158253           | 186524           |  25809           | 133126           | 520466           | 184610           | 232110           | away_team_api_id | 10191            | \n",
       "| 24558            | 3                | 1                | 156175           |  95216           | 172768           |  30492           | 181211           | 339992           | 207234           | ⋯                |   8800           | 158253           | 133126           |  25809           | 121115           | 520466           | 232110           | 289732           | away_team_api_id | 10191            | \n",
       "| 24558            | 0                | 1                | 274787           | 492132           | 108451           |  25815           |  94553           | 119702           | 190525           | ⋯                | 173534           | 114212           | 491221           | 393337           |   8893           | 186948           |  93229           | 178142           | away_team_api_id |  7896            | \n",
       "| 24558            | 0                | 1                |  42276           | 114792           | 178119           | 150007           |  42294           | 185518           | 260708           | ⋯                |  95220           | 120082           | 171229           | 308309           |  67333           |  66934           | 176298           |  35831           | away_team_api_id | 10190            | \n",
       "| 24558            | 3                | 1                |  10637           |  67349           | 202663           |  32597           | 114794           |  25840           | 535957           | ⋯                | 656668           | 260964           |  92252           |  67008           | 113235           | 108525           | 254704           |  67306           | away_team_api_id | 10243            | \n",
       "| 24558            | 3                | 3                |  33272           | 358156           |  25813           |  41621           | 458806           | 214344           |  42237           | ⋯                | 177689           | 513512           | 173936           |  39979           | 147959           | 451983           |  80564           | 289472           | away_team_api_id |  9956            | \n",
       "| 24558            | 1                | 3                |     NA           | 282287           | 173534           |  41415           |     NA           | 491221           | 393337           | ⋯                |  22834           | 181211           | 339992           | 207234           |  25794           | 176206           | 402975           | 527104           | away_team_api_id |  9931            | \n",
       "| 24558            | 1                | 3                |  10637           |  67349           | 202663           |  32597           | 114794           | 188114           |  25840           | ⋯                |  25815           |  94553           | 320184           | 598355           | 190525           | 302079           |  45174           |  37554           | away_team_api_id | 10192            | \n",
       "| 24558            | 0                | 2                |  42231           |  45780           |  95220           | 638592           | 120082           | 171229           | 308309           | ⋯                | 155075           | 513512           | 173936           |  39979           | 147959           | 451983           |  80564           | 289472           | away_team_api_id |  9956            | \n",
       "| 24558            | 1                | 0                |  67311           | 239959           | 178210           |  67304           | 158253           | 133126           | 520466           | ⋯                |  41621           | 458806           | 358156           |  56868           | 214344           | 113227           | 114011           | 209371           | away_team_api_id |  9824            | \n",
       "| 24558            | 2                | 5                | 274776           | 121080           |  34268           | 113235           | 260964           |  67008           |  92252           | ⋯                | 178119           |  42294           | 185518           | 260708           | 201704           |  95257           | 104646           |  34082           | away_team_api_id | 10199            | \n",
       "| 24558            | 0                | 1                |     NA           |   8881           | 173534           |  41415           | 282287           | 491221           | 393337           | ⋯                | 178119           |  27232           | 185518           | 260708           | 201704           |  95257           | 104646           |  34082           | away_team_api_id | 10199            | \n",
       "| 24558            | 1                | 0                |  33272           | 114735           |  25813           |  41621           | 458806           |  42237           |  56868           | ⋯                | 638592           | 413155           | 143790           | 171229           |  66934           |  92094           | 195215           | 119839           | away_team_api_id | 10190            | \n",
       "| 24558            | 0                | 2                |  67311           | 239959           | 178210           |  67304           | 158253           | 186524           |  93223           | ⋯                |  32597           | 114794           | 188114           |  25840           | 482200           | 538336           |  95230           | 275122           | away_team_api_id | 10179            | \n",
       "| 24558            | 3                | 1                | 156175           |  95216           | 172768           |  22834           |  40536           | 207234           | 114738           | ⋯                | 197757           | 260964           |  92252           |  67008           | 198082           | 108525           | 194532           |  67306           | away_team_api_id | 10243            | \n",
       "| 24558            | 3                | 2                | 132814           | 274779           | 294256           | 155075           |  42258           | 173936           |  39979           | ⋯                |  25815           |  94553           | 119702           | 320184           |  25860           | 302079           |  45174           | 422412           | away_team_api_id | 10192            | \n",
       "| 24558            | 2                | 1                | 156175           |  95216           | 172768           |  22834           |  30835           | 339992           | 114738           | ⋯                |  67363           | 413155           |  45780           | 143790           |  66934           | 176298           |  92094           |  72628           | away_team_api_id | 10190            | \n",
       "| 24558            | 4                | 0                | 274787           | 492132           | 108451           |  25815           |  94553           | 384376           | 598355           | ⋯                |  41621           | 358156           | 114011           |  42237           |  56868           | 209371           | 531309           | 113227           | away_team_api_id |  9824            | \n",
       "| 24558            | 3                | 3                |  42276           |  27232           | 178119           | 150007           |  42294           |  73977           | 114792           | ⋯                | 294256           |  42258           | 173936           |  39979           | 147959           | 451983           |  80564           | 289472           | away_team_api_id |  9956            | \n",
       "| 24558            | 3                | 3                | 274776           | 451982           |  34268           | 197757           | 121080           | 462608           |  67008           | ⋯                |  67304           |  67389           | 133126           | 186524           |  93223           | 121115           |  25809           | 289732           | away_team_api_id | 10191            | \n",
       "| 24558            | 3                | 0                |  10637           |  67349           | 202663           |  32597           | 114794           | 188114           |  25840           | ⋯                |  41415           | 282287           | 491221           | 150084           |   8893           | 140490           |  93229           | 178142           | away_team_api_id |  7896            | \n",
       "| 24558            | 1                | 0                |  42231           | 678384           |  95220           | 638592           | 413155           |  45780           | 171229           | ⋯                |  67304           | 158253           | 133126           | 186524           |  93223           | 121115           | 232110           | 289732           | away_team_api_id | 10191            | \n",
       "| 24558            | 1                | 2                |  33272           |  41621           |  25813           | 257845           | 114735           |  42237           | 113227           | ⋯                | 178119           |  27232           | 570830           | 260708           | 201704           |  36382           |  34082           |  95257           | away_team_api_id | 10199            | \n",
       "| 24558            | 2                | 0                | 157856           | 274779           | 177689           | 294256           |  42258           |  39979           | 173936           | ⋯                |  32597           | 114794           | 188114           |  25840           | 482200           |  95230           | 451335           | 275122           | away_team_api_id | 10179            | \n",
       "| 24558            | 0                | 0                |     NA           |   8881           | 173534           |  39646           | 282287           | 340790           | 393337           | ⋯                | 260964           | 231614           | 113235           |  41116           | 462608           |  42262           |  92252           | 194532           | away_team_api_id | 10243            | \n",
       "| 24558            | 4                | 3                | 274787           | 492132           | 108451           |  25815           |  94553           | 384376           | 598355           | ⋯                |  22834           | 458806           | 207234           |  25772           |  40274           |  34035           |  41726           | 527103           | away_team_api_id |  9931            | \n",
       "\n",
       "\n"
      ],
      "text/plain": [
       "      league_id home_team_goal away_team_goal home_player_1 home_player_2\n",
       "1     1         1              1              NA            NA           \n",
       "2     1         0              0              NA            NA           \n",
       "3     1         0              3              NA            NA           \n",
       "4     1         5              0              NA            NA           \n",
       "5     1         1              3              NA            NA           \n",
       "6     1         1              1              NA            NA           \n",
       "7     1         2              2              NA            NA           \n",
       "8     1         1              2              NA            NA           \n",
       "9     1         1              0              NA            NA           \n",
       "10    1         4              1              NA            NA           \n",
       "11    1         1              2              NA            NA           \n",
       "12    1         0              2              NA            NA           \n",
       "13    1         0              0              NA            NA           \n",
       "14    1         2              2              NA            NA           \n",
       "15    1         1              2              NA            NA           \n",
       "16    1         0              1              NA            NA           \n",
       "17    1         1              3              NA            NA           \n",
       "18    1         1              3              NA            NA           \n",
       "19    1         2              3              NA            NA           \n",
       "20    1         0              0              NA            NA           \n",
       "21    1         2              2              NA            NA           \n",
       "22    1         2              0              NA            NA           \n",
       "23    1         1              1              NA            NA           \n",
       "24    1         1              2              NA            NA           \n",
       "25    1         0              0              NA            NA           \n",
       "26    1         1              0              NA            NA           \n",
       "27    1         1              3              NA            NA           \n",
       "28    1         1              1              NA            NA           \n",
       "29    1         1              1              NA            NA           \n",
       "30    1         2              2              NA            NA           \n",
       "⋮     ⋮         ⋮              ⋮              ⋮             ⋮            \n",
       "51929 24558     6              1              157856         42258       \n",
       "51930 24558     1              3               42276        114792       \n",
       "51931 24558     0              2               42231         45780       \n",
       "51932 24558     1              1               33272        214344       \n",
       "51933 24558     3              1              274787         25843       \n",
       "51934 24558     3              1              156175         95216       \n",
       "51935 24558     0              1              274787        492132       \n",
       "51936 24558     0              1               42276        114792       \n",
       "51937 24558     3              1               10637         67349       \n",
       "51938 24558     3              3               33272        358156       \n",
       "51939 24558     1              3                  NA        282287       \n",
       "51940 24558     1              3               10637         67349       \n",
       "51941 24558     0              2               42231         45780       \n",
       "51942 24558     1              0               67311        239959       \n",
       "51943 24558     2              5              274776        121080       \n",
       "51944 24558     0              1                  NA          8881       \n",
       "51945 24558     1              0               33272        114735       \n",
       "51946 24558     0              2               67311        239959       \n",
       "51947 24558     3              1              156175         95216       \n",
       "51948 24558     3              2              132814        274779       \n",
       "51949 24558     2              1              156175         95216       \n",
       "51950 24558     4              0              274787        492132       \n",
       "51951 24558     3              3               42276         27232       \n",
       "51952 24558     3              3              274776        451982       \n",
       "51953 24558     3              0               10637         67349       \n",
       "51954 24558     1              0               42231        678384       \n",
       "51955 24558     1              2               33272         41621       \n",
       "51956 24558     2              0              157856        274779       \n",
       "51957 24558     0              0                  NA          8881       \n",
       "51958 24558     4              3              274787        492132       \n",
       "      home_player_3 home_player_4 home_player_5 home_player_6 home_player_7 ⋯\n",
       "1     NA            NA            NA            NA            NA            ⋯\n",
       "2     NA            NA            NA            NA            NA            ⋯\n",
       "3     NA            NA            NA            NA            NA            ⋯\n",
       "4     NA            NA            NA            NA            NA            ⋯\n",
       "5     NA            NA            NA            NA            NA            ⋯\n",
       "6     NA            NA            NA            NA            NA            ⋯\n",
       "7     NA            NA            NA            NA            NA            ⋯\n",
       "8     NA            NA            NA            NA            NA            ⋯\n",
       "9     NA            NA            NA            NA            NA            ⋯\n",
       "10    NA            NA            NA            NA            NA            ⋯\n",
       "11    NA            NA            NA            NA            NA            ⋯\n",
       "12    NA            NA            NA            NA            NA            ⋯\n",
       "13    NA            NA            NA            NA            NA            ⋯\n",
       "14    NA            NA            NA            NA            NA            ⋯\n",
       "15    NA            NA            NA            NA            NA            ⋯\n",
       "16    NA            NA            NA            NA            NA            ⋯\n",
       "17    NA            NA            NA            NA            NA            ⋯\n",
       "18    NA            NA            NA            NA            NA            ⋯\n",
       "19    NA            NA            NA            NA            NA            ⋯\n",
       "20    NA            NA            NA            NA            NA            ⋯\n",
       "21    NA            NA            NA            NA            NA            ⋯\n",
       "22    NA            NA            NA            NA            NA            ⋯\n",
       "23    NA            NA            NA            NA            NA            ⋯\n",
       "24    NA            NA            NA            NA            NA            ⋯\n",
       "25    NA            NA            NA            NA            NA            ⋯\n",
       "26    NA            NA            NA            NA            NA            ⋯\n",
       "27    NA            NA            NA            NA            NA            ⋯\n",
       "28    NA            NA            NA            NA            NA            ⋯\n",
       "29    NA            NA            NA            NA            NA            ⋯\n",
       "30    NA            NA            NA            NA            NA            ⋯\n",
       "⋮     ⋮             ⋮             ⋮             ⋮             ⋮             ⋱\n",
       "51929 294256        177689        513512        173936         39979        ⋯\n",
       "51930 166889        150007         42294        570830        260708        ⋯\n",
       "51931  95220        638592        120082        119839        171229        ⋯\n",
       "51932  41621         30138        458806         42237         56868        ⋯\n",
       "51933 108451         25815         94553        119702        320184        ⋯\n",
       "51934 172768         30492        181211        339992        207234        ⋯\n",
       "51935 108451         25815         94553        119702        190525        ⋯\n",
       "51936 178119        150007         42294        185518        260708        ⋯\n",
       "51937 202663         32597        114794         25840        535957        ⋯\n",
       "51938  25813         41621        458806        214344         42237        ⋯\n",
       "51939 173534         41415            NA        491221        393337        ⋯\n",
       "51940 202663         32597        114794        188114         25840        ⋯\n",
       "51941  95220        638592        120082        171229        308309        ⋯\n",
       "51942 178210         67304        158253        133126        520466        ⋯\n",
       "51943  34268        113235        260964         67008         92252        ⋯\n",
       "51944 173534         41415        282287        491221        393337        ⋯\n",
       "51945  25813         41621        458806         42237         56868        ⋯\n",
       "51946 178210         67304        158253        186524         93223        ⋯\n",
       "51947 172768         22834         40536        207234        114738        ⋯\n",
       "51948 294256        155075         42258        173936         39979        ⋯\n",
       "51949 172768         22834         30835        339992        114738        ⋯\n",
       "51950 108451         25815         94553        384376        598355        ⋯\n",
       "51951 178119        150007         42294         73977        114792        ⋯\n",
       "51952  34268        197757        121080        462608         67008        ⋯\n",
       "51953 202663         32597        114794        188114         25840        ⋯\n",
       "51954  95220        638592        413155         45780        171229        ⋯\n",
       "51955  25813        257845        114735         42237        113227        ⋯\n",
       "51956 177689        294256         42258         39979        173936        ⋯\n",
       "51957 173534         39646        282287        340790        393337        ⋯\n",
       "51958 108451         25815         94553        384376        598355        ⋯\n",
       "      away_player_4 away_player_5 away_player_6 away_player_7 away_player_8\n",
       "1     NA            NA            NA            NA            NA           \n",
       "2     NA            NA            NA            NA            NA           \n",
       "3     NA            NA            NA            NA            NA           \n",
       "4     NA            NA            NA            NA            NA           \n",
       "5     NA            NA            NA            NA            NA           \n",
       "6     NA            NA            NA            NA            NA           \n",
       "7     NA            NA            NA            NA            NA           \n",
       "8     NA            NA            NA            NA            NA           \n",
       "9     NA            NA            NA            NA            NA           \n",
       "10    NA            NA            NA            NA            NA           \n",
       "11    NA            NA            NA            NA            NA           \n",
       "12    NA            NA            NA            NA            NA           \n",
       "13    NA            NA            NA            NA            NA           \n",
       "14    NA            NA            NA            NA            NA           \n",
       "15    NA            NA            NA            NA            NA           \n",
       "16    NA            NA            NA            NA            NA           \n",
       "17    NA            NA            NA            NA            NA           \n",
       "18    NA            NA            NA            NA            NA           \n",
       "19    NA            NA            NA            NA            NA           \n",
       "20    NA            NA            NA            NA            NA           \n",
       "21    NA            NA            NA            NA            NA           \n",
       "22    NA            NA            NA            NA            NA           \n",
       "23    NA            NA            NA            NA            NA           \n",
       "24    NA            NA            NA            NA            NA           \n",
       "25    NA            NA            NA            NA            NA           \n",
       "26    NA            NA            NA            NA            NA           \n",
       "27    NA            NA            NA            NA            NA           \n",
       "28    NA            NA            NA            NA            NA           \n",
       "29    NA            NA            NA            NA            NA           \n",
       "30    NA            NA            NA            NA            NA           \n",
       "⋮     ⋮             ⋮             ⋮             ⋮             ⋮            \n",
       "51929 173534            NA        393337        491221          8893       \n",
       "51930  22834         40536         25772        207234         40274       \n",
       "51931 656668        260964         67008        113235         92252       \n",
       "51932  32597        114794            NA         67349         95230       \n",
       "51933 178210        158253        186524         25809        133126       \n",
       "51934   8800        158253        133126         25809        121115       \n",
       "51935 173534        114212        491221        393337          8893       \n",
       "51936  95220        120082        171229        308309         67333       \n",
       "51937 656668        260964         92252         67008        113235       \n",
       "51938 177689        513512        173936         39979        147959       \n",
       "51939  22834        181211        339992        207234         25794       \n",
       "51940  25815         94553        320184        598355        190525       \n",
       "51941 155075        513512        173936         39979        147959       \n",
       "51942  41621        458806        358156         56868        214344       \n",
       "51943 178119         42294        185518        260708        201704       \n",
       "51944 178119         27232        185518        260708        201704       \n",
       "51945 638592        413155        143790        171229         66934       \n",
       "51946  32597        114794        188114         25840        482200       \n",
       "51947 197757        260964         92252         67008        198082       \n",
       "51948  25815         94553        119702        320184         25860       \n",
       "51949  67363        413155         45780        143790         66934       \n",
       "51950  41621        358156        114011         42237         56868       \n",
       "51951 294256         42258        173936         39979        147959       \n",
       "51952  67304         67389        133126        186524         93223       \n",
       "51953  41415        282287        491221        150084          8893       \n",
       "51954  67304        158253        133126        186524         93223       \n",
       "51955 178119         27232        570830        260708        201704       \n",
       "51956  32597        114794        188114         25840        482200       \n",
       "51957 260964        231614        113235         41116        462608       \n",
       "51958  22834        458806        207234         25772         40274       \n",
       "      away_player_9 away_player_10 away_player_11 team             team_api_id\n",
       "1     NA            NA             NA             home_team_api_id  9987      \n",
       "2     NA            NA             NA             home_team_api_id 10000      \n",
       "3     NA            NA             NA             home_team_api_id  9984      \n",
       "4     NA            NA             NA             home_team_api_id  9991      \n",
       "5     NA            NA             NA             home_team_api_id  7947      \n",
       "6     NA            NA             NA             home_team_api_id  8203      \n",
       "7     NA            NA             NA             home_team_api_id  9999      \n",
       "8     NA            NA             NA             home_team_api_id  4049      \n",
       "9     NA            NA             NA             home_team_api_id 10001      \n",
       "10    NA            NA             NA             home_team_api_id  8342      \n",
       "11    NA            NA             NA             home_team_api_id  9985      \n",
       "12    NA            NA             NA             home_team_api_id 10000      \n",
       "13    NA            NA             NA             home_team_api_id  9994      \n",
       "14    NA            NA             NA             home_team_api_id  7947      \n",
       "15    NA            NA             NA             home_team_api_id  8203      \n",
       "16    NA            NA             NA             home_team_api_id  9996      \n",
       "17    NA            NA             NA             home_team_api_id  4049      \n",
       "18    NA            NA             NA             home_team_api_id  9993      \n",
       "19    NA            NA             NA             home_team_api_id  8635      \n",
       "20    NA            NA             NA             home_team_api_id  9998      \n",
       "21    NA            NA             NA             home_team_api_id  9986      \n",
       "22    NA            NA             NA             home_team_api_id  9984      \n",
       "23    NA            NA             NA             home_team_api_id  9991      \n",
       "24    NA            NA             NA             home_team_api_id  9999      \n",
       "25    NA            NA             NA             home_team_api_id  8571      \n",
       "26    NA            NA             NA             home_team_api_id 10001      \n",
       "27    NA            NA             NA             home_team_api_id  9993      \n",
       "28    NA            NA             NA             home_team_api_id  8342      \n",
       "29    NA            NA             NA             home_team_api_id  9987      \n",
       "30    NA            NA             NA             home_team_api_id 10000      \n",
       "⋮     ⋮             ⋮              ⋮              ⋮                ⋮          \n",
       "51929  67369        491794         178142         away_team_api_id  7896      \n",
       "51930 114738         41726         527103         away_team_api_id  9931      \n",
       "51931 198082        540230          67306         away_team_api_id 10243      \n",
       "51932 451335        106559         275122         away_team_api_id 10179      \n",
       "51933 520466        184610         232110         away_team_api_id 10191      \n",
       "51934 520466        232110         289732         away_team_api_id 10191      \n",
       "51935 186948         93229         178142         away_team_api_id  7896      \n",
       "51936  66934        176298          35831         away_team_api_id 10190      \n",
       "51937 108525        254704          67306         away_team_api_id 10243      \n",
       "51938 451983         80564         289472         away_team_api_id  9956      \n",
       "51939 176206        402975         527104         away_team_api_id  9931      \n",
       "51940 302079         45174          37554         away_team_api_id 10192      \n",
       "51941 451983         80564         289472         away_team_api_id  9956      \n",
       "51942 113227        114011         209371         away_team_api_id  9824      \n",
       "51943  95257        104646          34082         away_team_api_id 10199      \n",
       "51944  95257        104646          34082         away_team_api_id 10199      \n",
       "51945  92094        195215         119839         away_team_api_id 10190      \n",
       "51946 538336         95230         275122         away_team_api_id 10179      \n",
       "51947 108525        194532          67306         away_team_api_id 10243      \n",
       "51948 302079         45174         422412         away_team_api_id 10192      \n",
       "51949 176298         92094          72628         away_team_api_id 10190      \n",
       "51950 209371        531309         113227         away_team_api_id  9824      \n",
       "51951 451983         80564         289472         away_team_api_id  9956      \n",
       "51952 121115         25809         289732         away_team_api_id 10191      \n",
       "51953 140490         93229         178142         away_team_api_id  7896      \n",
       "51954 121115        232110         289732         away_team_api_id 10191      \n",
       "51955  36382         34082          95257         away_team_api_id 10199      \n",
       "51956  95230        451335         275122         away_team_api_id 10179      \n",
       "51957  42262         92252         194532         away_team_api_id 10243      \n",
       "51958  34035         41726         527103         away_team_api_id  9931      "
      ]
     },
     "metadata": {},
     "output_type": "display_data"
    }
   ],
   "source": [
    "teamMatchDataDF"
   ]
  },
  {
   "cell_type": "code",
   "execution_count": 265,
   "metadata": {
    "collapsed": false
   },
   "outputs": [],
   "source": [
    "homeTeamGoalDF = gather(teamMatchDF, team, team_api_id, home_team_api_id)"
   ]
  },
  {
   "cell_type": "code",
   "execution_count": 267,
   "metadata": {
    "collapsed": true
   },
   "outputs": [],
   "source": [
    "homeTeamGoals = homeTeamGoalDF %>% \n",
    "    group_by(team_api_id) %>%\n",
    "    summarize(homeGoals = sum(home_team_goal))"
   ]
  },
  {
   "cell_type": "code",
   "execution_count": 268,
   "metadata": {
    "collapsed": false
   },
   "outputs": [
    {
     "data": {
      "text/html": [
       "<table>\n",
       "<thead><tr><th scope=col>team_api_id</th><th scope=col>homeGoals</th></tr></thead>\n",
       "<tbody>\n",
       "\t<tr><td>1601</td><td>148 </td></tr>\n",
       "\t<tr><td>1773</td><td> 74 </td></tr>\n",
       "\t<tr><td>1957</td><td>176 </td></tr>\n",
       "\t<tr><td>2033</td><td> 70 </td></tr>\n",
       "\t<tr><td>2182</td><td>215 </td></tr>\n",
       "\t<tr><td>2183</td><td> 96 </td></tr>\n",
       "\t<tr><td>2186</td><td>144 </td></tr>\n",
       "\t<tr><td>4049</td><td> 22 </td></tr>\n",
       "\t<tr><td>4064</td><td> 13 </td></tr>\n",
       "\t<tr><td>4087</td><td>105 </td></tr>\n",
       "</tbody>\n",
       "</table>\n"
      ],
      "text/latex": [
       "\\begin{tabular}{r|ll}\n",
       " team\\_api\\_id & homeGoals\\\\\n",
       "\\hline\n",
       "\t 1601 & 148 \\\\\n",
       "\t 1773 &  74 \\\\\n",
       "\t 1957 & 176 \\\\\n",
       "\t 2033 &  70 \\\\\n",
       "\t 2182 & 215 \\\\\n",
       "\t 2183 &  96 \\\\\n",
       "\t 2186 & 144 \\\\\n",
       "\t 4049 &  22 \\\\\n",
       "\t 4064 &  13 \\\\\n",
       "\t 4087 & 105 \\\\\n",
       "\\end{tabular}\n"
      ],
      "text/markdown": [
       "\n",
       "team_api_id | homeGoals | \n",
       "|---|---|---|---|---|---|---|---|---|---|\n",
       "| 1601 | 148  | \n",
       "| 1773 |  74  | \n",
       "| 1957 | 176  | \n",
       "| 2033 |  70  | \n",
       "| 2182 | 215  | \n",
       "| 2183 |  96  | \n",
       "| 2186 | 144  | \n",
       "| 4049 |  22  | \n",
       "| 4064 |  13  | \n",
       "| 4087 | 105  | \n",
       "\n",
       "\n"
      ],
      "text/plain": [
       "   team_api_id homeGoals\n",
       "1  1601        148      \n",
       "2  1773         74      \n",
       "3  1957        176      \n",
       "4  2033         70      \n",
       "5  2182        215      \n",
       "6  2183         96      \n",
       "7  2186        144      \n",
       "8  4049         22      \n",
       "9  4064         13      \n",
       "10 4087        105      "
      ]
     },
     "metadata": {},
     "output_type": "display_data"
    }
   ],
   "source": [
    "head(homeTeamGoals,n =10)"
   ]
  },
  {
   "cell_type": "code",
   "execution_count": 269,
   "metadata": {
    "collapsed": true
   },
   "outputs": [],
   "source": [
    "awayTeamGoalDF = gather(teamMatchDF, team, team_api_id, away_team_api_id)"
   ]
  },
  {
   "cell_type": "code",
   "execution_count": 270,
   "metadata": {
    "collapsed": false
   },
   "outputs": [],
   "source": [
    "awayTeamGoals = awayTeamGoalDF %>% \n",
    "    group_by(team_api_id) %>%\n",
    "    summarize(awayGoals = sum(away_team_goal))"
   ]
  },
  {
   "cell_type": "code",
   "execution_count": 271,
   "metadata": {
    "collapsed": false
   },
   "outputs": [
    {
     "data": {
      "text/html": [
       "<table>\n",
       "<thead><tr><th scope=col>team_api_id</th><th scope=col>awayGoals</th></tr></thead>\n",
       "<tbody>\n",
       "\t<tr><td>1601</td><td>132 </td></tr>\n",
       "\t<tr><td>1773</td><td> 52 </td></tr>\n",
       "\t<tr><td>1957</td><td>111 </td></tr>\n",
       "\t<tr><td>2033</td><td> 68 </td></tr>\n",
       "\t<tr><td>2182</td><td>157 </td></tr>\n",
       "\t<tr><td>2183</td><td> 88 </td></tr>\n",
       "\t<tr><td>2186</td><td> 91 </td></tr>\n",
       "\t<tr><td>4049</td><td> 13 </td></tr>\n",
       "\t<tr><td>4064</td><td> 14 </td></tr>\n",
       "\t<tr><td>4087</td><td> 75 </td></tr>\n",
       "</tbody>\n",
       "</table>\n"
      ],
      "text/latex": [
       "\\begin{tabular}{r|ll}\n",
       " team\\_api\\_id & awayGoals\\\\\n",
       "\\hline\n",
       "\t 1601 & 132 \\\\\n",
       "\t 1773 &  52 \\\\\n",
       "\t 1957 & 111 \\\\\n",
       "\t 2033 &  68 \\\\\n",
       "\t 2182 & 157 \\\\\n",
       "\t 2183 &  88 \\\\\n",
       "\t 2186 &  91 \\\\\n",
       "\t 4049 &  13 \\\\\n",
       "\t 4064 &  14 \\\\\n",
       "\t 4087 &  75 \\\\\n",
       "\\end{tabular}\n"
      ],
      "text/markdown": [
       "\n",
       "team_api_id | awayGoals | \n",
       "|---|---|---|---|---|---|---|---|---|---|\n",
       "| 1601 | 132  | \n",
       "| 1773 |  52  | \n",
       "| 1957 | 111  | \n",
       "| 2033 |  68  | \n",
       "| 2182 | 157  | \n",
       "| 2183 |  88  | \n",
       "| 2186 |  91  | \n",
       "| 4049 |  13  | \n",
       "| 4064 |  14  | \n",
       "| 4087 |  75  | \n",
       "\n",
       "\n"
      ],
      "text/plain": [
       "   team_api_id awayGoals\n",
       "1  1601        132      \n",
       "2  1773         52      \n",
       "3  1957        111      \n",
       "4  2033         68      \n",
       "5  2182        157      \n",
       "6  2183         88      \n",
       "7  2186         91      \n",
       "8  4049         13      \n",
       "9  4064         14      \n",
       "10 4087         75      "
      ]
     },
     "metadata": {},
     "output_type": "display_data"
    }
   ],
   "source": [
    "head(awayTeamGoals,n=10)"
   ]
  },
  {
   "cell_type": "code",
   "execution_count": 272,
   "metadata": {
    "collapsed": false
   },
   "outputs": [
    {
     "name": "stderr",
     "output_type": "stream",
     "text": [
      "Joining, by = \"team_api_id\"\n"
     ]
    }
   ],
   "source": [
    "teamGoalsData = full_join(awayTeamGoals,homeTeamGoals) %>%  mutate(goals = (awayGoals+homeGoals))"
   ]
  },
  {
   "cell_type": "code",
   "execution_count": 273,
   "metadata": {
    "collapsed": false
   },
   "outputs": [
    {
     "data": {
      "text/html": [
       "<table>\n",
       "<thead><tr><th scope=col>team_api_id</th><th scope=col>awayGoals</th><th scope=col>homeGoals</th><th scope=col>goals</th></tr></thead>\n",
       "<tbody>\n",
       "\t<tr><td>1601</td><td>132 </td><td>148 </td><td>280 </td></tr>\n",
       "\t<tr><td>1773</td><td> 52 </td><td> 74 </td><td>126 </td></tr>\n",
       "\t<tr><td>1957</td><td>111 </td><td>176 </td><td>287 </td></tr>\n",
       "\t<tr><td>2033</td><td> 68 </td><td> 70 </td><td>138 </td></tr>\n",
       "\t<tr><td>2182</td><td>157 </td><td>215 </td><td>372 </td></tr>\n",
       "\t<tr><td>2183</td><td> 88 </td><td> 96 </td><td>184 </td></tr>\n",
       "\t<tr><td>2186</td><td> 91 </td><td>144 </td><td>235 </td></tr>\n",
       "\t<tr><td>4049</td><td> 13 </td><td> 22 </td><td> 35 </td></tr>\n",
       "\t<tr><td>4064</td><td> 14 </td><td> 13 </td><td> 27 </td></tr>\n",
       "\t<tr><td>4087</td><td> 75 </td><td>105 </td><td>180 </td></tr>\n",
       "</tbody>\n",
       "</table>\n"
      ],
      "text/latex": [
       "\\begin{tabular}{r|llll}\n",
       " team\\_api\\_id & awayGoals & homeGoals & goals\\\\\n",
       "\\hline\n",
       "\t 1601 & 132  & 148  & 280 \\\\\n",
       "\t 1773 &  52  &  74  & 126 \\\\\n",
       "\t 1957 & 111  & 176  & 287 \\\\\n",
       "\t 2033 &  68  &  70  & 138 \\\\\n",
       "\t 2182 & 157  & 215  & 372 \\\\\n",
       "\t 2183 &  88  &  96  & 184 \\\\\n",
       "\t 2186 &  91  & 144  & 235 \\\\\n",
       "\t 4049 &  13  &  22  &  35 \\\\\n",
       "\t 4064 &  14  &  13  &  27 \\\\\n",
       "\t 4087 &  75  & 105  & 180 \\\\\n",
       "\\end{tabular}\n"
      ],
      "text/markdown": [
       "\n",
       "team_api_id | awayGoals | homeGoals | goals | \n",
       "|---|---|---|---|---|---|---|---|---|---|\n",
       "| 1601 | 132  | 148  | 280  | \n",
       "| 1773 |  52  |  74  | 126  | \n",
       "| 1957 | 111  | 176  | 287  | \n",
       "| 2033 |  68  |  70  | 138  | \n",
       "| 2182 | 157  | 215  | 372  | \n",
       "| 2183 |  88  |  96  | 184  | \n",
       "| 2186 |  91  | 144  | 235  | \n",
       "| 4049 |  13  |  22  |  35  | \n",
       "| 4064 |  14  |  13  |  27  | \n",
       "| 4087 |  75  | 105  | 180  | \n",
       "\n",
       "\n"
      ],
      "text/plain": [
       "   team_api_id awayGoals homeGoals goals\n",
       "1  1601        132       148       280  \n",
       "2  1773         52        74       126  \n",
       "3  1957        111       176       287  \n",
       "4  2033         68        70       138  \n",
       "5  2182        157       215       372  \n",
       "6  2183         88        96       184  \n",
       "7  2186         91       144       235  \n",
       "8  4049         13        22        35  \n",
       "9  4064         14        13        27  \n",
       "10 4087         75       105       180  "
      ]
     },
     "metadata": {},
     "output_type": "display_data"
    }
   ],
   "source": [
    "head(teamGoalsData,n=10)"
   ]
  },
  {
   "cell_type": "code",
   "execution_count": 274,
   "metadata": {
    "collapsed": false
   },
   "outputs": [],
   "source": [
    "teamData = left_join(tbl_df(teamData),teamGoalsData,by = \"team_api_id\")"
   ]
  },
  {
   "cell_type": "code",
   "execution_count": 275,
   "metadata": {
    "collapsed": false
   },
   "outputs": [
    {
     "data": {
      "text/html": [
       "<table>\n",
       "<thead><tr><th scope=col>team_api_id</th><th scope=col>team_long_name</th><th scope=col>chance_creation</th><th scope=col>build_up_play</th><th scope=col>defense</th><th scope=col>awayGoals</th><th scope=col>homeGoals</th><th scope=col>goals</th></tr></thead>\n",
       "<tbody>\n",
       "\t<tr><td> 9987            </td><td>KRC Genk         </td><td>182              </td><td>148              </td><td>205              </td><td>143              </td><td>205              </td><td>348              </td></tr>\n",
       "\t<tr><td> 9993            </td><td>Beerschot AC     </td><td>185              </td><td> NA              </td><td>210              </td><td> 62              </td><td>112              </td><td>174              </td></tr>\n",
       "\t<tr><td>10000            </td><td>SV Zulte-Waregem </td><td>153              </td><td>147              </td><td>200              </td><td>130              </td><td>176              </td><td>306              </td></tr>\n",
       "\t<tr><td> 9994            </td><td>Sporting Lokeren </td><td>154              </td><td>159              </td><td>200              </td><td>130              </td><td>149              </td><td>279              </td></tr>\n",
       "\t<tr><td> 9984            </td><td>KSV Cercle Brugge</td><td>200              </td><td>145              </td><td>195              </td><td> 94              </td><td>119              </td><td>213              </td></tr>\n",
       "\t<tr><td> 8635            </td><td>RSC Anderlecht   </td><td>182              </td><td>149              </td><td>190              </td><td>180              </td><td>247              </td><td>427              </td></tr>\n",
       "\t<tr><td> 9991            </td><td>KAA Gent         </td><td>184              </td><td>142              </td><td>166              </td><td>177              </td><td>213              </td><td>390              </td></tr>\n",
       "\t<tr><td> 9998            </td><td>RAEC Mons        </td><td>168              </td><td>160              </td><td>138              </td><td> 53              </td><td> 76              </td><td>129              </td></tr>\n",
       "\t<tr><td> 7947            </td><td>FCV Dender EH    </td><td> NA              </td><td> NA              </td><td> NA              </td><td> 23              </td><td> 21              </td><td> 44              </td></tr>\n",
       "\t<tr><td> 9985            </td><td>Standard de Liège</td><td>182              </td><td>161              </td><td>205              </td><td>142              </td><td>199              </td><td>341              </td></tr>\n",
       "</tbody>\n",
       "</table>\n"
      ],
      "text/latex": [
       "\\begin{tabular}{r|llllllll}\n",
       " team\\_api\\_id & team\\_long\\_name & chance\\_creation & build\\_up\\_play & defense & awayGoals & homeGoals & goals\\\\\n",
       "\\hline\n",
       "\t  9987             & KRC Genk          & 182               & 148               & 205               & 143               & 205               & 348              \\\\\n",
       "\t  9993             & Beerschot AC      & 185               &  NA               & 210               &  62               & 112               & 174              \\\\\n",
       "\t 10000             & SV Zulte-Waregem  & 153               & 147               & 200               & 130               & 176               & 306              \\\\\n",
       "\t  9994             & Sporting Lokeren  & 154               & 159               & 200               & 130               & 149               & 279              \\\\\n",
       "\t  9984             & KSV Cercle Brugge & 200               & 145               & 195               &  94               & 119               & 213              \\\\\n",
       "\t  8635             & RSC Anderlecht    & 182               & 149               & 190               & 180               & 247               & 427              \\\\\n",
       "\t  9991             & KAA Gent          & 184               & 142               & 166               & 177               & 213               & 390              \\\\\n",
       "\t  9998             & RAEC Mons         & 168               & 160               & 138               &  53               &  76               & 129              \\\\\n",
       "\t  7947             & FCV Dender EH     &  NA               &  NA               &  NA               &  23               &  21               &  44              \\\\\n",
       "\t  9985             & Standard de Liège & 182               & 161               & 205               & 142               & 199               & 341              \\\\\n",
       "\\end{tabular}\n"
      ],
      "text/markdown": [
       "\n",
       "team_api_id | team_long_name | chance_creation | build_up_play | defense | awayGoals | homeGoals | goals | \n",
       "|---|---|---|---|---|---|---|---|---|---|\n",
       "|  9987             | KRC Genk          | 182               | 148               | 205               | 143               | 205               | 348               | \n",
       "|  9993             | Beerschot AC      | 185               |  NA               | 210               |  62               | 112               | 174               | \n",
       "| 10000             | SV Zulte-Waregem  | 153               | 147               | 200               | 130               | 176               | 306               | \n",
       "|  9994             | Sporting Lokeren  | 154               | 159               | 200               | 130               | 149               | 279               | \n",
       "|  9984             | KSV Cercle Brugge | 200               | 145               | 195               |  94               | 119               | 213               | \n",
       "|  8635             | RSC Anderlecht    | 182               | 149               | 190               | 180               | 247               | 427               | \n",
       "|  9991             | KAA Gent          | 184               | 142               | 166               | 177               | 213               | 390               | \n",
       "|  9998             | RAEC Mons         | 168               | 160               | 138               |  53               |  76               | 129               | \n",
       "|  7947             | FCV Dender EH     |  NA               |  NA               |  NA               |  23               |  21               |  44               | \n",
       "|  9985             | Standard de Liège | 182               | 161               | 205               | 142               | 199               | 341               | \n",
       "\n",
       "\n"
      ],
      "text/plain": [
       "   team_api_id team_long_name    chance_creation build_up_play defense\n",
       "1   9987       KRC Genk          182             148           205    \n",
       "2   9993       Beerschot AC      185              NA           210    \n",
       "3  10000       SV Zulte-Waregem  153             147           200    \n",
       "4   9994       Sporting Lokeren  154             159           200    \n",
       "5   9984       KSV Cercle Brugge 200             145           195    \n",
       "6   8635       RSC Anderlecht    182             149           190    \n",
       "7   9991       KAA Gent          184             142           166    \n",
       "8   9998       RAEC Mons         168             160           138    \n",
       "9   7947       FCV Dender EH      NA              NA            NA    \n",
       "10  9985       Standard de Liège 182             161           205    \n",
       "   awayGoals homeGoals goals\n",
       "1  143       205       348  \n",
       "2   62       112       174  \n",
       "3  130       176       306  \n",
       "4  130       149       279  \n",
       "5   94       119       213  \n",
       "6  180       247       427  \n",
       "7  177       213       390  \n",
       "8   53        76       129  \n",
       "9   23        21        44  \n",
       "10 142       199       341  "
      ]
     },
     "metadata": {},
     "output_type": "display_data"
    }
   ],
   "source": [
    "head(teamData,n=10)"
   ]
  },
  {
   "cell_type": "code",
   "execution_count": 276,
   "metadata": {
    "collapsed": false
   },
   "outputs": [
    {
     "name": "stderr",
     "output_type": "stream",
     "text": [
      "Selecting by goals\n"
     ]
    }
   ],
   "source": [
    "topGoalScoringTeams = teamData %>% select(team_long_name,goals) %>% top_n(10) %>% arrange(desc(goals))"
   ]
  },
  {
   "cell_type": "code",
   "execution_count": 277,
   "metadata": {
    "collapsed": false
   },
   "outputs": [
    {
     "data": {
      "text/html": [
       "<table>\n",
       "<thead><tr><th scope=col>team_long_name</th><th scope=col>goals</th></tr></thead>\n",
       "<tbody>\n",
       "\t<tr><td>FC Barcelona     </td><td>849              </td></tr>\n",
       "\t<tr><td>Real Madrid CF   </td><td>843              </td></tr>\n",
       "\t<tr><td>Celtic           </td><td>695              </td></tr>\n",
       "\t<tr><td>FC Bayern Munich </td><td>653              </td></tr>\n",
       "\t<tr><td>PSV              </td><td>652              </td></tr>\n",
       "\t<tr><td>Ajax             </td><td>647              </td></tr>\n",
       "\t<tr><td>FC Basel         </td><td>619              </td></tr>\n",
       "\t<tr><td>Manchester City  </td><td>606              </td></tr>\n",
       "\t<tr><td>Chelsea          </td><td>583              </td></tr>\n",
       "\t<tr><td>Manchester United</td><td>582              </td></tr>\n",
       "</tbody>\n",
       "</table>\n"
      ],
      "text/latex": [
       "\\begin{tabular}{r|ll}\n",
       " team\\_long\\_name & goals\\\\\n",
       "\\hline\n",
       "\t FC Barcelona      & 849              \\\\\n",
       "\t Real Madrid CF    & 843              \\\\\n",
       "\t Celtic            & 695              \\\\\n",
       "\t FC Bayern Munich  & 653              \\\\\n",
       "\t PSV               & 652              \\\\\n",
       "\t Ajax              & 647              \\\\\n",
       "\t FC Basel          & 619              \\\\\n",
       "\t Manchester City   & 606              \\\\\n",
       "\t Chelsea           & 583              \\\\\n",
       "\t Manchester United & 582              \\\\\n",
       "\\end{tabular}\n"
      ],
      "text/markdown": [
       "\n",
       "team_long_name | goals | \n",
       "|---|---|---|---|---|---|---|---|---|---|\n",
       "| FC Barcelona      | 849               | \n",
       "| Real Madrid CF    | 843               | \n",
       "| Celtic            | 695               | \n",
       "| FC Bayern Munich  | 653               | \n",
       "| PSV               | 652               | \n",
       "| Ajax              | 647               | \n",
       "| FC Basel          | 619               | \n",
       "| Manchester City   | 606               | \n",
       "| Chelsea           | 583               | \n",
       "| Manchester United | 582               | \n",
       "\n",
       "\n"
      ],
      "text/plain": [
       "   team_long_name    goals\n",
       "1  FC Barcelona      849  \n",
       "2  Real Madrid CF    843  \n",
       "3  Celtic            695  \n",
       "4  FC Bayern Munich  653  \n",
       "5  PSV               652  \n",
       "6  Ajax              647  \n",
       "7  FC Basel          619  \n",
       "8  Manchester City   606  \n",
       "9  Chelsea           583  \n",
       "10 Manchester United 582  "
      ]
     },
     "metadata": {},
     "output_type": "display_data"
    }
   ],
   "source": [
    "head(topGoalScoringTeams,n=10)"
   ]
  },
  {
   "cell_type": "code",
   "execution_count": null,
   "metadata": {
    "collapsed": true
   },
   "outputs": [],
   "source": []
  }
 ],
 "metadata": {
  "kernelspec": {
   "display_name": "R",
   "language": "R",
   "name": "ir"
  },
  "language_info": {
   "codemirror_mode": "r",
   "file_extension": ".r",
   "mimetype": "text/x-r-source",
   "name": "R",
   "pygments_lexer": "r",
   "version": "3.3.2"
  }
 },
 "nbformat": 4,
 "nbformat_minor": 2
}
