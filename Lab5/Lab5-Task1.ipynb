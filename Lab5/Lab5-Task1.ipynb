{
 "cells": [
  {
   "cell_type": "markdown",
   "metadata": {},
   "source": [
    "# LAB 5 : TASK 1 - GENERATING THE 2-GRAM & 3-GRAM"
   ]
  },
  {
   "cell_type": "markdown",
   "metadata": {},
   "source": [
    "Load the libraries"
   ]
  },
  {
   "cell_type": "code",
   "execution_count": 1,
   "metadata": {
    "collapsed": false
   },
   "outputs": [],
   "source": [
    "import pyspark\n",
    "import string\n",
    "import re\n",
    "import time\n",
    "import os\n",
    "from pylab import *\n",
    "from itertools import *\n",
    "from pyspark.sql import SQLContext, Row"
   ]
  },
  {
   "cell_type": "markdown",
   "metadata": {},
   "source": [
    "Create a regex for removing the punctuations from the text file"
   ]
  },
  {
   "cell_type": "code",
   "execution_count": 2,
   "metadata": {
    "collapsed": true
   },
   "outputs": [],
   "source": [
    "regex = re.compile('[%s]' % re.escape(string.punctuation))"
   ]
  },
  {
   "cell_type": "markdown",
   "metadata": {},
   "source": [
    "Generate a pyspark Context"
   ]
  },
  {
   "cell_type": "code",
   "execution_count": 3,
   "metadata": {
    "collapsed": false
   },
   "outputs": [],
   "source": [
    "sc = pyspark.SparkContext()"
   ]
  },
  {
   "cell_type": "markdown",
   "metadata": {},
   "source": [
    "Generate a SQL Context for our files"
   ]
  },
  {
   "cell_type": "code",
   "execution_count": 4,
   "metadata": {
    "collapsed": true
   },
   "outputs": [],
   "source": [
    "sqlContext = SQLContext(sc)"
   ]
  },
  {
   "cell_type": "markdown",
   "metadata": {},
   "source": [
    "A function to read the string and generate the lemma dictionary"
   ]
  },
  {
   "cell_type": "code",
   "execution_count": 5,
   "metadata": {
    "collapsed": false
   },
   "outputs": [],
   "source": [
    "def buildLemmaDict(x):\n",
    "    lemmas = x.split(\",\")\n",
    "    \n",
    "    lemmaWords = []\n",
    "    \n",
    "    for lemma in lemmas:\n",
    "        if lemma!=\"\":\n",
    "            lemmaWords.append(lemma)\n",
    "    \n",
    "    lemmaDic = [(lemmas[0],list(set(lemmaWords)))]\n",
    "\n",
    "    return(lemmaDic)"
   ]
  },
  {
   "cell_type": "markdown",
   "metadata": {},
   "source": [
    "Read the lemmatizer CSV file to build the lemma dictionary"
   ]
  },
  {
   "cell_type": "code",
   "execution_count": 6,
   "metadata": {
    "collapsed": true
   },
   "outputs": [],
   "source": [
    "lemma_rdd = sc.textFile(\"./new_lemmatizer.csv\")"
   ]
  },
  {
   "cell_type": "markdown",
   "metadata": {},
   "source": [
    "Create a rdd from the above file to apply a common function \"buildLemmaDict\""
   ]
  },
  {
   "cell_type": "code",
   "execution_count": 7,
   "metadata": {
    "collapsed": false
   },
   "outputs": [],
   "source": [
    "lemmaDictionary_rdd = (lemma_rdd.flatMap(lambda x : buildLemmaDict(x)))"
   ]
  },
  {
   "cell_type": "markdown",
   "metadata": {},
   "source": [
    "Collect the rdd as a map to get the dictionary"
   ]
  },
  {
   "cell_type": "code",
   "execution_count": 8,
   "metadata": {
    "collapsed": true
   },
   "outputs": [],
   "source": [
    "lemmaDictionary = lemmaDictionary_rdd.collectAsMap()"
   ]
  },
  {
   "cell_type": "markdown",
   "metadata": {},
   "source": [
    "A function to provide the lemmas by lookup from the lemma dictionary"
   ]
  },
  {
   "cell_type": "code",
   "execution_count": 9,
   "metadata": {
    "collapsed": true
   },
   "outputs": [],
   "source": [
    "def getLemmasList(word):\n",
    "    \n",
    "    cooccuranceList = []\n",
    "    \n",
    "    wordLemmaList = []\n",
    "    \n",
    "    if word in lemmaDictionary:\n",
    "        wordLemmaList = wordLemmaList + lemmaDictionary.get(word)\n",
    "    else : \n",
    "        wordLemmaList = [word]\n",
    "        \n",
    "    return wordLemmaList\n",
    "        "
   ]
  },
  {
   "cell_type": "markdown",
   "metadata": {},
   "source": [
    "Provide the location of the input file"
   ]
  },
  {
   "cell_type": "code",
   "execution_count": 10,
   "metadata": {
    "collapsed": false
   },
   "outputs": [
    {
     "name": "stdout",
     "output_type": "stream",
     "text": [
      "['1', '2']\n",
      "['./input/1', './input/2']\n"
     ]
    }
   ],
   "source": [
    "path = \"./input/\"\n",
    "subDirList = next(os.walk(path))[1]\n",
    "print(subDirList)\n",
    "subDirList = [int(x) for x in subDirList]\n",
    "subDirList.sort()\n",
    "subDirList = [path+str(x) for x in subDirList]\n",
    "print(subDirList)"
   ]
  },
  {
   "cell_type": "markdown",
   "metadata": {},
   "source": [
    "# 2-Gram Generator"
   ]
  },
  {
   "cell_type": "markdown",
   "metadata": {},
   "source": [
    "A for loop to generate the time duration and set up the path for output\n",
    "\n",
    "We can specify a folder structure having different number of files.\n",
    "And similarly we can define the output folder based on the input folder\n",
    "\n",
    "Also showing the data in a tabular format.\n",
    "\n",
    "**Following is just a test result we did using small amount of data.**\n",
    "\n",
    "**Running the same code with better RAM provides much better performance.**"
   ]
  },
  {
   "cell_type": "code",
   "execution_count": 12,
   "metadata": {
    "collapsed": false
   },
   "outputs": [
    {
     "name": "stdout",
     "output_type": "stream",
     "text": [
      "Input Directory Path :./input/1\n",
      "Ouput Directory Path :./output2/1\n",
      "Time taken for 1 files 18.2540178299\n",
      "+---------------+--------------------+\n",
      "|  n-gram (n =2)|            Location|\n",
      "+---------------+--------------------+\n",
      "|{abundat,intus}|prud. epil. 4 |4.5| |\n",
      "| {abundo,intus}|prud. epil. 4 |4.5| |\n",
      "| {ad,congruens}|prud. epil. 22 |3...|\n",
      "|   {ad,congruo}|prud. epil. 22 |3...|\n",
      "|    {ad,erilem}|prud. epil. 22 |3...|\n",
      "|    {ad,erilis}|prud. epil. 22 |3...|\n",
      "|   {ad,leuamen}|prud. epil. 10 |2...|\n",
      "|    {ad,pauper}|prud. epil. 10 |2...|\n",
      "|  {ad,pauperum}|prud. epil. 10 |2...|\n",
      "|    {ad,possum}|prud. epil. 10 |2...|\n",
      "|    {ad,potens}|prud. epil. 10 |2...|\n",
      "|  {ad,potentes}|prud. epil. 10 |2...|\n",
      "|      {ad,usum}|prud. epil. 22 |3...|\n",
      "|      {ad,usus}|prud. epil. 22 |3...|\n",
      "|      {ad,utor}|prud. epil. 22 |3...|\n",
      "|    {aer,defio}|prud. epil. 16 |2...|\n",
      "|    {aer,defit}|prud. epil. 16 |2...|\n",
      "|  {aer,expolio}|prud. epil. 16 |2...|\n",
      "| {aer,expolita}|prud. epil. 16 |2...|\n",
      "|   {aer,peluis}|prud. epil. 16 |2...|\n",
      "+---------------+--------------------+\n",
      "only showing top 20 rows\n",
      "\n",
      "Input Directory Path :./input/2\n",
      "Ouput Directory Path :./output2/2\n",
      "Time taken for 2 files 20.6326830387\n",
      "+--------------+--------------------+\n",
      "| n-gram (n =2)|            Location|\n",
      "+--------------+--------------------+\n",
      "| {a,contraria}|prud. ham. 2.567 ...|\n",
      "|{a,contrarium}|prud. ham. 2.567 ...|\n",
      "|{a,contrarius}|prud. ham. 2.567 ...|\n",
      "|  {a,paternis}|prud. ham. 2.567 ...|\n",
      "|  {a,paternus}|prud. ham. 2.567 ...|\n",
      "|    {a,pietas}|prud. ham. 2.567 ...|\n",
      "|     {a,signa}|prud. ham. 2.567 ...|\n",
      "|    {a,signis}|prud. ham. 2.567 ...|\n",
      "|     {a,signo}|prud. ham. 2.567 ...|\n",
      "|    {a,signum}|prud. ham. 2.567 ...|\n",
      "|   {a,spiritu}|prud. ham. 1.37 |...|\n",
      "|  {a,spiritus}|prud. ham. 1.37 |...|\n",
      "|      {ab,alo}|prud. ham. 2.646 ...|\n",
      "|     {ab,alto}|prud. ham. 2.646 ...|\n",
      "|    {ab,altum}|prud. ham. 2.646 ...|\n",
      "|    {ab,altus}|prud. ham. 2.646 ...|\n",
      "|     {ab,arce}|prud. ham. 2.18 |...|\n",
      "|    {ab,arceo}|prud. ham. 2.18 |...|\n",
      "|      {ab,arx}|prud. ham. 2.18 |...|\n",
      "|     {ab,aure}|prud. ham. 2.655 ...|\n",
      "+--------------+--------------------+\n",
      "only showing top 20 rows\n",
      "\n"
     ]
    }
   ],
   "source": [
    "for dirPath in subDirList:\n",
    "    outputPath = dirPath.replace(\"input\",\"output2\")\n",
    "\n",
    "    start_time = time.time()\n",
    "    \n",
    "    data_rdd = sc.textFile(dirPath)\n",
    "\n",
    "    test = data_rdd.filter(lambda y : y.strip()!=\"\")\\\n",
    "        .map(lambda x : x.replace('\\t','').lower().split(\">\"))\\\n",
    "        .map(lambda (x,y): (x,regex.sub('',y).strip().replace(\"j\",\"i\").replace(\"v\",\"u\").split(\" \")))\\\n",
    "        .flatMap(lambda (x,y): [(pair,x[1:]+\" |\"+str(1+y.index(pair[0]))+\".\"+str(1+y.index(pair[1]))+\"| \") for pair in combinations(y,2)])\\\n",
    "        .filter(lambda (x,y): x[0]!=\"\" and x[1]!=\"\")\\\n",
    "        .flatMap(lambda (x,y): [(lemma,y) for lemma in product(getLemmasList(x[0]),getLemmasList(x[1]))])\\\n",
    "        .reduceByKey(lambda x,y : x + \", \"+y).sortByKey(True)\n",
    "        \n",
    "    \n",
    "    print(\"Input Directory Path :\" + dirPath)\n",
    "    print(\"Ouput Directory Path :\" + outputPath)\n",
    "    print(\"Time taken for \"+ dirPath[-1:] +\" files %s\" % (time.time() - start_time))\n",
    "    \n",
    "    test = test.map(lambda (x,y):(\"{\"+x[0]+\",\"+x[1]+\"}\",y))\n",
    "    \n",
    "    test.take(5)\n",
    "    \n",
    "    df = sqlContext.createDataFrame(test, ['n-gram (n =2)', 'Location'])\n",
    "    \n",
    "    df.show()\n",
    "    \n",
    "    df.coalesce(1).write.option(\"header\", \"true\").csv(outputPath+\"/result.csv\")\n"
   ]
  },
  {
   "cell_type": "markdown",
   "metadata": {},
   "source": [
    "# 3-Gram Generator"
   ]
  },
  {
   "cell_type": "markdown",
   "metadata": {},
   "source": [
    "A for loop to generate the time duration and set up the path for output\n",
    "\n",
    "We can specify a folder structure having different number of files.\n",
    "And similarly we can define the output folder based on the input folder\n",
    "\n",
    "Also showing the data in a tabular format.\n",
    "\n",
    "**Following is just a test result we did using small amount of data.**\n",
    "\n",
    "**Running the same code with better RAM provides much better performance.**"
   ]
  },
  {
   "cell_type": "code",
   "execution_count": 13,
   "metadata": {
    "collapsed": false
   },
   "outputs": [
    {
     "name": "stdout",
     "output_type": "stream",
     "text": [
      "Input Directory Path :./input/1\n",
      "Ouput Directory Path :./output3/1\n",
      "Time taken for 1 files 15.4565629959\n",
      "+--------------------+--------------------+\n",
      "|       n-gram (n =3)|            Location|\n",
      "+--------------------+--------------------+\n",
      "|{ad,congruens,eri...|prud. epil. 22 |3...|\n",
      "|{ad,congruens,eri...|prud. epil. 22 |3...|\n",
      "| {ad,congruo,erilem}|prud. epil. 22 |3...|\n",
      "| {ad,congruo,erilis}|prud. epil. 22 |3...|\n",
      "| {ad,leuamen,pauper}|prud. epil. 10 |2...|\n",
      "|{ad,leuamen,paupe...|prud. epil. 10 |2...|\n",
      "| {ad,leuamen,possum}|prud. epil. 10 |2...|\n",
      "| {ad,leuamen,potens}|prud. epil. 10 |2...|\n",
      "|{ad,leuamen,poten...|prud. epil. 10 |2...|\n",
      "|  {ad,pauper,possum}|prud. epil. 10 |2...|\n",
      "|  {ad,pauper,potens}|prud. epil. 10 |2...|\n",
      "|{ad,pauper,potentes}|prud. epil. 10 |2...|\n",
      "|{ad,pauperum,possum}|prud. epil. 10 |2...|\n",
      "|{ad,pauperum,potens}|prud. epil. 10 |2...|\n",
      "|{ad,pauperum,pote...|prud. epil. 10 |2...|\n",
      "| {ad,usum,congruens}|prud. epil. 22 |3...|\n",
      "|   {ad,usum,congruo}|prud. epil. 22 |3...|\n",
      "|    {ad,usum,erilem}|prud. epil. 22 |3...|\n",
      "|    {ad,usum,erilis}|prud. epil. 22 |3...|\n",
      "| {ad,usus,congruens}|prud. epil. 22 |3...|\n",
      "+--------------------+--------------------+\n",
      "only showing top 20 rows\n",
      "\n",
      "Input Directory Path :./input/2\n",
      "Ouput Directory Path :./output3/2\n",
      "Time taken for 2 files 24.5402469635\n",
      "+--------------------+--------------------+\n",
      "|       n-gram (n =3)|            Location|\n",
      "+--------------------+--------------------+\n",
      "|{a,contraria,pate...|prud. ham. 2.567 ...|\n",
      "|{a,contraria,pate...|prud. ham. 2.567 ...|\n",
      "| {a,contraria,signa}|prud. ham. 2.567 ...|\n",
      "| {a,contraria,signo}|prud. ham. 2.567 ...|\n",
      "|{a,contraria,signum}|prud. ham. 2.567 ...|\n",
      "|{a,contrarium,pat...|prud. ham. 2.567 ...|\n",
      "|{a,contrarium,pat...|prud. ham. 2.567 ...|\n",
      "|{a,contrarium,signa}|prud. ham. 2.567 ...|\n",
      "|{a,contrarium,signo}|prud. ham. 2.567 ...|\n",
      "|{a,contrarium,sig...|prud. ham. 2.567 ...|\n",
      "|{a,contrarius,pat...|prud. ham. 2.567 ...|\n",
      "|{a,contrarius,pat...|prud. ham. 2.567 ...|\n",
      "|{a,contrarius,signa}|prud. ham. 2.567 ...|\n",
      "|{a,contrarius,signo}|prud. ham. 2.567 ...|\n",
      "|{a,contrarius,sig...|prud. ham. 2.567 ...|\n",
      "|{a,pietas,contraria}|prud. ham. 2.567 ...|\n",
      "|{a,pietas,contrar...|prud. ham. 2.567 ...|\n",
      "|{a,pietas,contrar...|prud. ham. 2.567 ...|\n",
      "| {a,pietas,paternis}|prud. ham. 2.567 ...|\n",
      "| {a,pietas,paternus}|prud. ham. 2.567 ...|\n",
      "+--------------------+--------------------+\n",
      "only showing top 20 rows\n",
      "\n"
     ]
    }
   ],
   "source": [
    "for dirPath in subDirList:\n",
    "    outputPath = dirPath.replace(\"input\",\"output3\")\n",
    "\n",
    "    start_time = time.time()\n",
    "    \n",
    "    data_rdd = sc.textFile(dirPath)\n",
    "\n",
    "    test = data_rdd.filter(lambda y : y.strip()!=\"\")\\\n",
    "        .map(lambda x : x.replace('\\t','').lower().split(\">\"))\\\n",
    "        .map(lambda (x,y): (x,regex.sub('',y).strip().replace(\"j\",\"i\").replace(\"v\",\"u\").split(\" \")))\\\n",
    "        .flatMap(lambda (x,y): [(pair,x[1:]+\" |\"+str(1+y.index(pair[0]))+\".\"+str(1+y.index(pair[1]))+\".\"+str(1+y.index(pair[2]))+\"| \") for pair in combinations(y,3)])\\\n",
    "        .filter(lambda (x,y): x[0]!=\"\" and x[1]!=\"\" and x[2]!=\"\")\\\n",
    "        .flatMap(lambda (x,y): [(lemma,y) for lemma in product(getLemmasList(x[0]),getLemmasList(x[1]),getLemmasList(x[2]))])\\\n",
    "        .reduceByKey(lambda x,y : x + \", \"+y).sortByKey(True)\n",
    "        \n",
    "    print(\"Input Directory Path :\" + dirPath)\n",
    "    print(\"Ouput Directory Path :\" + outputPath)\n",
    "    print(\"Time taken for \"+ dirPath[-1:] +\" files %s\" % (time.time() - start_time))\n",
    "    \n",
    "    test = test.map(lambda (x,y):(\"{\"+x[0]+\",\"+x[1]+\",\"+x[2]+\"}\",y))\n",
    "    \n",
    "    test.take(5)\n",
    "    \n",
    "    df = sqlContext.createDataFrame(test, ['n-gram (n =3)', 'Location'])\n",
    "    \n",
    "    df.show()\n",
    "    \n",
    "    df.coalesce(1).write.option(\"header\", \"true\").csv(outputPath+\"/result.csv\")\n"
   ]
  },
  {
   "cell_type": "markdown",
   "metadata": {},
   "source": [
    "# Scale up Graph results for 2-Gram and 3-Gram"
   ]
  },
  {
   "cell_type": "markdown",
   "metadata": {},
   "source": [
    "**The values used are the actual data we collected from various number of files **"
   ]
  },
  {
   "cell_type": "code",
   "execution_count": 14,
   "metadata": {
    "collapsed": false
   },
   "outputs": [
    {
     "data": {
      "image/png": "[encoded data removed]",
      "text/plain": [
       "<matplotlib.figure.Figure at 0xaeac72ac>"
      ]
     },
     "metadata": {},
     "output_type": "display_data"
    }
   ],
   "source": [
    "num_of_files = [1,2,5,10,20,40,80,90]\n",
    "linear_line = [1,2,5,10,20,40,80,90]\n",
    "execution_time_2_Gram = [14.7669999599,16.5650000572,19.5239999294,29.0959999561,47.1339998245,85.7990000248,167.852999926,174.265000105]\n",
    "execution_time_3_Gram = [15.2109999657,17.493999958,23.0810000896,32.367000103,54.4680001736,101.955999851,184.548999786,189.816999912]\n",
    "\n",
    "plot(num_of_files, execution_time_2_Gram, 'o-',num_of_files, execution_time_3_Gram, 'o-',num_of_files, linear_line, 'o-')\n",
    "\n",
    "xlabel('Number of files')\n",
    "ylabel('Execution time (secs)')\n",
    "title('Performace Analysis of 2-Gram and 3-Gram Generator with different number of files')\n",
    "legend(('2Gram','3Gram','Linear Line(y=x)'), loc='upper left')\n",
    "grid(True)\n",
    "savefig(\"performance.png\")\n",
    "show()"
   ]
  },
  {
   "cell_type": "markdown",
   "metadata": {
    "collapsed": true
   },
   "source": [
    "# Conclusion"
   ]
  },
  {
   "cell_type": "markdown",
   "metadata": {},
   "source": [
    "We tested the above code with multiple files and found out that the time duration take for 2-Gram and 3-Gram both increases in a linear fashion for some\n",
    "time. But after a certain number of files the code just stops which indicates an exponetial rise in the execution time for both the codes.\n",
    "Hence we can say that there is a linear rise in execution time which booms exponetially later on.\n",
    "\n",
    "The supporting plot generated above. The graph says the same story as mentioned in J. Lin & C. Dyer. Data intensive text \n",
    "processing with MapReduce book."
   ]
  },
  {
   "cell_type": "markdown",
   "metadata": {
    "collapsed": true
   },
   "source": [
    "# References : "
   ]
  },
  {
   "cell_type": "markdown",
   "metadata": {},
   "source": [
    "1. http://spark.apache.org/docs/latest/programming-guide.html\n",
    "2. http://stackoverflow.com/questions/31898964/how-to-write-the-resulting-rdd-to-a-csv-file-in-spark-python "
   ]
  },
  {
   "cell_type": "code",
   "execution_count": null,
   "metadata": {
    "collapsed": true
   },
   "outputs": [],
   "source": []
  }
 ],
 "metadata": {
  "kernelspec": {
   "display_name": "Python 2",
   "language": "python",
   "name": "python2"
  },
  "language_info": {
   "codemirror_mode": {
    "name": "ipython",
    "version": 2
   },
   "file_extension": ".py",
   "mimetype": "text/x-python",
   "name": "python",
   "nbconvert_exporter": "python",
   "pygments_lexer": "ipython2",
   "version": "2.7.13"
  }
 },
 "nbformat": 4,
 "nbformat_minor": 2
}
