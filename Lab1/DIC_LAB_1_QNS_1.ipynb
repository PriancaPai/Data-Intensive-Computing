{
 "cells": [
  {
   "cell_type": "markdown",
   "metadata": {},
   "source": [
    "# DIC LAB 1 Problem 1 : Learning Jupyter, R and twitteR"
   ]
  },
  {
   "cell_type": "markdown",
   "metadata": {},
   "source": [
    "Define the search string for a user below in searchUserString"
   ]
  },
  {
   "cell_type": "code",
   "execution_count": 1,
   "metadata": {
    "collapsed": true
   },
   "outputs": [],
   "source": [
    "searchUserString = \"@realDonaldTrump\""
   ]
  },
  {
   "cell_type": "markdown",
   "metadata": {},
   "source": [
    "Define the search string for topic below in searchTopicString"
   ]
  },
  {
   "cell_type": "code",
   "execution_count": 2,
   "metadata": {
    "collapsed": true
   },
   "outputs": [],
   "source": [
    "searchTopicString = \"#MachineLearning\""
   ]
  },
  {
   "cell_type": "markdown",
   "metadata": {},
   "source": [
    "Define the limit of number of tweets to be searched"
   ]
  },
  {
   "cell_type": "code",
   "execution_count": 3,
   "metadata": {
    "collapsed": true
   },
   "outputs": [],
   "source": [
    "LIMIT = 200"
   ]
  },
  {
   "cell_type": "markdown",
   "metadata": {},
   "source": [
    "Define all the libraries which needs to be set for operations here"
   ]
  },
  {
   "cell_type": "code",
   "execution_count": 4,
   "metadata": {
    "collapsed": false
   },
   "outputs": [
    {
     "data": {
      "text/html": [
       "'LC_CTYPE=C;LC_NUMERIC=C;LC_TIME=C;LC_COLLATE=C;LC_MONETARY=C;LC_MESSAGES=en_US.UTF-8;LC_PAPER=en_US.UTF-8;LC_NAME=C;LC_ADDRESS=C;LC_TELEPHONE=C;LC_MEASUREMENT=en_US.UTF-8;LC_IDENTIFICATION=C'"
      ],
      "text/latex": [
       "'LC\\_CTYPE=C;LC\\_NUMERIC=C;LC\\_TIME=C;LC\\_COLLATE=C;LC\\_MONETARY=C;LC\\_MESSAGES=en\\_US.UTF-8;LC\\_PAPER=en\\_US.UTF-8;LC\\_NAME=C;LC\\_ADDRESS=C;LC\\_TELEPHONE=C;LC\\_MEASUREMENT=en\\_US.UTF-8;LC\\_IDENTIFICATION=C'"
      ],
      "text/markdown": [
       "'LC_CTYPE=C;LC_NUMERIC=C;LC_TIME=C;LC_COLLATE=C;LC_MONETARY=C;LC_MESSAGES=en_US.UTF-8;LC_PAPER=en_US.UTF-8;LC_NAME=C;LC_ADDRESS=C;LC_TELEPHONE=C;LC_MEASUREMENT=en_US.UTF-8;LC_IDENTIFICATION=C'"
      ],
      "text/plain": [
       "[1] \"LC_CTYPE=C;LC_NUMERIC=C;LC_TIME=C;LC_COLLATE=C;LC_MONETARY=C;LC_MESSAGES=en_US.UTF-8;LC_PAPER=en_US.UTF-8;LC_NAME=C;LC_ADDRESS=C;LC_TELEPHONE=C;LC_MEASUREMENT=en_US.UTF-8;LC_IDENTIFICATION=C\""
      ]
     },
     "metadata": {},
     "output_type": "display_data"
    }
   ],
   "source": [
    "library(\"twitteR\")\n",
    "library(\"DBI\")\n",
    "library(\"RSQLite\")\n",
    "Sys.setlocale(category = \"LC_ALL\", locale = \"C\")"
   ]
  },
  {
   "cell_type": "markdown",
   "metadata": {},
   "source": [
    "Setup the twitter app key for authentication"
   ]
  },
  {
   "cell_type": "code",
   "execution_count": 5,
   "metadata": {
    "collapsed": false
   },
   "outputs": [
    {
     "name": "stdout",
     "output_type": "stream",
     "text": [
      "[1] \"Using direct authentication\"\n"
     ]
    }
   ],
   "source": [
    "setup_twitter_oauth('YOUR KEY')"
   ]
  },
  {
   "cell_type": "markdown",
   "metadata": {},
   "source": [
    "Searches and collects a given number of tweets from twitter on a given topic "
   ]
  },
  {
   "cell_type": "code",
   "execution_count": 6,
   "metadata": {
    "collapsed": true
   },
   "outputs": [],
   "source": [
    "topicTweets = searchTwitter(searchTopicString,LIMIT)"
   ]
  },
  {
   "cell_type": "markdown",
   "metadata": {},
   "source": [
    "Prints the top few tweets"
   ]
  },
  {
   "cell_type": "code",
   "execution_count": 7,
   "metadata": {
    "collapsed": false
   },
   "outputs": [
    {
     "data": {
      "text/plain": [
       "[[1]]\n",
       "[1] \"PetiotEric: It<U+2019>s time to take AI Seriously !\\n\\nhttps://t.co/3LcMaM5giZ\\n#AI #ArtificialIntelligence #ML #MachineLearning https://t.co/6SpcYoC16V\"\n",
       "\n",
       "[[2]]\n",
       "[1] \"wicas: RT @RelearnML: What Statistics Topics are Needed for Excelling at Data Science? https://t.co/qjoXR3nu9b #machinelearning #ai https://t.co/A<U+2026>\"\n",
       "\n",
       "[[3]]\n",
       "[1] \"AMULETAnalytics: Putting data in the hands of doctors -- https://t.co/tfetTszhjE #MachineLearning\"\n",
       "\n",
       "[[4]]\n",
       "[1] \"researchercis: RT gp_pulipaka: A.I. allows to diagnose #Alzheimer's or #Parkinson's. #BigData #DeepLearning #MachineLearning #DataScience #AI\"\n",
       "\n",
       "[[5]]\n",
       "[1] \"ImDataScientist: #DataScience, #MachineLearning, #DeepLearning #AI platform?\"\n",
       "\n",
       "[[6]]\n",
       "[1] \"HotAirNetwork: BrainChip Holdings Ltd. Provides Updated Company Overview https://t.co/yU3LIgapud #MachineLearning\"\n"
      ]
     },
     "metadata": {},
     "output_type": "display_data"
    }
   ],
   "source": [
    "head(topicTweets)"
   ]
  },
  {
   "cell_type": "markdown",
   "metadata": {},
   "source": [
    "Removes duplicate tweets and prints the top few tweets"
   ]
  },
  {
   "cell_type": "code",
   "execution_count": 8,
   "metadata": {
    "collapsed": false
   },
   "outputs": [
    {
     "data": {
      "text/plain": [
       "[[1]]\n",
       "[1] \"PetiotEric: It<U+2019>s time to take AI Seriously !\\n\\nhttps://t.co/3LcMaM5giZ\\n#AI #ArtificialIntelligence #ML #MachineLearning https://t.co/6SpcYoC16V\"\n",
       "\n",
       "[[2]]\n",
       "[1] \"AMULETAnalytics: Putting data in the hands of doctors -- https://t.co/tfetTszhjE #MachineLearning\"\n",
       "\n",
       "[[3]]\n",
       "[1] \"ImDataScientist: #DataScience, #MachineLearning, #DeepLearning #AI platform?\"\n",
       "\n",
       "[[4]]\n",
       "[1] \"HotAirNetwork: BrainChip Holdings Ltd. Provides Updated Company Overview https://t.co/yU3LIgapud #MachineLearning\"\n",
       "\n",
       "[[5]]\n",
       "[1] \"ianatsynonym: .@IBMWatson technology used to create #MachineLearning solution for @IBMzSystems https://t.co/2G2asgxRHy #AI<U+2026> https://t.co/T6pJHGoIHF\"\n",
       "\n",
       "[[6]]\n",
       "[1] \"StackDevJobs: Machine Learning Research Engineer at @autodesk (San Francisco, CA) https://t.co/ANJzPbK0lU #machinelearning\"\n"
      ]
     },
     "metadata": {},
     "output_type": "display_data"
    }
   ],
   "source": [
    "head(strip_retweets(topicTweets, strip_manual=TRUE, strip_mt=TRUE))"
   ]
  },
  {
   "cell_type": "markdown",
   "metadata": {},
   "source": [
    "Fetches the given User's information from twitter"
   ]
  },
  {
   "cell_type": "code",
   "execution_count": 9,
   "metadata": {
    "collapsed": true
   },
   "outputs": [],
   "source": [
    "userInfo = getUser(searchUserString)"
   ]
  },
  {
   "cell_type": "markdown",
   "metadata": {},
   "source": [
    "Prints the searched User's description"
   ]
  },
  {
   "cell_type": "code",
   "execution_count": 10,
   "metadata": {
    "collapsed": false
   },
   "outputs": [
    {
     "data": {
      "text/html": [
       "'45th President of the United States of America'"
      ],
      "text/latex": [
       "'45th President of the United States of America'"
      ],
      "text/markdown": [
       "'45th President of the United States of America'"
      ],
      "text/plain": [
       "[1] \"45th President of the United States of America\""
      ]
     },
     "metadata": {},
     "output_type": "display_data"
    }
   ],
   "source": [
    "userInfo$getDescription()"
   ]
  },
  {
   "cell_type": "markdown",
   "metadata": {},
   "source": [
    "Prints the number of followers the seached User have"
   ]
  },
  {
   "cell_type": "code",
   "execution_count": 11,
   "metadata": {
    "collapsed": false
   },
   "outputs": [
    {
     "data": {
      "text/html": [
       "25090249"
      ],
      "text/latex": [
       "25090249"
      ],
      "text/markdown": [
       "25090249"
      ],
      "text/plain": [
       "[1] 25090249"
      ]
     },
     "metadata": {},
     "output_type": "display_data"
    }
   ],
   "source": [
    "userInfo$getFollowersCount()"
   ]
  },
  {
   "cell_type": "markdown",
   "metadata": {},
   "source": [
    "Prints a given number of name and id of the seached User's friends"
   ]
  },
  {
   "cell_type": "code",
   "execution_count": 12,
   "metadata": {
    "collapsed": false
   },
   "outputs": [
    {
     "data": {
      "text/plain": [
       "$`471672239`\n",
       "[1] \"KellyannePolls\"\n",
       "\n",
       "$`20733972`\n",
       "[1] \"Reince\"\n",
       "\n",
       "$`322293052`\n",
       "[1] \"RealRomaDowney\"\n",
       "\n",
       "$`720293443260456960`\n",
       "[1] \"Trump\"\n",
       "\n",
       "$`2325495378`\n",
       "[1] \"TrumpGolf\"\n"
      ]
     },
     "metadata": {},
     "output_type": "display_data"
    }
   ],
   "source": [
    "userInfo$getFriends(n = 5)"
   ]
  },
  {
   "cell_type": "markdown",
   "metadata": {},
   "source": [
    "Prints a given number of favorites tweets of the seached User"
   ]
  },
  {
   "cell_type": "code",
   "execution_count": 13,
   "metadata": {
    "collapsed": false
   },
   "outputs": [
    {
     "data": {
      "text/plain": [
       "[[1]]\n",
       "[1] \"IvankaTrump: 2016 has been one of the most eventful and exciting years of my life. I wish you peace, joy, love and laughter. Hap<U+2026> https://t.co/A1I3tvTySZ\"\n",
       "\n",
       "[[2]]\n",
       "[1] \"DonaldJTrumpJr: FINAL PUSH! Eric and I doing dozens of radio interviews. We can win this thing! GET OUT AND VOTE! #MAGA #ElectionDay https://t.co/dYcxRCBQUd\"\n",
       "\n",
       "[[3]]\n",
       "[1] \"DanScavino: INDIANA #TrumpTrain<ed><U+00A0><U+00BD><ed><U+00BA><U+0082><ed><U+00A0><U+00BD><ed><U+00B2><U+00A8><ed><U+00A0><U+00BC><ed><U+00B7><U+00BA><ed><U+00A0><U+00BC><ed><U+00B7><U+00B8><ed><U+00A0><U+00BC><ed><U+00B7><U+00BA><ed><U+00A0><U+00BC><ed><U+00B7><U+00B8>\\ncc: @mike_pence @marc_lotter https://t.co/fxvQ43k2im\"\n",
       "\n",
       "[[4]]\n",
       "[1] \"mike_pence: Congrats to my running mate @realDonaldTrump on a big debate win! Proud to stand with you as we #MAGA.\"\n",
       "\n",
       "[[5]]\n",
       "[1] \"TeamTrump: It's hard to fight terrorism when you're making cash payments to the world's LARGEST state sponsor of TERROR. Under<U+2026> https://t.co/GPSkdoiiRC\"\n"
      ]
     },
     "metadata": {},
     "output_type": "display_data"
    }
   ],
   "source": [
    "userInfo$getFavorites(n = 5)"
   ]
  },
  {
   "cell_type": "markdown",
   "metadata": {},
   "source": [
    "Converts the tweets to a data frame "
   ]
  },
  {
   "cell_type": "code",
   "execution_count": 14,
   "metadata": {
    "collapsed": true
   },
   "outputs": [],
   "source": [
    "topicDf = twListToDF(topicTweets)"
   ]
  },
  {
   "cell_type": "markdown",
   "metadata": {},
   "source": [
    "Prints a few top tweets in data frame format"
   ]
  },
  {
   "cell_type": "code",
   "execution_count": 15,
   "metadata": {
    "collapsed": false
   },
   "outputs": [
    {
     "data": {
      "text/html": [
       "<table>\n",
       "<thead><tr><th scope=col>text</th><th scope=col>favorited</th><th scope=col>favoriteCount</th><th scope=col>replyToSN</th><th scope=col>created</th><th scope=col>truncated</th><th scope=col>replyToSID</th><th scope=col>id</th><th scope=col>replyToUID</th><th scope=col>statusSource</th><th scope=col>screenName</th><th scope=col>retweetCount</th><th scope=col>isRetweet</th><th scope=col>retweeted</th><th scope=col>longitude</th><th scope=col>latitude</th></tr></thead>\n",
       "<tbody>\n",
       "\t<tr><td><span style=white-space:pre-wrap>It&lt;U+2019&gt;s time to take AI Seriously !\n",
       "\n",
       "https://t.co/3LcMaM5giZ\n",
       "#AI #ArtificialIntelligence #ML #MachineLearning https://t.co/6SpcYoC16V       </span></td><td>FALSE                                                                                                                                                                                            </td><td>0                                                                                                                                                                                                </td><td>NA                                                                                                                                                                                               </td><td>2017-02-18 00:12:58                                                                                                                                                                              </td><td>FALSE                                                                                                                                                                                            </td><td>NA                                                                                                                                                                                               </td><td>832744683105312768                                                                                                                                                                               </td><td>NA                                                                                                                                                                                               </td><td><span style=white-space:pre-wrap>&lt;a href=\"http://twitter.com/download/iphone\" rel=\"nofollow\"&gt;Twitter for iPhone&lt;/a&gt;  </span>                                                         </td><td><span style=white-space:pre-wrap>PetiotEric     </span>                                                                                                                                          </td><td>0                                                                                                                                                                                                </td><td>FALSE                                                                                                                                                                                            </td><td>FALSE                                                                                                                                                                                            </td><td>NA                                                                                                                                                                                               </td><td>NA                                                                                                                                                                                               </td></tr>\n",
       "\t<tr><td>RT @RelearnML: What Statistics Topics are Needed for Excelling at Data Science? https://t.co/qjoXR3nu9b #machinelearning #ai https://t.co/A&lt;U+2026&gt;</td><td>FALSE                                                                                                                                                    </td><td>0                                                                                                                                                        </td><td>NA                                                                                                                                                       </td><td>2017-02-18 00:12:58                                                                                                                                      </td><td>FALSE                                                                                                                                                    </td><td>NA                                                                                                                                                       </td><td>832744681964392449                                                                                                                                       </td><td>NA                                                                                                                                                       </td><td>&lt;a href=\"http://twitter.com/download/android\" rel=\"nofollow\"&gt;Twitter for Android&lt;/a&gt;                                                         </td><td><span style=white-space:pre-wrap>wicas          </span>                                                                                                  </td><td>3                                                                                                                                                        </td><td> TRUE                                                                                                                                                    </td><td>FALSE                                                                                                                                                    </td><td>NA                                                                                                                                                       </td><td>NA                                                                                                                                                       </td></tr>\n",
       "\t<tr><td><span style=white-space:pre-wrap>Putting data in the hands of doctors -- https://t.co/tfetTszhjE #MachineLearning                                                                   </span></td><td>FALSE                                                                                                                                                                                      </td><td>0                                                                                                                                                                                          </td><td>NA                                                                                                                                                                                         </td><td>2017-02-18 00:12:29                                                                                                                                                                        </td><td>FALSE                                                                                                                                                                                      </td><td>NA                                                                                                                                                                                         </td><td>832744561042612224                                                                                                                                                                         </td><td>NA                                                                                                                                                                                         </td><td><span style=white-space:pre-wrap>&lt;a href=\"http://twitter.com\" rel=\"nofollow\"&gt;Twitter Web Client&lt;/a&gt;                  </span>                                                   </td><td>AMULETAnalytics                                                                                                                                                                            </td><td>0                                                                                                                                                                                          </td><td>FALSE                                                                                                                                                                                      </td><td>FALSE                                                                                                                                                                                      </td><td>NA                                                                                                                                                                                         </td><td>NA                                                                                                                                                                                         </td></tr>\n",
       "\t<tr><td><span style=white-space:pre-wrap>RT gp_pulipaka: A.I. allows to diagnose #Alzheimer's or #Parkinson's. #BigData #DeepLearning #MachineLearning #DataScience #AI                     </span></td><td>FALSE                                                                                                                                                                                      </td><td>0                                                                                                                                                                                          </td><td>NA                                                                                                                                                                                         </td><td>2017-02-18 00:12:19                                                                                                                                                                        </td><td>FALSE                                                                                                                                                                                      </td><td>NA                                                                                                                                                                                         </td><td>832744518956879872                                                                                                                                                                         </td><td>NA                                                                                                                                                                                         </td><td><span style=white-space:pre-wrap>&lt;a href=\"http://www.botize.com\" rel=\"nofollow\"&gt;Botize&lt;/a&gt;                           </span>                                                   </td><td><span style=white-space:pre-wrap>researchercis  </span>                                                                                                                                    </td><td>1                                                                                                                                                                                          </td><td>FALSE                                                                                                                                                                                      </td><td>FALSE                                                                                                                                                                                      </td><td>NA                                                                                                                                                                                         </td><td>NA                                                                                                                                                                                         </td></tr>\n",
       "\t<tr><td><span style=white-space:pre-wrap>#DataScience, #MachineLearning, #DeepLearning #AI platform?                                                                                        </span></td><td>FALSE                                                                                                                                                                                      </td><td>0                                                                                                                                                                                          </td><td>NA                                                                                                                                                                                         </td><td>2017-02-18 00:10:47                                                                                                                                                                        </td><td>FALSE                                                                                                                                                                                      </td><td>NA                                                                                                                                                                                         </td><td>832744130857951234                                                                                                                                                                         </td><td>NA                                                                                                                                                                                         </td><td><span style=white-space:pre-wrap>&lt;a href=\"http://datasciencepakistan.com\" rel=\"nofollow\"&gt;Data Pakistan&lt;/a&gt;           </span>                                                   </td><td>ImDataScientist                                                                                                                                                                            </td><td>0                                                                                                                                                                                          </td><td>FALSE                                                                                                                                                                                      </td><td>FALSE                                                                                                                                                                                      </td><td>NA                                                                                                                                                                                         </td><td>NA                                                                                                                                                                                         </td></tr>\n",
       "\t<tr><td><span style=white-space:pre-wrap>BrainChip Holdings Ltd. Provides Updated Company Overview https://t.co/yU3LIgapud #MachineLearning                                                 </span></td><td>FALSE                                                                                                                                                                                      </td><td>0                                                                                                                                                                                          </td><td>NA                                                                                                                                                                                         </td><td>2017-02-18 00:10:19                                                                                                                                                                        </td><td>FALSE                                                                                                                                                                                      </td><td>NA                                                                                                                                                                                         </td><td>832744013472075776                                                                                                                                                                         </td><td>NA                                                                                                                                                                                         </td><td><span style=white-space:pre-wrap>&lt;a href=\"https://ifttt.com\" rel=\"nofollow\"&gt;IFTTT&lt;/a&gt;                                </span>                                                   </td><td><span style=white-space:pre-wrap>HotAirNetwork  </span>                                                                                                                                    </td><td>0                                                                                                                                                                                          </td><td>FALSE                                                                                                                                                                                      </td><td>FALSE                                                                                                                                                                                      </td><td>NA                                                                                                                                                                                         </td><td>NA                                                                                                                                                                                         </td></tr>\n",
       "</tbody>\n",
       "</table>\n"
      ],
      "text/latex": [
       "\\begin{tabular}{r|llllllllllllllll}\n",
       " text & favorited & favoriteCount & replyToSN & created & truncated & replyToSID & id & replyToUID & statusSource & screenName & retweetCount & isRetweet & retweeted & longitude & latitude\\\\\n",
       "\\hline\n",
       "\t It<U+2019>s time to take AI Seriously !\n",
       "\n",
       "https://t.co/3LcMaM5giZ\n",
       "\\#AI \\#ArtificialIntelligence \\#ML \\#MachineLearning https://t.co/6SpcYoC16V        & FALSE                                                                                                                                                       & 0                                                                                                                                                           & NA                                                                                                                                                          & 2017-02-18 00:12:58                                                                                                                                         & FALSE                                                                                                                                                       & NA                                                                                                                                                          & 832744683105312768                                                                                                                                          & NA                                                                                                                                                          & <a href=\"http://twitter.com/download/iphone\" rel=\"nofollow\">Twitter for iPhone</a>                                                                          & PetiotEric                                                                                                                                                  & 0                                                                                                                                                           & FALSE                                                                                                                                                       & FALSE                                                                                                                                                       & NA                                                                                                                                                          & NA                                                                                                                                                         \\\\\n",
       "\t RT @RelearnML: What Statistics Topics are Needed for Excelling at Data Science? https://t.co/qjoXR3nu9b \\#machinelearning \\#ai https://t.co/A<U+2026> & FALSE                                                                                                                                                   & 0                                                                                                                                                       & NA                                                                                                                                                      & 2017-02-18 00:12:58                                                                                                                                     & FALSE                                                                                                                                                   & NA                                                                                                                                                      & 832744681964392449                                                                                                                                      & NA                                                                                                                                                      & <a href=\"http://twitter.com/download/android\" rel=\"nofollow\">Twitter for Android</a>                                                                    & wicas                                                                                                                                                   & 3                                                                                                                                                       &  TRUE                                                                                                                                                   & FALSE                                                                                                                                                   & NA                                                                                                                                                      & NA                                                                                                                                                     \\\\\n",
       "\t Putting data in the hands of doctors -- https://t.co/tfetTszhjE \\#MachineLearning                                                                    & FALSE                                                                                                                                                 & 0                                                                                                                                                     & NA                                                                                                                                                    & 2017-02-18 00:12:29                                                                                                                                   & FALSE                                                                                                                                                 & NA                                                                                                                                                    & 832744561042612224                                                                                                                                    & NA                                                                                                                                                    & <a href=\"http://twitter.com\" rel=\"nofollow\">Twitter Web Client</a>                                                                                    & AMULETAnalytics                                                                                                                                       & 0                                                                                                                                                     & FALSE                                                                                                                                                 & FALSE                                                                                                                                                 & NA                                                                                                                                                    & NA                                                                                                                                                   \\\\\n",
       "\t RT gp\\_pulipaka: A.I. allows to diagnose \\#Alzheimer's or \\#Parkinson's. \\#BigData \\#DeepLearning \\#MachineLearning \\#DataScience \\#AI                      & FALSE                                                                                                                                                               & 0                                                                                                                                                                   & NA                                                                                                                                                                  & 2017-02-18 00:12:19                                                                                                                                                 & FALSE                                                                                                                                                               & NA                                                                                                                                                                  & 832744518956879872                                                                                                                                                  & NA                                                                                                                                                                  & <a href=\"http://www.botize.com\" rel=\"nofollow\">Botize</a>                                                                                                           & researchercis                                                                                                                                                       & 1                                                                                                                                                                   & FALSE                                                                                                                                                               & FALSE                                                                                                                                                               & NA                                                                                                                                                                  & NA                                                                                                                                                                 \\\\\n",
       "\t \\#DataScience, \\#MachineLearning, \\#DeepLearning \\#AI platform?                                                                                         & FALSE                                                                                                                                                       & 0                                                                                                                                                           & NA                                                                                                                                                          & 2017-02-18 00:10:47                                                                                                                                         & FALSE                                                                                                                                                       & NA                                                                                                                                                          & 832744130857951234                                                                                                                                          & NA                                                                                                                                                          & <a href=\"http://datasciencepakistan.com\" rel=\"nofollow\">Data Pakistan</a>                                                                                   & ImDataScientist                                                                                                                                             & 0                                                                                                                                                           & FALSE                                                                                                                                                       & FALSE                                                                                                                                                       & NA                                                                                                                                                          & NA                                                                                                                                                         \\\\\n",
       "\t BrainChip Holdings Ltd. Provides Updated Company Overview https://t.co/yU3LIgapud \\#MachineLearning                                                  & FALSE                                                                                                                                                 & 0                                                                                                                                                     & NA                                                                                                                                                    & 2017-02-18 00:10:19                                                                                                                                   & FALSE                                                                                                                                                 & NA                                                                                                                                                    & 832744013472075776                                                                                                                                    & NA                                                                                                                                                    & <a href=\"https://ifttt.com\" rel=\"nofollow\">IFTTT</a>                                                                                                  & HotAirNetwork                                                                                                                                         & 0                                                                                                                                                     & FALSE                                                                                                                                                 & FALSE                                                                                                                                                 & NA                                                                                                                                                    & NA                                                                                                                                                   \\\\\n",
       "\\end{tabular}\n"
      ],
      "text/markdown": [
       "\n",
       "text | favorited | favoriteCount | replyToSN | created | truncated | replyToSID | id | replyToUID | statusSource | screenName | retweetCount | isRetweet | retweeted | longitude | latitude | \n",
       "|---|---|---|---|---|---|\n",
       "| It<U+2019>s time to take AI Seriously !\n",
       "\n",
       "https://t.co/3LcMaM5giZ\n",
       "#AI #ArtificialIntelligence #ML #MachineLearning https://t.co/6SpcYoC16V        | FALSE                                                                                                                                               | 0                                                                                                                                                   | NA                                                                                                                                                  | 2017-02-18 00:12:58                                                                                                                                 | FALSE                                                                                                                                               | NA                                                                                                                                                  | 832744683105312768                                                                                                                                  | NA                                                                                                                                                  | <a href=\"http://twitter.com/download/iphone\" rel=\"nofollow\">Twitter for iPhone</a>                                                                  | PetiotEric                                                                                                                                          | 0                                                                                                                                                   | FALSE                                                                                                                                               | FALSE                                                                                                                                               | NA                                                                                                                                                  | NA                                                                                                                                                  | \n",
       "| RT @RelearnML: What Statistics Topics are Needed for Excelling at Data Science? https://t.co/qjoXR3nu9b #machinelearning #ai https://t.co/A<U+2026> | FALSE                                                                                                                                               | 0                                                                                                                                                   | NA                                                                                                                                                  | 2017-02-18 00:12:58                                                                                                                                 | FALSE                                                                                                                                               | NA                                                                                                                                                  | 832744681964392449                                                                                                                                  | NA                                                                                                                                                  | <a href=\"http://twitter.com/download/android\" rel=\"nofollow\">Twitter for Android</a>                                                                | wicas                                                                                                                                               | 3                                                                                                                                                   |  TRUE                                                                                                                                               | FALSE                                                                                                                                               | NA                                                                                                                                                  | NA                                                                                                                                                  | \n",
       "| Putting data in the hands of doctors -- https://t.co/tfetTszhjE #MachineLearning                                                                    | FALSE                                                                                                                                               | 0                                                                                                                                                   | NA                                                                                                                                                  | 2017-02-18 00:12:29                                                                                                                                 | FALSE                                                                                                                                               | NA                                                                                                                                                  | 832744561042612224                                                                                                                                  | NA                                                                                                                                                  | <a href=\"http://twitter.com\" rel=\"nofollow\">Twitter Web Client</a>                                                                                  | AMULETAnalytics                                                                                                                                     | 0                                                                                                                                                   | FALSE                                                                                                                                               | FALSE                                                                                                                                               | NA                                                                                                                                                  | NA                                                                                                                                                  | \n",
       "| RT gp_pulipaka: A.I. allows to diagnose #Alzheimer's or #Parkinson's. #BigData #DeepLearning #MachineLearning #DataScience #AI                      | FALSE                                                                                                                                               | 0                                                                                                                                                   | NA                                                                                                                                                  | 2017-02-18 00:12:19                                                                                                                                 | FALSE                                                                                                                                               | NA                                                                                                                                                  | 832744518956879872                                                                                                                                  | NA                                                                                                                                                  | <a href=\"http://www.botize.com\" rel=\"nofollow\">Botize</a>                                                                                           | researchercis                                                                                                                                       | 1                                                                                                                                                   | FALSE                                                                                                                                               | FALSE                                                                                                                                               | NA                                                                                                                                                  | NA                                                                                                                                                  | \n",
       "| #DataScience, #MachineLearning, #DeepLearning #AI platform?                                                                                         | FALSE                                                                                                                                               | 0                                                                                                                                                   | NA                                                                                                                                                  | 2017-02-18 00:10:47                                                                                                                                 | FALSE                                                                                                                                               | NA                                                                                                                                                  | 832744130857951234                                                                                                                                  | NA                                                                                                                                                  | <a href=\"http://datasciencepakistan.com\" rel=\"nofollow\">Data Pakistan</a>                                                                           | ImDataScientist                                                                                                                                     | 0                                                                                                                                                   | FALSE                                                                                                                                               | FALSE                                                                                                                                               | NA                                                                                                                                                  | NA                                                                                                                                                  | \n",
       "| BrainChip Holdings Ltd. Provides Updated Company Overview https://t.co/yU3LIgapud #MachineLearning                                                  | FALSE                                                                                                                                               | 0                                                                                                                                                   | NA                                                                                                                                                  | 2017-02-18 00:10:19                                                                                                                                 | FALSE                                                                                                                                               | NA                                                                                                                                                  | 832744013472075776                                                                                                                                  | NA                                                                                                                                                  | <a href=\"https://ifttt.com\" rel=\"nofollow\">IFTTT</a>                                                                                                | HotAirNetwork                                                                                                                                       | 0                                                                                                                                                   | FALSE                                                                                                                                               | FALSE                                                                                                                                               | NA                                                                                                                                                  | NA                                                                                                                                                  | \n",
       "\n",
       "\n"
      ],
      "text/plain": [
       "  text                                                                                                                                               \n",
       "1 It<U+2019>s time to take AI Seriously !\\n\\nhttps://t.co/3LcMaM5giZ\\n#AI #ArtificialIntelligence #ML #MachineLearning https://t.co/6SpcYoC16V       \n",
       "2 RT @RelearnML: What Statistics Topics are Needed for Excelling at Data Science? https://t.co/qjoXR3nu9b #machinelearning #ai https://t.co/A<U+2026>\n",
       "3 Putting data in the hands of doctors -- https://t.co/tfetTszhjE #MachineLearning                                                                   \n",
       "4 RT gp_pulipaka: A.I. allows to diagnose #Alzheimer's or #Parkinson's. #BigData #DeepLearning #MachineLearning #DataScience #AI                     \n",
       "5 #DataScience, #MachineLearning, #DeepLearning #AI platform?                                                                                        \n",
       "6 BrainChip Holdings Ltd. Provides Updated Company Overview https://t.co/yU3LIgapud #MachineLearning                                                 \n",
       "  favorited favoriteCount replyToSN created             truncated replyToSID\n",
       "1 FALSE     0             NA        2017-02-18 00:12:58 FALSE     NA        \n",
       "2 FALSE     0             NA        2017-02-18 00:12:58 FALSE     NA        \n",
       "3 FALSE     0             NA        2017-02-18 00:12:29 FALSE     NA        \n",
       "4 FALSE     0             NA        2017-02-18 00:12:19 FALSE     NA        \n",
       "5 FALSE     0             NA        2017-02-18 00:10:47 FALSE     NA        \n",
       "6 FALSE     0             NA        2017-02-18 00:10:19 FALSE     NA        \n",
       "  id                 replyToUID\n",
       "1 832744683105312768 NA        \n",
       "2 832744681964392449 NA        \n",
       "3 832744561042612224 NA        \n",
       "4 832744518956879872 NA        \n",
       "5 832744130857951234 NA        \n",
       "6 832744013472075776 NA        \n",
       "  statusSource                                                                        \n",
       "1 <a href=\"http://twitter.com/download/iphone\" rel=\"nofollow\">Twitter for iPhone</a>  \n",
       "2 <a href=\"http://twitter.com/download/android\" rel=\"nofollow\">Twitter for Android</a>\n",
       "3 <a href=\"http://twitter.com\" rel=\"nofollow\">Twitter Web Client</a>                  \n",
       "4 <a href=\"http://www.botize.com\" rel=\"nofollow\">Botize</a>                           \n",
       "5 <a href=\"http://datasciencepakistan.com\" rel=\"nofollow\">Data Pakistan</a>           \n",
       "6 <a href=\"https://ifttt.com\" rel=\"nofollow\">IFTTT</a>                                \n",
       "  screenName      retweetCount isRetweet retweeted longitude latitude\n",
       "1 PetiotEric      0            FALSE     FALSE     NA        NA      \n",
       "2 wicas           3             TRUE     FALSE     NA        NA      \n",
       "3 AMULETAnalytics 0            FALSE     FALSE     NA        NA      \n",
       "4 researchercis   1            FALSE     FALSE     NA        NA      \n",
       "5 ImDataScientist 0            FALSE     FALSE     NA        NA      \n",
       "6 HotAirNetwork   0            FALSE     FALSE     NA        NA      "
      ]
     },
     "metadata": {},
     "output_type": "display_data"
    }
   ],
   "source": [
    "head(topicDf)"
   ]
  },
  {
   "cell_type": "markdown",
   "metadata": {},
   "source": [
    "1st line creates a temporary sqlite db file"
   ]
  },
  {
   "cell_type": "markdown",
   "metadata": {},
   "source": [
    "2nd line store and load tweets database which is backend registered"
   ]
  },
  {
   "cell_type": "markdown",
   "metadata": {},
   "source": [
    "3rd line store the tweets in a table named \"tweets\", which is automatically provided by twitterR"
   ]
  },
  {
   "cell_type": "code",
   "execution_count": 16,
   "metadata": {
    "collapsed": false
   },
   "outputs": [
    {
     "data": {
      "text/html": [
       "TRUE"
      ],
      "text/latex": [
       "TRUE"
      ],
      "text/markdown": [
       "TRUE"
      ],
      "text/plain": [
       "[1] TRUE"
      ]
     },
     "metadata": {},
     "output_type": "display_data"
    }
   ],
   "source": [
    "sql_lite_file = tempfile()\n",
    "register_sqlite_backend(sql_lite_file)\n",
    "store_tweets_db(topicTweets)"
   ]
  },
  {
   "cell_type": "markdown",
   "metadata": {},
   "source": [
    "Loads the stored tweets from table, here its is \"tweets\", which is automatically provided by twitterR"
   ]
  },
  {
   "cell_type": "code",
   "execution_count": 17,
   "metadata": {
    "collapsed": false
   },
   "outputs": [],
   "source": [
    "from_db_tweets = load_tweets_db()"
   ]
  },
  {
   "cell_type": "markdown",
   "metadata": {},
   "source": [
    "Prints top few tweets which are retrieved from the db"
   ]
  },
  {
   "cell_type": "code",
   "execution_count": 18,
   "metadata": {
    "collapsed": false
   },
   "outputs": [
    {
     "data": {
      "text/plain": [
       "[[1]]\n",
       "[1] \"PetiotEric: It<U+2019>s time to take AI Seriously !\\n\\nhttps://t.co/3LcMaM5giZ\\n#AI #ArtificialIntelligence #ML #MachineLearning https://t.co/6SpcYoC16V\"\n",
       "\n",
       "[[2]]\n",
       "[1] \"wicas: RT @RelearnML: What Statistics Topics are Needed for Excelling at Data Science? https://t.co/qjoXR3nu9b #machinelearning #ai https://t.co/A<U+2026>\"\n",
       "\n",
       "[[3]]\n",
       "[1] \"AMULETAnalytics: Putting data in the hands of doctors -- https://t.co/tfetTszhjE #MachineLearning\"\n",
       "\n",
       "[[4]]\n",
       "[1] \"researchercis: RT gp_pulipaka: A.I. allows to diagnose #Alzheimer's or #Parkinson's. #BigData #DeepLearning #MachineLearning #DataScience #AI\"\n",
       "\n",
       "[[5]]\n",
       "[1] \"ImDataScientist: #DataScience, #MachineLearning, #DeepLearning #AI platform?\"\n",
       "\n",
       "[[6]]\n",
       "[1] \"HotAirNetwork: BrainChip Holdings Ltd. Provides Updated Company Overview https://t.co/yU3LIgapud #MachineLearning\"\n"
      ]
     },
     "metadata": {},
     "output_type": "display_data"
    }
   ],
   "source": [
    "head(from_db_tweets)"
   ]
  },
  {
   "cell_type": "markdown",
   "metadata": {},
   "source": [
    "Searches tweets from given User's timeline by default only 20 are fetched"
   ]
  },
  {
   "cell_type": "code",
   "execution_count": 19,
   "metadata": {
    "collapsed": true
   },
   "outputs": [],
   "source": [
    "userTweets = userTimeline(searchUserString)"
   ]
  },
  {
   "cell_type": "markdown",
   "metadata": {},
   "source": [
    "Prints 5 tweets of the timeline"
   ]
  },
  {
   "cell_type": "code",
   "execution_count": 20,
   "metadata": {
    "collapsed": false
   },
   "outputs": [
    {
     "data": {
      "text/plain": [
       "[[1]]\n",
       "[1] \"realDonaldTrump: Looking forward to the Florida rally tomorrow. Big crowd expected!\"\n",
       "\n",
       "[[2]]\n",
       "[1] \"realDonaldTrump: \\\"One of the most effective press conferences I've ever seen!\\\" says Rush Limbaugh. Many agree.Yet FAKE MEDIA  calls it differently! Dishonest\"\n",
       "\n",
       "[[3]]\n",
       "[1] \"realDonaldTrump: The FAKE NEWS media (failing @nytimes, @NBCNews, @ABC, @CBS, @CNN) is not my enemy, it is the enemy of the American People!\"\n",
       "\n",
       "[[4]]\n",
       "[1] \"realDonaldTrump: Join me at 11:00am:\\nWatch here: https://t.co/veqKmsGAwf https://t.co/UzndIjIqjM\"\n",
       "\n",
       "[[5]]\n",
       "[1] \"realDonaldTrump: General Keith Kellogg, who I have known for a long time, is very much in play for NSA - as are three others.\"\n"
      ]
     },
     "metadata": {},
     "output_type": "display_data"
    }
   ],
   "source": [
    "userTweets[1:5]"
   ]
  },
  {
   "cell_type": "markdown",
   "metadata": {},
   "source": [
    "Searches given number of tweets from given User's timeline "
   ]
  },
  {
   "cell_type": "code",
   "execution_count": 21,
   "metadata": {
    "collapsed": true
   },
   "outputs": [],
   "source": [
    "userTweetsLarge = userTimeline(searchUserString, n = 100)"
   ]
  },
  {
   "cell_type": "markdown",
   "metadata": {},
   "source": [
    "Prints the size of the tweets collected in the previous step"
   ]
  },
  {
   "cell_type": "code",
   "execution_count": 22,
   "metadata": {
    "collapsed": false
   },
   "outputs": [
    {
     "data": {
      "text/html": [
       "99"
      ],
      "text/latex": [
       "99"
      ],
      "text/markdown": [
       "99"
      ],
      "text/plain": [
       "[1] 99"
      ]
     },
     "metadata": {},
     "output_type": "display_data"
    }
   ],
   "source": [
    "length(userTweetsLarge)"
   ]
  },
  {
   "cell_type": "markdown",
   "metadata": {},
   "source": [
    "The availableTrendLocations function will return a data.frame with a location in each row and the woeid giving that location’s WOEID"
   ]
  },
  {
   "cell_type": "code",
   "execution_count": 23,
   "metadata": {
    "collapsed": true
   },
   "outputs": [],
   "source": [
    "availTrends = availableTrendLocations()"
   ]
  },
  {
   "cell_type": "markdown",
   "metadata": {},
   "source": [
    "Prints the top few trends in a data frame format"
   ]
  },
  {
   "cell_type": "code",
   "execution_count": 24,
   "metadata": {
    "collapsed": false
   },
   "outputs": [
    {
     "data": {
      "text/html": [
       "<table>\n",
       "<thead><tr><th scope=col>name</th><th scope=col>country</th><th scope=col>woeid</th></tr></thead>\n",
       "<tbody>\n",
       "\t<tr><td>Worldwide</td><td>         </td><td>1        </td></tr>\n",
       "\t<tr><td>Winnipeg </td><td>Canada   </td><td>2972     </td></tr>\n",
       "\t<tr><td>Ottawa   </td><td>Canada   </td><td>3369     </td></tr>\n",
       "\t<tr><td>Quebec   </td><td>Canada   </td><td>3444     </td></tr>\n",
       "\t<tr><td>Montreal </td><td>Canada   </td><td>3534     </td></tr>\n",
       "\t<tr><td>Toronto  </td><td>Canada   </td><td>4118     </td></tr>\n",
       "</tbody>\n",
       "</table>\n"
      ],
      "text/latex": [
       "\\begin{tabular}{r|lll}\n",
       " name & country & woeid\\\\\n",
       "\\hline\n",
       "\t Worldwide &           & 1        \\\\\n",
       "\t Winnipeg  & Canada    & 2972     \\\\\n",
       "\t Ottawa    & Canada    & 3369     \\\\\n",
       "\t Quebec    & Canada    & 3444     \\\\\n",
       "\t Montreal  & Canada    & 3534     \\\\\n",
       "\t Toronto   & Canada    & 4118     \\\\\n",
       "\\end{tabular}\n"
      ],
      "text/markdown": [
       "\n",
       "name | country | woeid | \n",
       "|---|---|---|---|---|---|\n",
       "| Worldwide |           | 1         | \n",
       "| Winnipeg  | Canada    | 2972      | \n",
       "| Ottawa    | Canada    | 3369      | \n",
       "| Quebec    | Canada    | 3444      | \n",
       "| Montreal  | Canada    | 3534      | \n",
       "| Toronto   | Canada    | 4118      | \n",
       "\n",
       "\n"
      ],
      "text/plain": [
       "  name      country woeid\n",
       "1 Worldwide         1    \n",
       "2 Winnipeg  Canada  2972 \n",
       "3 Ottawa    Canada  3369 \n",
       "4 Quebec    Canada  3444 \n",
       "5 Montreal  Canada  3534 \n",
       "6 Toronto   Canada  4118 "
      ]
     },
     "metadata": {},
     "output_type": "display_data"
    }
   ],
   "source": [
    "head(availTrends)"
   ]
  },
  {
   "cell_type": "markdown",
   "metadata": {},
   "source": [
    "The closestTrendLocations function is passed a latitude and longitude and will return the same style data.frame as of availableTrendLocations."
   ]
  },
  {
   "cell_type": "code",
   "execution_count": 25,
   "metadata": {
    "collapsed": true
   },
   "outputs": [],
   "source": [
    "closeTrends = closestTrendLocations(34.05223,-118.2437)"
   ]
  },
  {
   "cell_type": "markdown",
   "metadata": {},
   "source": [
    "Prints top trending locations"
   ]
  },
  {
   "cell_type": "code",
   "execution_count": 26,
   "metadata": {
    "collapsed": false
   },
   "outputs": [
    {
     "data": {
      "text/html": [
       "<table>\n",
       "<thead><tr><th scope=col>name</th><th scope=col>country</th><th scope=col>woeid</th></tr></thead>\n",
       "<tbody>\n",
       "\t<tr><td>Los Angeles  </td><td>United States</td><td>2442047      </td></tr>\n",
       "</tbody>\n",
       "</table>\n"
      ],
      "text/latex": [
       "\\begin{tabular}{r|lll}\n",
       " name & country & woeid\\\\\n",
       "\\hline\n",
       "\t Los Angeles   & United States & 2442047      \\\\\n",
       "\\end{tabular}\n"
      ],
      "text/markdown": [
       "\n",
       "name | country | woeid | \n",
       "|---|\n",
       "| Los Angeles   | United States | 2442047       | \n",
       "\n",
       "\n"
      ],
      "text/plain": [
       "  name        country       woeid  \n",
       "1 Los Angeles United States 2442047"
      ]
     },
     "metadata": {},
     "output_type": "display_data"
    }
   ],
   "source": [
    "head(closeTrends)"
   ]
  },
  {
   "cell_type": "markdown",
   "metadata": {},
   "source": [
    "The getTrends function is used to pull current trend information from a given location, which is specified using a WOEID"
   ]
  },
  {
   "cell_type": "code",
   "execution_count": 27,
   "metadata": {
    "collapsed": true
   },
   "outputs": [],
   "source": [
    "trends = getTrends(2442047)"
   ]
  },
  {
   "cell_type": "markdown",
   "metadata": {},
   "source": [
    "Prints top few trends info in a data frame format"
   ]
  },
  {
   "cell_type": "code",
   "execution_count": 28,
   "metadata": {
    "collapsed": false
   },
   "outputs": [
    {
     "data": {
      "text/html": [
       "<table>\n",
       "<thead><tr><th scope=col>name</th><th scope=col>url</th><th scope=col>query</th><th scope=col>woeid</th></tr></thead>\n",
       "<tbody>\n",
       "\t<tr><td>#LARain                                      </td><td>http://twitter.com/search?q=%23LARain        </td><td>%23LARain                                    </td><td>2442047                                      </td></tr>\n",
       "\t<tr><td>#Logan                                       </td><td>http://twitter.com/search?q=%23Logan         </td><td>%23Logan                                     </td><td>2442047                                      </td></tr>\n",
       "\t<tr><td>Matt Reeves                                  </td><td>http://twitter.com/search?q=%22Matt+Reeves%22</td><td>%22Matt+Reeves%22                            </td><td>2442047                                      </td></tr>\n",
       "\t<tr><td>#Lucifer                                     </td><td>http://twitter.com/search?q=%23Lucifer       </td><td>%23Lucifer                                   </td><td>2442047                                      </td></tr>\n",
       "\t<tr><td>#FridayFeeling                               </td><td>http://twitter.com/search?q=%23FridayFeeling </td><td>%23FridayFeeling                             </td><td>2442047                                      </td></tr>\n",
       "\t<tr><td>#StormWatch                                  </td><td>http://twitter.com/search?q=%23StormWatch    </td><td>%23StormWatch                                </td><td>2442047                                      </td></tr>\n",
       "</tbody>\n",
       "</table>\n"
      ],
      "text/latex": [
       "\\begin{tabular}{r|llll}\n",
       " name & url & query & woeid\\\\\n",
       "\\hline\n",
       "\t \\#LARain                                       & http://twitter.com/search?q=\\%23LARain         & \\%23LARain                                     & 2442047                                        \\\\\n",
       "\t \\#Logan                                        & http://twitter.com/search?q=\\%23Logan          & \\%23Logan                                      & 2442047                                        \\\\\n",
       "\t Matt Reeves                                       & http://twitter.com/search?q=\\%22Matt+Reeves\\%22 & \\%22Matt+Reeves\\%22                             & 2442047                                          \\\\\n",
       "\t \\#Lucifer                                      & http://twitter.com/search?q=\\%23Lucifer        & \\%23Lucifer                                    & 2442047                                        \\\\\n",
       "\t \\#FridayFeeling                                & http://twitter.com/search?q=\\%23FridayFeeling  & \\%23FridayFeeling                              & 2442047                                        \\\\\n",
       "\t \\#StormWatch                                   & http://twitter.com/search?q=\\%23StormWatch     & \\%23StormWatch                                 & 2442047                                        \\\\\n",
       "\\end{tabular}\n"
      ],
      "text/markdown": [
       "\n",
       "name | url | query | woeid | \n",
       "|---|---|---|---|---|---|\n",
       "| #LARain                                       | http://twitter.com/search?q=%23LARain         | %23LARain                                     | 2442047                                       | \n",
       "| #Logan                                        | http://twitter.com/search?q=%23Logan          | %23Logan                                      | 2442047                                       | \n",
       "| Matt Reeves                                   | http://twitter.com/search?q=%22Matt+Reeves%22 | %22Matt+Reeves%22                             | 2442047                                       | \n",
       "| #Lucifer                                      | http://twitter.com/search?q=%23Lucifer        | %23Lucifer                                    | 2442047                                       | \n",
       "| #FridayFeeling                                | http://twitter.com/search?q=%23FridayFeeling  | %23FridayFeeling                              | 2442047                                       | \n",
       "| #StormWatch                                   | http://twitter.com/search?q=%23StormWatch     | %23StormWatch                                 | 2442047                                       | \n",
       "\n",
       "\n"
      ],
      "text/plain": [
       "  name           url                                          \n",
       "1 #LARain        http://twitter.com/search?q=%23LARain        \n",
       "2 #Logan         http://twitter.com/search?q=%23Logan         \n",
       "3 Matt Reeves    http://twitter.com/search?q=%22Matt+Reeves%22\n",
       "4 #Lucifer       http://twitter.com/search?q=%23Lucifer       \n",
       "5 #FridayFeeling http://twitter.com/search?q=%23FridayFeeling \n",
       "6 #StormWatch    http://twitter.com/search?q=%23StormWatch    \n",
       "  query             woeid  \n",
       "1 %23LARain         2442047\n",
       "2 %23Logan          2442047\n",
       "3 %22Matt+Reeves%22 2442047\n",
       "4 %23Lucifer        2442047\n",
       "5 %23FridayFeeling  2442047\n",
       "6 %23StormWatch     2442047"
      ]
     },
     "metadata": {},
     "output_type": "display_data"
    }
   ],
   "source": [
    "head(trends)"
   ]
  },
  {
   "cell_type": "markdown",
   "metadata": {},
   "source": [
    "Collects given number of tweets on a search topic"
   ]
  },
  {
   "cell_type": "code",
   "execution_count": 29,
   "metadata": {
    "collapsed": true
   },
   "outputs": [],
   "source": [
    "r_tweets = searchTwitter(searchTopicString, n = 300)"
   ]
  },
  {
   "cell_type": "markdown",
   "metadata": {},
   "source": [
    "Extract source user agent of all the tweets fetched in the previous step"
   ]
  },
  {
   "cell_type": "code",
   "execution_count": 30,
   "metadata": {
    "collapsed": true
   },
   "outputs": [],
   "source": [
    "sources = sapply(r_tweets,function(x)x$getStatusSource())"
   ]
  },
  {
   "cell_type": "markdown",
   "metadata": {},
   "source": [
    "Removed the anchored URL string if any and replaces with nothing"
   ]
  },
  {
   "cell_type": "code",
   "execution_count": 31,
   "metadata": {
    "collapsed": true
   },
   "outputs": [],
   "source": [
    "sources = gsub(\"</a>\",\"\",sources)"
   ]
  },
  {
   "cell_type": "markdown",
   "metadata": {},
   "source": [
    "Split the elements of a character vector souces into substrings according to the matches to substring split within them."
   ]
  },
  {
   "cell_type": "code",
   "execution_count": 32,
   "metadata": {
    "collapsed": true
   },
   "outputs": [],
   "source": [
    "sources = strsplit(sources,\">\")"
   ]
  },
  {
   "cell_type": "markdown",
   "metadata": {},
   "source": [
    "Removes any data source which has a length greater than 1"
   ]
  },
  {
   "cell_type": "code",
   "execution_count": 33,
   "metadata": {
    "collapsed": true
   },
   "outputs": [],
   "source": [
    "sources = sapply(sources,function(x)ifelse(length(x)>1,x[2],x[1]))"
   ]
  },
  {
   "cell_type": "markdown",
   "metadata": {},
   "source": [
    "Stores data in a table"
   ]
  },
  {
   "cell_type": "code",
   "execution_count": 34,
   "metadata": {
    "collapsed": true
   },
   "outputs": [],
   "source": [
    "source_table=table(sources)"
   ]
  },
  {
   "cell_type": "markdown",
   "metadata": {},
   "source": [
    "Shows a pie chart based on the table generated above"
   ]
  },
  {
   "cell_type": "code",
   "execution_count": 35,
   "metadata": {
    "collapsed": false
   },
   "outputs": [
    {
     "data": {
      "image/png": "[encoded data removed]",
      "text/plain": [
       "plot without title"
      ]
     },
     "metadata": {},
     "output_type": "display_data"
    }
   ],
   "source": [
    "pie(source_table[source_table>10])"
   ]
  },
  {
   "cell_type": "markdown",
   "metadata": {},
   "source": [
    "# References"
   ]
  },
  {
   "cell_type": "markdown",
   "metadata": {},
   "source": [
    "1. http://geoffjentry.hexdump.org/twitteR.pdf\n",
    "2. https://cran.r-project.org/web/packages/twitteR/twitteR.pdf"
   ]
  },
  {
   "cell_type": "code",
   "execution_count": null,
   "metadata": {
    "collapsed": true
   },
   "outputs": [],
   "source": []
  }
 ],
 "metadata": {
  "kernelspec": {
   "display_name": "R",
   "language": "R",
   "name": "ir"
  },
  "language_info": {
   "codemirror_mode": "r",
   "file_extension": ".r",
   "mimetype": "text/x-r-source",
   "name": "R",
   "pygments_lexer": "r",
   "version": "3.3.2"
  }
 },
 "nbformat": 4,
 "nbformat_minor": 2
}
